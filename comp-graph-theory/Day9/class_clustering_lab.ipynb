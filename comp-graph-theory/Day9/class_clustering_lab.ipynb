{
 "cells": [
  {
   "cell_type": "code",
   "execution_count": 1,
   "id": "68927866-6f7a-4b51-a122-a9868783e45f",
   "metadata": {},
   "outputs": [
    {
     "name": "stderr",
     "output_type": "stream",
     "text": [
      "/Users/maxperozek/opt/anaconda3/envs/comp_gr_thy/lib/python3.9/site-packages/tqdm/auto.py:22: TqdmWarning: IProgress not found. Please update jupyter and ipywidgets. See https://ipywidgets.readthedocs.io/en/stable/user_install.html\n",
      "  from .autonotebook import tqdm as notebook_tqdm\n"
     ]
    }
   ],
   "source": [
    "import networkx as nx\n",
    "import numpy as np\n",
    "import matplotlib.pyplot as plt\n",
    "import torch"
   ]
  },
  {
   "cell_type": "code",
   "execution_count": 10,
   "id": "f2d87fee-0ad2-469c-9257-a271c170e98d",
   "metadata": {},
   "outputs": [],
   "source": [
    "from scipy.spatial.distance import cdist "
   ]
  },
  {
   "cell_type": "code",
   "execution_count": 2,
   "id": "f430b379-8fe0-460a-b98b-e996accae8f6",
   "metadata": {},
   "outputs": [],
   "source": [
    "from sklearn.datasets import load_digits"
   ]
  },
  {
   "cell_type": "code",
   "execution_count": 70,
   "id": "7c2c8790-c9f5-44e8-84a5-2c61bfe772ad",
   "metadata": {},
   "outputs": [],
   "source": [
    "from tqdm import tqdm"
   ]
  },
  {
   "cell_type": "code",
   "execution_count": 3,
   "id": "85d9fb8d-d641-44f4-8fe6-e34026da2bb7",
   "metadata": {},
   "outputs": [],
   "source": [
    "digits = load_digits(n_class=2) # just take zeros and ones from dataset"
   ]
  },
  {
   "cell_type": "code",
   "execution_count": 4,
   "id": "cd168218-79ae-402e-b61f-52e4703e211c",
   "metadata": {},
   "outputs": [],
   "source": [
    "# want to make digits a simple array of images\n",
    "images = digits.images"
   ]
  },
  {
   "cell_type": "code",
   "execution_count": 5,
   "id": "911397c1-6d1f-4aad-adb0-bb8c7c02aaa7",
   "metadata": {},
   "outputs": [
    {
     "data": {
      "text/plain": [
       "numpy.ndarray"
      ]
     },
     "execution_count": 5,
     "metadata": {},
     "output_type": "execute_result"
    }
   ],
   "source": [
    "type(images)"
   ]
  },
  {
   "cell_type": "code",
   "execution_count": 6,
   "id": "c79158db-0ed3-4675-9a57-47bec00d3fcd",
   "metadata": {},
   "outputs": [
    {
     "data": {
      "text/plain": [
       "(360, 8, 8)"
      ]
     },
     "execution_count": 6,
     "metadata": {},
     "output_type": "execute_result"
    }
   ],
   "source": [
    "images.shape"
   ]
  },
  {
   "cell_type": "code",
   "execution_count": 14,
   "id": "f3e5dd36-bf1e-448c-85f0-a1dafe25c44a",
   "metadata": {},
   "outputs": [],
   "source": [
    "images = images.reshape(-1,64)"
   ]
  },
  {
   "cell_type": "code",
   "execution_count": 16,
   "id": "15e88e06-f786-4765-9902-85008e790726",
   "metadata": {},
   "outputs": [
    {
     "data": {
      "text/plain": [
       "(360, 64)"
      ]
     },
     "execution_count": 16,
     "metadata": {},
     "output_type": "execute_result"
    }
   ],
   "source": [
    "images.shape"
   ]
  },
  {
   "cell_type": "code",
   "execution_count": 7,
   "id": "17ebb6ea-dd66-489b-b591-3cf0d4d15542",
   "metadata": {},
   "outputs": [],
   "source": [
    "labels = digits.target"
   ]
  },
  {
   "cell_type": "code",
   "execution_count": 111,
   "id": "c80525c8-48a3-4367-858e-eedee16514d4",
   "metadata": {},
   "outputs": [],
   "source": [
    "def agg_clus(data_matrix, n_clusters=2):\n",
    "    \n",
    "    # cluster assignment is a list with each index representing an assignment \n",
    "    cluster_assignment = np.arange(data_matrix.shape[0])\n",
    "    \n",
    "    pbar = tqdm(total = data_matrix.shape[0]-n_clusters, position=0, leave=True)\n",
    "    while np.unique(cluster_assignment).shape[0] > n_clusters: # np.unique() removes duplicates from array\n",
    "        used_labels = np.unique(cluster_assignment)\n",
    "        # compute the distance betweeen each cluster\n",
    "        # init the size of the cluster to cluster distances to be a dxd matrix with d = #clusters\n",
    "        c2c_distances = np.zeros((used_labels.shape[0], used_labels.shape[0]))\n",
    "        \n",
    "        for i in range(used_labels.shape[0]):\n",
    "            for j in range(used_labels.shape[0]):\n",
    "                # get all features from examples that match cluster assignment\n",
    "                cluster_A_pts = data_matrix[cluster_assignment == used_labels[i], :]\n",
    "                cluster_B_pts = data_matrix[cluster_assignment == used_labels[j], :]\n",
    "                # note that we can use something other than min for our distance measure\n",
    "                if i != j:\n",
    "                    c2c_distances[i][j] = cluster_distance = cdist(cluster_A_pts, cluster_B_pts).min()\n",
    "                else: \n",
    "                    c2c_distances[i][j] = np.inf # we dont want our 2 closest arrays to be the same \n",
    "                \n",
    "                \n",
    "        # merge the two nearest clusters \n",
    "        min_value = np.amin(c2c_distances)\n",
    "        \n",
    "        # closest will output 2 pairs with each pair being the reverse of the cluster indicies\n",
    "        closest = np.where(c2c_distances == min_value)\n",
    "        # print('closest pair: ', closest[0])\n",
    "        # print(used_labels[closest[0][1]], used_labels[closest[0][0]])\n",
    "            \n",
    "        cluster_assignment[cluster_assignment == used_labels[closest[1][0]]] = used_labels[closest[0][0]] \n",
    "        pbar.update(1)\n",
    "    pbar.close()\n",
    "    return cluster_assignment\n",
    "        "
   ]
  },
  {
   "cell_type": "code",
   "execution_count": 117,
   "id": "ff36b88c-8c01-4f0b-b3b6-af194cec1969",
   "metadata": {
    "tags": []
   },
   "outputs": [
    {
     "name": "stderr",
     "output_type": "stream",
     "text": [
      "100%|███████████████████████████████████████████| 98/98 [00:06<00:00, 15.90it/s]\n"
     ]
    }
   ],
   "source": [
    "# small test:\n",
    "assignments = agg_clus(images[:100])"
   ]
  },
  {
   "cell_type": "code",
   "execution_count": 118,
   "id": "b2074874-8551-4d39-a425-483af36bc087",
   "metadata": {},
   "outputs": [],
   "source": [
    "score = labels[:100][assignments == labels[:100]].shape[0] / assignments.shape[0]"
   ]
  },
  {
   "cell_type": "code",
   "execution_count": 119,
   "id": "2e5b642b-0892-42ba-8044-928f464992ce",
   "metadata": {},
   "outputs": [
    {
     "data": {
      "text/plain": [
       "1.0"
      ]
     },
     "execution_count": 119,
     "metadata": {},
     "output_type": "execute_result"
    }
   ],
   "source": [
    "score"
   ]
  },
  {
   "cell_type": "code",
   "execution_count": 120,
   "id": "d2329713-238b-4fb1-87f7-8d2bf3234c01",
   "metadata": {},
   "outputs": [
    {
     "name": "stderr",
     "output_type": "stream",
     "text": [
      "100%|█████████████████████████████████████████| 358/358 [04:45<00:00,  1.25it/s]\n"
     ]
    },
    {
     "data": {
      "text/plain": [
       "1.0"
      ]
     },
     "execution_count": 120,
     "metadata": {},
     "output_type": "execute_result"
    }
   ],
   "source": [
    "# full test:\n",
    "assignments = agg_clus(images)\n",
    "score = labels[assignments == labels].shape[0] / assignments.shape[0]\n",
    "score"
   ]
  }
 ],
 "metadata": {
  "kernelspec": {
   "display_name": "Python 3 (ipykernel)",
   "language": "python",
   "name": "python3"
  },
  "language_info": {
   "codemirror_mode": {
    "name": "ipython",
    "version": 3
   },
   "file_extension": ".py",
   "mimetype": "text/x-python",
   "name": "python",
   "nbconvert_exporter": "python",
   "pygments_lexer": "ipython3",
   "version": "3.9.11"
  }
 },
 "nbformat": 4,
 "nbformat_minor": 5
}
