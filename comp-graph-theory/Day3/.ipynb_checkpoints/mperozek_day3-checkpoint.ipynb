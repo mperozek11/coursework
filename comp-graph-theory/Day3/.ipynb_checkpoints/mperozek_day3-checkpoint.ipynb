{
 "cells": [
  {
   "cell_type": "code",
   "execution_count": 1,
   "id": "f3406646-589a-45f8-8e97-ad2e0a0b9b71",
   "metadata": {},
   "outputs": [],
   "source": [
    "import numpy as np\n",
    "import scipy"
   ]
  },
  {
   "cell_type": "markdown",
   "id": "ba15c92e-2b23-4e2e-b0a9-8639e8242b6b",
   "metadata": {},
   "source": [
    "0a) Implement matrix-matrix multiplication, using for loops in python. You can assume that your matrices are represented as numpy arrays, but you may not use the numpy method for matrix multiplication. As a test, if you multiply the following two matrices, you should get the following result:\n",
    "\n",
    "A = [[ 1.0, 4.5],\n",
    "\n",
    "    [-2.1, 30.45]]\n",
    "\n",
    "B = [[8.1, 2.3, 6.7],\n",
    "\n",
    "    [-1.1, -200.1, 3.2]]\n",
    "\n",
    "A . B = [[3.15, -898.15, 21.1],\n",
    "\n",
    "       [-50.505, -6097.88, 83.37]]"
   ]
  },
  {
   "cell_type": "code",
   "execution_count": 2,
   "id": "9cf905b4-35c4-4df4-b5ee-d9779f7c156d",
   "metadata": {},
   "outputs": [],
   "source": [
    "def mat_mult_dumb(A, B):\n",
    "    output = []\n",
    "    for row in A:\n",
    "        output.append([0 for i in range(len(B[0]))])\n",
    "    # row and col loops determine the position in output matrix\n",
    "    \n",
    "    # row iterates over indicies in a given ROW of A\n",
    "    for row in range(len(A[0])):\n",
    "        # col iterates over column indicies of B\n",
    "        for col in range(len(B)):\n",
    "            \n",
    "            row_col_sum = 0 \n",
    "            for i in range(len(A[0])):\n",
    "                # print('row:',row,'col:', col,'i:',i, A[row][i], B[i][col])\n",
    "                row_col_sum += A[row][i] * B[i][col]\n",
    "                    \n",
    "            output[row][col] = row_col_sum\n",
    "\n",
    "    return output"
   ]
  },
  {
   "cell_type": "code",
   "execution_count": 3,
   "id": "6aecc2dd-6f0c-4645-916f-9b741e0be81e",
   "metadata": {},
   "outputs": [],
   "source": [
    "# test\n",
    "\n",
    "A = [[ 1.0, 4.5],\n",
    "\n",
    "    [-2.1, 30.45]]\n",
    "\n",
    "B = [[8.1, 2.3, 6.7],\n",
    "\n",
    "    [-1.1, -200.1, 3.2]]\n",
    "\n",
    "AB = [[3.15, -898.15, 21.1],\n",
    "\n",
    "       [-50.505, -6097.88, 83.37]]"
   ]
  },
  {
   "cell_type": "code",
   "execution_count": 4,
   "id": "5d748d73-5538-49fc-9b97-c19b08275bbe",
   "metadata": {},
   "outputs": [
    {
     "data": {
      "text/plain": [
       "3"
      ]
     },
     "execution_count": 4,
     "metadata": {},
     "output_type": "execute_result"
    }
   ],
   "source": [
    "len(B[0])"
   ]
  },
  {
   "cell_type": "code",
   "execution_count": 5,
   "id": "18eb1c8e-79e5-47c4-bc6c-6624db04d642",
   "metadata": {},
   "outputs": [
    {
     "name": "stdout",
     "output_type": "stream",
     "text": [
      "expected: [[3.15, -898.15, 21.1], [-50.505, -6097.88, 83.37]]\n",
      "actual:   [[3.1499999999999995, -898.15, 0], [-50.50500000000001, -6097.875, 0]]\n"
     ]
    }
   ],
   "source": [
    "print('expected:', AB)\n",
    "print('actual:  ', mat_mult_dumb(A, B))"
   ]
  },
  {
   "cell_type": "markdown",
   "id": "26526767-b23c-4925-885f-9cbfabd4f79e",
   "metadata": {},
   "source": [
    "0b) Implement a function vmap(f, X). vmap takes in a function f and a numpy array X. It should return a new array, F. F is the same size and shape as X, but each entry of F is filled with f(x), where x is the corresponding entry of X. You should write this method in a flexible way so that it handles arrays with more than two dimensions. One way to do this is through recursion. Here's pseudocode for that version:"
   ]
  },
  {
   "cell_type": "code",
   "execution_count": 6,
   "id": "0da4358e-dea9-4bf6-bc91-03d6b1ba87b0",
   "metadata": {},
   "outputs": [],
   "source": [
    "def vmap(f, X):\n",
    "    F = np.zeros(X.shape)\n",
    "    # recursive case\n",
    "    if(type(X) == np.ndarray):\n",
    "        for i in range(len(X)):\n",
    "             F[i] = vmap(f, X[i])\n",
    "    # base case \n",
    "    else:\n",
    "        return f(X)\n",
    "    return F"
   ]
  },
  {
   "cell_type": "code",
   "execution_count": 7,
   "id": "f7521296-359a-4a8f-87b5-08d351ee01c9",
   "metadata": {},
   "outputs": [],
   "source": [
    "def test_func(x):\n",
    "    return x/2"
   ]
  },
  {
   "cell_type": "code",
   "execution_count": 8,
   "id": "37908170-2faf-4a8f-b9a0-b4998230562d",
   "metadata": {},
   "outputs": [
    {
     "name": "stdout",
     "output_type": "stream",
     "text": [
      "[[[[5 8 9]\n",
      "   [5 0 0]\n",
      "   [1 7 6]]\n",
      "\n",
      "  [[9 2 4]\n",
      "   [5 2 4]\n",
      "   [2 4 7]]\n",
      "\n",
      "  [[7 9 1]\n",
      "   [7 0 6]\n",
      "   [9 9 7]]]\n",
      "\n",
      "\n",
      " [[[6 9 1]\n",
      "   [0 1 8]\n",
      "   [8 3 9]]\n",
      "\n",
      "  [[8 7 3]\n",
      "   [6 5 1]\n",
      "   [9 3 4]]\n",
      "\n",
      "  [[8 1 4]\n",
      "   [0 3 9]\n",
      "   [2 0 4]]]\n",
      "\n",
      "\n",
      " [[[9 2 7]\n",
      "   [7 9 8]\n",
      "   [6 9 3]]\n",
      "\n",
      "  [[7 7 4]\n",
      "   [5 9 3]\n",
      "   [6 8 0]]\n",
      "\n",
      "  [[2 7 7]\n",
      "   [9 7 3]\n",
      "   [0 8 7]]]]\n",
      "[[[[2.5 4.  4.5]\n",
      "   [2.5 0.  0. ]\n",
      "   [0.5 3.5 3. ]]\n",
      "\n",
      "  [[4.5 1.  2. ]\n",
      "   [2.5 1.  2. ]\n",
      "   [1.  2.  3.5]]\n",
      "\n",
      "  [[3.5 4.5 0.5]\n",
      "   [3.5 0.  3. ]\n",
      "   [4.5 4.5 3.5]]]\n",
      "\n",
      "\n",
      " [[[3.  4.5 0.5]\n",
      "   [0.  0.5 4. ]\n",
      "   [4.  1.5 4.5]]\n",
      "\n",
      "  [[4.  3.5 1.5]\n",
      "   [3.  2.5 0.5]\n",
      "   [4.5 1.5 2. ]]\n",
      "\n",
      "  [[4.  0.5 2. ]\n",
      "   [0.  1.5 4.5]\n",
      "   [1.  0.  2. ]]]\n",
      "\n",
      "\n",
      " [[[4.5 1.  3.5]\n",
      "   [3.5 4.5 4. ]\n",
      "   [3.  4.5 1.5]]\n",
      "\n",
      "  [[3.5 3.5 2. ]\n",
      "   [2.5 4.5 1.5]\n",
      "   [3.  4.  0. ]]\n",
      "\n",
      "  [[1.  3.5 3.5]\n",
      "   [4.5 3.5 1.5]\n",
      "   [0.  4.  3.5]]]]\n"
     ]
    }
   ],
   "source": [
    "# test\n",
    "np.random.seed(1)\n",
    "shape = (3,3,3,3)\n",
    "X = np.random.randint(low=0, high=10, size=shape)\n",
    "print(X)\n",
    "print(vmap(test_func, X))"
   ]
  },
  {
   "cell_type": "markdown",
   "id": "bd7c3918-924d-487c-9eef-02bd87e8630d",
   "metadata": {},
   "source": [
    "1a) Create two 100 x 100 matrices of random numbers. Call these X and Y. One of these should be full of random floating point numbers (use np.random.random()), and the other should have random integers between 0 and 100 (use np.random.randint())."
   ]
  },
  {
   "cell_type": "code",
   "execution_count": 9,
   "id": "1ff06d0b-8350-4c50-845b-7049ae49df17",
   "metadata": {},
   "outputs": [],
   "source": [
    "X = np.random.random((100,100))\n",
    "Y = np.random.randint(low=0, high=100, size=(100,100))"
   ]
  },
  {
   "cell_type": "markdown",
   "id": "abecde37-ec1d-46c3-97f7-54d52c783702",
   "metadata": {},
   "source": [
    "1b) Find the dot product X . Y, using your code from Problem 0a. Time how long it takes."
   ]
  },
  {
   "cell_type": "code",
   "execution_count": 11,
   "id": "eea18a5d-c757-4df1-ac82-f100b358e385",
   "metadata": {},
   "outputs": [],
   "source": [
    "import time"
   ]
  },
  {
   "cell_type": "code",
   "execution_count": 16,
   "id": "4698bc0f-e5db-45e0-ba55-d71c3b70d038",
   "metadata": {},
   "outputs": [
    {
     "name": "stdout",
     "output_type": "stream",
     "text": [
      "0.6095542907714844 seconds\n"
     ]
    }
   ],
   "source": [
    "start = time.time()\n",
    "mat_mult_dumb(X, Y)\n",
    "print(time.time() - start, 'seconds')"
   ]
  },
  {
   "cell_type": "markdown",
   "id": "9972c541-f2fc-4f96-833b-d8bfb5dc2e36",
   "metadata": {},
   "source": [
    "1c) Find the dot product X . Y, using np. dot. Compare this time to the time you measured in 1b."
   ]
  },
  {
   "cell_type": "code",
   "execution_count": 17,
   "id": "de7aed35-d675-4464-9e16-a8520f66f718",
   "metadata": {},
   "outputs": [
    {
     "name": "stdout",
     "output_type": "stream",
     "text": [
      "0.019514083862304688 seconds\n"
     ]
    }
   ],
   "source": [
    "start = time.time()\n",
    "np.dot(X,Y)\n",
    "print(time.time() - start, 'seconds')"
   ]
  },
  {
   "cell_type": "markdown",
   "id": "38c7b309-ef01-437f-8e55-6312c384726c",
   "metadata": {},
   "source": [
    "1d) Time vmap(np.cos, X). Compare this time to how long it takes to do np.cos(X)."
   ]
  },
  {
   "cell_type": "code",
   "execution_count": 18,
   "id": "006347c9-51c2-421e-bfb4-5aeb81ec2d2d",
   "metadata": {},
   "outputs": [
    {
     "name": "stdout",
     "output_type": "stream",
     "text": [
      "0.019005775451660156 seconds\n"
     ]
    }
   ],
   "source": [
    "start = time.time()\n",
    "vmap(np.cos, X)\n",
    "print(time.time() - start, 'seconds')"
   ]
  },
  {
   "cell_type": "code",
   "execution_count": 19,
   "id": "5e87943e-5cb5-4ad5-98c1-671caba7e373",
   "metadata": {},
   "outputs": [
    {
     "name": "stdout",
     "output_type": "stream",
     "text": [
      "0.000885009765625 seconds\n"
     ]
    }
   ],
   "source": [
    "start = time.time()\n",
    "np.cos(X)\n",
    "print(time.time() - start, 'seconds')"
   ]
  },
  {
   "cell_type": "markdown",
   "id": "fe110892-ee59-4db0-af9b-cca8a45561ca",
   "metadata": {},
   "source": [
    "1e) Find the eigenvalues of X, using any method from numpy or scipy."
   ]
  },
  {
   "cell_type": "code",
   "execution_count": 23,
   "id": "e15f54de-8726-4086-93c2-9c48acae5c66",
   "metadata": {},
   "outputs": [
    {
     "data": {
      "text/plain": [
       "array([49.85023169+0.j        ,  0.59736885+2.86417672j,\n",
       "        0.59736885-2.86417672j,  2.87501792+0.j        ,\n",
       "       -0.08042511+2.78442563j, -0.08042511-2.78442563j,\n",
       "        1.30677751+2.36939507j,  1.30677751-2.36939507j,\n",
       "        2.11539959+1.61069964j,  2.11539959-1.61069964j,\n",
       "       -1.56473952+2.13501057j, -1.56473952-2.13501057j,\n",
       "       -2.41608686+1.04418771j, -2.41608686-1.04418771j,\n",
       "       -2.16692972+1.42403744j, -2.16692972-1.42403744j,\n",
       "       -2.48858604+0.57030311j, -2.48858604-0.57030311j,\n",
       "        2.56436036+0.j        ,  1.51869749+1.98937794j,\n",
       "        1.51869749-1.98937794j,  2.3922669 +0.50823994j,\n",
       "        2.3922669 -0.50823994j,  0.49329519+2.39871526j,\n",
       "        0.49329519-2.39871526j,  2.03796425+1.19441149j,\n",
       "        2.03796425-1.19441149j,  1.06374136+2.10027497j,\n",
       "        1.06374136-2.10027497j, -0.250444  +2.31636937j,\n",
       "       -0.250444  -2.31636937j, -0.59433431+2.28002857j,\n",
       "       -0.59433431-2.28002857j, -1.44719921+1.86517806j,\n",
       "       -1.44719921-1.86517806j, -0.95736521+2.07897818j,\n",
       "       -0.95736521-2.07897818j, -2.3514875 +0.j        ,\n",
       "       -2.22377058+0.29513012j, -2.22377058-0.29513012j,\n",
       "       -1.59786294+1.52033875j, -1.59786294-1.52033875j,\n",
       "        2.07919365+0.76486813j,  2.07919365-0.76486813j,\n",
       "        1.54801173+1.47973319j,  1.54801173-1.47973319j,\n",
       "       -0.54465604+1.92336535j, -0.54465604-1.92336535j,\n",
       "       -1.31362753+1.30653886j, -1.31362753-1.30653886j,\n",
       "       -1.65094502+0.66897903j, -1.65094502-0.66897903j,\n",
       "       -1.7282428 +0.3271504j , -1.7282428 -0.3271504j ,\n",
       "       -0.83924364+1.55571573j, -0.83924364-1.55571573j,\n",
       "        1.76652021+0.68620024j,  1.76652021-0.68620024j,\n",
       "        1.32931083+1.29601449j,  1.32931083-1.29601449j,\n",
       "        1.87942715+0.j        ,  0.17280179+1.74958372j,\n",
       "        0.17280179-1.74958372j,  0.57397954+1.60918104j,\n",
       "        0.57397954-1.60918104j, -0.38087238+1.64228272j,\n",
       "       -0.38087238-1.64228272j, -1.43875062+0.51446791j,\n",
       "       -1.43875062-0.51446791j, -1.01932459+0.97807508j,\n",
       "       -1.01932459-0.97807508j, -0.37543218+1.44308371j,\n",
       "       -0.37543218-1.44308371j,  1.62611337+0.j        ,\n",
       "        1.58056763+0.j        ,  1.25547463+0.62890814j,\n",
       "        1.25547463-0.62890814j,  0.85170912+1.0548086j ,\n",
       "        0.85170912-1.0548086j ,  1.29165629+0.j        ,\n",
       "        1.18561538+0.40254683j,  1.18561538-0.40254683j,\n",
       "        0.0816741 +1.31953983j,  0.0816741 -1.31953983j,\n",
       "        0.3426527 +1.12832797j,  0.3426527 -1.12832797j,\n",
       "        0.65192376+0.80039938j,  0.65192376-0.80039938j,\n",
       "       -1.40827258+0.j        , -1.05827443+0.24140429j,\n",
       "       -1.05827443-0.24140429j, -0.85011326+0.52539364j,\n",
       "       -0.85011326-0.52539364j,  0.54214462+0.48324977j,\n",
       "        0.54214462-0.48324977j,  0.05240243+0.45252351j,\n",
       "        0.05240243-0.45252351j, -0.44965111+0.j        ,\n",
       "       -0.26443326+0.j        ,  0.18506505+0.j        ])"
      ]
     },
     "execution_count": 23,
     "metadata": {},
     "output_type": "execute_result"
    }
   ],
   "source": [
    "np.linalg.eigvals(X)"
   ]
  },
  {
   "cell_type": "code",
   "execution_count": 24,
   "id": "63a29f1f-c051-4da4-93d4-4571061f504d",
   "metadata": {},
   "outputs": [
    {
     "data": {
      "text/plain": [
       "100"
      ]
     },
     "execution_count": 24,
     "metadata": {},
     "output_type": "execute_result"
    }
   ],
   "source": [
    "len(np.linalg.eigvals(X))"
   ]
  },
  {
   "cell_type": "markdown",
   "id": "2e4f23a7-889c-471e-ae23-22c00546d492",
   "metadata": {},
   "source": [
    "2a) Write a method that takes in array dimensions L and W, and a number, r, between 0 and 1. Your method should produce a L x W random numpy array with some filled entries and some zero entries. The fraction of full entries (the \"density\") should be approximately r - obviously, since there are a fixed number of entries in the array, not every fraction r is achievable."
   ]
  },
  {
   "cell_type": "code",
   "execution_count": 49,
   "id": "d15d626e-3ce3-4b26-817a-375373b3d120",
   "metadata": {},
   "outputs": [],
   "source": [
    "def build_sparse(L, W, r):\n",
    "    rand_sparse = np.zeros((L, W))\n",
    "    non_zero_indicies = np.random.choice(L * W, int(r * L * W), replace=False)\n",
    "    for i in range(len(non_zero_indicies)):\n",
    "        row = int(non_zero_indicies[i]/W)\n",
    "        col = non_zero_indicies[i] % W\n",
    "        rand_sparse[row][col] = float(np.random.random((1,)))\n",
    "    return rand_sparse"
   ]
  },
  {
   "cell_type": "code",
   "execution_count": 50,
   "id": "e58fe450-4071-4b41-b550-3d1157a91bc6",
   "metadata": {},
   "outputs": [
    {
     "data": {
      "text/plain": [
       "array([[0.99281103, 0.        , 0.78817412, 0.        , 0.        ,\n",
       "        0.        , 0.        , 0.        , 0.        , 0.        ],\n",
       "       [0.        , 0.        , 0.        , 0.75954829, 0.        ,\n",
       "        0.        , 0.        , 0.        , 0.30285146, 0.        ],\n",
       "       [0.        , 0.        , 0.        , 0.        , 0.        ,\n",
       "        0.        , 0.        , 0.        , 0.17201437, 0.        ],\n",
       "       [0.        , 0.        , 0.        , 0.        , 0.        ,\n",
       "        0.        , 0.48817535, 0.17128434, 0.        , 0.        ],\n",
       "       [0.        , 0.        , 0.        , 0.        , 0.        ,\n",
       "        0.        , 0.        , 0.43863448, 0.        , 0.        ],\n",
       "       [0.        , 0.        , 0.        , 0.        , 0.        ,\n",
       "        0.        , 0.        , 0.        , 0.        , 0.        ],\n",
       "       [0.        , 0.        , 0.        , 0.        , 0.        ,\n",
       "        0.        , 0.        , 0.        , 0.        , 0.        ],\n",
       "       [0.36069121, 0.        , 0.        , 0.        , 0.        ,\n",
       "        0.        , 0.        , 0.        , 0.        , 0.        ],\n",
       "       [0.        , 0.        , 0.        , 0.        , 0.        ,\n",
       "        0.        , 0.        , 0.7678192 , 0.        , 0.        ],\n",
       "       [0.        , 0.        , 0.        , 0.        , 0.        ,\n",
       "        0.        , 0.        , 0.        , 0.        , 0.        ]])"
      ]
     },
     "execution_count": 50,
     "metadata": {},
     "output_type": "execute_result"
    }
   ],
   "source": [
    "build_sparse(10, 10, .1)"
   ]
  },
  {
   "cell_type": "markdown",
   "id": "2c54e49a-2dfa-4e83-94d6-e418ec8d2456",
   "metadata": {},
   "source": [
    "2b) Use your method to generate a 50% full 256x256 array. Convert this array to a scipy sparse array."
   ]
  },
  {
   "cell_type": "code",
   "execution_count": 52,
   "id": "7b1ccac3-af41-4a2d-aa59-d6ed5f88ac3d",
   "metadata": {},
   "outputs": [],
   "source": [
    "from scipy import sparse"
   ]
  },
  {
   "cell_type": "code",
   "execution_count": 51,
   "id": "2cc6d862-9874-45f5-85d5-6f8aefa5f48b",
   "metadata": {},
   "outputs": [],
   "source": [
    "arr = build_sparse(256, 256, 0.5)"
   ]
  },
  {
   "cell_type": "code",
   "execution_count": 53,
   "id": "8a02fb0b-5105-4163-83f6-2aad76d14706",
   "metadata": {},
   "outputs": [],
   "source": [
    "sArr = sparse.csr_matrix(arr)"
   ]
  },
  {
   "cell_type": "markdown",
   "id": "dafa3e5c-d04c-41c8-8eeb-0cae55330b31",
   "metadata": {},
   "source": [
    "2c) Generate another 50% full 256x256 array, and convert it as well."
   ]
  },
  {
   "cell_type": "code",
   "execution_count": 56,
   "id": "525ca809-bff2-4b46-8603-801befc59482",
   "metadata": {},
   "outputs": [],
   "source": [
    "arr2 = build_sparse(256, 256, 0.5)\n",
    "sArr2 = sparse.csr_matrix(arr2)"
   ]
  },
  {
   "cell_type": "markdown",
   "id": "18e94d58-8eb4-4087-b4d7-326cc37dd611",
   "metadata": {},
   "source": [
    "2d) Matrix multiply these two arrays. Time how long matrix multiplication for both the sparse and dense versions of these arrays."
   ]
  },
  {
   "cell_type": "code",
   "execution_count": 64,
   "id": "3940fa29-ef48-4238-ac13-6e670b641a31",
   "metadata": {},
   "outputs": [
    {
     "name": "stdout",
     "output_type": "stream",
     "text": [
      "0.001447916030883789 seconds\n"
     ]
    }
   ],
   "source": [
    "start = time.time()\n",
    "np.dot(arr, arr2)\n",
    "print(time.time() - start, 'seconds')"
   ]
  },
  {
   "cell_type": "code",
   "execution_count": 65,
   "id": "b9e7c868-12a7-47cd-b6c4-c6c8682e0949",
   "metadata": {},
   "outputs": [
    {
     "name": "stdout",
     "output_type": "stream",
     "text": [
      "0.0011069774627685547 seconds\n"
     ]
    }
   ],
   "source": [
    "start = time.time()\n",
    "sArr.multiply(sArr2)\n",
    "print(time.time() - start, 'seconds')"
   ]
  },
  {
   "cell_type": "markdown",
   "id": "9f326e89-b2db-4fab-bc32-e01650c2ada7",
   "metadata": {},
   "source": [
    "2e) Repeat 2b-2d with many different densities. Make a plot of density vs. time for both types of matrix multiplication. At what density do sparse arrays stop being more efficient?"
   ]
  },
  {
   "cell_type": "code",
   "execution_count": 71,
   "id": "f606837b-6068-45f2-8033-33f540d0df92",
   "metadata": {},
   "outputs": [],
   "source": [
    "density_list = np.arange(0.01, 1.00, 0.01)"
   ]
  },
  {
   "cell_type": "code",
   "execution_count": 79,
   "id": "13d184ef-ce74-40aa-a14b-7c85c3ecc0fb",
   "metadata": {},
   "outputs": [],
   "source": [
    "dense_time = []\n",
    "sparse_time = []\n",
    "for i in range(len(density_list)):\n",
    "    arr1 = build_sparse(256, 256, density_list[i])\n",
    "    arr2 = build_sparse(256, 256, density_list[i])\n",
    "    \n",
    "    start = time.time()\n",
    "    np.dot(arr1, arr2)\n",
    "    dense_time.append(time.time() - start)\n",
    "    \n",
    "    s_arr1 = sparse.csr_matrix(arr1)\n",
    "    s_arr2 = sparse.csr_matrix(arr2)\n",
    "    \n",
    "    start = time.time()\n",
    "    s_arr1.multiply(s_arr2)\n",
    "    sparse_time.append(time.time() - start)\n",
    "    \n",
    "    "
   ]
  },
  {
   "cell_type": "code",
   "execution_count": 77,
   "id": "f2a2ec7f-974d-480a-95d1-4a4349b1bb94",
   "metadata": {},
   "outputs": [],
   "source": [
    "import matplotlib.pyplot as plt"
   ]
  },
  {
   "cell_type": "code",
   "execution_count": 84,
   "id": "8a34029c-262c-4747-8ceb-9f8f9a1585e6",
   "metadata": {},
   "outputs": [
    {
     "data": {
      "text/plain": [
       "Text(0, 0.5, 'time for matmult')"
      ]
     },
     "execution_count": 84,
     "metadata": {},
     "output_type": "execute_result"
    },
    {
     "data": {
      "image/png": "[encoded data removed]",
      "text/plain": [
       "<Figure size 432x288 with 1 Axes>"
      ]
     },
     "metadata": {
      "needs_background": "light"
     },
     "output_type": "display_data"
    }
   ],
   "source": [
    "plt.plot(density_list, dense_time, label='dense')\n",
    "plt.plot(density_list, sparse_time, label='sparse')\n",
    "plt.legend()\n",
    "plt.xlabel('matrix density')\n",
    "plt.ylabel('time for matmult')"
   ]
  },
  {
   "cell_type": "code",
   "execution_count": null,
   "id": "83af961c-2b07-4c9c-9766-17195eaabc21",
   "metadata": {},
   "outputs": [],
   "source": []
  }
 ],
 "metadata": {
  "kernelspec": {
   "display_name": "Python 3 (ipykernel)",
   "language": "python",
   "name": "python3"
  },
  "language_info": {
   "codemirror_mode": {
    "name": "ipython",
    "version": 3
   },
   "file_extension": ".py",
   "mimetype": "text/x-python",
   "name": "python",
   "nbconvert_exporter": "python",
   "pygments_lexer": "ipython3",
   "version": "3.9.11"
  }
 },
 "nbformat": 4,
 "nbformat_minor": 5
}
