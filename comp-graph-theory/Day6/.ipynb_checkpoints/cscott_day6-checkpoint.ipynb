{
 "cells": [
  {
   "cell_type": "code",
   "execution_count": 1,
   "id": "73cb22ba-cf45-493f-a435-a5840ddc3473",
   "metadata": {},
   "outputs": [],
   "source": [
    "import torch"
   ]
  },
  {
   "cell_type": "code",
   "execution_count": 2,
   "id": "ee6f6be8-2305-4c59-96c4-1bc30630ea2a",
   "metadata": {},
   "outputs": [],
   "source": [
    "import numpy as np"
   ]
  },
  {
   "cell_type": "code",
   "execution_count": 3,
   "id": "84db497b-53ed-449e-bf52-a4d1931ae47a",
   "metadata": {},
   "outputs": [],
   "source": [
    "import networkx as nx"
   ]
  },
  {
   "cell_type": "code",
   "execution_count": 4,
   "id": "1be13452-8ebd-47b0-b06c-725888749d51",
   "metadata": {},
   "outputs": [],
   "source": [
    "import matplotlib.pyplot as plt"
   ]
  },
  {
   "cell_type": "code",
   "execution_count": 13,
   "id": "ab3a77d6-b322-41a1-a0f4-14f3a6d17d48",
   "metadata": {},
   "outputs": [],
   "source": [
    "def f(x):\n",
    "    return .8*x**4.0 - 2*x**3.0 + 2*x"
   ]
  },
  {
   "cell_type": "code",
   "execution_count": 14,
   "id": "0ddb918b-6c97-4634-8252-00d9827d0083",
   "metadata": {},
   "outputs": [
    {
     "data": {
      "text/plain": [
       "0.8"
      ]
     },
     "execution_count": 14,
     "metadata": {},
     "output_type": "execute_result"
    }
   ],
   "source": [
    "f(1.0)"
   ]
  },
  {
   "cell_type": "code",
   "execution_count": 19,
   "id": "4d695a31-e3b5-442a-8432-1fa440cf1f51",
   "metadata": {},
   "outputs": [],
   "source": [
    "xpts = 4*np.random.random(256) - 2.0\n",
    "ypts = f(xpts)"
   ]
  },
  {
   "cell_type": "code",
   "execution_count": 20,
   "id": "83ab124a-a4f0-4469-8e81-ebcb71bfc2fa",
   "metadata": {},
   "outputs": [
    {
     "data": {
      "text/plain": [
       "<matplotlib.collections.PathCollection at 0x7fb02296d130>"
      ]
     },
     "execution_count": 20,
     "metadata": {},
     "output_type": "execute_result"
    },
    {
     "data": {
      "image/png": "[encoded data removed]",
      "text/plain": [
       "<Figure size 432x288 with 1 Axes>"
      ]
     },
     "metadata": {
      "needs_background": "light"
     },
     "output_type": "display_data"
    }
   ],
   "source": [
    "plt.scatter(\n",
    "    xpts,\n",
    "    ypts\n",
    ")"
   ]
  },
  {
   "cell_type": "code",
   "execution_count": 21,
   "id": "3694860e-fe64-4058-82b3-867d3ba5cb69",
   "metadata": {},
   "outputs": [
    {
     "data": {
      "text/plain": [
       "-0.7000102590918802"
      ]
     },
     "execution_count": 21,
     "metadata": {},
     "output_type": "execute_result"
    }
   ],
   "source": [
    "ypts.min()"
   ]
  },
  {
   "cell_type": "code",
   "execution_count": 39,
   "id": "07a1be68-feb3-45a0-8213-41d34e2100a4",
   "metadata": {},
   "outputs": [],
   "source": [
    "x_param = torch.nn.Parameter(torch.tensor([1.0]))"
   ]
  },
  {
   "cell_type": "code",
   "execution_count": 40,
   "id": "fcd183e1-602d-49c5-8794-b424f354c987",
   "metadata": {},
   "outputs": [],
   "source": [
    "optimizer = torch.optim.Adam([x_param], 0.1)"
   ]
  },
  {
   "cell_type": "code",
   "execution_count": 41,
   "id": "2f3c62de-bd00-4659-917b-baae07eecd3c",
   "metadata": {},
   "outputs": [],
   "source": [
    "xvals = []\n",
    "yvals = []"
   ]
  },
  {
   "cell_type": "code",
   "execution_count": 42,
   "id": "23c3be4e-f6d8-4d7f-b468-dddc3eabc600",
   "metadata": {},
   "outputs": [],
   "source": [
    "for step in range(100):\n",
    "    optimizer.zero_grad()\n",
    "    error = f(x_param)\n",
    "    xvals.append(x_param.detach().numpy()[0])\n",
    "    yvals.append(error.detach().numpy()[0])\n",
    "    error.backward()\n",
    "    optimizer.step()"
   ]
  },
  {
   "cell_type": "code",
   "execution_count": 43,
   "id": "693a55bc-156d-4c8a-a677-31c1408c2150",
   "metadata": {},
   "outputs": [
    {
     "data": {
      "text/plain": [
       "<matplotlib.collections.PathCollection at 0x7fb01768b370>"
      ]
     },
     "execution_count": 43,
     "metadata": {},
     "output_type": "execute_result"
    },
    {
     "data": {
      "image/png": "[encoded data removed]",
      "text/plain": [
       "<Figure size 432x288 with 1 Axes>"
      ]
     },
     "metadata": {
      "needs_background": "light"
     },
     "output_type": "display_data"
    }
   ],
   "source": [
    "plt.scatter(\n",
    "    xvals,\n",
    "    yvals\n",
    ")"
   ]
  },
  {
   "cell_type": "code",
   "execution_count": 38,
   "id": "f771b469-4b11-4805-b4a4-8acf182cc46f",
   "metadata": {},
   "outputs": [
    {
     "data": {
      "text/plain": [
       "[0.24522948,\n",
       " 0.24522948,\n",
       " 0.24522948,\n",
       " 0.24522948,\n",
       " 0.24522948,\n",
       " 0.24522948,\n",
       " 0.24522948,\n",
       " 0.24522948,\n",
       " 0.24522948,\n",
       " 0.24522948,\n",
       " 0.24522948,\n",
       " 0.24522948,\n",
       " 0.24522948,\n",
       " 0.24522948,\n",
       " 0.24522948,\n",
       " 0.24522948,\n",
       " 0.24522948,\n",
       " 0.24522948,\n",
       " 0.24522948,\n",
       " 0.24522948,\n",
       " 0.24522948,\n",
       " 0.24522948,\n",
       " 0.24522948,\n",
       " 0.24522948,\n",
       " 0.24522948,\n",
       " 0.24522948,\n",
       " 0.24522948,\n",
       " 0.24522948,\n",
       " 0.24522948,\n",
       " 0.24522948,\n",
       " 0.24522948,\n",
       " 0.24522948,\n",
       " 0.24522948,\n",
       " 0.24522948,\n",
       " 0.24522948,\n",
       " 0.24522948,\n",
       " 0.24522948,\n",
       " 0.24522948,\n",
       " 0.24522948,\n",
       " 0.24522948,\n",
       " 0.24522948,\n",
       " 0.24522948,\n",
       " 0.24522948,\n",
       " 0.24522948,\n",
       " 0.24522948,\n",
       " 0.24522948,\n",
       " 0.24522948,\n",
       " 0.24522948,\n",
       " 0.24522948,\n",
       " 0.24522948,\n",
       " 0.24522948,\n",
       " 0.24522948,\n",
       " 0.24522948,\n",
       " 0.24522948,\n",
       " 0.24522948,\n",
       " 0.24522948,\n",
       " 0.24522948,\n",
       " 0.24522948,\n",
       " 0.24522948,\n",
       " 0.24522948,\n",
       " 0.24522948,\n",
       " 0.24522948,\n",
       " 0.24522948,\n",
       " 0.24522948,\n",
       " 0.24522948,\n",
       " 0.24522948,\n",
       " 0.24522948,\n",
       " 0.24522948,\n",
       " 0.24522948,\n",
       " 0.24522948,\n",
       " 0.24522948,\n",
       " 0.24522948,\n",
       " 0.24522948,\n",
       " 0.24522948,\n",
       " 0.24522948,\n",
       " 0.24522948,\n",
       " 0.24522948,\n",
       " 0.24522948,\n",
       " 0.24522948,\n",
       " 0.24522948,\n",
       " 0.24522948,\n",
       " 0.24522948,\n",
       " 0.24522948,\n",
       " 0.24522948,\n",
       " 0.24522948,\n",
       " 0.24522948,\n",
       " 0.24522948,\n",
       " 0.24522948,\n",
       " 0.24522948,\n",
       " 0.24522948,\n",
       " 0.24522948,\n",
       " 0.24522948,\n",
       " 0.24522948,\n",
       " 0.24522948,\n",
       " 0.24522948,\n",
       " 0.24522948,\n",
       " 0.24522948,\n",
       " 0.24522948,\n",
       " 0.24522948,\n",
       " 0.24522948]"
      ]
     },
     "execution_count": 38,
     "metadata": {},
     "output_type": "execute_result"
    }
   ],
   "source": [
    "yvals"
   ]
  },
  {
   "cell_type": "code",
   "execution_count": 44,
   "id": "db7e9d02-79ba-4d5e-9569-9464642b0282",
   "metadata": {},
   "outputs": [],
   "source": [
    "test = np.random.random((4,4))"
   ]
  },
  {
   "cell_type": "code",
   "execution_count": 45,
   "id": "beafae15-5f18-4c0c-9f71-5a3d46f6a299",
   "metadata": {},
   "outputs": [
    {
     "data": {
      "text/plain": [
       "array([[0.71157404, 0.16325484, 0.5994231 , 0.        ],\n",
       "       [0.80111425, 0.        , 0.        , 0.53944263],\n",
       "       [0.90799849, 0.76771661, 0.52116868, 0.66065509],\n",
       "       [0.        , 0.49667066, 0.        , 0.94446227]])"
      ]
     },
     "execution_count": 45,
     "metadata": {},
     "output_type": "execute_result"
    }
   ],
   "source": [
    "test * np.random.randint(low=0,high=2, size=(4,4))"
   ]
  },
  {
   "cell_type": "code",
   "execution_count": 46,
   "id": "1d29a798-8993-4ded-ab64-eadfaf2f15c8",
   "metadata": {},
   "outputs": [],
   "source": [
    "test[:,2] = 0"
   ]
  },
  {
   "cell_type": "code",
   "execution_count": 47,
   "id": "306baede-29e4-4f64-8f48-f5b16b860fc5",
   "metadata": {},
   "outputs": [
    {
     "data": {
      "text/plain": [
       "array([[0.71157404, 0.16325484, 0.        , 0.32228315],\n",
       "       [0.80111425, 0.08722198, 0.        , 0.53944263],\n",
       "       [0.90799849, 0.76771661, 0.        , 0.66065509],\n",
       "       [0.30564136, 0.49667066, 0.        , 0.94446227]])"
      ]
     },
     "execution_count": 47,
     "metadata": {},
     "output_type": "execute_result"
    }
   ],
   "source": [
    "test"
   ]
  },
  {
   "cell_type": "code",
   "execution_count": 54,
   "id": "0a1758f1-6105-420e-81ec-09e365bd93b7",
   "metadata": {},
   "outputs": [],
   "source": [
    "test[:,test.sum(0) > 0] /= test.sum(0)[test.sum(0) > 0]"
   ]
  },
  {
   "cell_type": "code",
   "execution_count": 55,
   "id": "b021ae31-4c53-4a41-b419-53b2532874de",
   "metadata": {},
   "outputs": [
    {
     "data": {
      "text/plain": [
       "array([[0.1432705 , 0.05511285, 0.        , 0.07788192],\n",
       "       [0.29029236, 0.05299284, 0.        , 0.23461121],\n",
       "       [0.49842515, 0.7065873 , 0.        , 0.43526321],\n",
       "       [0.06801198, 0.18530702, 0.        , 0.25224366]])"
      ]
     },
     "execution_count": 55,
     "metadata": {},
     "output_type": "execute_result"
    }
   ],
   "source": [
    "test"
   ]
  },
  {
   "cell_type": "code",
   "execution_count": 56,
   "id": "c42e8250-329d-4f35-a4ac-c87c0e05cd6d",
   "metadata": {},
   "outputs": [],
   "source": [
    "num_data_pts = 100"
   ]
  },
  {
   "cell_type": "code",
   "execution_count": 195,
   "id": "7013ef68-c00d-4604-bfcc-661548220fc3",
   "metadata": {},
   "outputs": [],
   "source": [
    "data_list = []\n",
    "label_list = []"
   ]
  },
  {
   "cell_type": "code",
   "execution_count": 196,
   "id": "cb999be7-38a5-4533-91f0-076f26597e4b",
   "metadata": {},
   "outputs": [],
   "source": [
    "for i in range(num_data_pts):\n",
    "    gr = nx.erdos_renyi_graph(100, .1)\n",
    "    degs = list(dict(gr.degree()).values())\n",
    "    data_list.append( [np.mean(degs) / np.max(degs), np.std(degs) / np.max(degs)] )\n",
    "    label_list.append(0)"
   ]
  },
  {
   "cell_type": "code",
   "execution_count": 197,
   "id": "e2784499-1996-493d-a049-883fa303c6c1",
   "metadata": {},
   "outputs": [],
   "source": [
    "for i in range(num_data_pts):\n",
    "    gr = nx.erdos_renyi_graph(100, .06)\n",
    "    degs = list(dict(gr.degree()).values())\n",
    "    data_list.append( [np.mean(degs) / np.max(degs), np.std(degs) / np.max(degs)] )\n",
    "    label_list.append(1)"
   ]
  },
  {
   "cell_type": "code",
   "execution_count": 198,
   "id": "ca105a45-377a-416f-a9f3-2a46b9593ede",
   "metadata": {},
   "outputs": [],
   "source": [
    "data_array = np.array(data_list)\n",
    "label_array = np.array(label_list)"
   ]
  },
  {
   "cell_type": "code",
   "execution_count": 199,
   "id": "15f9bb29-838b-40b4-b066-16b3a337e02a",
   "metadata": {},
   "outputs": [
    {
     "data": {
      "text/plain": [
       "<matplotlib.collections.PathCollection at 0x7fb01502a0a0>"
      ]
     },
     "execution_count": 199,
     "metadata": {},
     "output_type": "execute_result"
    },
    {
     "data": {
      "image/png": "[encoded data removed]",
      "text/plain": [
       "<Figure size 432x288 with 1 Axes>"
      ]
     },
     "metadata": {
      "needs_background": "light"
     },
     "output_type": "display_data"
    }
   ],
   "source": [
    "plt.scatter(\n",
    "    data_array[label_array==0,0],   \n",
    "    data_array[label_array==0,1]   \n",
    ")\n",
    "plt.scatter(\n",
    "    data_array[label_array==1,0],   \n",
    "    data_array[label_array==1,1]   \n",
    ")"
   ]
  },
  {
   "cell_type": "code",
   "execution_count": 200,
   "id": "c2e88583-b98d-4058-8502-f21bee2a3177",
   "metadata": {},
   "outputs": [],
   "source": [
    "classifier = torch.nn.Linear(2,1)"
   ]
  },
  {
   "cell_type": "code",
   "execution_count": 201,
   "id": "c8728835-c86f-4fc0-a5a1-024dd62e0f59",
   "metadata": {},
   "outputs": [],
   "source": [
    "data_tensor= torch.tensor(data_array).float()\n",
    "label_tensor= torch.tensor(label_array).float().reshape(-1,1)"
   ]
  },
  {
   "cell_type": "code",
   "execution_count": 202,
   "id": "aca928ba-5424-432c-b8de-0bcaf3017fd9",
   "metadata": {},
   "outputs": [],
   "source": [
    "predictions = torch.sigmoid(classifier(data_tensor))"
   ]
  },
  {
   "cell_type": "code",
   "execution_count": 203,
   "id": "a149be23-0f54-4fd7-ab6a-1be8e13affef",
   "metadata": {},
   "outputs": [],
   "source": [
    "error_function = torch.nn.MSELoss()"
   ]
  },
  {
   "cell_type": "code",
   "execution_count": 204,
   "id": "1f0be3ed-16b9-481f-b88d-5a2cd4b0f729",
   "metadata": {},
   "outputs": [],
   "source": [
    "error = error_function(predictions,label_tensor)"
   ]
  },
  {
   "cell_type": "code",
   "execution_count": 205,
   "id": "2be24a42-dddc-4199-b2f3-82c196fdaa82",
   "metadata": {},
   "outputs": [
    {
     "data": {
      "text/plain": [
       "tensor(0.2709, grad_fn=<MseLossBackward0>)"
      ]
     },
     "execution_count": 205,
     "metadata": {},
     "output_type": "execute_result"
    }
   ],
   "source": [
    "error"
   ]
  },
  {
   "cell_type": "code",
   "execution_count": 206,
   "id": "d52d8673-9dbc-4c41-bad5-0f281b5fbe6f",
   "metadata": {},
   "outputs": [
    {
     "data": {
      "text/plain": [
       "[Parameter containing:\n",
       " tensor([[ 0.6801, -0.6978]], requires_grad=True),\n",
       " Parameter containing:\n",
       " tensor([-0.6762], requires_grad=True)]"
      ]
     },
     "execution_count": 206,
     "metadata": {},
     "output_type": "execute_result"
    }
   ],
   "source": [
    "list(classifier.parameters())"
   ]
  },
  {
   "cell_type": "code",
   "execution_count": 213,
   "id": "9fe715af-7cd0-4edb-a7ea-fe1125f2a642",
   "metadata": {},
   "outputs": [],
   "source": [
    "optimizer = torch.optim.Adam(neural_net_classifier.parameters(), .001)"
   ]
  },
  {
   "cell_type": "code",
   "execution_count": 214,
   "id": "d961f3b2-3889-4518-8dcc-cd33922097a2",
   "metadata": {},
   "outputs": [],
   "source": [
    "for step in range(1000):\n",
    "    optimizer.zero_grad()\n",
    "    predictions = torch.sigmoid(neural_net_classifier(data_tensor))\n",
    "    error = error_function(predictions,label_tensor)\n",
    "    #print(error)\n",
    "    error.backward()\n",
    "    optimizer.step()"
   ]
  },
  {
   "cell_type": "code",
   "execution_count": 215,
   "id": "2ac19878-bee5-4286-8f57-8129ac0d6a7f",
   "metadata": {},
   "outputs": [
    {
     "data": {
      "text/plain": [
       "tensor(0.0297, grad_fn=<MseLossBackward0>)"
      ]
     },
     "execution_count": 215,
     "metadata": {},
     "output_type": "execute_result"
    }
   ],
   "source": [
    "error"
   ]
  },
  {
   "cell_type": "code",
   "execution_count": 216,
   "id": "c4337fff-1b64-4b26-b23c-1d39ea67d0a8",
   "metadata": {},
   "outputs": [
    {
     "data": {
      "text/plain": [
       "tensor([[0.0107],\n",
       "        [0.0251],\n",
       "        [0.0431],\n",
       "        [0.1078],\n",
       "        [0.1462],\n",
       "        [0.0633],\n",
       "        [0.5970],\n",
       "        [0.1393],\n",
       "        [0.0327],\n",
       "        [0.1757],\n",
       "        [0.0511],\n",
       "        [0.3273],\n",
       "        [0.0166],\n",
       "        [0.0277],\n",
       "        [0.0408],\n",
       "        [0.3482],\n",
       "        [0.0179],\n",
       "        [0.1547],\n",
       "        [0.1171],\n",
       "        [0.1298],\n",
       "        [0.0668],\n",
       "        [0.0123],\n",
       "        [0.0154],\n",
       "        [0.0986],\n",
       "        [0.0506],\n",
       "        [0.0215],\n",
       "        [0.0684],\n",
       "        [0.0766],\n",
       "        [0.0016],\n",
       "        [0.0938],\n",
       "        [0.0328],\n",
       "        [0.0091],\n",
       "        [0.0039],\n",
       "        [0.0554],\n",
       "        [0.4534],\n",
       "        [0.4074],\n",
       "        [0.0293],\n",
       "        [0.0389],\n",
       "        [0.1783],\n",
       "        [0.0818],\n",
       "        [0.0442],\n",
       "        [0.0124],\n",
       "        [0.3033],\n",
       "        [0.0237],\n",
       "        [0.0895],\n",
       "        [0.0161],\n",
       "        [0.5364],\n",
       "        [0.7466],\n",
       "        [0.0464],\n",
       "        [0.3736],\n",
       "        [0.0327],\n",
       "        [0.0765],\n",
       "        [0.0334],\n",
       "        [0.0025],\n",
       "        [0.0115],\n",
       "        [0.0409],\n",
       "        [0.0092],\n",
       "        [0.3660],\n",
       "        [0.0118],\n",
       "        [0.0322],\n",
       "        [0.0044],\n",
       "        [0.0433],\n",
       "        [0.0113],\n",
       "        [0.0459],\n",
       "        [0.0134],\n",
       "        [0.0918],\n",
       "        [0.0490],\n",
       "        [0.0227],\n",
       "        [0.1524],\n",
       "        [0.2201],\n",
       "        [0.0238],\n",
       "        [0.0266],\n",
       "        [0.2018],\n",
       "        [0.0592],\n",
       "        [0.0060],\n",
       "        [0.0139],\n",
       "        [0.1648],\n",
       "        [0.0594],\n",
       "        [0.0178],\n",
       "        [0.0050],\n",
       "        [0.1105],\n",
       "        [0.0074],\n",
       "        [0.0218],\n",
       "        [0.0155],\n",
       "        [0.0440],\n",
       "        [0.0296],\n",
       "        [0.1174],\n",
       "        [0.1467],\n",
       "        [0.0575],\n",
       "        [0.1491],\n",
       "        [0.0140],\n",
       "        [0.0156],\n",
       "        [0.0281],\n",
       "        [0.1587],\n",
       "        [0.2900],\n",
       "        [0.2900],\n",
       "        [0.3367],\n",
       "        [0.0016],\n",
       "        [0.0996],\n",
       "        [0.0176],\n",
       "        [0.9678],\n",
       "        [0.9583],\n",
       "        [0.9312],\n",
       "        [0.2994],\n",
       "        [0.8370],\n",
       "        [0.9977],\n",
       "        [0.9624],\n",
       "        [0.8272],\n",
       "        [0.9049],\n",
       "        [0.9462],\n",
       "        [0.9714],\n",
       "        [0.8945],\n",
       "        [0.9688],\n",
       "        [0.9944],\n",
       "        [0.9370],\n",
       "        [0.9846],\n",
       "        [0.7727],\n",
       "        [0.8124],\n",
       "        [0.8841],\n",
       "        [0.9813],\n",
       "        [0.9765],\n",
       "        [0.9776],\n",
       "        [0.9850],\n",
       "        [0.9561],\n",
       "        [0.9857],\n",
       "        [0.8341],\n",
       "        [0.8606],\n",
       "        [0.9606],\n",
       "        [0.9313],\n",
       "        [0.9856],\n",
       "        [0.9068],\n",
       "        [0.9870],\n",
       "        [0.9569],\n",
       "        [0.9493],\n",
       "        [0.9473],\n",
       "        [0.9232],\n",
       "        [0.9241],\n",
       "        [0.9921],\n",
       "        [0.9974],\n",
       "        [0.9915],\n",
       "        [0.9053],\n",
       "        [0.9872],\n",
       "        [0.9499],\n",
       "        [0.9328],\n",
       "        [0.7480],\n",
       "        [0.9916],\n",
       "        [0.8324],\n",
       "        [0.9729],\n",
       "        [0.9875],\n",
       "        [0.7400],\n",
       "        [0.9918],\n",
       "        [0.4811],\n",
       "        [0.9270],\n",
       "        [0.9973],\n",
       "        [0.9633],\n",
       "        [0.8886],\n",
       "        [0.9453],\n",
       "        [0.5268],\n",
       "        [0.9328],\n",
       "        [0.8658],\n",
       "        [0.9096],\n",
       "        [0.9124],\n",
       "        [0.4553],\n",
       "        [0.9938],\n",
       "        [0.9901],\n",
       "        [0.9254],\n",
       "        [0.9740],\n",
       "        [0.8891],\n",
       "        [0.8830],\n",
       "        [0.9754],\n",
       "        [0.9751],\n",
       "        [0.9847],\n",
       "        [0.8534],\n",
       "        [0.8222],\n",
       "        [0.4883],\n",
       "        [0.8584],\n",
       "        [0.7598],\n",
       "        [0.6013],\n",
       "        [0.9854],\n",
       "        [0.9761],\n",
       "        [0.8284],\n",
       "        [0.9599],\n",
       "        [0.8634],\n",
       "        [0.6458],\n",
       "        [0.9529],\n",
       "        [0.9700],\n",
       "        [0.9830],\n",
       "        [0.8894],\n",
       "        [0.9009],\n",
       "        [0.9490],\n",
       "        [0.7868],\n",
       "        [0.9388],\n",
       "        [0.9902],\n",
       "        [0.9869],\n",
       "        [0.9930],\n",
       "        [0.9453],\n",
       "        [0.4579],\n",
       "        [0.8659],\n",
       "        [0.9848],\n",
       "        [0.8938]], grad_fn=<SigmoidBackward0>)"
      ]
     },
     "execution_count": 216,
     "metadata": {},
     "output_type": "execute_result"
    }
   ],
   "source": [
    "predictions"
   ]
  },
  {
   "cell_type": "code",
   "execution_count": 212,
   "id": "dea115f7-6d15-4da4-ade5-8bc0950a5e4a",
   "metadata": {},
   "outputs": [],
   "source": [
    "neural_net_classifier = torch.nn.Sequential(\n",
    "    torch.nn.Linear(2,8),\n",
    "    torch.nn.ELU(),\n",
    "    torch.nn.Linear(8,16),\n",
    "    torch.nn.Tanh(),\n",
    "    torch.nn.Linear(16,1)\n",
    ")"
   ]
  },
  {
   "cell_type": "code",
   "execution_count": null,
   "id": "b3e0821e-fa2f-4016-bd7f-d7eb14987d7c",
   "metadata": {},
   "outputs": [],
   "source": []
  }
 ],
 "metadata": {
  "kernelspec": {
   "display_name": "Python 3 (ipykernel)",
   "language": "python",
   "name": "python3"
  },
  "language_info": {
   "codemirror_mode": {
    "name": "ipython",
    "version": 3
   },
   "file_extension": ".py",
   "mimetype": "text/x-python",
   "name": "python",
   "nbconvert_exporter": "python",
   "pygments_lexer": "ipython3",
   "version": "3.9.7"
  }
 },
 "nbformat": 4,
 "nbformat_minor": 5
}
