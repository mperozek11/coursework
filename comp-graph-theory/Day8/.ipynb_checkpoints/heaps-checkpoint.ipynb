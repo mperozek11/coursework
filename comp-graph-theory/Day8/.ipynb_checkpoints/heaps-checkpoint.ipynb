{
 "cells": [
  {
   "cell_type": "code",
   "execution_count": 1,
   "id": "d2d897cc-c7b5-4fd8-ac48-f52632c82019",
   "metadata": {},
   "outputs": [],
   "source": [
    "import heapq"
   ]
  },
  {
   "cell_type": "code",
   "execution_count": 14,
   "id": "a9762f11-563f-4d57-9f7e-b4accb759ec0",
   "metadata": {},
   "outputs": [],
   "source": [
    "my_pqueue = []"
   ]
  },
  {
   "cell_type": "code",
   "execution_count": 15,
   "id": "cab2d5c0-5026-4c09-8284-a9692eeab869",
   "metadata": {},
   "outputs": [],
   "source": [
    "heapq.heappush(my_pqueue, (1.0, 'Dog'))\n",
    "heapq.heappush(my_pqueue, (1.6, 'Slightly Worse Dog'))\n",
    "heapq.heappush(my_pqueue, (3.6, 'Cat'))"
   ]
  },
  {
   "cell_type": "code",
   "execution_count": 16,
   "id": "c5112f7c-9207-4bdb-a07c-a13fc8d4f307",
   "metadata": {},
   "outputs": [
    {
     "data": {
      "text/plain": [
       "[(1.0, 'Dog'), (1.6, 'Slightly Worse Dog'), (3.6, 'Cat')]"
      ]
     },
     "execution_count": 16,
     "metadata": {},
     "output_type": "execute_result"
    }
   ],
   "source": [
    "my_pqueue"
   ]
  },
  {
   "cell_type": "code",
   "execution_count": 20,
   "id": "69ac4940-ad5a-4ef3-82b9-04451a741619",
   "metadata": {},
   "outputs": [
    {
     "data": {
      "text/plain": [
       "(3.6, 'Cat')"
      ]
     },
     "execution_count": 20,
     "metadata": {},
     "output_type": "execute_result"
    }
   ],
   "source": [
    "heapq.heappop(my_pqueue)"
   ]
  },
  {
   "cell_type": "code",
   "execution_count": 18,
   "id": "d0e5a160-4b77-4328-b8c3-3cfbc2f15f6e",
   "metadata": {},
   "outputs": [
    {
     "data": {
      "text/plain": [
       "[(1.6, 'Slightly Worse Dog'), (3.6, 'Cat')]"
      ]
     },
     "execution_count": 18,
     "metadata": {},
     "output_type": "execute_result"
    }
   ],
   "source": [
    "my_pqueue"
   ]
  },
  {
   "cell_type": "code",
   "execution_count": null,
   "id": "a71b7e8f-daa3-4280-a7e3-5bd4b49467aa",
   "metadata": {},
   "outputs": [],
   "source": []
  }
 ],
 "metadata": {
  "kernelspec": {
   "display_name": "Python 3 (ipykernel)",
   "language": "python",
   "name": "python3"
  },
  "language_info": {
   "codemirror_mode": {
    "name": "ipython",
    "version": 3
   },
   "file_extension": ".py",
   "mimetype": "text/x-python",
   "name": "python",
   "nbconvert_exporter": "python",
   "pygments_lexer": "ipython3",
   "version": "3.9.7"
  }
 },
 "nbformat": 4,
 "nbformat_minor": 5
}
