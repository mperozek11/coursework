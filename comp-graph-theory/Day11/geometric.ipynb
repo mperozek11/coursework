{
 "cells": [
  {
   "cell_type": "code",
   "execution_count": 3,
   "id": "a2ea5935-e26f-4b77-8a60-50500c641b5d",
   "metadata": {},
   "outputs": [
    {
     "name": "stderr",
     "output_type": "stream",
     "text": [
      "/Users/maxperozek/opt/anaconda3/envs/comp_gr_thy/lib/python3.9/site-packages/tqdm/auto.py:22: TqdmWarning: IProgress not found. Please update jupyter and ipywidgets. See https://ipywidgets.readthedocs.io/en/stable/user_install.html\n",
      "  from .autonotebook import tqdm as notebook_tqdm\n"
     ]
    }
   ],
   "source": [
    "import torch"
   ]
  },
  {
   "cell_type": "code",
   "execution_count": 4,
   "id": "478014e1-6fd9-47d1-a478-c6f4a1834cb3",
   "metadata": {},
   "outputs": [],
   "source": [
    "import networkx as nx"
   ]
  },
  {
   "cell_type": "code",
   "execution_count": 5,
   "id": "f7c32306-2d7f-439e-9f98-85465f4d16e7",
   "metadata": {},
   "outputs": [],
   "source": [
    "import numpy as np"
   ]
  },
  {
   "cell_type": "code",
   "execution_count": 6,
   "id": "09e39758-cba3-4885-a339-59ef5cba776f",
   "metadata": {},
   "outputs": [],
   "source": [
    "import matplotlib.pyplot as plt"
   ]
  },
  {
   "cell_type": "code",
   "execution_count": 7,
   "id": "c2aa2d16-d581-4043-bbc9-2392d7e5f2d6",
   "metadata": {},
   "outputs": [],
   "source": [
    "import torch_geometric as tgn"
   ]
  },
  {
   "cell_type": "code",
   "execution_count": 8,
   "id": "334c0049-5164-4077-aa9f-2561fb699b6f",
   "metadata": {},
   "outputs": [],
   "source": [
    "from torch.nn import Sequential as Seq, Linear, ReLU"
   ]
  },
  {
   "cell_type": "code",
   "execution_count": 9,
   "id": "a5205406-59b9-4a64-9764-8fa2f8e0b269",
   "metadata": {},
   "outputs": [],
   "source": [
    "from torch_geometric.nn import MessagePassing"
   ]
  },
  {
   "cell_type": "code",
   "execution_count": 10,
   "id": "d94419c1-579b-434b-9fd0-1fb89eaabd00",
   "metadata": {},
   "outputs": [],
   "source": [
    "class EdgeConv(MessagePassing):\n",
    "    def __init__(self, in_channels, out_channels):\n",
    "        super().__init__(aggr='min') #  \"Max\" aggregation.\n",
    "        self.mlp = Seq(Linear(2 * in_channels, out_channels),\n",
    "                       ReLU(),\n",
    "                       Linear(out_channels, out_channels))\n",
    "\n",
    "    def forward(self, x, edge_index):\n",
    "        # x has shape [N, in_channels]\n",
    "        # edge_index has shape [2, E]\n",
    "\n",
    "        return self.propagate(edge_index, x=x)\n",
    "\n",
    "    def message(self, x_i, x_j):\n",
    "        # x_i has shape [E, in_channels]\n",
    "        # x_j has shape [E, in_channels]\n",
    "\n",
    "        tmp = torch.cat([x_i, x_j - x_i], dim=1)  # tmp has shape [E, 2 * in_channels]\n",
    "        return self.mlp(tmp)"
   ]
  },
  {
   "cell_type": "code",
   "execution_count": 11,
   "id": "94a5f506-d1e7-49c1-98aa-c968f149378b",
   "metadata": {},
   "outputs": [],
   "source": [
    "layer = EdgeConv(3,3)"
   ]
  },
  {
   "cell_type": "code",
   "execution_count": 13,
   "id": "59e79c86-1d64-4599-9030-4c1b041ef459",
   "metadata": {},
   "outputs": [],
   "source": [
    "from skimage.io import imread"
   ]
  },
  {
   "cell_type": "code",
   "execution_count": 14,
   "id": "17d9f866-ca07-42fb-954f-454a85a26801",
   "metadata": {},
   "outputs": [],
   "source": [
    "im = np.random.random((8,8,3))"
   ]
  },
  {
   "cell_type": "code",
   "execution_count": 15,
   "id": "ddb636d6-e9fd-4fd7-b37c-42b26cad897a",
   "metadata": {},
   "outputs": [
    {
     "data": {
      "text/plain": [
       "<matplotlib.image.AxesImage at 0x7fde814415e0>"
      ]
     },
     "execution_count": 15,
     "metadata": {},
     "output_type": "execute_result"
    },
    {
     "data": {
      "image/png": "[encoded data removed]",
      "text/plain": [
       "<Figure size 432x288 with 1 Axes>"
      ]
     },
     "metadata": {
      "needs_background": "light"
     },
     "output_type": "display_data"
    }
   ],
   "source": [
    "plt.imshow(im)"
   ]
  },
  {
   "cell_type": "code",
   "execution_count": 16,
   "id": "df66e844-4f7c-436f-83c3-7cd06138c726",
   "metadata": {},
   "outputs": [],
   "source": [
    "edges = list(nx.erdos_renyi_graph(64, .1).edges())"
   ]
  },
  {
   "cell_type": "code",
   "execution_count": 17,
   "id": "c232f317-51a0-42e5-9c01-9c9d8a520961",
   "metadata": {},
   "outputs": [],
   "source": [
    "edges_tensor = torch.tensor(edges).T"
   ]
  },
  {
   "cell_type": "code",
   "execution_count": 18,
   "id": "b7f919d3-9f78-4b09-bafb-2964567c4a3c",
   "metadata": {},
   "outputs": [
    {
     "data": {
      "text/plain": [
       "tensor([[ 0,  0,  0,  0,  0,  1,  1,  1,  1,  1,  1,  2,  2,  2,  2,  2,  2,  2,\n",
       "          2,  2,  3,  3,  3,  3,  4,  4,  4,  4,  4,  4,  5,  5,  5,  5,  5,  5,\n",
       "          5,  5,  5,  6,  6,  6,  6,  6,  6,  6,  7,  7,  7,  7,  7,  7,  8,  8,\n",
       "          8,  9,  9,  9,  9,  9,  9,  9,  9, 10, 10, 10, 10, 10, 10, 10, 10, 11,\n",
       "         11, 11, 12, 12, 12, 12, 12, 13, 13, 14, 14, 14, 14, 15, 15, 15, 15, 16,\n",
       "         16, 16, 16, 16, 16, 16, 16, 17, 17, 17, 17, 18, 18, 18, 18, 19, 19, 19,\n",
       "         19, 19, 20, 20, 20, 20, 20, 20, 20, 20, 20, 20, 20, 20, 21, 21, 22, 22,\n",
       "         22, 22, 22, 22, 23, 23, 23, 24, 24, 25, 25, 25, 26, 26, 26, 27, 27, 27,\n",
       "         27, 28, 28, 28, 29, 29, 29, 29, 29, 30, 30, 31, 31, 31, 31, 32, 32, 32,\n",
       "         33, 33, 33, 33, 33, 33, 34, 35, 35, 35, 35, 36, 37, 38, 38, 39, 40, 40,\n",
       "         42, 43, 44, 44, 46, 46, 47, 47, 49, 49, 50, 50, 51, 51, 51, 51, 52, 53,\n",
       "         53, 54, 56, 58, 59],\n",
       "        [15, 22, 30, 31, 58, 10, 31, 37, 39, 49, 62, 10, 18, 21, 25, 27, 38, 57,\n",
       "         59, 62,  9, 47, 59, 63, 14, 15, 28, 42, 47, 62,  8, 11, 16, 17, 25, 26,\n",
       "         51, 55, 59, 20, 25, 34, 38, 42, 45, 63, 13, 14, 16, 36, 40, 41, 34, 41,\n",
       "         50, 13, 16, 21, 26, 37, 46, 47, 59, 13, 24, 33, 34, 36, 46, 51, 56, 32,\n",
       "         51, 62, 16, 43, 45, 50, 59, 31, 61, 22, 24, 38, 56, 16, 19, 34, 36, 27,\n",
       "         34, 35, 44, 50, 51, 57, 60, 20, 34, 40, 63, 21, 27, 29, 56, 29, 32, 34,\n",
       "         40, 43, 22, 27, 30, 32, 35, 38, 44, 48, 50, 54, 56, 58, 27, 44, 26, 31,\n",
       "         33, 40, 54, 59, 42, 45, 57, 39, 40, 27, 34, 39, 33, 44, 47, 29, 33, 34,\n",
       "         38, 29, 49, 51, 39, 41, 47, 54, 60, 56, 61, 32, 43, 54, 62, 50, 53, 60,\n",
       "         37, 45, 46, 53, 57, 63, 52, 43, 48, 52, 61, 48, 41, 42, 50, 40, 50, 60,\n",
       "         49, 58, 46, 48, 56, 62, 51, 59, 55, 62, 60, 61, 55, 59, 60, 61, 53, 55,\n",
       "         59, 55, 58, 60, 62]])"
      ]
     },
     "execution_count": 18,
     "metadata": {},
     "output_type": "execute_result"
    }
   ],
   "source": [
    "edges_tensor"
   ]
  },
  {
   "cell_type": "code",
   "execution_count": 20,
   "id": "aaec9b97-0de6-40a7-9588-0e35d8f8fb6e",
   "metadata": {},
   "outputs": [],
   "source": [
    "x = layer(torch.tensor(im.reshape(-1,3)).float(), edges_tensor)"
   ]
  },
  {
   "cell_type": "code",
   "execution_count": 22,
   "id": "5c5ba0e8-19ae-4594-9060-11a369a1a7a6",
   "metadata": {},
   "outputs": [
    {
     "data": {
      "text/plain": [
       "torch.Size([64, 3])"
      ]
     },
     "execution_count": 22,
     "metadata": {},
     "output_type": "execute_result"
    }
   ],
   "source": [
    "x.shape"
   ]
  },
  {
   "cell_type": "code",
   "execution_count": 23,
   "id": "53377113-114c-4471-80d7-f977598ea592",
   "metadata": {},
   "outputs": [
    {
     "data": {
      "text/plain": [
       "tensor([[ 0.0000,  0.0000,  0.0000],\n",
       "        [ 0.0000,  0.0000,  0.0000],\n",
       "        [ 0.0000,  0.0000,  0.0000],\n",
       "        [ 0.0000,  0.0000,  0.0000],\n",
       "        [ 0.0000,  0.0000,  0.0000],\n",
       "        [ 0.0000,  0.0000,  0.0000],\n",
       "        [ 0.0000,  0.0000,  0.0000],\n",
       "        [ 0.0000,  0.0000,  0.0000],\n",
       "        [-0.1461, -0.5071,  0.4012],\n",
       "        [-0.1374, -0.6720,  0.5873],\n",
       "        [-0.1526, -0.6369,  0.4578],\n",
       "        [-0.1092, -0.5025,  0.3776],\n",
       "        [ 0.0000,  0.0000,  0.0000],\n",
       "        [-0.2034, -0.5341,  0.3937],\n",
       "        [-0.2264, -0.5555,  0.4069],\n",
       "        [-0.1843, -0.5909,  0.4362],\n",
       "        [-0.0914, -0.5803,  0.3589],\n",
       "        [-0.0844, -0.5256,  0.3939],\n",
       "        [-0.2200, -0.4730,  0.3928],\n",
       "        [-0.2065, -0.5095,  0.4348],\n",
       "        [-0.2676, -0.5883,  0.4434],\n",
       "        [-0.1811, -0.6665,  0.4233],\n",
       "        [-0.3329, -0.5610,  0.4302],\n",
       "        [ 0.0000,  0.0000,  0.0000],\n",
       "        [-0.0493, -0.6122,  0.4096],\n",
       "        [-0.2897, -0.5892,  0.3819],\n",
       "        [-0.2373, -0.5772,  0.3598],\n",
       "        [-0.1489, -0.6362,  0.4110],\n",
       "        [-0.2016, -0.5323,  0.4591],\n",
       "        [-0.3106, -0.6404,  0.3819],\n",
       "        [-0.2548, -0.5998,  0.4278],\n",
       "        [-0.0974, -0.6400,  0.3917],\n",
       "        [-0.1044, -0.6183,  0.3744],\n",
       "        [-0.1441, -0.6378,  0.3654],\n",
       "        [-0.1767, -0.6555,  0.3868],\n",
       "        [-0.1643, -0.6331,  0.4387],\n",
       "        [-0.2309, -0.4786,  0.3613],\n",
       "        [-0.1764, -0.6526,  0.4216],\n",
       "        [-0.1335, -0.6412,  0.3764],\n",
       "        [-0.1596, -0.6483,  0.3785],\n",
       "        [-0.1044, -0.6618,  0.3686],\n",
       "        [-0.2103, -0.5965,  0.3926],\n",
       "        [-0.2814, -0.6101,  0.4399],\n",
       "        [-0.0614, -0.6154,  0.3718],\n",
       "        [-0.1775, -0.6329,  0.4069],\n",
       "        [-0.1769, -0.6217,  0.3917],\n",
       "        [-0.0068, -0.5947,  0.3767],\n",
       "        [-0.1488, -0.6481,  0.3868],\n",
       "        [-0.1489, -0.6240,  0.4066],\n",
       "        [-0.2448, -0.6302,  0.5144],\n",
       "        [-0.2959, -0.5901,  0.3381],\n",
       "        [-0.1814, -0.6330,  0.4190],\n",
       "        [-0.2489, -0.5482,  0.4442],\n",
       "        [-0.2687, -0.5069,  0.3860],\n",
       "        [-0.1195, -0.6632,  0.4217],\n",
       "        [-0.2217, -0.6513,  0.3735],\n",
       "        [-0.2408, -0.6260,  0.3084],\n",
       "        [-0.1562, -0.5852,  0.4214],\n",
       "        [-0.2638, -0.6121,  0.4274],\n",
       "        [-0.2821, -0.6204,  0.3683],\n",
       "        [-0.2565, -0.6097,  0.3342],\n",
       "        [-0.1008, -0.6615,  0.3708],\n",
       "        [-0.1813, -0.6366,  0.3282],\n",
       "        [-0.2406, -0.6313,  0.4288]], grad_fn=<CppNode<ScatterMin>>)"
      ]
     },
     "execution_count": 23,
     "metadata": {},
     "output_type": "execute_result"
    }
   ],
   "source": [
    "x"
   ]
  },
  {
   "cell_type": "code",
   "execution_count": null,
   "id": "3a1c6b1c-12f1-48af-aaef-6c04488937ef",
   "metadata": {},
   "outputs": [],
   "source": []
  }
 ],
 "metadata": {
  "kernelspec": {
   "display_name": "Python 3 (ipykernel)",
   "language": "python",
   "name": "python3"
  },
  "language_info": {
   "codemirror_mode": {
    "name": "ipython",
    "version": 3
   },
   "file_extension": ".py",
   "mimetype": "text/x-python",
   "name": "python",
   "nbconvert_exporter": "python",
   "pygments_lexer": "ipython3",
   "version": "3.9.11"
  }
 },
 "nbformat": 4,
 "nbformat_minor": 5
}
