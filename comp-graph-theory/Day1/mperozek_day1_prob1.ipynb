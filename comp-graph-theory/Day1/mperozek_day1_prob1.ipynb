{
 "cells": [
  {
   "cell_type": "code",
   "execution_count": 6,
   "id": "ec608310-b021-42cb-80c7-f25a3c2c7f89",
   "metadata": {},
   "outputs": [],
   "source": [
    "import numpy\n",
    "import scipy\n",
    "import jupyterlab\n",
    "import torch\n",
    "import torch_geometric\n",
    "import wikipedia"
   ]
  },
  {
   "cell_type": "code",
   "execution_count": 8,
   "id": "09b37aa3-b8ee-423c-82bd-dd63bb9f4e61",
   "metadata": {},
   "outputs": [
    {
     "name": "stdout",
     "output_type": "stream",
     "text": [
      "1.21.2\n"
     ]
    }
   ],
   "source": [
    "print(numpy.__version__)"
   ]
  },
  {
   "cell_type": "code",
   "execution_count": 11,
   "id": "86f58d12-ec34-42be-9d4c-84d5ff4d358f",
   "metadata": {},
   "outputs": [
    {
     "name": "stdout",
     "output_type": "stream",
     "text": [
      "1.21.2\n",
      "1.7.3\n",
      "3.3.2\n",
      "1.11.0\n",
      "2.0.4\n",
      "(1, 4, 0)\n"
     ]
    }
   ],
   "source": [
    "p_list = [numpy, scipy, jupyterlab, torch, torch_geometric, wikipedia]\n",
    "for p in p_list:\n",
    "    print(p.__version__)"
   ]
  },
  {
   "cell_type": "code",
   "execution_count": 12,
   "id": "0851c825-501a-4700-a3d8-08ddef26c204",
   "metadata": {},
   "outputs": [
    {
     "data": {
      "text/plain": [
       "False"
      ]
     },
     "execution_count": 12,
     "metadata": {},
     "output_type": "execute_result"
    }
   ],
   "source": [
    "torch.cuda.is_available()"
   ]
  },
  {
   "cell_type": "markdown",
   "id": "d9ede5b9-8119-400c-9586-ca9402f5a932",
   "metadata": {},
   "source": [
    "No cuda for mac. Unable to install lapsolver. Tried installing cmake, upgrading pip, using conda loopbio, upgrading setuptools."
   ]
  },
  {
   "cell_type": "code",
   "execution_count": null,
   "id": "353061d3-b7a0-4fd0-b144-a59a189b7802",
   "metadata": {},
   "outputs": [],
   "source": []
  }
 ],
 "metadata": {
  "kernelspec": {
   "display_name": "Python 3 (ipykernel)",
   "language": "python",
   "name": "python3"
  },
  "language_info": {
   "codemirror_mode": {
    "name": "ipython",
    "version": 3
   },
   "file_extension": ".py",
   "mimetype": "text/x-python",
   "name": "python",
   "nbconvert_exporter": "python",
   "pygments_lexer": "ipython3",
   "version": "3.9.11"
  }
 },
 "nbformat": 4,
 "nbformat_minor": 5
}
