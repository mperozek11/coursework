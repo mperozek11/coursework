{
 "cells": [
  {
   "cell_type": "code",
   "execution_count": 1,
   "id": "f3a39b8a-10c0-4450-888f-8c367f79336a",
   "metadata": {},
   "outputs": [],
   "source": [
    "import numpy as np"
   ]
  },
  {
   "cell_type": "code",
   "execution_count": 2,
   "id": "47e79751-cdac-466f-8310-cf3a426c9060",
   "metadata": {},
   "outputs": [],
   "source": [
    "from heapq import heappush, heappop"
   ]
  },
  {
   "cell_type": "code",
   "execution_count": 9,
   "id": "c384ffad-fc3c-4d1a-b509-1147a7aeecbd",
   "metadata": {},
   "outputs": [],
   "source": [
    "import networkx as nx\n",
    "import matplotlib.pyplot as plt"
   ]
  },
  {
   "cell_type": "code",
   "execution_count": 60,
   "id": "4583c3e2-e661-4a5e-9ce6-349f7b987ec2",
   "metadata": {},
   "outputs": [],
   "source": [
    "gr = nx.erdos_renyi_graph(100, 0.03)"
   ]
  },
  {
   "cell_type": "code",
   "execution_count": 61,
   "id": "1201eede-3e9c-4fd5-8599-0405ba9e64de",
   "metadata": {},
   "outputs": [
    {
     "data": {
      "image/png": "[encoded data removed]",
      "text/plain": [
       "<Figure size 432x288 with 1 Axes>"
      ]
     },
     "metadata": {},
     "output_type": "display_data"
    }
   ],
   "source": [
    "nx.draw(gr,\n",
    "        node_size=10)"
   ]
  },
  {
   "cell_type": "code",
   "execution_count": 62,
   "id": "62c0afd8-fb57-4d7f-81cd-fc4165f2c6d1",
   "metadata": {},
   "outputs": [
    {
     "data": {
      "text/plain": [
       "NodeView((0, 1, 2, 3, 4, 5, 6, 7, 8, 9, 10, 11, 12, 13, 14, 15, 16, 17, 18, 19, 20, 21, 22, 23, 24, 25, 26, 27, 28, 29, 30, 31, 32, 33, 34, 35, 36, 37, 38, 39, 40, 41, 42, 43, 44, 45, 46, 47, 48, 49, 50, 51, 52, 53, 54, 55, 56, 57, 58, 59, 60, 61, 62, 63, 64, 65, 66, 67, 68, 69, 70, 71, 72, 73, 74, 75, 76, 77, 78, 79, 80, 81, 82, 83, 84, 85, 86, 87, 88, 89, 90, 91, 92, 93, 94, 95, 96, 97, 98, 99))"
      ]
     },
     "execution_count": 62,
     "metadata": {},
     "output_type": "execute_result"
    }
   ],
   "source": [
    "gr.nodes()"
   ]
  },
  {
   "cell_type": "code",
   "execution_count": 67,
   "id": "5065d2ed-3d35-4bb9-ad6d-7d58318dc69f",
   "metadata": {},
   "outputs": [
    {
     "data": {
      "text/plain": [
       "{}"
      ]
     },
     "execution_count": 67,
     "metadata": {},
     "output_type": "execute_result"
    }
   ],
   "source": []
  },
  {
   "cell_type": "code",
   "execution_count": 63,
   "id": "baeaba8e-1592-43ab-8605-9a3689209cdb",
   "metadata": {},
   "outputs": [],
   "source": [
    "start_node = 0"
   ]
  },
  {
   "cell_type": "code",
   "execution_count": 69,
   "id": "1e90b6ef-f079-4a1e-b704-9b3be55b0637",
   "metadata": {},
   "outputs": [],
   "source": [
    "def breadth_first_search(start, gr):\n",
    "    marked = []\n",
    "    bag = [start]\n",
    "    \n",
    "    while len(bag) > 0:\n",
    "        next_node = bag.pop(0)\n",
    "        if next_node not in marked:\n",
    "            marked.append(next_node)\n",
    "            for neighbor in gr.neighbors(next_node):\n",
    "                bag.append(neighbor) # insert at the end for BFS (queue)\n",
    "    return marked\n",
    "\n",
    "def depth_first_search(start, gr):\n",
    "    marked = []\n",
    "    bag = [start]\n",
    "    \n",
    "    while len(bag) > 0:\n",
    "        next_node = bag.pop(0)\n",
    "        if next_node not in marked:\n",
    "            marked.append(next_node)\n",
    "            for neighbor in gr.neighbors(next_node):\n",
    "                bag.insert(0, neighbor) # insert at the beginning instead of the end for DFS (stack)\n",
    "    return marked"
   ]
  },
  {
   "cell_type": "code",
   "execution_count": 71,
   "id": "d3d2b9c7-7bab-4067-b1f7-5c819466f26d",
   "metadata": {
    "collapsed": true,
    "jupyter": {
     "outputs_hidden": true
    },
    "tags": []
   },
   "outputs": [
    {
     "data": {
      "text/plain": [
       "[1,\n",
       " 37,\n",
       " 47,\n",
       " 48,\n",
       " 53,\n",
       " 69,\n",
       " 2,\n",
       " 10,\n",
       " 29,\n",
       " 27,\n",
       " 85,\n",
       " 99,\n",
       " 6,\n",
       " 62,\n",
       " 72,\n",
       " 31,\n",
       " 36,\n",
       " 39,\n",
       " 52,\n",
       " 70,\n",
       " 77,\n",
       " 92,\n",
       " 95,\n",
       " 71,\n",
       " 49,\n",
       " 65,\n",
       " 26,\n",
       " 4,\n",
       " 18,\n",
       " 56,\n",
       " 15,\n",
       " 19,\n",
       " 25,\n",
       " 9,\n",
       " 20,\n",
       " 28,\n",
       " 46,\n",
       " 79,\n",
       " 87,\n",
       " 21,\n",
       " 8,\n",
       " 23,\n",
       " 38,\n",
       " 41,\n",
       " 63,\n",
       " 94,\n",
       " 60,\n",
       " 24,\n",
       " 40,\n",
       " 78,\n",
       " 17,\n",
       " 73,\n",
       " 84,\n",
       " 7,\n",
       " 82,\n",
       " 93,\n",
       " 54,\n",
       " 59,\n",
       " 83,\n",
       " 45,\n",
       " 67,\n",
       " 80,\n",
       " 81,\n",
       " 0,\n",
       " 32,\n",
       " 91,\n",
       " 14,\n",
       " 5,\n",
       " 12,\n",
       " 34,\n",
       " 89,\n",
       " 90,\n",
       " 57,\n",
       " 51,\n",
       " 58,\n",
       " 98,\n",
       " 55,\n",
       " 42,\n",
       " 96,\n",
       " 68,\n",
       " 22,\n",
       " 74,\n",
       " 86,\n",
       " 61,\n",
       " 88,\n",
       " 97,\n",
       " 33,\n",
       " 16,\n",
       " 64,\n",
       " 30,\n",
       " 3,\n",
       " 50,\n",
       " 44,\n",
       " 13,\n",
       " 11,\n",
       " 75,\n",
       " 66]"
      ]
     },
     "execution_count": 71,
     "metadata": {},
     "output_type": "execute_result"
    }
   ],
   "source": [
    "breadth_first_search(1, gr)"
   ]
  },
  {
   "cell_type": "code",
   "execution_count": null,
   "id": "35871cbd-7e7a-4af2-b9cd-79bd4e150785",
   "metadata": {},
   "outputs": [],
   "source": []
  }
 ],
 "metadata": {
  "kernelspec": {
   "display_name": "Python 3 (ipykernel)",
   "language": "python",
   "name": "python3"
  },
  "language_info": {
   "codemirror_mode": {
    "name": "ipython",
    "version": 3
   },
   "file_extension": ".py",
   "mimetype": "text/x-python",
   "name": "python",
   "nbconvert_exporter": "python",
   "pygments_lexer": "ipython3",
   "version": "3.9.11"
  }
 },
 "nbformat": 4,
 "nbformat_minor": 5
}
