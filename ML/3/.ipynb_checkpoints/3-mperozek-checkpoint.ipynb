{
 "cells": [
  {
   "cell_type": "code",
   "execution_count": 1,
   "id": "82da0cd3-8e21-445e-8400-d583253ca6e9",
   "metadata": {},
   "outputs": [],
   "source": [
    "import numpy as np\n",
    "import pandas as pd"
   ]
  },
  {
   "cell_type": "code",
   "execution_count": 2,
   "id": "f49a3f2e-aaa6-4c9b-9520-4c4949baaefd",
   "metadata": {},
   "outputs": [],
   "source": [
    "small_data_pathname = '/Users/maxperozek/ML-CP341/3/ml-100k/u.data'\n",
    "\n",
    "small_data = pd.read_csv(small_data_pathname, sep='\\t', header=None)\n",
    "small_data.columns = ['user_id','item_id','rating','timestamp']"
   ]
  },
  {
   "cell_type": "code",
   "execution_count": 3,
   "id": "e035282a-1c24-42b6-986c-087ec4f652ac",
   "metadata": {},
   "outputs": [
    {
     "data": {
      "text/html": [
       "<div>\n",
       "<style scoped>\n",
       "    .dataframe tbody tr th:only-of-type {\n",
       "        vertical-align: middle;\n",
       "    }\n",
       "\n",
       "    .dataframe tbody tr th {\n",
       "        vertical-align: top;\n",
       "    }\n",
       "\n",
       "    .dataframe thead th {\n",
       "        text-align: right;\n",
       "    }\n",
       "</style>\n",
       "<table border=\"1\" class=\"dataframe\">\n",
       "  <thead>\n",
       "    <tr style=\"text-align: right;\">\n",
       "      <th></th>\n",
       "      <th>user_id</th>\n",
       "      <th>item_id</th>\n",
       "      <th>rating</th>\n",
       "      <th>timestamp</th>\n",
       "    </tr>\n",
       "  </thead>\n",
       "  <tbody>\n",
       "    <tr>\n",
       "      <th>0</th>\n",
       "      <td>196</td>\n",
       "      <td>242</td>\n",
       "      <td>3</td>\n",
       "      <td>881250949</td>\n",
       "    </tr>\n",
       "    <tr>\n",
       "      <th>1</th>\n",
       "      <td>186</td>\n",
       "      <td>302</td>\n",
       "      <td>3</td>\n",
       "      <td>891717742</td>\n",
       "    </tr>\n",
       "    <tr>\n",
       "      <th>2</th>\n",
       "      <td>22</td>\n",
       "      <td>377</td>\n",
       "      <td>1</td>\n",
       "      <td>878887116</td>\n",
       "    </tr>\n",
       "    <tr>\n",
       "      <th>3</th>\n",
       "      <td>244</td>\n",
       "      <td>51</td>\n",
       "      <td>2</td>\n",
       "      <td>880606923</td>\n",
       "    </tr>\n",
       "    <tr>\n",
       "      <th>4</th>\n",
       "      <td>166</td>\n",
       "      <td>346</td>\n",
       "      <td>1</td>\n",
       "      <td>886397596</td>\n",
       "    </tr>\n",
       "    <tr>\n",
       "      <th>...</th>\n",
       "      <td>...</td>\n",
       "      <td>...</td>\n",
       "      <td>...</td>\n",
       "      <td>...</td>\n",
       "    </tr>\n",
       "    <tr>\n",
       "      <th>99995</th>\n",
       "      <td>880</td>\n",
       "      <td>476</td>\n",
       "      <td>3</td>\n",
       "      <td>880175444</td>\n",
       "    </tr>\n",
       "    <tr>\n",
       "      <th>99996</th>\n",
       "      <td>716</td>\n",
       "      <td>204</td>\n",
       "      <td>5</td>\n",
       "      <td>879795543</td>\n",
       "    </tr>\n",
       "    <tr>\n",
       "      <th>99997</th>\n",
       "      <td>276</td>\n",
       "      <td>1090</td>\n",
       "      <td>1</td>\n",
       "      <td>874795795</td>\n",
       "    </tr>\n",
       "    <tr>\n",
       "      <th>99998</th>\n",
       "      <td>13</td>\n",
       "      <td>225</td>\n",
       "      <td>2</td>\n",
       "      <td>882399156</td>\n",
       "    </tr>\n",
       "    <tr>\n",
       "      <th>99999</th>\n",
       "      <td>12</td>\n",
       "      <td>203</td>\n",
       "      <td>3</td>\n",
       "      <td>879959583</td>\n",
       "    </tr>\n",
       "  </tbody>\n",
       "</table>\n",
       "<p>100000 rows × 4 columns</p>\n",
       "</div>"
      ],
      "text/plain": [
       "       user_id  item_id  rating  timestamp\n",
       "0          196      242       3  881250949\n",
       "1          186      302       3  891717742\n",
       "2           22      377       1  878887116\n",
       "3          244       51       2  880606923\n",
       "4          166      346       1  886397596\n",
       "...        ...      ...     ...        ...\n",
       "99995      880      476       3  880175444\n",
       "99996      716      204       5  879795543\n",
       "99997      276     1090       1  874795795\n",
       "99998       13      225       2  882399156\n",
       "99999       12      203       3  879959583\n",
       "\n",
       "[100000 rows x 4 columns]"
      ]
     },
     "execution_count": 3,
     "metadata": {},
     "output_type": "execute_result"
    }
   ],
   "source": [
    "small_data"
   ]
  },
  {
   "cell_type": "code",
   "execution_count": 4,
   "id": "e1b6664d-c865-4b27-b9e9-5d5da5403bc7",
   "metadata": {},
   "outputs": [
    {
     "data": {
      "text/plain": [
       "(1682,)"
      ]
     },
     "execution_count": 4,
     "metadata": {},
     "output_type": "execute_result"
    }
   ],
   "source": [
    "np.unique(small_data.loc[:,['item_id']].to_numpy()).shape"
   ]
  },
  {
   "cell_type": "code",
   "execution_count": 131,
   "id": "6d34223f-66d3-40a7-84d8-341c7c17035f",
   "metadata": {
    "tags": []
   },
   "outputs": [],
   "source": [
    "# map 1-5 values to 0-1\n",
    "def normalize(x, old_range, new_range=(0,1)):\n",
    "    new = ((x - old_range[0])/(old_range[1] - old_range[0])) * (new_range[1] - new_range[0]) + new_range[0]\n",
    "    return new\n",
    "\n",
    "def build_rating_vecs(rating_df, normalize_rating=False):\n",
    "    user_ids = np.unique(rating_df.loc[:,['user_id']].to_numpy())\n",
    "    movie_ids = np.unique(rating_df.loc[:,['item_id']].to_numpy())\n",
    "    \n",
    "    # placeholer\n",
    "    embeddings = np.full((movie_ids.shape[0], user_ids.shape[0]), np.nan)\n",
    "    \n",
    "    for _, row in rating_df.iterrows():\n",
    "        movie = np.where(movie_ids == row['item_id'])[0][0]\n",
    "        user = np.where(user_ids == row['user_id'])[0][0]\n",
    "        \n",
    "        rating = row['rating']\n",
    "        \n",
    "        # if normalize_rating:\n",
    "        #     rating = normalize(rating, old_range=(1,5))\n",
    "        \n",
    "        embeddings[movie,user] = rating\n",
    "    \n",
    "    # return embeddings\n",
    "    X = embeddings\n",
    "\n",
    "    avg_ratings = np.nanmean(X, axis=1)\n",
    "    no_ratings = np.argwhere(np.isnan(X))\n",
    "\n",
    "    for i in range(no_ratings.shape[0]):\n",
    "        X[no_ratings[i,0],no_ratings[i,1]] = avg_ratings[no_ratings[i,0]]\n",
    "        \n",
    "    return normalize(X,old_range=(1,5))"
   ]
  },
  {
   "cell_type": "code",
   "execution_count": 132,
   "id": "70d02091-8762-4dd6-a6f7-c5ce1fff474c",
   "metadata": {},
   "outputs": [],
   "source": [
    "X = build_rating_vecs(small_data, normalize_rating=True)"
   ]
  },
  {
   "cell_type": "code",
   "execution_count": 134,
   "id": "fe5a706c-c17e-4d07-8824-8996b8767bcd",
   "metadata": {},
   "outputs": [
    {
     "data": {
      "text/plain": [
       "(array([   0,    0,    0, ..., 1677, 1677, 1677]),\n",
       " array([ 14, 198, 330, ..., 940, 941, 942]))"
      ]
     },
     "execution_count": 134,
     "metadata": {},
     "output_type": "execute_result"
    }
   ],
   "source": [
    "np.where(X == 0)"
   ]
  },
  {
   "cell_type": "code",
   "execution_count": 128,
   "id": "055cfaa4-dd15-428a-97e4-15e39156f8d7",
   "metadata": {},
   "outputs": [],
   "source": [
    "# X = build_rating_vecs(small_data, normalize_rating=True)\n",
    "\n",
    "# avg_ratings = np.nanmean(X, axis=1)\n",
    "# avg_ratings[np.where(avg_ratings == 0)] = 2.5\n",
    "# no_ratings = np.argwhere(np.isnan(X))\n",
    "\n",
    "# for i in range(no_ratings.shape[0]):\n",
    "#     X[no_ratings[i,0],no_ratings[i,1]] = avg_ratings[no_ratings[i,0]]"
   ]
  },
  {
   "cell_type": "code",
   "execution_count": 23,
   "id": "32beae9d-670c-4156-8d31-a22358f563a9",
   "metadata": {},
   "outputs": [],
   "source": [
    "from scipy.spatial.distance import cdist"
   ]
  },
  {
   "cell_type": "code",
   "execution_count": 24,
   "id": "77e9d9a4-3430-476f-bae2-d9bc65b54971",
   "metadata": {},
   "outputs": [],
   "source": [
    "all_dists = cdist(X,X)"
   ]
  },
  {
   "cell_type": "code",
   "execution_count": 25,
   "id": "ac52ca8b-46d6-4ac4-ab22-629850e2592f",
   "metadata": {},
   "outputs": [],
   "source": [
    "def euc(a, b): \n",
    "    return np.sqrt(np.sum((a-b) ** 2))"
   ]
  },
  {
   "cell_type": "code",
   "execution_count": 26,
   "id": "79a219e3-449b-4efc-b6ac-f2a5fcd6a72f",
   "metadata": {},
   "outputs": [
    {
     "data": {
      "text/plain": [
       "1.4142135623730951"
      ]
     },
     "execution_count": 26,
     "metadata": {},
     "output_type": "execute_result"
    }
   ],
   "source": [
    "a = np.zeros((900,))\n",
    "b = np.zeros((900,))\n",
    "\n",
    "a[1] = 1\n",
    "b[800] = 1\n",
    "\n",
    "euc(a,b)"
   ]
  },
  {
   "cell_type": "code",
   "execution_count": 27,
   "id": "e8ed1399-1bbe-411e-a021-35e47f41f7aa",
   "metadata": {},
   "outputs": [
    {
     "data": {
      "text/plain": [
       "14.874474780643517"
      ]
     },
     "execution_count": 27,
     "metadata": {},
     "output_type": "execute_result"
    }
   ],
   "source": [
    "euc(X[0,:],X[1,:])"
   ]
  },
  {
   "cell_type": "code",
   "execution_count": 28,
   "id": "551b4a40-23e0-4e35-8cf2-15a8a7912d39",
   "metadata": {},
   "outputs": [
    {
     "data": {
      "text/plain": [
       "array([[ 0.        , 14.87447478, 15.3785565 , ..., 16.07404741,\n",
       "        16.05654072, 16.05654072],\n",
       "       [14.87447478,  0.        ,  7.74596669, ...,  6.89202438,\n",
       "         6.86931583,  6.86931583],\n",
       "       [15.3785565 ,  7.74596669,  0.        , ...,  5.61248608,\n",
       "         5.62916512,  5.58457698],\n",
       "       ...,\n",
       "       [16.07404741,  6.89202438,  5.61248608, ...,  0.        ,\n",
       "         0.55901699,  0.55901699],\n",
       "       [16.05654072,  6.86931583,  5.62916512, ...,  0.55901699,\n",
       "         0.        ,  0.70710678],\n",
       "       [16.05654072,  6.86931583,  5.58457698, ...,  0.55901699,\n",
       "         0.70710678,  0.        ]])"
      ]
     },
     "execution_count": 28,
     "metadata": {},
     "output_type": "execute_result"
    }
   ],
   "source": [
    "all_dists"
   ]
  },
  {
   "cell_type": "code",
   "execution_count": 29,
   "id": "8f23200b-1537-4303-8ae8-6e13f8bdafa3",
   "metadata": {},
   "outputs": [],
   "source": [
    "dists_no_self = (np.eye(all_dists.shape[0]) * 1e10) + all_dists"
   ]
  },
  {
   "cell_type": "code",
   "execution_count": 30,
   "id": "d8d2fc4d-a8e7-40e0-891d-145adbf13fac",
   "metadata": {},
   "outputs": [
    {
     "data": {
      "text/plain": [
       "(array([ 313,  313,  313, ..., 1677, 1677, 1677]),\n",
       " array([ 436,  438,  598, ..., 1658, 1660, 1670]))"
      ]
     },
     "execution_count": 30,
     "metadata": {},
     "output_type": "execute_result"
    }
   ],
   "source": [
    "np.where(dists_no_self == 0)"
   ]
  },
  {
   "cell_type": "code",
   "execution_count": 31,
   "id": "8057681a-1239-47e5-a496-af70340de488",
   "metadata": {},
   "outputs": [
    {
     "data": {
      "text/plain": [
       "(1682, 1682)"
      ]
     },
     "execution_count": 31,
     "metadata": {},
     "output_type": "execute_result"
    }
   ],
   "source": [
    "dists_no_self.shape"
   ]
  },
  {
   "cell_type": "code",
   "execution_count": 32,
   "id": "a76d9016-fb2b-4210-bf37-41eb579ba63a",
   "metadata": {},
   "outputs": [],
   "source": [
    "k = 100\n",
    "idx_list = np.argsort(dists_no_self.reshape((-1,)))[:k]"
   ]
  },
  {
   "cell_type": "code",
   "execution_count": 33,
   "id": "c5d93ecb-88ef-4676-929f-e82fe7b6dec9",
   "metadata": {},
   "outputs": [
    {
     "data": {
      "text/plain": [
       "array([2640631, 2647347, 2647346, 2647344, 2647342, 2647333, 2647331,\n",
       "       2252981, 2647279, 2647278, 2647271, 2671000, 2671001, 2647217,\n",
       "       2671003, 2647193, 2297361, 2647159, 2647158, 2647151, 2647348,\n",
       "       2647349, 2647350, 2647351, 2647372, 2647371, 2647369, 2647368,\n",
       "       2647367, 2647366, 2647365, 2647364, 2647362, 2647149, 2647361,\n",
       "       2297423, 2297422, 2647357, 2647356, 2647355, 2647354, 2647353,\n",
       "       2647352, 2297415, 2647360, 2647148, 2647144, 2647139, 2297272,\n",
       "       2646637, 2297270, 2646615, 2297269, 2297268, 2646569, 2297263,\n",
       "       2646384, 2646643, 2297258, 2646222, 2646099, 2297254, 2644099,\n",
       "       2297249, 2644092, 2297238, 2297237, 2673989, 2646224, 2647386,\n",
       "       2297277, 2297281, 2647137, 2297337, 2647134, 2647133, 2647128,\n",
       "       2647126, 2647125, 2647124, 2647119, 2297278, 2647114, 2647105,\n",
       "       2297303, 2297302, 2647094, 2647093, 2297293, 2297292, 2297288,\n",
       "       2297283, 2647110, 2755011, 2647403, 2647411, 2648251, 2648066,\n",
       "       2781711, 2647906])"
      ]
     },
     "execution_count": 33,
     "metadata": {},
     "output_type": "execute_result"
    }
   ],
   "source": [
    "idx_list"
   ]
  },
  {
   "cell_type": "code",
   "execution_count": 34,
   "id": "150cf4c0-67e5-4e4f-b728-53788fe03c23",
   "metadata": {},
   "outputs": [],
   "source": [
    "def get_idx(idx, col_len):\n",
    "    row = int(idx/col_len)\n",
    "    col = idx % col_len\n",
    "    return row, col"
   ]
  },
  {
   "cell_type": "code",
   "execution_count": 35,
   "id": "518b1edd-8f5c-41e3-8b9e-fd90ad4b0c68",
   "metadata": {},
   "outputs": [],
   "source": [
    "r, c = get_idx(idx_list[0], dists_no_self.shape[0])"
   ]
  },
  {
   "cell_type": "code",
   "execution_count": 36,
   "id": "e6b1156c-bc53-4222-8e96-6353a2d63dab",
   "metadata": {},
   "outputs": [
    {
     "data": {
      "text/plain": [
       "0.0"
      ]
     },
     "execution_count": 36,
     "metadata": {},
     "output_type": "execute_result"
    }
   ],
   "source": [
    "dists_no_self[r,c]"
   ]
  },
  {
   "cell_type": "code",
   "execution_count": 37,
   "id": "f181e3cd-418b-4c61-baf3-16f8f5b4d5fe",
   "metadata": {},
   "outputs": [],
   "source": [
    "# sanity check\n",
    "\n",
    "movie_id_list = []\n",
    "for i in range(10):\n",
    "    r, c = get_idx(idx_list[i], dists_no_self.shape[0])\n",
    "    movie_id_list.append((r,c))"
   ]
  },
  {
   "cell_type": "code",
   "execution_count": 38,
   "id": "47bb9e0c-403e-48e5-935c-c5740fba2d95",
   "metadata": {},
   "outputs": [],
   "source": [
    "# https://stackoverflow.com/questions/15956169/parsing-a-pipe-delimited-file-in-python\n",
    "info_pathname = '/Users/maxperozek/ML-CP341/3/ml-100k/u.item'\n",
    "\n",
    "fileHandle = open(info_pathname, 'r', encoding=\"ISO-8859-1\")\n",
    "\n",
    "movie_info = []\n",
    "for line in fileHandle:\n",
    "    fields = line.split('|')\n",
    "    movie_info.append(fields)\n",
    "\n",
    "fileHandle.close()\n",
    "\n",
    "movie_info = np.array(movie_info)"
   ]
  },
  {
   "cell_type": "code",
   "execution_count": 39,
   "id": "456101a3-b28c-44d6-bb1d-b2144cb45f85",
   "metadata": {},
   "outputs": [
    {
     "data": {
      "text/plain": [
       "(1682, 24)"
      ]
     },
     "execution_count": 39,
     "metadata": {},
     "output_type": "execute_result"
    }
   ],
   "source": [
    "movie_info.shape"
   ]
  },
  {
   "cell_type": "code",
   "execution_count": 40,
   "id": "3acabcb5-77f4-42e2-834d-98b095a2dcfd",
   "metadata": {
    "tags": []
   },
   "outputs": [
    {
     "name": "stdout",
     "output_type": "stream",
     "text": [
      "Vie est belle, La (Life is Rosey) (1987)\n",
      "Spirits of the Dead (Tre passi nel delirio) (1968) \n",
      "\n",
      "Spirits of the Dead (Tre passi nel delirio) (1968)\n",
      "Tigrero: A Film That Was Never Made (1994) \n",
      "\n",
      "Spirits of the Dead (Tre passi nel delirio) (1968)\n",
      "Clean Slate (Coup de Torchon) (1981) \n",
      "\n",
      "Spirits of the Dead (Tre passi nel delirio) (1968)\n",
      "Aparajito (1956) \n",
      "\n",
      "Spirits of the Dead (Tre passi nel delirio) (1968)\n",
      "Condition Red (1995) \n",
      "\n",
      "Spirits of the Dead (Tre passi nel delirio) (1968)\n",
      "Show, The (1995) \n",
      "\n",
      "Spirits of the Dead (Tre passi nel delirio) (1968)\n",
      "Frankie Starlight (1995) \n",
      "\n",
      "Stefano Quantestorie (1993)\n",
      "Milk Money (1994) \n",
      "\n",
      "Spirits of the Dead (Tre passi nel delirio) (1968)\n",
      "Modern Affair, A (1995) \n",
      "\n",
      "Spirits of the Dead (Tre passi nel delirio) (1968)\n",
      "Window to Paris (1994) \n",
      "\n"
     ]
    }
   ],
   "source": [
    "for row, col in movie_id_list:\n",
    "    print(movie_info[row-1,1])\n",
    "    print(movie_info[col-1,1], '\\n')"
   ]
  },
  {
   "cell_type": "code",
   "execution_count": 41,
   "id": "c70df9ba-5ad0-45b7-af2c-d0cdcfdaeb19",
   "metadata": {},
   "outputs": [
    {
     "data": {
      "text/plain": [
       "'Secrets & Lies (1996)'"
      ]
     },
     "execution_count": 41,
     "metadata": {},
     "output_type": "execute_result"
    }
   ],
   "source": [
    "all_mins = np.amin(dists_no_self, axis=0)\n",
    "largest_min = np.amax(all_mins)\n",
    "dissimilar_movie_id = np.where(all_mins == largest_min)\n",
    "movie_name = movie_info[dissimilar_movie_id[0] -1,1][0]\n",
    "\n",
    "movie_name"
   ]
  },
  {
   "cell_type": "code",
   "execution_count": 42,
   "id": "343abb81-432e-4667-90da-59612683ff28",
   "metadata": {},
   "outputs": [
    {
     "data": {
      "text/plain": [
       "(1575,)"
      ]
     },
     "execution_count": 42,
     "metadata": {},
     "output_type": "execute_result"
    }
   ],
   "source": [
    "np.unique(np.argsort(all_dists)[:,0]).shape"
   ]
  },
  {
   "cell_type": "markdown",
   "id": "938a985f-16d7-49c5-acbd-8330526eaa8c",
   "metadata": {},
   "source": [
    "# Test Predictions"
   ]
  },
  {
   "cell_type": "code",
   "execution_count": 135,
   "id": "edd6040a-e4cf-4faf-95dc-a38cefcd0a83",
   "metadata": {},
   "outputs": [],
   "source": [
    "train_pathname = '/Users/maxperozek/ML-CP341/3/ml-100k/u1.base'\n",
    "test_pathname = '/Users/maxperozek/ML-CP341/3/ml-100k/u1.test'\n",
    "\n",
    "train_df = pd.read_csv(train_pathname, sep='\\t', header=None)\n",
    "test_df = pd.read_csv(test_pathname, sep='\\t', header=None)\n",
    "train_df.columns = ['user_id','item_id','rating','timestamp']\n",
    "test_df.columns = ['user_id','item_id','rating','timestamp']\n",
    "\n",
    "train_mat = train_df.to_numpy()\n",
    "\n",
    "train_data = build_rating_vecs(train_df,normalize_rating=True)"
   ]
  },
  {
   "cell_type": "code",
   "execution_count": 136,
   "id": "e28a435b-c89c-44b0-b14b-e8fb5a28e26c",
   "metadata": {},
   "outputs": [
    {
     "data": {
      "text/plain": [
       "array([[        1,         1,         5, 874965758],\n",
       "       [        1,         2,         3, 876893171],\n",
       "       [        1,         3,         4, 878542960],\n",
       "       ...,\n",
       "       [      943,      1188,         3, 888640250],\n",
       "       [      943,      1228,         3, 888640275],\n",
       "       [      943,      1330,         3, 888692465]])"
      ]
     },
     "execution_count": 136,
     "metadata": {},
     "output_type": "execute_result"
    }
   ],
   "source": [
    "train_mat"
   ]
  },
  {
   "cell_type": "code",
   "execution_count": 137,
   "id": "91dbe567-f4fa-4b57-8348-b6be07d9f91e",
   "metadata": {},
   "outputs": [],
   "source": [
    "dists = cdist(train_data,train_data)\n",
    "dists = (np.eye(dists.shape[0]) * 1e10) + dists"
   ]
  },
  {
   "cell_type": "code",
   "execution_count": 138,
   "id": "f082e258-9839-496d-81fb-5dd56bf8aa9d",
   "metadata": {},
   "outputs": [
    {
     "data": {
      "text/plain": [
       "(1650, 1650)"
      ]
     },
     "execution_count": 138,
     "metadata": {},
     "output_type": "execute_result"
    }
   ],
   "source": [
    "dists.shape"
   ]
  },
  {
   "cell_type": "code",
   "execution_count": 139,
   "id": "5a0621bf-c2c0-4f65-8349-fd4f556a36eb",
   "metadata": {},
   "outputs": [],
   "source": [
    "test_X = test_df.loc[:,['user_id','item_id']].to_numpy()\n",
    "test_y = np.squeeze(test_df.loc[:,['rating']].to_numpy())"
   ]
  },
  {
   "cell_type": "code",
   "execution_count": 140,
   "id": "d08184c8-ecf3-4adb-914a-29e15e23ad5d",
   "metadata": {},
   "outputs": [
    {
     "data": {
      "text/plain": [
       "array([[  1,   6],\n",
       "       [  1,  10],\n",
       "       [  1,  12],\n",
       "       ...,\n",
       "       [459, 934],\n",
       "       [460,  10],\n",
       "       [462, 682]])"
      ]
     },
     "execution_count": 140,
     "metadata": {},
     "output_type": "execute_result"
    }
   ],
   "source": [
    "test_X"
   ]
  },
  {
   "cell_type": "code",
   "execution_count": 141,
   "id": "34eeb3fe-7138-4145-85ef-943c31504bb7",
   "metadata": {},
   "outputs": [],
   "source": [
    "def weighted_average(ratings, distances):\n",
    "    \n",
    "    # return arr.mean()\n",
    "    # print('old',arr.mean())\n",
    "\n",
    "    total_dist = distances.sum()\n",
    "\n",
    "    if total_dist == 0:\n",
    "        total_dist = 1e-10\n",
    "    weights_pcts = (distances / total_dist)\n",
    "    weights_pcts = weights_pcts[np.flip(np.argsort(weights_pcts))]\n",
    "\n",
    "    # print('new',np.sum(ratings * weights_pcts))\n",
    "    return np.sum(ratings * weights_pcts)\n",
    "    \n",
    "\n",
    "\n",
    "def test_preds(train_mat, dists, test_X, test_y, k):\n",
    "    \n",
    "    error = np.empty((test_X.shape[0],))\n",
    "    # for each rating in the held out test dataset\n",
    "    for i in range(test_X.shape[0]):\n",
    "        this_user = test_X[i,0]\n",
    "        target_movie = test_X[i,1]\n",
    "        \n",
    "        # the movies this user has rated:\n",
    "        user_rated_movies = train_mat[np.where(train_mat[:,0] == this_user),1]\n",
    "        \n",
    "        # get the k nearest movies\n",
    "        dist_2_target = np.squeeze(dists[target_movie, user_rated_movies])\n",
    "        KNN = np.argsort(dist_2_target)[:k]\n",
    "        \n",
    "        # get average rating of KNN\n",
    "        pred = weighted_average(train_mat[KNN,2], dist_2_target[KNN])\n",
    "        \n",
    "        error[i] = (pred - test_y[i]) ** 2\n",
    "        \n",
    "    return error \n"
   ]
  },
  {
   "cell_type": "code",
   "execution_count": 142,
   "id": "b8a8c7ad-9e1e-4d4b-922b-b8ce7f79e02b",
   "metadata": {},
   "outputs": [],
   "source": [
    "error = test_preds(train_mat, dists, test_X, test_y, 5)"
   ]
  },
  {
   "cell_type": "code",
   "execution_count": 143,
   "id": "56a6c736-e510-4290-99a2-d504acabe50e",
   "metadata": {},
   "outputs": [
    {
     "data": {
      "text/plain": [
       "1.6616075500686143"
      ]
     },
     "execution_count": 143,
     "metadata": {},
     "output_type": "execute_result"
    }
   ],
   "source": [
    "np.mean(error)"
   ]
  },
  {
   "cell_type": "code",
   "execution_count": null,
   "id": "87618de2-c6f1-4580-82ef-f8baf5c638f2",
   "metadata": {},
   "outputs": [],
   "source": []
  }
 ],
 "metadata": {
  "kernelspec": {
   "display_name": "Python 3 (ipykernel)",
   "language": "python",
   "name": "python3"
  },
  "language_info": {
   "codemirror_mode": {
    "name": "ipython",
    "version": 3
   },
   "file_extension": ".py",
   "mimetype": "text/x-python",
   "name": "python",
   "nbconvert_exporter": "python",
   "pygments_lexer": "ipython3",
   "version": "3.9.11"
  }
 },
 "nbformat": 4,
 "nbformat_minor": 5
}
