{
 "cells": [
  {
   "cell_type": "code",
   "execution_count": 1,
   "id": "290a4b01-6b10-4673-b4ba-190fdb73bd1e",
   "metadata": {},
   "outputs": [],
   "source": [
    "import numpy as np\n",
    "import pandas as pd"
   ]
  },
  {
   "cell_type": "markdown",
   "id": "7f474c38-4028-4138-8b4c-976ad3df0edf",
   "metadata": {},
   "source": [
    "### 1 \n",
    "Load the dataset and split up X and y. Only use the audio data variables for the X dataset (ignore the subject's age, sex, etc.)."
   ]
  },
  {
   "cell_type": "code",
   "execution_count": 2,
   "id": "49c5cf3d-4c03-4ef7-bbf3-043bb39184b4",
   "metadata": {},
   "outputs": [],
   "source": [
    "names_path = '/Users/maxperozek/ML-CP341/2/parkinsons_updrs.names'\n",
    "with open(names_path) as f:\n",
    "    names = f.read()"
   ]
  },
  {
   "cell_type": "code",
   "execution_count": 3,
   "id": "342ea99a-3365-4e28-95a0-8ad647c91fa2",
   "metadata": {},
   "outputs": [
    {
     "name": "stdout",
     "output_type": "stream",
     "text": [
      "Parkinsons Telemonitoring Data Set  \n",
      "\n",
      "Abstract: Oxford Parkinson's Disease Telemonitoring Dataset\n",
      "\n",
      "============================================================\n",
      "\n",
      "Data Set Characteristics:  Multivariate\n",
      "Attribute Characteristics:  Integer, Real\n",
      "Associated Tasks:  Regression\n",
      "Number of Instances:  5875\n",
      "Number of Attributes:  26\n",
      "Area:  Life\n",
      "Date Donated:  2009-10-29\n",
      "\n",
      "============================================================\n",
      "\n",
      "SOURCE:\n",
      "\n",
      "The dataset was created by Athanasios Tsanas (tsanasthanasis '@' gmail.com) \n",
      "and Max Little (littlem '@' physics.ox.ac.uk) of the University of Oxford, in \n",
      "collaboration with 10 medical centers in the US and Intel Corporation who \n",
      "developed the telemonitoring device to record the speech signals. The \n",
      "original study used a range of linear and nonlinear regression methods to \n",
      "predict the clinician's Parkinson's disease symptom score on the UPDRS scale.\n",
      "\n",
      "\n",
      "============================================================\n",
      "\n",
      "DATA SET INFORMATION:\n",
      "\n",
      "This dataset is composed of a range of biomedical voice measurements from 42 \n",
      "people with early-stage Parkinson's disease recruited to a six-month trial of \n",
      "a telemonitoring device for remote symptom progression monitoring. The \n",
      "recordings were automatically captured in the patient's homes.\n",
      "\n",
      "Columns in the table contain subject number, subject age, subject gender, \n",
      "time interval from baseline recruitment date, motor UPDRS, total UPDRS, and \n",
      "16 biomedical voice measures. Each row corresponds to one of 5,875 voice \n",
      "recording from these individuals. The main aim of the data is to predict the \n",
      "motor and total UPDRS scores ('motor_UPDRS' and 'total_UPDRS') from the 16 \n",
      "voice measures.\n",
      "\n",
      "The data is in ASCII CSV format. The rows of the CSV file contain an instance \n",
      "corresponding to one voice recording. There are around 200 recordings per \n",
      "patient, the subject number of the patient is identified in the first column. \n",
      "For further information or to pass on comments, please contact Athanasios \n",
      "Tsanas (tsanasthanasis '@' gmail.com) or Max Little (littlem '@' \n",
      "physics.ox.ac.uk).\n",
      "\n",
      "Further details are contained in the following reference -- if you use this \n",
      "dataset, please cite:\n",
      "Athanasios Tsanas, Max A. Little, Patrick E. McSharry, Lorraine O. Ramig (2009),\n",
      "'Accurate telemonitoring of Parkinson.s disease progression by non-invasive \n",
      "speech tests',\n",
      "IEEE Transactions on Biomedical Engineering (to appear).\n",
      "\n",
      "Further details about the biomedical voice measures can be found in:\n",
      "Max A. Little, Patrick E. McSharry, Eric J. Hunter, Lorraine O. Ramig (2009),\n",
      "'Suitability of dysphonia measurements for telemonitoring of Parkinson's \n",
      "disease',\n",
      "IEEE Transactions on Biomedical Engineering, 56(4):1015-1022 \n",
      "\n",
      " \n",
      "===========================================================\n",
      "\n",
      "ATTRIBUTE INFORMATION:\n",
      "\n",
      "subject# - Integer that uniquely identifies each subject\n",
      "age - Subject age\n",
      "sex - Subject gender '0' - male, '1' - female\n",
      "test_time - Time since recruitment into the trial. The integer part is the \n",
      "number of days since recruitment.\n",
      "motor_UPDRS - Clinician's motor UPDRS score, linearly interpolated\n",
      "total_UPDRS - Clinician's total UPDRS score, linearly interpolated\n",
      "Jitter(%),Jitter(Abs),Jitter:RAP,Jitter:PPQ5,Jitter:DDP - Several measures of \n",
      "variation in fundamental frequency\n",
      "Shimmer,Shimmer(dB),Shimmer:APQ3,Shimmer:APQ5,Shimmer:APQ11,Shimmer:DDA - \n",
      "Several measures of variation in amplitude\n",
      "NHR,HNR - Two measures of ratio of noise to tonal components in the voice\n",
      "RPDE - A nonlinear dynamical complexity measure\n",
      "DFA - Signal fractal scaling exponent\n",
      "PPE - A nonlinear measure of fundamental frequency variation \n",
      "\n",
      "\n",
      "===========================================================\n",
      "\n",
      "RELEVANT PAPERS:\n",
      "\n",
      "Little MA, McSharry PE, Hunter EJ, Ramig LO (2009),\n",
      "'Suitability of dysphonia measurements for telemonitoring of Parkinson's \n",
      "disease',\n",
      "IEEE Transactions on Biomedical Engineering, 56(4):1015-1022\n",
      "\n",
      "Little MA, McSharry PE, Roberts SJ, Costello DAE, Moroz IM.\n",
      "'Exploiting Nonlinear Recurrence and Fractal Scaling Properties for Voice \n",
      "Disorder Detection',\n",
      "BioMedical Engineering OnLine 2007, 6:23 (26 June 2007) \n",
      "\n",
      "===========================================================\n",
      "\n",
      "CITATION REQUEST:\n",
      "\n",
      "If you use this dataset, please cite the following paper:\n",
      "A Tsanas, MA Little, PE McSharry, LO Ramig (2009)\n",
      "'Accurate telemonitoring of Parkinson.s disease progression by non-invasive \n",
      "speech tests',\n",
      "IEEE Transactions on Biomedical Engineering (to appear). \n",
      "\n"
     ]
    }
   ],
   "source": [
    "print(names)"
   ]
  },
  {
   "cell_type": "code",
   "execution_count": 4,
   "id": "ad6134cc-b55a-4efd-9d43-bb442f1f68d6",
   "metadata": {},
   "outputs": [],
   "source": [
    "# labels = ['motor_UPDRS','total_UPDRS']\n",
    "labels = ['total_UPDRS']\n",
    "\n",
    "audio_features = ['Jitter(%)','Jitter(Abs)','Jitter:RAP',\n",
    "                  'Jitter:PPQ5','Jitter:DDP','Shimmer','Shimmer(dB)',\n",
    "                  'Shimmer:APQ3','Shimmer:APQ5','Shimmer:APQ11',\n",
    "                  'Shimmer:DDA','NHR','HNR','RPDE','DFA','PPE']"
   ]
  },
  {
   "cell_type": "code",
   "execution_count": 5,
   "id": "5209e959-ff15-42b8-8a0b-6eb1ea28ee49",
   "metadata": {},
   "outputs": [],
   "source": [
    "data_path = '/Users/maxperozek/ML-CP341/2/parkinsons_updrs.data'\n",
    "\n",
    "# data = np.genfromtxt(data_path, delimiter=',')\n",
    "\n",
    "df = pd.read_csv(data_path)"
   ]
  },
  {
   "cell_type": "code",
   "execution_count": 6,
   "id": "4f6f2171-49d6-4f9f-9639-ee3bb8f204e6",
   "metadata": {},
   "outputs": [],
   "source": [
    "X = df[audio_features]"
   ]
  },
  {
   "cell_type": "code",
   "execution_count": 7,
   "id": "fae97166-9391-46b7-adaf-f0f2f09b98ba",
   "metadata": {},
   "outputs": [],
   "source": [
    "y = df[labels]"
   ]
  },
  {
   "cell_type": "code",
   "execution_count": 241,
   "id": "c60dcb55-c6db-44c9-a9b9-85da156e30bc",
   "metadata": {},
   "outputs": [
    {
     "name": "stderr",
     "output_type": "stream",
     "text": [
      "No artists with labels found to put in legend.  Note that artists whose label start with an underscore are ignored when legend() is called with no argument.\n"
     ]
    },
    {
     "data": {
      "text/plain": [
       "<matplotlib.legend.Legend at 0x7fe33578ab20>"
      ]
     },
     "execution_count": 241,
     "metadata": {},
     "output_type": "execute_result"
    },
    {
     "data": {
      "image/png": "[encoded data removed]",
      "text/plain": [
       "<Figure size 432x288 with 1 Axes>"
      ]
     },
     "metadata": {
      "needs_background": "light"
     },
     "output_type": "display_data"
    }
   ],
   "source": [
    "data = df.to_numpy()\n",
    "a = 7\n",
    "b = 18\n",
    "plt.scatter(data[:,a], data[:,b], c=data[:,5], alpha=0.1)\n",
    "plt.xlabel(df.columns[a])\n",
    "plt.ylabel(df.columns[b])\n",
    "plt.legend()"
   ]
  },
  {
   "cell_type": "code",
   "execution_count": 242,
   "id": "7232e5ce-8195-4ec7-ad66-293ef55787ae",
   "metadata": {},
   "outputs": [
    {
     "name": "stderr",
     "output_type": "stream",
     "text": [
      "No artists with labels found to put in legend.  Note that artists whose label start with an underscore are ignored when legend() is called with no argument.\n"
     ]
    },
    {
     "data": {
      "text/plain": [
       "<matplotlib.legend.Legend at 0x7fe333fbd5e0>"
      ]
     },
     "execution_count": 242,
     "metadata": {},
     "output_type": "execute_result"
    },
    {
     "data": {
      "image/png": "[encoded data removed]",
      "text/plain": [
       "<Figure size 432x288 with 1 Axes>"
      ]
     },
     "metadata": {
      "needs_background": "light"
     },
     "output_type": "display_data"
    }
   ],
   "source": [
    "data = df.to_numpy()\n",
    "a = 7\n",
    "b = 19\n",
    "plt.scatter(data[:,a], data[:,b], c=data[:,5], alpha=0.1)\n",
    "plt.xlabel(df.columns[a])\n",
    "plt.ylabel(df.columns[b])\n",
    "plt.legend()"
   ]
  },
  {
   "cell_type": "code",
   "execution_count": null,
   "id": "5e35b1ee-4976-470a-bad9-e823132f147e",
   "metadata": {},
   "outputs": [],
   "source": []
  },
  {
   "cell_type": "markdown",
   "id": "0536f1b8-be2b-4019-8ed5-afd536b6490b",
   "metadata": {},
   "source": [
    "### 2\n",
    "Randomly split the dataset into training and testing subsets."
   ]
  },
  {
   "cell_type": "code",
   "execution_count": 8,
   "id": "8122e376-4d66-4a04-b087-7530722f1e64",
   "metadata": {},
   "outputs": [],
   "source": [
    "pct_train = 0.8\n",
    "train_idx = np.random.choice(np.arange(df.shape[0]), int(pct_train * df.shape[0]), replace=False)\n",
    "test_idx = np.array([i  for i in np.arange(df.shape[0]) if i not in train_idx])"
   ]
  },
  {
   "cell_type": "code",
   "execution_count": 9,
   "id": "185b9395-b494-4894-a380-fc282263d1d7",
   "metadata": {},
   "outputs": [
    {
     "name": "stdout",
     "output_type": "stream",
     "text": [
      "4700\n",
      "1175\n",
      "True\n"
     ]
    }
   ],
   "source": [
    "# sanity check\n",
    "print(len(train_idx))\n",
    "print(len(test_idx))\n",
    "print(len(train_idx) + len(test_idx) == df.shape[0])"
   ]
  },
  {
   "cell_type": "code",
   "execution_count": 10,
   "id": "dbdb935d-8dfb-4add-84d3-9bb1d7551cdd",
   "metadata": {},
   "outputs": [],
   "source": [
    "test_X = df.loc[test_idx, audio_features]\n",
    "test_y = df.loc[test_idx, labels]\n",
    "\n",
    "train_X = df.loc[train_idx, audio_features]\n",
    "train_y = df.loc[train_idx, labels]"
   ]
  },
  {
   "cell_type": "code",
   "execution_count": 11,
   "id": "f6ee01d5-0385-48db-a629-038e4d18017f",
   "metadata": {},
   "outputs": [],
   "source": [
    "arr = np.random.random((3,3,3,3,3))"
   ]
  },
  {
   "cell_type": "code",
   "execution_count": 12,
   "id": "eb884f7c-8a66-4a03-bf9e-6ac7e243bdac",
   "metadata": {},
   "outputs": [
    {
     "data": {
      "text/plain": [
       "0.8946617056124269"
      ]
     },
     "execution_count": 12,
     "metadata": {},
     "output_type": "execute_result"
    }
   ],
   "source": [
    "arr[0,2,0,0,1]"
   ]
  },
  {
   "cell_type": "markdown",
   "id": "08690011-11d2-460c-a7f6-832685655527",
   "metadata": {},
   "source": [
    "### 3\n",
    "Initialize your linear regression model with random weights. You need one weight per variable in the dataset plus one extra for the bias (like the y-intercept)."
   ]
  },
  {
   "cell_type": "markdown",
   "id": "50d40a5b-9834-4288-b295-870e24b9bf43",
   "metadata": {},
   "source": [
    "#### Model"
   ]
  },
  {
   "cell_type": "code",
   "execution_count": 221,
   "id": "466712dc-f78e-417a-b03b-aef244083b91",
   "metadata": {},
   "outputs": [],
   "source": [
    "from tqdm import tqdm\n",
    "import matplotlib.pyplot as plt"
   ]
  },
  {
   "cell_type": "code",
   "execution_count": 217,
   "id": "78bfdf00-c79d-4caa-9fb2-b8973bdfa0ce",
   "metadata": {},
   "outputs": [],
   "source": [
    "# X is an N x f matrix of N examples with f features\n",
    "\n",
    "def train_regression_matmul(X, y, w=None, epochs=100, lr=0.01):\n",
    "    # init w / b\n",
    "    # the first item in w will be the bias\n",
    "    if not w:\n",
    "        w = np.random.random((X.shape[1] + 1))\n",
    "        # print('DEBUG w shape:', w.shape)\n",
    "\n",
    "    MSE_list = []\n",
    "    for i in range(epochs):\n",
    "        # predict\n",
    "        predictions = (np.dot(w[1:].reshape((1,-1)), X.T) + w[0]).T\n",
    "        difs = (y - predictions) ** 2\n",
    "        MSE = np.sum(difs) / difs.shape[0]\n",
    "        \n",
    "        # update weights    \n",
    "        update = (lr * (predictions - y).T.dot(X)) / X.shape[0]\n",
    "        update = update.reshape((-1))\n",
    "        # update bias\n",
    "        new_bias = np.array((lr * (predictions - y).T.dot(np.ones(X.shape[0]))) / X.shape[0])\n",
    "        update = np.concatenate((new_bias, update))\n",
    "        w = w - update\n",
    "        \n",
    "        if i % 10 == 0:\n",
    "            MSE_list.append(MSE)\n",
    "                \n",
    "    return w[1:] , w[0], MSE_list\n",
    "        "
   ]
  },
  {
   "cell_type": "markdown",
   "id": "e3e145bb-d772-47ce-996b-dd9a2794d065",
   "metadata": {},
   "source": [
    "### 4\n",
    "Train your model with the training dataset using gradient descent. Calculate model predictions and the errors of these predictions. Adjust your model weights slightly to reduce the errors. Repeat until errors converge or a fixed number of updates have occurred."
   ]
  },
  {
   "cell_type": "code",
   "execution_count": 218,
   "id": "c08ed6b7-5f13-41dd-8e5f-97d53eb99ba2",
   "metadata": {},
   "outputs": [],
   "source": [
    "X_mat = train_X.to_numpy()\n",
    "y_mat = train_y.to_numpy()"
   ]
  },
  {
   "cell_type": "code",
   "execution_count": 219,
   "id": "d57cfa37-de38-426b-af82-b7a7fca0b9d9",
   "metadata": {},
   "outputs": [],
   "source": [
    "w, b, errors = train_regression_matmul(X_mat, y_mat, epochs=200000, lr=.001)"
   ]
  },
  {
   "cell_type": "code",
   "execution_count": 220,
   "id": "c91d7134-302d-4f77-a0d8-ed483929d80b",
   "metadata": {},
   "outputs": [
    {
     "data": {
      "text/plain": [
       "109.16183481392575"
      ]
     },
     "execution_count": 220,
     "metadata": {},
     "output_type": "execute_result"
    }
   ],
   "source": [
    "errors[-1]"
   ]
  },
  {
   "cell_type": "code",
   "execution_count": 223,
   "id": "63136af3-cb2d-4684-8029-54e09330952f",
   "metadata": {},
   "outputs": [
    {
     "data": {
      "text/plain": [
       "[<matplotlib.lines.Line2D at 0x7fe331cfbd60>]"
      ]
     },
     "execution_count": 223,
     "metadata": {},
     "output_type": "execute_result"
    },
    {
     "data": {
      "image/png": "[encoded data removed]",
      "text/plain": [
       "<Figure size 432x288 with 1 Axes>"
      ]
     },
     "metadata": {
      "needs_background": "light"
     },
     "output_type": "display_data"
    }
   ],
   "source": [
    "plt.plot(np.arange(len(errors)), errors)"
   ]
  },
  {
   "cell_type": "markdown",
   "id": "ed138667-ca41-440f-bb30-e429015d07dc",
   "metadata": {},
   "source": [
    "### 5\n",
    "Report your model's final mean squared error on the testing dataset."
   ]
  },
  {
   "cell_type": "code",
   "execution_count": 225,
   "id": "9a5308f7-a542-4b73-8def-328167f41eb7",
   "metadata": {},
   "outputs": [],
   "source": [
    "preds = np.dot(X_mat_test, w) + b\n",
    "difs = (y_mat_test.reshape((-1)) - preds) ** 2\n",
    "MSE = np.sum(difs) / difs.shape[0]"
   ]
  },
  {
   "cell_type": "code",
   "execution_count": 226,
   "id": "9419abe7-caa3-499f-a506-9624fff2ba8a",
   "metadata": {},
   "outputs": [
    {
     "data": {
      "text/plain": [
       "110.35158042875582"
      ]
     },
     "execution_count": 226,
     "metadata": {},
     "output_type": "execute_result"
    }
   ],
   "source": [
    "MSE"
   ]
  },
  {
   "cell_type": "markdown",
   "id": "f3a6e3c8-673f-4f4c-b502-b7bd6df61f84",
   "metadata": {},
   "source": [
    "### OLD VERSION\n",
    "\n",
    "We initially implemented the regression with nested for loops. The above implementation is much faster and takes advantage of matrix multiplication."
   ]
  },
  {
   "cell_type": "code",
   "execution_count": 204,
   "id": "51ab3d5c-48bb-42b4-addd-44de6bb6f377",
   "metadata": {},
   "outputs": [],
   "source": [
    "# X is an N x f matrix of N examples with f features\n",
    "\n",
    "def train_regression(X, y, w=None, epochs=50, lr=0.01):\n",
    "    # init w / b\n",
    "    # the first item in w will be the bias\n",
    "    if not w:\n",
    "        w = np.random.random((X.shape[1] + 1))\n",
    "        print('DEBUG w shape:', w.shape)\n",
    "\n",
    "    pbar = tqdm(total=epochs , position=0, leave=True)\n",
    "    for epoch in range(epochs):\n",
    "        # predict\n",
    "        predictions = (np.dot(w[1:].reshape((1,-1)), X.T) + w[0]).T\n",
    "        difs = (y - predictions) ** 2\n",
    "        MSE = np.sum(difs) / difs.shape[0]\n",
    "                \n",
    "        # for each example in the train dataset\n",
    "        update = np.empty_like(w)\n",
    "        for i in range(X.shape[0]):\n",
    "            \n",
    "            # update weights    \n",
    "            for j in range(w.shape[0] -1):\n",
    "                \n",
    "                if X.shape[0] == 0:\n",
    "                    print('debug')\n",
    "                update[j+1] = (lr * (predictions[i] - y[i]) * X[i,j]) / X.shape[0]\n",
    "\n",
    "            # update bias\n",
    "            update[0] = (lr * (predictions[i] - y[i])) / X.shape[0]\n",
    "        w = w - update\n",
    "        # if epoch % 10 == 0:\n",
    "            # print(MSE)\n",
    "        print(MSE)\n",
    "        pbar.update(1)\n",
    "    \n",
    "    pbar.close()\n",
    "    return w\n",
    "        "
   ]
  },
  {
   "cell_type": "code",
   "execution_count": 205,
   "id": "dd6567a7-d75c-4b11-921a-d1535c8fae0b",
   "metadata": {},
   "outputs": [],
   "source": [
    "X_mat = train_X.to_numpy()\n",
    "y_mat = train_y.to_numpy()"
   ]
  },
  {
   "cell_type": "code",
   "execution_count": 206,
   "id": "f1479203-a527-4770-b406-7d2492155fe8",
   "metadata": {
    "collapsed": true,
    "jupyter": {
     "outputs_hidden": true
    },
    "tags": []
   },
   "outputs": [
    {
     "name": "stdout",
     "output_type": "stream",
     "text": [
      "DEBUG w shape: (17,)\n"
     ]
    },
    {
     "name": "stderr",
     "output_type": "stream",
     "text": [
      "  2%|█▉                                                                                            | 1/50 [00:00<00:23,  2.06it/s]"
     ]
    },
    {
     "name": "stdout",
     "output_type": "stream",
     "text": [
      "245.1846393941198\n"
     ]
    },
    {
     "name": "stderr",
     "output_type": "stream",
     "text": [
      "  4%|███▊                                                                                          | 2/50 [00:00<00:21,  2.25it/s]"
     ]
    },
    {
     "name": "stdout",
     "output_type": "stream",
     "text": [
      "225.22509420220632\n"
     ]
    },
    {
     "name": "stderr",
     "output_type": "stream",
     "text": [
      "  6%|█████▋                                                                                        | 3/50 [00:01<00:19,  2.40it/s]"
     ]
    },
    {
     "name": "stdout",
     "output_type": "stream",
     "text": [
      "208.78663712394894\n"
     ]
    },
    {
     "name": "stderr",
     "output_type": "stream",
     "text": [
      "  8%|███████▌                                                                                      | 4/50 [00:01<00:19,  2.38it/s]"
     ]
    },
    {
     "name": "stdout",
     "output_type": "stream",
     "text": [
      "195.37074972089292\n"
     ]
    },
    {
     "name": "stderr",
     "output_type": "stream",
     "text": [
      " 10%|█████████▍                                                                                    | 5/50 [00:02<00:18,  2.39it/s]"
     ]
    },
    {
     "name": "stdout",
     "output_type": "stream",
     "text": [
      "184.54413521876623\n"
     ]
    },
    {
     "name": "stderr",
     "output_type": "stream",
     "text": [
      " 12%|███████████▎                                                                                  | 6/50 [00:02<00:18,  2.39it/s]"
     ]
    },
    {
     "name": "stdout",
     "output_type": "stream",
     "text": [
      "175.93047726754233\n"
     ]
    },
    {
     "name": "stderr",
     "output_type": "stream",
     "text": [
      " 14%|█████████████▏                                                                                | 7/50 [00:02<00:18,  2.36it/s]"
     ]
    },
    {
     "name": "stdout",
     "output_type": "stream",
     "text": [
      "169.20322285181976\n"
     ]
    },
    {
     "name": "stderr",
     "output_type": "stream",
     "text": [
      " 16%|███████████████                                                                               | 8/50 [00:03<00:17,  2.43it/s]"
     ]
    },
    {
     "name": "stdout",
     "output_type": "stream",
     "text": [
      "164.07926312771082\n"
     ]
    },
    {
     "name": "stderr",
     "output_type": "stream",
     "text": [
      " 18%|████████████████▉                                                                             | 9/50 [00:03<00:16,  2.44it/s]"
     ]
    },
    {
     "name": "stdout",
     "output_type": "stream",
     "text": [
      "160.31340145412267\n"
     ]
    },
    {
     "name": "stderr",
     "output_type": "stream",
     "text": [
      " 20%|██████████████████▌                                                                          | 10/50 [00:04<00:16,  2.37it/s]"
     ]
    },
    {
     "name": "stdout",
     "output_type": "stream",
     "text": [
      "157.6935114807541\n"
     ]
    },
    {
     "name": "stderr",
     "output_type": "stream",
     "text": [
      " 22%|████████████████████▍                                                                        | 11/50 [00:04<00:16,  2.35it/s]"
     ]
    },
    {
     "name": "stdout",
     "output_type": "stream",
     "text": [
      "156.03630008441172\n"
     ]
    },
    {
     "name": "stderr",
     "output_type": "stream",
     "text": [
      " 24%|██████████████████████▎                                                                      | 12/50 [00:05<00:16,  2.36it/s]"
     ]
    },
    {
     "name": "stdout",
     "output_type": "stream",
     "text": [
      "155.18360041309396\n"
     ]
    },
    {
     "name": "stderr",
     "output_type": "stream",
     "text": [
      " 26%|████████████████████████▏                                                                    | 13/50 [00:05<00:15,  2.41it/s]"
     ]
    },
    {
     "name": "stdout",
     "output_type": "stream",
     "text": [
      "154.99912948251816\n"
     ]
    },
    {
     "name": "stderr",
     "output_type": "stream",
     "text": [
      " 28%|██████████████████████████                                                                   | 14/50 [00:05<00:14,  2.43it/s]"
     ]
    },
    {
     "name": "stdout",
     "output_type": "stream",
     "text": [
      "155.36565282931738\n"
     ]
    },
    {
     "name": "stderr",
     "output_type": "stream",
     "text": [
      " 30%|███████████████████████████▉                                                                 | 15/50 [00:06<00:14,  2.43it/s]"
     ]
    },
    {
     "name": "stdout",
     "output_type": "stream",
     "text": [
      "156.18250579677047\n"
     ]
    },
    {
     "name": "stderr",
     "output_type": "stream",
     "text": [
      " 32%|█████████████████████████████▊                                                               | 16/50 [00:06<00:13,  2.47it/s]"
     ]
    },
    {
     "name": "stdout",
     "output_type": "stream",
     "text": [
      "157.36342723356123\n"
     ]
    },
    {
     "name": "stderr",
     "output_type": "stream",
     "text": [
      " 34%|███████████████████████████████▌                                                             | 17/50 [00:07<00:12,  2.54it/s]"
     ]
    },
    {
     "name": "stdout",
     "output_type": "stream",
     "text": [
      "158.83466682981265\n"
     ]
    },
    {
     "name": "stderr",
     "output_type": "stream",
     "text": [
      " 36%|█████████████████████████████████▍                                                           | 18/50 [00:07<00:12,  2.61it/s]"
     ]
    },
    {
     "name": "stdout",
     "output_type": "stream",
     "text": [
      "160.53333209066\n"
     ]
    },
    {
     "name": "stderr",
     "output_type": "stream",
     "text": [
      " 38%|███████████████████████████████████▎                                                         | 19/50 [00:07<00:11,  2.62it/s]"
     ]
    },
    {
     "name": "stdout",
     "output_type": "stream",
     "text": [
      "162.40594513765785\n"
     ]
    },
    {
     "name": "stderr",
     "output_type": "stream",
     "text": [
      " 40%|█████████████████████████████████████▏                                                       | 20/50 [00:08<00:11,  2.67it/s]"
     ]
    },
    {
     "name": "stdout",
     "output_type": "stream",
     "text": [
      "164.40718320412216\n"
     ]
    },
    {
     "name": "stderr",
     "output_type": "stream",
     "text": [
      " 42%|███████████████████████████████████████                                                      | 21/50 [00:08<00:10,  2.70it/s]"
     ]
    },
    {
     "name": "stdout",
     "output_type": "stream",
     "text": [
      "166.49877991505647\n"
     ]
    },
    {
     "name": "stderr",
     "output_type": "stream",
     "text": [
      " 44%|████████████████████████████████████████▉                                                    | 22/50 [00:08<00:10,  2.72it/s]"
     ]
    },
    {
     "name": "stdout",
     "output_type": "stream",
     "text": [
      "168.6485672708829\n"
     ]
    },
    {
     "name": "stderr",
     "output_type": "stream",
     "text": [
      " 46%|██████████████████████████████████████████▊                                                  | 23/50 [00:09<00:09,  2.72it/s]"
     ]
    },
    {
     "name": "stdout",
     "output_type": "stream",
     "text": [
      "170.82964073529334\n"
     ]
    },
    {
     "name": "stderr",
     "output_type": "stream",
     "text": [
      " 48%|████████████████████████████████████████████▋                                                | 24/50 [00:09<00:09,  2.71it/s]"
     ]
    },
    {
     "name": "stdout",
     "output_type": "stream",
     "text": [
      "173.01963200373746\n"
     ]
    },
    {
     "name": "stderr",
     "output_type": "stream",
     "text": [
      " 50%|██████████████████████████████████████████████▌                                              | 25/50 [00:09<00:09,  2.73it/s]"
     ]
    },
    {
     "name": "stdout",
     "output_type": "stream",
     "text": [
      "175.20007593773119\n"
     ]
    },
    {
     "name": "stderr",
     "output_type": "stream",
     "text": [
      " 52%|████████████████████████████████████████████████▎                                            | 26/50 [00:10<00:08,  2.74it/s]"
     ]
    },
    {
     "name": "stdout",
     "output_type": "stream",
     "text": [
      "177.35585982409557\n"
     ]
    },
    {
     "name": "stderr",
     "output_type": "stream",
     "text": [
      " 54%|██████████████████████████████████████████████████▏                                          | 27/50 [00:10<00:08,  2.75it/s]"
     ]
    },
    {
     "name": "stdout",
     "output_type": "stream",
     "text": [
      "179.47474458620454\n"
     ]
    },
    {
     "name": "stderr",
     "output_type": "stream",
     "text": [
      " 56%|████████████████████████████████████████████████████                                         | 28/50 [00:11<00:08,  2.67it/s]"
     ]
    },
    {
     "name": "stdout",
     "output_type": "stream",
     "text": [
      "181.54694886157833\n"
     ]
    },
    {
     "name": "stderr",
     "output_type": "stream",
     "text": [
      " 58%|█████████████████████████████████████████████████████▉                                       | 29/50 [00:11<00:07,  2.71it/s]"
     ]
    },
    {
     "name": "stdout",
     "output_type": "stream",
     "text": [
      "183.56478798888406\n"
     ]
    },
    {
     "name": "stderr",
     "output_type": "stream",
     "text": [
      " 60%|███████████████████████████████████████████████████████▊                                     | 30/50 [00:11<00:07,  2.74it/s]"
     ]
    },
    {
     "name": "stdout",
     "output_type": "stream",
     "text": [
      "185.52236093703334\n"
     ]
    },
    {
     "name": "stderr",
     "output_type": "stream",
     "text": [
      " 62%|█████████████████████████████████████████████████████████▋                                   | 31/50 [00:12<00:07,  2.69it/s]"
     ]
    },
    {
     "name": "stdout",
     "output_type": "stream",
     "text": [
      "187.41527907668333\n"
     ]
    },
    {
     "name": "stderr",
     "output_type": "stream",
     "text": [
      " 64%|███████████████████████████████████████████████████████████▌                                 | 32/50 [00:12<00:06,  2.66it/s]"
     ]
    },
    {
     "name": "stdout",
     "output_type": "stream",
     "text": [
      "189.24043145501386\n"
     ]
    },
    {
     "name": "stderr",
     "output_type": "stream",
     "text": [
      " 66%|█████████████████████████████████████████████████████████████▍                               | 33/50 [00:12<00:06,  2.68it/s]"
     ]
    },
    {
     "name": "stdout",
     "output_type": "stream",
     "text": [
      "190.99578190133278\n"
     ]
    },
    {
     "name": "stderr",
     "output_type": "stream",
     "text": [
      " 68%|███████████████████████████████████████████████████████████████▏                             | 34/50 [00:13<00:05,  2.68it/s]"
     ]
    },
    {
     "name": "stdout",
     "output_type": "stream",
     "text": [
      "192.68019387536924\n"
     ]
    },
    {
     "name": "stderr",
     "output_type": "stream",
     "text": [
      " 70%|█████████████████████████████████████████████████████████████████                            | 35/50 [00:13<00:05,  2.70it/s]"
     ]
    },
    {
     "name": "stdout",
     "output_type": "stream",
     "text": [
      "194.29327948218693\n"
     ]
    },
    {
     "name": "stderr",
     "output_type": "stream",
     "text": [
      " 72%|██████████████████████████████████████████████████████████████████▉                          | 36/50 [00:14<00:05,  2.70it/s]"
     ]
    },
    {
     "name": "stdout",
     "output_type": "stream",
     "text": [
      "195.83526952635617\n"
     ]
    },
    {
     "name": "stderr",
     "output_type": "stream",
     "text": [
      " 74%|████████████████████████████████████████████████████████████████████▊                        | 37/50 [00:14<00:04,  2.71it/s]"
     ]
    },
    {
     "name": "stdout",
     "output_type": "stream",
     "text": [
      "197.30690187116505\n"
     ]
    },
    {
     "name": "stderr",
     "output_type": "stream",
     "text": [
      " 76%|██████████████████████████████████████████████████████████████████████▋                      | 38/50 [00:14<00:04,  2.71it/s]"
     ]
    },
    {
     "name": "stdout",
     "output_type": "stream",
     "text": [
      "198.70932571305408\n"
     ]
    },
    {
     "name": "stderr",
     "output_type": "stream",
     "text": [
      " 78%|████████████████████████████████████████████████████████████████████████▌                    | 39/50 [00:15<00:04,  2.59it/s]"
     ]
    },
    {
     "name": "stdout",
     "output_type": "stream",
     "text": [
      "200.0440196831346\n"
     ]
    },
    {
     "name": "stderr",
     "output_type": "stream",
     "text": [
      " 80%|██████████████████████████████████████████████████████████████████████████▍                  | 40/50 [00:15<00:03,  2.51it/s]"
     ]
    },
    {
     "name": "stdout",
     "output_type": "stream",
     "text": [
      "201.3127219518506\n"
     ]
    },
    {
     "name": "stderr",
     "output_type": "stream",
     "text": [
      " 82%|████████████████████████████████████████████████████████████████████████████▎                | 41/50 [00:16<00:03,  2.48it/s]"
     ]
    },
    {
     "name": "stdout",
     "output_type": "stream",
     "text": [
      "202.517370744193\n"
     ]
    },
    {
     "name": "stderr",
     "output_type": "stream",
     "text": [
      " 84%|██████████████████████████████████████████████████████████████████████████████               | 42/50 [00:16<00:03,  2.49it/s]"
     ]
    },
    {
     "name": "stdout",
     "output_type": "stream",
     "text": [
      "203.66005387542006\n"
     ]
    },
    {
     "name": "stderr",
     "output_type": "stream",
     "text": [
      " 86%|███████████████████████████████████████████████████████████████████████████████▉             | 43/50 [00:16<00:02,  2.52it/s]"
     ]
    },
    {
     "name": "stdout",
     "output_type": "stream",
     "text": [
      "204.74296609452853\n"
     ]
    },
    {
     "name": "stderr",
     "output_type": "stream",
     "text": [
      " 88%|█████████████████████████████████████████████████████████████████████████████████▊           | 44/50 [00:17<00:02,  2.56it/s]"
     ]
    },
    {
     "name": "stdout",
     "output_type": "stream",
     "text": [
      "205.76837317788463\n"
     ]
    },
    {
     "name": "stderr",
     "output_type": "stream",
     "text": [
      " 90%|███████████████████████████████████████████████████████████████████████████████████▋         | 45/50 [00:17<00:01,  2.51it/s]"
     ]
    },
    {
     "name": "stdout",
     "output_type": "stream",
     "text": [
      "206.73858185118357\n"
     ]
    },
    {
     "name": "stderr",
     "output_type": "stream",
     "text": [
      " 92%|█████████████████████████████████████████████████████████████████████████████████████▌       | 46/50 [00:18<00:01,  2.53it/s]"
     ]
    },
    {
     "name": "stdout",
     "output_type": "stream",
     "text": [
      "207.65591473666598\n"
     ]
    },
    {
     "name": "stderr",
     "output_type": "stream",
     "text": [
      " 94%|███████████████████████████████████████████████████████████████████████████████████████▍     | 47/50 [00:18<00:01,  2.50it/s]"
     ]
    },
    {
     "name": "stdout",
     "output_type": "stream",
     "text": [
      "208.52268962638334\n"
     ]
    },
    {
     "name": "stderr",
     "output_type": "stream",
     "text": [
      " 96%|█████████████████████████████████████████████████████████████████████████████████████████▎   | 48/50 [00:18<00:00,  2.54it/s]"
     ]
    },
    {
     "name": "stdout",
     "output_type": "stream",
     "text": [
      "209.34120247311617\n"
     ]
    },
    {
     "name": "stderr",
     "output_type": "stream",
     "text": [
      " 98%|███████████████████████████████████████████████████████████████████████████████████████████▏ | 49/50 [00:19<00:00,  2.50it/s]"
     ]
    },
    {
     "name": "stdout",
     "output_type": "stream",
     "text": [
      "210.11371356991907\n"
     ]
    },
    {
     "name": "stderr",
     "output_type": "stream",
     "text": [
      "100%|█████████████████████████████████████████████████████████████████████████████████████████████| 50/50 [00:19<00:00,  2.55it/s]"
     ]
    },
    {
     "name": "stdout",
     "output_type": "stream",
     "text": [
      "210.8424364586303\n"
     ]
    },
    {
     "name": "stderr",
     "output_type": "stream",
     "text": [
      "\n"
     ]
    }
   ],
   "source": [
    "model = train_regression(X_mat, y_mat, epochs=50, lr=1)"
   ]
  },
  {
   "cell_type": "code",
   "execution_count": 102,
   "id": "a50b1d64-ec9f-4467-be4e-a25df4a9e297",
   "metadata": {},
   "outputs": [],
   "source": [
    "X_mat_test = test_X.to_numpy()\n",
    "y_mat_test = test_y.to_numpy()"
   ]
  },
  {
   "cell_type": "code",
   "execution_count": 103,
   "id": "ecf38f28-0681-4e94-ac01-4d003b17afda",
   "metadata": {},
   "outputs": [],
   "source": [
    "b = model[0]\n",
    "w = model[1:]\n",
    "\n",
    "preds = np.dot(X_mat_test, w) + b"
   ]
  },
  {
   "cell_type": "code",
   "execution_count": 104,
   "id": "21962fb8-d745-4c99-9b1f-7c113a1f24da",
   "metadata": {},
   "outputs": [
    {
     "data": {
      "text/plain": [
       "array([0.52915905, 0.73981919, 0.88489385, 0.73364707, 0.61941546,\n",
       "       0.94222978, 0.51933258, 0.45035661, 0.14952945, 0.89460719,\n",
       "       0.66120253, 0.38480444, 0.58505451, 1.54485618, 0.57583343,\n",
       "       0.34392668, 0.9376365 ])"
      ]
     },
     "execution_count": 104,
     "metadata": {},
     "output_type": "execute_result"
    }
   ],
   "source": [
    "model"
   ]
  },
  {
   "cell_type": "code",
   "execution_count": 115,
   "id": "6ea6d3d7-2a26-4bb3-91be-07df296013f4",
   "metadata": {},
   "outputs": [
    {
     "data": {
      "text/plain": [
       "(1175, 1)"
      ]
     },
     "execution_count": 115,
     "metadata": {},
     "output_type": "execute_result"
    }
   ],
   "source": [
    "y_mat_test.shape"
   ]
  },
  {
   "cell_type": "code",
   "execution_count": 109,
   "id": "4c86fbdb-18df-4093-be89-d9347578c236",
   "metadata": {},
   "outputs": [
    {
     "data": {
      "text/plain": [
       "array([34.72763726, 36.37510997, 38.77560424, ..., 38.28645015,\n",
       "       39.42185298, 44.47078036])"
      ]
     },
     "execution_count": 109,
     "metadata": {},
     "output_type": "execute_result"
    }
   ],
   "source": [
    "preds"
   ]
  },
  {
   "cell_type": "code",
   "execution_count": 125,
   "id": "c84088d6-2924-4c63-94c4-df88bf9e675e",
   "metadata": {
    "collapsed": true,
    "jupyter": {
     "outputs_hidden": true
    },
    "tags": []
   },
   "outputs": [
    {
     "data": {
      "text/plain": [
       "[4.4413426293921054e-08,\n",
       " 0.0001158364198372009,\n",
       " 0.0002487103540991625,\n",
       " 0.00745984019596059,\n",
       " 0.009843316265778237,\n",
       " 0.01434023363665854,\n",
       " 0.022199768901634463,\n",
       " 0.03421331371748173,\n",
       " 0.04624390622803218,\n",
       " 0.050709803481324575,\n",
       " 0.05423899404202541,\n",
       " 0.0764579269166093,\n",
       " 0.09683226822592221,\n",
       " 0.10866072531054982,\n",
       " 0.11082376701519338,\n",
       " 0.16039365250589718,\n",
       " 0.16493222134104785,\n",
       " 0.17360944568968784,\n",
       " 0.17438315021463363,\n",
       " 0.18082149185201615,\n",
       " 0.22397287695084386,\n",
       " 0.2465577385142282,\n",
       " 0.26538969658036216,\n",
       " 0.2970935860352193,\n",
       " 0.3017726479329987,\n",
       " 0.3313612103554207,\n",
       " 0.34069755501381854,\n",
       " 0.3559263063168281,\n",
       " 0.36977985667933966,\n",
       " 0.4119571497172621,\n",
       " 0.4265971862193783,\n",
       " 0.43975556758907536,\n",
       " 0.4533051276503995,\n",
       " 0.48544052576986674,\n",
       " 0.4920668233368777,\n",
       " 0.5162211716378351,\n",
       " 0.5173894246110896,\n",
       " 0.5237867403682235,\n",
       " 0.5297746875728,\n",
       " 0.5329307888220314,\n",
       " 0.5394859010059766,\n",
       " 0.61700999222923,\n",
       " 0.6448474984586756,\n",
       " 0.6995467029374756,\n",
       " 0.7024714700667135,\n",
       " 0.7125680168800854,\n",
       " 0.7468726602346241,\n",
       " 0.7493402852778818,\n",
       " 0.7511980524876392,\n",
       " 0.8185469968809176,\n",
       " 0.8280407071955221,\n",
       " 0.8303030629190239,\n",
       " 0.9150899272170677,\n",
       " 0.9653711090113549,\n",
       " 1.0105531374307801,\n",
       " 1.0271269332927266,\n",
       " 1.0890015580689878,\n",
       " 1.1202015913807637,\n",
       " 1.2580206830883287,\n",
       " 1.272025000143897,\n",
       " 1.286122314328093,\n",
       " 1.3727921378967807,\n",
       " 1.4210831750158062,\n",
       " 1.480818843072352,\n",
       " 1.509541115715399,\n",
       " 1.5131201754826,\n",
       " 1.612477653031614,\n",
       " 1.6167533359482038,\n",
       " 1.7058105089658395,\n",
       " 1.8686813014607844,\n",
       " 2.018029139953551,\n",
       " 2.1328455853368284,\n",
       " 2.17074430854164,\n",
       " 2.184836070162127,\n",
       " 2.2486181735815753,\n",
       " 2.3224249780507904,\n",
       " 2.4108421305146863,\n",
       " 2.5236037582048607,\n",
       " 2.658678959770825,\n",
       " 2.788484688380697,\n",
       " 2.7986833691960054,\n",
       " 2.8408868714003908,\n",
       " 2.8595629940834373,\n",
       " 2.910726971011465,\n",
       " 2.9156892039201128,\n",
       " 2.918902135759455,\n",
       " 3.018836666000674,\n",
       " 3.03589387966769,\n",
       " 3.0709632434747776,\n",
       " 3.131523023259135,\n",
       " 3.1417025778713725,\n",
       " 3.1519770099262803,\n",
       " 3.330012205756569,\n",
       " 3.759039474338093,\n",
       " 3.8756652704093146,\n",
       " 3.8886368582471613,\n",
       " 4.036493949473782,\n",
       " 4.062553180207352,\n",
       " 4.097501587623106,\n",
       " 4.424419725859502,\n",
       " 4.5739194081550565,\n",
       " 4.596061459425824,\n",
       " 4.65951464592082,\n",
       " 4.7875841192575415,\n",
       " 4.849135921674802,\n",
       " 4.882031141998175,\n",
       " 4.938850119608931,\n",
       " 4.978102742784956,\n",
       " 5.11634360242718,\n",
       " 5.2241165565971786,\n",
       " 5.633361277689916,\n",
       " 5.652969499067808,\n",
       " 5.738560580081362,\n",
       " 5.776018180339118,\n",
       " 5.789598602497823,\n",
       " 5.805572683327837,\n",
       " 5.8148700026970985,\n",
       " 5.951830749782781,\n",
       " 6.046156450310487,\n",
       " 6.120131891013677,\n",
       " 6.332041584426859,\n",
       " 6.344163305999653,\n",
       " 6.481352290774686,\n",
       " 6.732348805147823,\n",
       " 6.836206218130951,\n",
       " 6.969005040898249,\n",
       " 6.970408473208899,\n",
       " 7.054301306068687,\n",
       " 7.176695521964175,\n",
       " 7.2827958101364105,\n",
       " 7.302041537433794,\n",
       " 7.3039151292205595,\n",
       " 7.46940923755784,\n",
       " 7.590528644794562,\n",
       " 7.681597797479957,\n",
       " 8.092135050112413,\n",
       " 8.126735592248957,\n",
       " 8.14254646770459,\n",
       " 8.301626490936078,\n",
       " 8.339256922527209,\n",
       " 8.450962985774272,\n",
       " 8.720501633887157,\n",
       " 8.837953551380696,\n",
       " 8.877482529395035,\n",
       " 8.971328784368804,\n",
       " 9.139703491037208,\n",
       " 9.193482542741135,\n",
       " 9.236014851893632,\n",
       " 9.277158041665846,\n",
       " 9.37709884650781,\n",
       " 9.492502138473718,\n",
       " 9.54020349855667,\n",
       " 9.543893258253387,\n",
       " 9.548363484327552,\n",
       " 9.698219874435354,\n",
       " 10.437285330497728,\n",
       " 10.652142019559154,\n",
       " 10.846585777074361,\n",
       " 11.009747418807864,\n",
       " 11.078844634042206,\n",
       " 11.141168037672033,\n",
       " 11.149945603856134,\n",
       " 11.184885339178457,\n",
       " 11.215388529402809,\n",
       " 11.536342614240667,\n",
       " 11.736594369553604,\n",
       " 11.821044470181926,\n",
       " 12.022851493652661,\n",
       " 12.1399682356058,\n",
       " 12.144751913312309,\n",
       " 12.320792617566763,\n",
       " 12.46731087298449,\n",
       " 12.487199118868011,\n",
       " 12.505868389203888,\n",
       " 12.782142444454012,\n",
       " 12.88988480684041,\n",
       " 12.96191532143919,\n",
       " 13.404441977347238,\n",
       " 13.486656761851057,\n",
       " 13.586226046750731,\n",
       " 13.754912034178906,\n",
       " 13.801995058138903,\n",
       " 13.858151152086812,\n",
       " 13.894771246394491,\n",
       " 13.94711187323004,\n",
       " 13.993711780985672,\n",
       " 14.313151018347822,\n",
       " 14.325976728721715,\n",
       " 14.372931619362625,\n",
       " 14.626686427121903,\n",
       " 14.653413669653968,\n",
       " 14.787850793094053,\n",
       " 15.109011593838224,\n",
       " 15.15332365576308,\n",
       " 15.320218595036893,\n",
       " 15.697971940194142,\n",
       " 15.739833965774332,\n",
       " 15.780624217991184,\n",
       " 16.188971149287596,\n",
       " 16.331190128493535,\n",
       " 16.33372220681812,\n",
       " 16.51486743539851,\n",
       " 16.52155254393009,\n",
       " 16.85202239102355,\n",
       " 16.903891916957466,\n",
       " 16.97397254841321,\n",
       " 17.792120871472743,\n",
       " 18.088948851174028,\n",
       " 18.109784459522714,\n",
       " 18.223761212652903,\n",
       " 18.987846599083177,\n",
       " 19.39172911467167,\n",
       " 19.56989280470789,\n",
       " 19.600093433270654,\n",
       " 19.679191918757155,\n",
       " 20.04279405816584,\n",
       " 20.072009804660688,\n",
       " 20.181965114330843,\n",
       " 20.201685826372508,\n",
       " 20.437959377639807,\n",
       " 20.477413749204807,\n",
       " 20.50599869804929,\n",
       " 20.634405159652747,\n",
       " 20.68491312639038,\n",
       " 20.826548801696532,\n",
       " 21.191101432226667,\n",
       " 22.286275164060076,\n",
       " 22.313748127411863,\n",
       " 22.331789120827285,\n",
       " 22.37294717724754,\n",
       " 22.470443286094415,\n",
       " 22.598119363121047,\n",
       " 22.618279942132375,\n",
       " 22.631194692013597,\n",
       " 22.676983256670034,\n",
       " 22.70382387909027,\n",
       " 23.055847520064006,\n",
       " 23.462244078852052,\n",
       " 23.58442429679675,\n",
       " 24.62134993582127,\n",
       " 24.758137208884893,\n",
       " 25.216014445015315,\n",
       " 25.29660702316421,\n",
       " 25.455160341349032,\n",
       " 25.59570270068067,\n",
       " 25.855151239694447,\n",
       " 26.362948206403,\n",
       " 26.39407433514707,\n",
       " 26.623595896364503,\n",
       " 26.679955362678978,\n",
       " 27.046867996227085,\n",
       " 27.069159673782984,\n",
       " 27.19856106720861,\n",
       " 27.28776287957569,\n",
       " 27.345993124907128,\n",
       " 27.3797941138531,\n",
       " 27.380778980887406,\n",
       " 27.71516231187565,\n",
       " 27.93631740930981,\n",
       " 28.280227091080075,\n",
       " 28.459148855551884,\n",
       " 28.616109066587637,\n",
       " 28.696931495322165,\n",
       " 28.81866754905772,\n",
       " 28.9152282723171,\n",
       " 29.22990455519041,\n",
       " 29.46421395577068,\n",
       " 29.506673200466565,\n",
       " 29.552535671039966,\n",
       " 29.66381926730686,\n",
       " 29.895577959218596,\n",
       " 30.128507288385737,\n",
       " 30.513827756794562,\n",
       " 30.53144899079386,\n",
       " 30.722085103285004,\n",
       " 30.7281419134961,\n",
       " 30.81006118724718,\n",
       " 30.84565070098671,\n",
       " 31.38061075633703,\n",
       " 31.38186146530439,\n",
       " 31.54556107878035,\n",
       " 31.560241496457373,\n",
       " 31.577088462469273,\n",
       " 31.587997703891503,\n",
       " 31.79611139246746,\n",
       " 32.036524412001555,\n",
       " 32.0729543842112,\n",
       " 32.85727946102233,\n",
       " 32.90405315589095,\n",
       " 33.217587763228806,\n",
       " 34.10618828640154,\n",
       " 34.208844795226874,\n",
       " 34.25429432856717,\n",
       " 34.312476772120625,\n",
       " 34.53866710137305,\n",
       " 35.00278716499904,\n",
       " 35.00502409154848,\n",
       " 35.1396613352994,\n",
       " 35.78244820040731,\n",
       " 35.8738198093003,\n",
       " 36.070902470764715,\n",
       " 36.573764031560614,\n",
       " 36.77896110717909,\n",
       " 36.82844134808099,\n",
       " 36.887979964778445,\n",
       " 36.98074778472358,\n",
       " 37.18384195073287,\n",
       " 37.18644019569422,\n",
       " 37.34825050551807,\n",
       " 37.54435714230602,\n",
       " 37.7301744756303,\n",
       " 37.85006660181351,\n",
       " 37.88691946667835,\n",
       " 37.91833032867085,\n",
       " 38.02864312657991,\n",
       " 38.06115566080148,\n",
       " 38.25770752215183,\n",
       " 38.613635465292845,\n",
       " 38.69614364502759,\n",
       " 38.803084466141776,\n",
       " 38.93066702219513,\n",
       " 39.372522855036706,\n",
       " 39.46475568669449,\n",
       " 39.51880026498413,\n",
       " 39.52764613656446,\n",
       " 39.60473966125502,\n",
       " 39.72872297322466,\n",
       " 40.082894089741345,\n",
       " 40.147615628949204,\n",
       " 40.2630948623821,\n",
       " 40.31605834144952,\n",
       " 40.48568407920145,\n",
       " 40.53026785191099,\n",
       " 40.61983693683885,\n",
       " 41.43302253428076,\n",
       " 41.49696851873251,\n",
       " 41.7387143470662,\n",
       " 41.74726108876457,\n",
       " 41.86432938785958,\n",
       " 42.46570605058346,\n",
       " 42.547283754700295,\n",
       " 42.59684809500798,\n",
       " 42.742511468099366,\n",
       " 43.10788290488244,\n",
       " 43.13548933616422,\n",
       " 43.511559109550284,\n",
       " 43.52670296539578,\n",
       " 43.64260110393818,\n",
       " 43.991465934243614,\n",
       " 44.0085559910722,\n",
       " 44.10229383245763,\n",
       " 44.153168119258694,\n",
       " 44.3065182934626,\n",
       " 44.3277346474214,\n",
       " 44.36415557944421,\n",
       " 44.64338703096946,\n",
       " 45.32065651460538,\n",
       " 45.48700420613279,\n",
       " 45.59764027785009,\n",
       " 45.91750164804287,\n",
       " 46.082043978611225,\n",
       " 46.69662174468148,\n",
       " 46.759819434154096,\n",
       " 46.805764433678306,\n",
       " 46.81528723041927,\n",
       " 46.99749672875965,\n",
       " 47.12437757494189,\n",
       " 47.33678035641636,\n",
       " 47.42840382114677,\n",
       " 47.566152841164886,\n",
       " 47.80442907320038,\n",
       " 47.990859940412285,\n",
       " 48.811769981010706,\n",
       " 48.90260091341327,\n",
       " 48.90631165889021,\n",
       " 49.030482018429375,\n",
       " 49.12661527286064,\n",
       " 49.21808872069021,\n",
       " 49.750686016072855,\n",
       " 49.98887357120009,\n",
       " 50.29238918742068,\n",
       " 50.470376372607184,\n",
       " 50.779738063873324,\n",
       " 51.16695297883057,\n",
       " 51.184175970251395,\n",
       " 51.27985803152188,\n",
       " 51.42618178661598,\n",
       " 51.66927747737897,\n",
       " 51.68429542108976,\n",
       " 51.817064183508265,\n",
       " 51.97839507809213,\n",
       " 52.12796195198212,\n",
       " 52.26778030199585,\n",
       " 52.2889930913482,\n",
       " 52.66502157624659,\n",
       " 52.81472913769103,\n",
       " 52.97074784816453,\n",
       " 53.231465349378084,\n",
       " 53.29919719835272,\n",
       " 53.38973041048782,\n",
       " 53.58343236813491,\n",
       " 53.93060641154066,\n",
       " 54.33883074719808,\n",
       " 54.57048056878569,\n",
       " 54.60450847943929,\n",
       " 55.3832908705065,\n",
       " 55.54961239610156,\n",
       " 55.575445206437685,\n",
       " 55.69033444052799,\n",
       " 55.69205289584736,\n",
       " 55.71273817317724,\n",
       " 55.85385060984065,\n",
       " 55.86663095335503,\n",
       " 55.934251004588674,\n",
       " 56.09228767120925,\n",
       " 56.29493802072284,\n",
       " 56.51874831017405,\n",
       " 56.616991337719085,\n",
       " 56.963673099533814,\n",
       " 57.00011680997604,\n",
       " 57.04433605472947,\n",
       " 57.772517712298345,\n",
       " 58.11820396734118,\n",
       " 58.9056040475738,\n",
       " 58.9253232151931,\n",
       " 59.691147552320075,\n",
       " 59.6975658368859,\n",
       " 60.0977801133193,\n",
       " 60.10050354929631,\n",
       " 60.72145671634086,\n",
       " 60.825566899183045,\n",
       " 61.13171706118882,\n",
       " 61.14259111233213,\n",
       " 61.173746000431954,\n",
       " 61.20557802776111,\n",
       " 61.71221092631548,\n",
       " 61.95422367135469,\n",
       " 62.266457715240875,\n",
       " 62.69474189818644,\n",
       " 62.97459690325533,\n",
       " 63.02983326053106,\n",
       " 63.047721866559556,\n",
       " 63.641805674175316,\n",
       " 64.10853165575965,\n",
       " 64.13855090190248,\n",
       " 64.16953829745536,\n",
       " 64.2150212339085,\n",
       " 64.29449581329526,\n",
       " 64.29707499471249,\n",
       " 64.50412586921988,\n",
       " 65.20268642555861,\n",
       " 65.234199079224,\n",
       " 66.3183897935632,\n",
       " 66.414548381438,\n",
       " 66.48200825198772,\n",
       " 66.4854167435291,\n",
       " 66.88301905503144,\n",
       " 67.01278157207904,\n",
       " 67.45545315179896,\n",
       " 67.7677471364373,\n",
       " 68.05656321543411,\n",
       " 68.19349585567994,\n",
       " 68.31191010396194,\n",
       " 68.5426893859407,\n",
       " 68.91365868504569,\n",
       " 68.95055908976423,\n",
       " 69.20302904484143,\n",
       " 69.242837817751,\n",
       " 69.50144418121496,\n",
       " 69.64097578731057,\n",
       " 70.21301162270737,\n",
       " 70.35647052425978,\n",
       " 70.53183993035597,\n",
       " 70.71856858516678,\n",
       " 70.73770137000976,\n",
       " 70.91459221429903,\n",
       " 71.02469797549736,\n",
       " 71.39219355474742,\n",
       " 71.86723916070416,\n",
       " 72.02163381580179,\n",
       " 72.4833375531491,\n",
       " 72.83515102767633,\n",
       " 73.00396518134572,\n",
       " 73.0614374416035,\n",
       " 73.09145090517654,\n",
       " 73.4223256370496,\n",
       " 73.79141669267027,\n",
       " 74.08539222239052,\n",
       " 74.26190494987159,\n",
       " 74.6767324258225,\n",
       " 75.40223029082952,\n",
       " 75.78512335070448,\n",
       " 76.94816797907727,\n",
       " 77.12869974005638,\n",
       " 77.7944043426768,\n",
       " 79.10186032219748,\n",
       " 79.22202116214629,\n",
       " 79.45705324637663,\n",
       " 79.83152673740932,\n",
       " 79.89054344009752]"
      ]
     },
     "execution_count": 125,
     "metadata": {},
     "output_type": "execute_result"
    }
   ],
   "source": [
    "sorted(difs)[:500]"
   ]
  },
  {
   "cell_type": "code",
   "execution_count": 118,
   "id": "4f0583aa-e945-494a-9598-d22d898f3ec5",
   "metadata": {},
   "outputs": [
    {
     "name": "stdout",
     "output_type": "stream",
     "text": [
      "(1175,)\n"
     ]
    }
   ],
   "source": [
    "difs = (y_mat_test.reshape((-1)) - preds) ** 2\n",
    "print(difs.shape)\n",
    "MSE = np.sum(difs) / difs.shape[0]"
   ]
  },
  {
   "cell_type": "code",
   "execution_count": 119,
   "id": "22b351f5-7fdd-4b87-80d6-9a6989a73d1c",
   "metadata": {},
   "outputs": [
    {
     "data": {
      "text/plain": [
       "228.4040855142718"
      ]
     },
     "execution_count": 119,
     "metadata": {},
     "output_type": "execute_result"
    }
   ],
   "source": [
    "MSE"
   ]
  },
  {
   "cell_type": "code",
   "execution_count": null,
   "id": "55c6daf5-7e78-4296-a2aa-d47d8e671e3d",
   "metadata": {},
   "outputs": [],
   "source": []
  }
 ],
 "metadata": {
  "kernelspec": {
   "display_name": "Python 3 (ipykernel)",
   "language": "python",
   "name": "python3"
  },
  "language_info": {
   "codemirror_mode": {
    "name": "ipython",
    "version": 3
   },
   "file_extension": ".py",
   "mimetype": "text/x-python",
   "name": "python",
   "nbconvert_exporter": "python",
   "pygments_lexer": "ipython3",
   "version": "3.9.11"
  }
 },
 "nbformat": 4,
 "nbformat_minor": 5
}
