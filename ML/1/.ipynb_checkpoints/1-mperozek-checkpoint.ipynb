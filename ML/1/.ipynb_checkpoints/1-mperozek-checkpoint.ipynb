{
 "cells": [
  {
   "cell_type": "code",
   "execution_count": 37,
   "id": "a1171d57-b11f-40ca-811f-e7cb9e46558e",
   "metadata": {},
   "outputs": [],
   "source": [
    "import numpy as np\n",
    "import os\n",
    "import matplotlib.pyplot as plt"
   ]
  },
  {
   "cell_type": "markdown",
   "id": "ce2eae60-cb4a-4b0d-bfea-d3fac66414eb",
   "metadata": {},
   "source": [
    "### 1\n",
    "Write code to load the data from the file into a numpy array."
   ]
  },
  {
   "cell_type": "code",
   "execution_count": 2,
   "id": "7367e2ef-068c-4d20-b811-e824cda6d85f",
   "metadata": {},
   "outputs": [],
   "source": [
    "root = '/Users/maxperozek/ML-CP341/1/'\n",
    "data_path = 'bupa.data'\n",
    "names_path = 'bupa.names'"
   ]
  },
  {
   "cell_type": "code",
   "execution_count": 18,
   "id": "6a23d9fe-8650-4067-8c12-1d161b3b431e",
   "metadata": {},
   "outputs": [],
   "source": [
    "with open(root + data_path) as f:\n",
    "    lines = f.readlines()\n",
    "\n",
    "data_arr = np.zeros(  ( len(lines), len(lines[0].split(sep=',')) )  )\n",
    "\n",
    "for i in range(len(lines)):\n",
    "    line_list = lines[i].split(sep=',')\n",
    "    for j in range(len(line_list)):\n",
    "        val = line_list[j]\n",
    "        if '\\n' in val:\n",
    "            val = val[0]\n",
    "        data_arr[i,j] = float(val)\n",
    "        "
   ]
  },
  {
   "cell_type": "code",
   "execution_count": 20,
   "id": "7bf68cfb-82fe-46a8-b0b4-bdef07ca862b",
   "metadata": {},
   "outputs": [
    {
     "data": {
      "text/plain": [
       "(345, 7)"
      ]
     },
     "execution_count": 20,
     "metadata": {},
     "output_type": "execute_result"
    }
   ],
   "source": [
    "data_arr.shape"
   ]
  },
  {
   "cell_type": "code",
   "execution_count": 33,
   "id": "77511ca8-23c6-497e-8e39-053af754c9a5",
   "metadata": {},
   "outputs": [],
   "source": [
    "with open(root + names_path) as f:\n",
    "    names = f.read()"
   ]
  },
  {
   "cell_type": "code",
   "execution_count": 34,
   "id": "b049e92e-0272-4a68-a985-d4e301fd474c",
   "metadata": {},
   "outputs": [
    {
     "name": "stdout",
     "output_type": "stream",
     "text": [
      "1. Title: BUPA liver disorders\n",
      "\n",
      "2. Source information:\n",
      "   -- Creators: BUPA Medical Research Ltd.\n",
      "   -- Donor: Richard S. Forsyth\n",
      "             8 Grosvenor Avenue\n",
      "             Mapperley Park\n",
      "             Nottingham NG3 5DX\n",
      "             0602-621676\n",
      "   -- Date: 5/15/1990\n",
      "\n",
      "3. Past usage: \n",
      "   -- None known other than what is shown in the PC/BEAGLE User's Guide\n",
      "      (written by Richard S. Forsyth).\n",
      "\n",
      "4. Relevant information:\n",
      "   -- The first 5 variables are all blood tests which are thought\n",
      "      to be sensitive to liver disorders that might arise from\n",
      "      excessive alcohol consumption.  Each line in the bupa.data file\n",
      "      constitutes the record of a single male individual.\n",
      "   -- It appears that drinks>5 is some sort of a selector on this database.\n",
      "      See the PC/BEAGLE User's Guide for more information.\n",
      "\n",
      "5. Number of instances: 345\n",
      "\n",
      "6. Number of attributes: 7 overall\n",
      "\n",
      "7. Attribute information:\n",
      "   1. mcv\tmean corpuscular volume\n",
      "   2. alkphos\talkaline phosphotase\n",
      "   3. sgpt\talamine aminotransferase\n",
      "   4. sgot \taspartate aminotransferase\n",
      "   5. gammagt\tgamma-glutamyl transpeptidase\n",
      "   6. drinks\tnumber of half-pint equivalents of alcoholic beverages\n",
      "                drunk per day\n",
      "   7. selector  field used to split data into two sets\n",
      "\n",
      "8. Missing values: none\n"
     ]
    }
   ],
   "source": [
    "print(names)"
   ]
  },
  {
   "cell_type": "markdown",
   "id": "c9f9eab2-4a47-4875-8525-e05229b168ad",
   "metadata": {},
   "source": [
    "### 2\n",
    "Explore the dataset by calculating some statistics for different variables (e.g. what is the average number of drinks per subject in the dataset?)."
   ]
  },
  {
   "cell_type": "code",
   "execution_count": 28,
   "id": "0be68df7-ae64-4f8e-b23c-874cf5e42a8d",
   "metadata": {},
   "outputs": [],
   "source": [
    "arr_means = np.mean(data_arr, axis=0)"
   ]
  },
  {
   "cell_type": "code",
   "execution_count": 36,
   "id": "810cc753-f6cb-4b30-9c0f-b5c4d6fba1af",
   "metadata": {},
   "outputs": [
    {
     "name": "stdout",
     "output_type": "stream",
     "text": [
      "avg mean corpuscular volume: 90.15942028985508\n",
      "avg alkaline phosphotase: 69.8695652173913\n",
      "avg alamine aminotransferase: 30.405797101449274\n",
      "avg aspartate aminotransferase: 24.643478260869564\n",
      "avg gamma-glutamyl transpeptidase: 38.28405797101449\n",
      "avg drinks per day: 3.455072463768116\n"
     ]
    }
   ],
   "source": [
    "print('avg mean corpuscular volume:', arr_means[0])\n",
    "print('avg alkaline phosphotase:', arr_means[1])\n",
    "print('avg alamine aminotransferase:', arr_means[2])\n",
    "print('avg aspartate aminotransferase:', arr_means[3])\n",
    "print('avg gamma-glutamyl transpeptidase:', arr_means[4])\n",
    "print('avg drinks per day:', arr_means[5])"
   ]
  },
  {
   "cell_type": "markdown",
   "id": "7ae20430-bfb0-4862-88bd-a4be01813a94",
   "metadata": {},
   "source": [
    "### 3\n",
    "Visualize the dataset in some way. For example, you could do a scatter plot with blue dots for subjects who drink very few drinks and red dots for subjects who drink a lot. Then you could plot those dots on an xy-plane where x and y correspond to values of two of the blood test variables. Are there any patterns that you can see?"
   ]
  },
  {
   "cell_type": "code",
   "execution_count": 50,
   "id": "90277071-e1cd-4e3c-9dfd-31591022c767",
   "metadata": {},
   "outputs": [],
   "source": [
    "grp_1 = data_arr[data_arr[:,6] == 1.0]\n",
    "grp_2 = data_arr[data_arr[:,6] == 2.0]\n"
   ]
  },
  {
   "cell_type": "code",
   "execution_count": 55,
   "id": "7b16295e-37c0-4e0d-9d0a-4a1b49f44c79",
   "metadata": {},
   "outputs": [
    {
     "name": "stdout",
     "output_type": "stream",
     "text": [
      "[90.63448276 71.97931034 31.20689655 22.7862069  31.54482759  3.54137931\n",
      "  1.        ]\n",
      "[89.815  68.34   29.825  25.99   43.17    3.3925  2.    ]\n"
     ]
    }
   ],
   "source": [
    "# there does not appear to be a meaningful difference in the avg drinks per day between groups\n",
    "print(np.mean(grp_1, axis=0))\n",
    "print(np.mean(grp_2, axis=0))"
   ]
  },
  {
   "cell_type": "code",
   "execution_count": 80,
   "id": "361d95c8-2fc7-4f9c-a84e-4ec93baf4d61",
   "metadata": {},
   "outputs": [],
   "source": [
    "threshold = 5.0\n",
    "\n",
    "heavy = data_arr[data_arr[:,5] > threshold]\n",
    "light = data_arr[data_arr[:,5] <= threshold]"
   ]
  },
  {
   "cell_type": "code",
   "execution_count": 81,
   "id": "26770fee-8b64-475d-873c-b0139471390e",
   "metadata": {},
   "outputs": [
    {
     "data": {
      "text/plain": [
       "array([92.52272727, 72.88636364, 36.72727273, 28.88636364, 57.17045455,\n",
       "        7.98863636,  1.48863636])"
      ]
     },
     "execution_count": 81,
     "metadata": {},
     "output_type": "execute_result"
    }
   ],
   "source": [
    "np.mean(heavy, axis=0)"
   ]
  },
  {
   "cell_type": "code",
   "execution_count": 82,
   "id": "48bd6951-c0fc-416e-9c7f-c81fa8fed8c4",
   "metadata": {},
   "outputs": [
    {
     "data": {
      "text/plain": [
       "array([89.35019455, 68.83657588, 28.24124514, 23.19066148, 31.81712062,\n",
       "        1.90272374,  1.61089494])"
      ]
     },
     "execution_count": 82,
     "metadata": {},
     "output_type": "execute_result"
    }
   ],
   "source": [
    "np.mean(light, axis=0)"
   ]
  },
  {
   "cell_type": "code",
   "execution_count": 83,
   "id": "ddd559b7-4678-4945-96b2-68022034bbe2",
   "metadata": {},
   "outputs": [
    {
     "data": {
      "text/plain": [
       "Text(0, 0.5, 'mean corpuscular volume')"
      ]
     },
     "execution_count": 83,
     "metadata": {},
     "output_type": "execute_result"
    },
    {
     "data": {
      "image/png": "[encoded data removed]",
      "text/plain": [
       "<Figure size 432x288 with 1 Axes>"
      ]
     },
     "metadata": {
      "needs_background": "light"
     },
     "output_type": "display_data"
    }
   ],
   "source": [
    "plt.scatter(heavy[:,3],heavy[:,0], label='heavy drinkers', alpha=0.3)\n",
    "plt.scatter(light[:,3],light[:,0], label='light drinkers', alpha=0.3)\n",
    "\n",
    "plt.legend()\n",
    "\n",
    "plt.xlabel('aspartate aminotransferase')\n",
    "plt.ylabel('mean corpuscular volume')"
   ]
  },
  {
   "cell_type": "code",
   "execution_count": 84,
   "id": "9a3875cd-eb7e-475a-9aa6-be0775d2342b",
   "metadata": {},
   "outputs": [
    {
     "data": {
      "text/plain": [
       "Text(0, 0.5, 'alamine aminotransferase')"
      ]
     },
     "execution_count": 84,
     "metadata": {},
     "output_type": "execute_result"
    },
    {
     "data": {
      "image/png": "[encoded data removed]",
      "text/plain": [
       "<Figure size 432x288 with 1 Axes>"
      ]
     },
     "metadata": {
      "needs_background": "light"
     },
     "output_type": "display_data"
    }
   ],
   "source": [
    "plt.scatter(heavy[:,1],heavy[:,2], label='heavy drinkers', alpha=0.3)\n",
    "plt.scatter(light[:,1],light[:,2], label='light drinkers', alpha=0.3)\n",
    "plt.legend()\n",
    "\n",
    "plt.xlabel('alkaline phosphotase')\n",
    "plt.ylabel('alamine aminotransferase')"
   ]
  },
  {
   "cell_type": "code",
   "execution_count": 86,
   "id": "8513f4b9-f7f5-4757-911c-ab79fffdb8a6",
   "metadata": {},
   "outputs": [
    {
     "data": {
      "text/plain": [
       "Text(0, 0.5, 'gamma-glutamyl transpeptidase')"
      ]
     },
     "execution_count": 86,
     "metadata": {},
     "output_type": "execute_result"
    },
    {
     "data": {
      "image/png": "[encoded data removed]",
      "text/plain": [
       "<Figure size 432x288 with 1 Axes>"
      ]
     },
     "metadata": {
      "needs_background": "light"
     },
     "output_type": "display_data"
    }
   ],
   "source": [
    "plt.scatter(heavy[:,3],heavy[:,4], label='heavy drinkers', alpha=0.3)\n",
    "plt.scatter(light[:,3],light[:,4], label='light drinkers', alpha=0.3)\n",
    "plt.legend()\n",
    "\n",
    "plt.xlabel('aspartate aminotransferase')\n",
    "plt.ylabel('gamma-glutamyl transpeptidase')"
   ]
  },
  {
   "cell_type": "markdown",
   "id": "42a03af2-0761-461e-a26c-de50aaa872e0",
   "metadata": {},
   "source": [
    "### 4 \n",
    "Using some of what you learned by exploring the dataset, create an algorithm to make predictions. The basic function should take as input a vector of blood test values and then return the predicted number of drinks. How does it make this prediction? You decide for this assignment."
   ]
  },
  {
   "cell_type": "code",
   "execution_count": 143,
   "id": "525fe012-a672-4aa8-9667-7ff71efe8c50",
   "metadata": {},
   "outputs": [],
   "source": [
    "def get_avg_drinks(val, feature_slice):\n",
    "    ref_rows_ub = data_arr[data_arr[:,feature_slice] <= (val*1.025)]\n",
    "    ref_rows_lb = data_arr[data_arr[:,feature_slice] > (val*0.975)]\n",
    "    \n",
    "    ref_rows = np.concatenate((ref_rows_ub, ref_rows_ub))\n",
    "    return ref_rows[:,5].mean()\n",
    "    \n",
    "def predict(vector):\n",
    "    \n",
    "    sum_refs = []\n",
    "    for i in range(5):\n",
    "        sum_refs.append(get_avg_drinks(vector[i],i))\n",
    "        \n",
    "    return np.array(sum_refs).mean()\n",
    "    "
   ]
  },
  {
   "cell_type": "code",
   "execution_count": 138,
   "id": "3d34e54f-52af-4fae-a092-abe2d8642d40",
   "metadata": {},
   "outputs": [
    {
     "data": {
      "text/plain": [
       "2.7229435445675856"
      ]
     },
     "execution_count": 138,
     "metadata": {},
     "output_type": "execute_result"
    }
   ],
   "source": [
    "predict(data_arr[4,:])"
   ]
  },
  {
   "cell_type": "code",
   "execution_count": 139,
   "id": "9f87f959-6c84-4be8-b61c-4405f9f68ac5",
   "metadata": {},
   "outputs": [
    {
     "data": {
      "text/plain": [
       "0.0"
      ]
     },
     "execution_count": 139,
     "metadata": {},
     "output_type": "execute_result"
    }
   ],
   "source": [
    "data_arr[4,5]"
   ]
  },
  {
   "cell_type": "markdown",
   "id": "a5861e7d-c055-43f8-bfd3-1a5f29eef374",
   "metadata": {},
   "source": [
    "### 5\n",
    "Calculate your algorithm's prediction mean absolute error. Using several actual subjects from the dataset, put in the blood test values and see how far off your predictions are from the actual number of drinks."
   ]
  },
  {
   "cell_type": "code",
   "execution_count": 140,
   "id": "e68e5e96-23de-4e87-9049-8938e21edbf5",
   "metadata": {},
   "outputs": [
    {
     "data": {
      "text/plain": [
       "(345, 7)"
      ]
     },
     "execution_count": 140,
     "metadata": {},
     "output_type": "execute_result"
    }
   ],
   "source": [
    "data_arr.shape"
   ]
  },
  {
   "cell_type": "code",
   "execution_count": 141,
   "id": "5021adc4-be7e-4670-b335-57cd2dfdaeee",
   "metadata": {},
   "outputs": [],
   "source": [
    "def evaluate(dataset):\n",
    "    \n",
    "    errors = []\n",
    "    for i in range(data_arr.shape[0]):\n",
    "        actual = dataset[i,5]\n",
    "        pred = predict(dataset[i,:])\n",
    "        errors.append(actual - pred)\n",
    "    errors = np.array(errors)\n",
    "    errors = np.abs(errors)\n",
    "    return errors.mean()\n",
    "    "
   ]
  },
  {
   "cell_type": "code",
   "execution_count": 142,
   "id": "d02d4ae4-6261-4f24-8a37-7c60941a2054",
   "metadata": {},
   "outputs": [
    {
     "data": {
      "text/plain": [
       "2.497815568690785"
      ]
     },
     "execution_count": 142,
     "metadata": {},
     "output_type": "execute_result"
    }
   ],
   "source": [
    "evaluate(data_arr)"
   ]
  }
 ],
 "metadata": {
  "kernelspec": {
   "display_name": "Python 3 (ipykernel)",
   "language": "python",
   "name": "python3"
  },
  "language_info": {
   "codemirror_mode": {
    "name": "ipython",
    "version": 3
   },
   "file_extension": ".py",
   "mimetype": "text/x-python",
   "name": "python",
   "nbconvert_exporter": "python",
   "pygments_lexer": "ipython3",
   "version": "3.9.11"
  }
 },
 "nbformat": 4,
 "nbformat_minor": 5
}
