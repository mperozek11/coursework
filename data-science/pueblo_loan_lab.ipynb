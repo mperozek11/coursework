{
 "cells": [
  {
   "attachments": {},
   "cell_type": "markdown",
   "id": "4d82807f-a88a-4fc1-8abf-b55915b9044d",
   "metadata": {},
   "source": [
    "# HMDA Loan data"
   ]
  },
  {
   "attachments": {},
   "cell_type": "markdown",
   "id": "c927a347",
   "metadata": {},
   "source": [
    "Investigating relationship between recent loan data and historical redlining in Pueblo, CO."
   ]
  },
  {
   "cell_type": "code",
   "execution_count": 1,
   "id": "dfa631eb-4db7-493e-b0a7-3ed1bd611751",
   "metadata": {},
   "outputs": [],
   "source": [
    "import numpy as np\n",
    "import matplotlib.pyplot as plt\n",
    "from sklearn.preprocessing import OneHotEncoder\n",
    "from sklearn.preprocessing import StandardScaler\n",
    "from sklearn.linear_model import LinearRegression"
   ]
  },
  {
   "cell_type": "code",
   "execution_count": 2,
   "id": "18afd719-9b26-4145-8f90-8f86741a1096",
   "metadata": {},
   "outputs": [],
   "source": [
    "data_path = 'pueblo_mortgages.csv'"
   ]
  },
  {
   "cell_type": "code",
   "execution_count": 3,
   "id": "6541a469-2fa0-42be-9a50-b2cac2f1821a",
   "metadata": {},
   "outputs": [],
   "source": [
    "f = open(data_path)\n",
    "column_names = f.readline().split('\\t')\n",
    "f.close()"
   ]
  },
  {
   "cell_type": "code",
   "execution_count": 4,
   "id": "a550e7a7-27a3-426e-bb1f-98adbc64a8c9",
   "metadata": {},
   "outputs": [],
   "source": [
    "race_cols = ['applicant_race_name_1',\n",
    " 'applicant_race_1',\n",
    " 'applicant_race_name_2',\n",
    " 'applicant_race_2',\n",
    " 'applicant_race_name_3',\n",
    " 'applicant_race_3',\n",
    " 'applicant_race_name_4',\n",
    " 'applicant_race_4',\n",
    " 'applicant_race_name_5',\n",
    " 'applicant_race_5']"
   ]
  },
  {
   "cell_type": "code",
   "execution_count": 5,
   "id": "9c46fe4f-9a6b-42b9-bf26-54c023fb514e",
   "metadata": {},
   "outputs": [],
   "source": [
    "race_col_idxs = []\n",
    "for cname in race_cols:\n",
    "    race_col_idxs.append(column_names.index(cname))"
   ]
  },
  {
   "cell_type": "code",
   "execution_count": 6,
   "id": "1032ae67-3a75-4f32-a1a3-8e544c9ed108",
   "metadata": {
    "collapsed": true,
    "jupyter": {
     "outputs_hidden": true
    },
    "tags": []
   },
   "outputs": [
    {
     "data": {
      "text/plain": [
       "['# as_of_year',\n",
       " 'respondent_id',\n",
       " 'agency_name',\n",
       " 'agency_abbr',\n",
       " 'agency_code',\n",
       " 'loan_type_name',\n",
       " 'loan_type',\n",
       " 'property_type_name',\n",
       " 'property_type',\n",
       " 'loan_purpose_name',\n",
       " 'loan_purpose',\n",
       " 'owner_occupancy_name',\n",
       " 'owner_occupancy',\n",
       " 'loan_amount_000s',\n",
       " 'preapproval_name',\n",
       " 'preapproval',\n",
       " 'action_taken_name',\n",
       " 'action_taken',\n",
       " 'msamd_name',\n",
       " 'msamd',\n",
       " 'state_name',\n",
       " 'state_abbr',\n",
       " 'state_code',\n",
       " 'county_name',\n",
       " 'county_code',\n",
       " 'census_tract_number',\n",
       " 'applicant_ethnicity_name',\n",
       " 'applicant_ethnicity',\n",
       " 'co_applicant_ethnicity_name',\n",
       " 'co_applicant_ethnicity',\n",
       " 'applicant_race_name_1',\n",
       " 'applicant_race_1',\n",
       " 'applicant_race_name_2',\n",
       " 'applicant_race_2',\n",
       " 'applicant_race_name_3',\n",
       " 'applicant_race_3',\n",
       " 'applicant_race_name_4',\n",
       " 'applicant_race_4',\n",
       " 'applicant_race_name_5',\n",
       " 'applicant_race_5',\n",
       " 'co_applicant_race_name_1',\n",
       " 'co_applicant_race_1',\n",
       " 'co_applicant_race_name_2',\n",
       " 'co_applicant_race_2',\n",
       " 'co_applicant_race_name_3',\n",
       " 'co_applicant_race_3',\n",
       " 'co_applicant_race_name_4',\n",
       " 'co_applicant_race_4',\n",
       " 'co_applicant_race_name_5',\n",
       " 'co_applicant_race_5',\n",
       " 'applicant_sex_name',\n",
       " 'applicant_sex',\n",
       " 'co_applicant_sex_name',\n",
       " 'co_applicant_sex',\n",
       " 'applicant_income_000s',\n",
       " 'purchaser_type_name',\n",
       " 'purchaser_type',\n",
       " 'denial_reason_name_1',\n",
       " 'denial_reason_1',\n",
       " 'denial_reason_name_2',\n",
       " 'denial_reason_2',\n",
       " 'denial_reason_name_3',\n",
       " 'denial_reason_3',\n",
       " 'rate_spread',\n",
       " 'hoepa_status_name',\n",
       " 'hoepa_status',\n",
       " 'lien_status_name',\n",
       " 'lien_status',\n",
       " 'edit_status_name',\n",
       " 'edit_status',\n",
       " 'sequence_number',\n",
       " 'population',\n",
       " 'minority_population',\n",
       " 'hud_median_family_income',\n",
       " 'tract_to_msamd_income',\n",
       " 'number_of_owner_occupied_units',\n",
       " 'number_of_1_to_4_family_units',\n",
       " 'application_date_indicator',\n",
       " 'redlining_score\\n']"
      ]
     },
     "execution_count": 6,
     "metadata": {},
     "output_type": "execute_result"
    }
   ],
   "source": [
    "column_names"
   ]
  },
  {
   "cell_type": "code",
   "execution_count": 7,
   "id": "ec10f019-6e70-4176-a54c-39cfa29a71a6",
   "metadata": {},
   "outputs": [],
   "source": [
    "scaler = StandardScaler()"
   ]
  },
  {
   "cell_type": "code",
   "execution_count": 8,
   "id": "385ae99e-ec38-44e0-ab3e-c47d586c0334",
   "metadata": {},
   "outputs": [],
   "source": [
    "running_X = []"
   ]
  },
  {
   "cell_type": "code",
   "execution_count": 9,
   "id": "30847432-1008-4462-b73e-122105f73ca9",
   "metadata": {},
   "outputs": [
    {
     "data": {
      "text/plain": [
       "72"
      ]
     },
     "execution_count": 9,
     "metadata": {},
     "output_type": "execute_result"
    }
   ],
   "source": [
    "index = column_names.index('minority_population')\n",
    "index"
   ]
  },
  {
   "cell_type": "code",
   "execution_count": 10,
   "id": "0b57ec0e-e8ff-4e5d-b620-982aebaaa52c",
   "metadata": {},
   "outputs": [],
   "source": [
    "raw_data = np.genfromtxt(data_path, delimiter='\\t', dtype='str')"
   ]
  },
  {
   "cell_type": "code",
   "execution_count": 11,
   "id": "23fbfa3a-54bd-4599-b0c0-d14b872b4c58",
   "metadata": {},
   "outputs": [],
   "source": [
    "percent_minoritized = raw_data[:,index].astype('float').reshape(-1,1)"
   ]
  },
  {
   "cell_type": "code",
   "execution_count": 12,
   "id": "06a947d4-fa03-409e-87c3-5aef359bfab8",
   "metadata": {},
   "outputs": [],
   "source": [
    "percent_minoritized = scaler.fit_transform(percent_minoritized)"
   ]
  },
  {
   "cell_type": "code",
   "execution_count": 13,
   "id": "d4435dd8-7fde-474e-b153-29d70d50ac33",
   "metadata": {},
   "outputs": [],
   "source": [
    "running_X.append(percent_minoritized)"
   ]
  },
  {
   "cell_type": "code",
   "execution_count": 14,
   "id": "a43064c9-8a9b-4bfc-8c41-e1600ee1139e",
   "metadata": {},
   "outputs": [],
   "source": [
    "loan_type_index = column_names.index('loan_type')"
   ]
  },
  {
   "cell_type": "code",
   "execution_count": 15,
   "id": "7f916611-3ecf-4188-b53b-05e6efc9669e",
   "metadata": {},
   "outputs": [
    {
     "data": {
      "text/plain": [
       "array(['1', '1', '2', ..., '3', '1', '1'], dtype='<U81')"
      ]
     },
     "execution_count": 15,
     "metadata": {},
     "output_type": "execute_result"
    }
   ],
   "source": [
    "raw_data[:, loan_type_index]"
   ]
  },
  {
   "cell_type": "code",
   "execution_count": 16,
   "id": "c5bad340-9981-4f76-ba68-8de36846a52f",
   "metadata": {},
   "outputs": [],
   "source": [
    "loan_type_encoder = OneHotEncoder()"
   ]
  },
  {
   "cell_type": "code",
   "execution_count": 17,
   "id": "dd56c9c4-c649-412e-a16b-184bbeab6a18",
   "metadata": {},
   "outputs": [],
   "source": [
    "loan_type_onehots = loan_type_encoder.fit_transform(raw_data[:, loan_type_index].reshape(-1,1))"
   ]
  },
  {
   "cell_type": "code",
   "execution_count": 18,
   "id": "7293ed69-e677-4851-b676-dc363e977eee",
   "metadata": {},
   "outputs": [],
   "source": [
    "loan_type_onehots = loan_type_onehots.todense()"
   ]
  },
  {
   "cell_type": "code",
   "execution_count": 19,
   "id": "0a80dcad-f4df-4c24-a75f-af5ba2dc50bc",
   "metadata": {},
   "outputs": [],
   "source": [
    "running_X.append(loan_type_onehots)"
   ]
  },
  {
   "cell_type": "code",
   "execution_count": 20,
   "id": "a9785211-a29d-4b03-ae1c-e13ba3798806",
   "metadata": {},
   "outputs": [],
   "source": [
    "# RACE\n",
    "race = raw_data[:, column_names.index('applicant_race_1')]\n",
    "race = loan_type_encoder.fit_transform(race.reshape(-1,1)).todense()"
   ]
  },
  {
   "cell_type": "code",
   "execution_count": 21,
   "id": "8633c77d-a970-4810-9972-39270ba6e4d0",
   "metadata": {},
   "outputs": [],
   "source": [
    "running_X.append(race)"
   ]
  },
  {
   "cell_type": "code",
   "execution_count": 22,
   "id": "b39e87d6-56e7-462f-a46b-aef1f889ee78",
   "metadata": {},
   "outputs": [],
   "source": [
    "sex_onehots = loan_type_encoder.fit_transform(raw_data[:, column_names.index('applicant_sex')].reshape(-1,1)).todense()"
   ]
  },
  {
   "cell_type": "code",
   "execution_count": 23,
   "id": "9ca68af3-5782-4dc1-b8fe-d7f9eeaef7a1",
   "metadata": {},
   "outputs": [],
   "source": [
    "running_X.append(sex_onehots)"
   ]
  },
  {
   "cell_type": "code",
   "execution_count": 24,
   "id": "b5350bf6-cddd-4ae8-aaee-941087c04cd6",
   "metadata": {},
   "outputs": [],
   "source": [
    "loan_amt = raw_data[:, column_names.index('loan_amount_000s')].astype('float').reshape(-1,1)\n",
    "loan_amt = scaler.fit_transform(loan_amt)"
   ]
  },
  {
   "cell_type": "code",
   "execution_count": 25,
   "id": "fbe0ae7a-06af-4ad3-8d4c-58948fbb1469",
   "metadata": {},
   "outputs": [],
   "source": [
    "running_X.append(loan_amt)"
   ]
  },
  {
   "cell_type": "code",
   "execution_count": 26,
   "id": "023a8624-a836-4ce0-9063-aec1aefc951e",
   "metadata": {},
   "outputs": [],
   "source": [
    "rl_score = raw_data[:, column_names.index('redlining_score\\n')].astype('float').reshape(-1,1)"
   ]
  },
  {
   "cell_type": "code",
   "execution_count": 27,
   "id": "894b26df-9564-49b1-b504-c47142716e69",
   "metadata": {},
   "outputs": [],
   "source": [
    "running_X.append(rl_score)"
   ]
  },
  {
   "cell_type": "code",
   "execution_count": 28,
   "id": "927302e1-605a-46b8-8045-886c6cce1375",
   "metadata": {},
   "outputs": [],
   "source": [
    "full_X = np.concatenate(running_X, 1)"
   ]
  },
  {
   "cell_type": "code",
   "execution_count": 29,
   "id": "1a4a6e40-0bd8-486f-98a9-51244f3b5a0f",
   "metadata": {},
   "outputs": [
    {
     "data": {
      "text/plain": [
       "(3552, 16)"
      ]
     },
     "execution_count": 29,
     "metadata": {},
     "output_type": "execute_result"
    }
   ],
   "source": [
    "full_X.shape"
   ]
  },
  {
   "cell_type": "code",
   "execution_count": 30,
   "id": "25c7db6c-f544-459e-a381-263406ad59f3",
   "metadata": {},
   "outputs": [
    {
     "data": {
      "text/plain": [
       "matrix([[0.50153497],\n",
       "        [0.35456869],\n",
       "        [0.        ],\n",
       "        ...,\n",
       "        [0.666     ],\n",
       "        [0.        ],\n",
       "        [0.        ]])"
      ]
     },
     "execution_count": 30,
     "metadata": {},
     "output_type": "execute_result"
    }
   ],
   "source": [
    "full_X[:,-1]"
   ]
  },
  {
   "cell_type": "code",
   "execution_count": 31,
   "id": "0f34fcba-f989-40de-9222-6ad4de193ba8",
   "metadata": {},
   "outputs": [],
   "source": [
    "X = full_X[:, :-1]\n",
    "y = full_X[:,-1]"
   ]
  },
  {
   "cell_type": "code",
   "execution_count": 32,
   "id": "42489ca3-20b2-45df-a22d-ae5eccf60153",
   "metadata": {},
   "outputs": [],
   "source": [
    "l_model = LinearRegression()"
   ]
  },
  {
   "cell_type": "code",
   "execution_count": 36,
   "id": "59ac0ad7-8661-453e-ad90-e80068ff8d12",
   "metadata": {},
   "outputs": [
    {
     "data": {
      "text/html": [
       "<style>#sk-container-id-1 {color: black;background-color: white;}#sk-container-id-1 pre{padding: 0;}#sk-container-id-1 div.sk-toggleable {background-color: white;}#sk-container-id-1 label.sk-toggleable__label {cursor: pointer;display: block;width: 100%;margin-bottom: 0;padding: 0.3em;box-sizing: border-box;text-align: center;}#sk-container-id-1 label.sk-toggleable__label-arrow:before {content: \"▸\";float: left;margin-right: 0.25em;color: #696969;}#sk-container-id-1 label.sk-toggleable__label-arrow:hover:before {color: black;}#sk-container-id-1 div.sk-estimator:hover label.sk-toggleable__label-arrow:before {color: black;}#sk-container-id-1 div.sk-toggleable__content {max-height: 0;max-width: 0;overflow: hidden;text-align: left;background-color: #f0f8ff;}#sk-container-id-1 div.sk-toggleable__content pre {margin: 0.2em;color: black;border-radius: 0.25em;background-color: #f0f8ff;}#sk-container-id-1 input.sk-toggleable__control:checked~div.sk-toggleable__content {max-height: 200px;max-width: 100%;overflow: auto;}#sk-container-id-1 input.sk-toggleable__control:checked~label.sk-toggleable__label-arrow:before {content: \"▾\";}#sk-container-id-1 div.sk-estimator input.sk-toggleable__control:checked~label.sk-toggleable__label {background-color: #d4ebff;}#sk-container-id-1 div.sk-label input.sk-toggleable__control:checked~label.sk-toggleable__label {background-color: #d4ebff;}#sk-container-id-1 input.sk-hidden--visually {border: 0;clip: rect(1px 1px 1px 1px);clip: rect(1px, 1px, 1px, 1px);height: 1px;margin: -1px;overflow: hidden;padding: 0;position: absolute;width: 1px;}#sk-container-id-1 div.sk-estimator {font-family: monospace;background-color: #f0f8ff;border: 1px dotted black;border-radius: 0.25em;box-sizing: border-box;margin-bottom: 0.5em;}#sk-container-id-1 div.sk-estimator:hover {background-color: #d4ebff;}#sk-container-id-1 div.sk-parallel-item::after {content: \"\";width: 100%;border-bottom: 1px solid gray;flex-grow: 1;}#sk-container-id-1 div.sk-label:hover label.sk-toggleable__label {background-color: #d4ebff;}#sk-container-id-1 div.sk-serial::before {content: \"\";position: absolute;border-left: 1px solid gray;box-sizing: border-box;top: 0;bottom: 0;left: 50%;z-index: 0;}#sk-container-id-1 div.sk-serial {display: flex;flex-direction: column;align-items: center;background-color: white;padding-right: 0.2em;padding-left: 0.2em;position: relative;}#sk-container-id-1 div.sk-item {position: relative;z-index: 1;}#sk-container-id-1 div.sk-parallel {display: flex;align-items: stretch;justify-content: center;background-color: white;position: relative;}#sk-container-id-1 div.sk-item::before, #sk-container-id-1 div.sk-parallel-item::before {content: \"\";position: absolute;border-left: 1px solid gray;box-sizing: border-box;top: 0;bottom: 0;left: 50%;z-index: -1;}#sk-container-id-1 div.sk-parallel-item {display: flex;flex-direction: column;z-index: 1;position: relative;background-color: white;}#sk-container-id-1 div.sk-parallel-item:first-child::after {align-self: flex-end;width: 50%;}#sk-container-id-1 div.sk-parallel-item:last-child::after {align-self: flex-start;width: 50%;}#sk-container-id-1 div.sk-parallel-item:only-child::after {width: 0;}#sk-container-id-1 div.sk-dashed-wrapped {border: 1px dashed gray;margin: 0 0.4em 0.5em 0.4em;box-sizing: border-box;padding-bottom: 0.4em;background-color: white;}#sk-container-id-1 div.sk-label label {font-family: monospace;font-weight: bold;display: inline-block;line-height: 1.2em;}#sk-container-id-1 div.sk-label-container {text-align: center;}#sk-container-id-1 div.sk-container {/* jupyter's `normalize.less` sets `[hidden] { display: none; }` but bootstrap.min.css set `[hidden] { display: none !important; }` so we also need the `!important` here to be able to override the default hidden behavior on the sphinx rendered scikit-learn.org. See: https://github.com/scikit-learn/scikit-learn/issues/21755 */display: inline-block !important;position: relative;}#sk-container-id-1 div.sk-text-repr-fallback {display: none;}</style><div id=\"sk-container-id-1\" class=\"sk-top-container\"><div class=\"sk-text-repr-fallback\"><pre>LinearRegression()</pre><b>In a Jupyter environment, please rerun this cell to show the HTML representation or trust the notebook. <br />On GitHub, the HTML representation is unable to render, please try loading this page with nbviewer.org.</b></div><div class=\"sk-container\" hidden><div class=\"sk-item\"><div class=\"sk-estimator sk-toggleable\"><input class=\"sk-toggleable__control sk-hidden--visually\" id=\"sk-estimator-id-1\" type=\"checkbox\" checked><label for=\"sk-estimator-id-1\" class=\"sk-toggleable__label sk-toggleable__label-arrow\">LinearRegression</label><div class=\"sk-toggleable__content\"><pre>LinearRegression()</pre></div></div></div></div></div>"
      ],
      "text/plain": [
       "LinearRegression()"
      ]
     },
     "execution_count": 36,
     "metadata": {},
     "output_type": "execute_result"
    }
   ],
   "source": [
    "l_model.fit(np.asarray(X), np.asarray(y))"
   ]
  },
  {
   "cell_type": "code",
   "execution_count": 37,
   "id": "f0f13f0a-df1a-4be9-8956-b2b214d9e5f3",
   "metadata": {},
   "outputs": [],
   "source": [
    "import torch\n",
    "from sklearn.model_selection import train_test_split"
   ]
  },
  {
   "cell_type": "code",
   "execution_count": 38,
   "id": "8047544f-5824-4533-9211-3cb92a40d64f",
   "metadata": {},
   "outputs": [],
   "source": [
    "X_train, X_test, y_train, y_test = train_test_split(X, y, test_size=0.15, random_state=11)"
   ]
  },
  {
   "cell_type": "code",
   "execution_count": 39,
   "id": "5d363eb1-7d1a-4ed4-b855-fd6242e3ef68",
   "metadata": {},
   "outputs": [],
   "source": [
    "batch_size = 64\n",
    "train_data = torch.utils.data.TensorDataset(torch.tensor(X_train).float(), torch.tensor(y_train.reshape(-1,1)).float())\n",
    "train_loader = torch.utils.data.DataLoader(train_data, batch_size=batch_size, shuffle=True)"
   ]
  },
  {
   "cell_type": "code",
   "execution_count": 40,
   "id": "65fda8d2-46fb-4290-83b6-129222932a00",
   "metadata": {},
   "outputs": [],
   "source": [
    "model = torch.nn.Sequential(\n",
    "    torch.nn.Linear(X.shape[1], 128),\n",
    "    torch.nn.ReLU(),\n",
    "    torch.nn.Linear(128, 128),\n",
    "    torch.nn.ReLU(),\n",
    "    torch.nn.Linear(128, 1),\n",
    "    torch.nn.Sigmoid()\n",
    ")"
   ]
  },
  {
   "cell_type": "code",
   "execution_count": 41,
   "id": "d116e675-fad0-4c88-9d30-06691e16efe0",
   "metadata": {},
   "outputs": [],
   "source": [
    "optimizer = torch.optim.Adam(model.parameters())"
   ]
  },
  {
   "cell_type": "code",
   "execution_count": 42,
   "id": "6ce5b97d-0d2c-47d6-b018-9d6bbf77539d",
   "metadata": {},
   "outputs": [],
   "source": [
    "loss = torch.nn.MSELoss()"
   ]
  },
  {
   "cell_type": "code",
   "execution_count": 43,
   "id": "9391f202-ce6f-48e5-b465-a81074616dd2",
   "metadata": {},
   "outputs": [],
   "source": [
    "for i in range(100):\n",
    "    for batch in train_loader:\n",
    "        optimizer.zero_grad()\n",
    "\n",
    "        batchX = batch[0]\n",
    "        batchY = batch[1]\n",
    "\n",
    "        preds = model(batchX)\n",
    "\n",
    "        l = loss(preds, batchY)\n",
    "        # print(loss)\n",
    "        l.backward()\n",
    "        optimizer.step()\n"
   ]
  },
  {
   "cell_type": "code",
   "execution_count": 44,
   "id": "f58ac9cf-f4e1-48f5-ab06-944bcf7b8f9d",
   "metadata": {},
   "outputs": [
    {
     "data": {
      "text/plain": [
       "tensor([[1.9138e-06],\n",
       "        [1.5145e-01],\n",
       "        [2.9175e-11],\n",
       "        [3.5892e-02],\n",
       "        [7.2342e-01],\n",
       "        [1.7575e-02],\n",
       "        [1.6929e-01],\n",
       "        [1.5381e-01],\n",
       "        [2.3022e-01],\n",
       "        [3.5341e-01],\n",
       "        [1.5040e-01],\n",
       "        [1.4441e-01],\n",
       "        [8.3687e-02],\n",
       "        [2.8117e-02],\n",
       "        [2.6521e-03],\n",
       "        [5.3436e-01],\n",
       "        [5.3573e-11],\n",
       "        [1.7119e-01],\n",
       "        [2.8541e-03],\n",
       "        [1.9586e-01],\n",
       "        [2.1086e-01],\n",
       "        [1.1239e-01],\n",
       "        [2.9093e-02],\n",
       "        [2.4564e-11],\n",
       "        [4.1026e-01],\n",
       "        [1.4312e-10],\n",
       "        [2.8813e-01],\n",
       "        [9.1684e-02],\n",
       "        [3.2963e-01],\n",
       "        [1.0042e-01],\n",
       "        [1.4792e-01],\n",
       "        [4.5812e-01],\n",
       "        [3.4650e-01],\n",
       "        [4.1031e-01],\n",
       "        [5.7318e-01],\n",
       "        [1.4945e-06],\n",
       "        [2.5337e-03],\n",
       "        [1.5429e-01],\n",
       "        [5.5844e-04],\n",
       "        [2.1163e-01],\n",
       "        [5.3879e-02],\n",
       "        [8.5287e-02],\n",
       "        [4.1543e-01],\n",
       "        [7.7552e-02],\n",
       "        [1.2948e-02],\n",
       "        [5.7471e-01],\n",
       "        [1.5636e-07],\n",
       "        [5.7380e-02],\n",
       "        [2.6001e-01],\n",
       "        [1.5217e-01],\n",
       "        [1.2213e-06],\n",
       "        [2.6794e-03],\n",
       "        [8.8235e-01],\n",
       "        [4.8224e-02],\n",
       "        [1.6710e-01],\n",
       "        [6.8134e-02],\n",
       "        [1.3691e-01],\n",
       "        [5.1053e-01],\n",
       "        [1.9536e-01],\n",
       "        [6.1846e-01],\n",
       "        [1.3735e-01],\n",
       "        [1.8589e-03],\n",
       "        [1.7381e-01],\n",
       "        [3.7437e-11],\n",
       "        [2.4405e-07],\n",
       "        [3.5921e-02],\n",
       "        [2.2760e-01],\n",
       "        [9.6327e-03],\n",
       "        [4.8449e-01],\n",
       "        [1.9322e-01],\n",
       "        [1.7929e-01],\n",
       "        [1.8498e-01],\n",
       "        [7.2869e-01],\n",
       "        [4.0407e-01],\n",
       "        [3.2744e-01],\n",
       "        [1.7782e-01],\n",
       "        [1.1498e-01],\n",
       "        [2.1394e-02],\n",
       "        [5.0837e-01],\n",
       "        [8.9087e-02],\n",
       "        [1.6498e-01],\n",
       "        [8.1376e-02],\n",
       "        [9.5637e-02],\n",
       "        [7.8356e-01],\n",
       "        [1.1924e-01],\n",
       "        [1.4763e-01],\n",
       "        [2.2862e-01],\n",
       "        [5.6756e-01],\n",
       "        [1.2301e-01],\n",
       "        [1.9782e-01],\n",
       "        [1.9116e-03],\n",
       "        [8.3243e-04],\n",
       "        [1.2754e-01],\n",
       "        [8.5345e-02],\n",
       "        [5.7971e-04],\n",
       "        [1.2802e-03],\n",
       "        [1.5411e-01],\n",
       "        [8.4202e-02],\n",
       "        [7.2840e-02],\n",
       "        [5.9249e-01],\n",
       "        [1.1767e-06],\n",
       "        [4.9712e-02],\n",
       "        [3.7262e-01],\n",
       "        [1.1690e-02],\n",
       "        [4.8590e-02],\n",
       "        [5.3890e-01],\n",
       "        [7.1129e-07],\n",
       "        [1.1254e-01],\n",
       "        [2.2530e-01],\n",
       "        [1.9237e-01],\n",
       "        [5.5574e-01],\n",
       "        [2.0771e-01],\n",
       "        [1.8441e-01],\n",
       "        [9.1809e-02],\n",
       "        [5.8245e-03],\n",
       "        [6.2581e-02],\n",
       "        [1.3081e-01],\n",
       "        [5.1907e-02],\n",
       "        [8.3546e-07],\n",
       "        [2.3396e-01],\n",
       "        [1.9492e-01],\n",
       "        [1.3645e-01],\n",
       "        [2.4419e-01],\n",
       "        [1.1978e-06],\n",
       "        [1.2066e-01],\n",
       "        [1.3876e-01],\n",
       "        [1.7578e-01],\n",
       "        [1.1289e-01],\n",
       "        [1.9149e-02],\n",
       "        [4.1928e-01],\n",
       "        [6.5090e-01],\n",
       "        [6.6695e-01],\n",
       "        [4.5769e-02],\n",
       "        [1.2737e-11],\n",
       "        [3.1713e-01],\n",
       "        [2.2251e-01],\n",
       "        [1.2266e-01],\n",
       "        [1.9303e-03],\n",
       "        [8.3289e-02],\n",
       "        [3.5299e-01],\n",
       "        [7.4518e-02],\n",
       "        [5.3707e-02],\n",
       "        [6.0131e-01],\n",
       "        [2.2821e-01],\n",
       "        [3.2135e-01],\n",
       "        [2.1974e-01],\n",
       "        [2.7018e-03],\n",
       "        [1.6692e-02],\n",
       "        [1.6354e-01],\n",
       "        [6.2620e-01],\n",
       "        [9.4033e-02],\n",
       "        [1.4335e-01],\n",
       "        [8.2947e-02],\n",
       "        [1.6577e-01],\n",
       "        [7.3458e-01],\n",
       "        [2.4589e-01],\n",
       "        [2.7311e-04],\n",
       "        [1.7493e-02],\n",
       "        [2.2796e-01],\n",
       "        [3.4803e-02],\n",
       "        [4.3824e-01],\n",
       "        [4.4084e-02],\n",
       "        [2.7914e-02],\n",
       "        [6.0683e-01],\n",
       "        [1.3449e-01],\n",
       "        [1.5333e-01],\n",
       "        [4.6675e-02],\n",
       "        [9.0106e-02],\n",
       "        [1.5699e-01],\n",
       "        [2.1093e-02],\n",
       "        [5.3789e-02],\n",
       "        [4.8233e-01],\n",
       "        [4.7396e-01],\n",
       "        [8.0899e-04],\n",
       "        [3.1317e-01],\n",
       "        [1.3735e-01],\n",
       "        [1.3595e-01],\n",
       "        [3.4140e-01],\n",
       "        [1.0619e-01],\n",
       "        [1.2842e-03],\n",
       "        [4.5309e-02],\n",
       "        [4.0410e-01],\n",
       "        [7.5714e-02],\n",
       "        [6.2295e-01],\n",
       "        [2.8690e-01],\n",
       "        [5.1458e-01],\n",
       "        [4.9249e-01],\n",
       "        [8.3433e-04],\n",
       "        [2.0393e-01],\n",
       "        [6.7405e-01],\n",
       "        [7.4072e-02],\n",
       "        [3.0018e-10],\n",
       "        [8.0437e-01],\n",
       "        [7.2614e-01],\n",
       "        [3.6730e-02],\n",
       "        [6.6809e-02],\n",
       "        [1.0547e-01],\n",
       "        [1.3218e-01],\n",
       "        [1.2783e-01],\n",
       "        [3.6073e-01],\n",
       "        [1.9654e-01],\n",
       "        [3.0072e-01],\n",
       "        [8.0371e-02],\n",
       "        [1.7913e-01],\n",
       "        [3.7759e-01],\n",
       "        [6.5302e-01],\n",
       "        [2.0405e-01],\n",
       "        [3.4376e-02],\n",
       "        [1.2689e-01],\n",
       "        [2.7978e-02],\n",
       "        [1.0374e-02],\n",
       "        [1.7601e-10],\n",
       "        [3.4945e-01],\n",
       "        [7.9310e-02],\n",
       "        [1.7930e-02],\n",
       "        [3.0530e-01],\n",
       "        [1.9280e-02],\n",
       "        [1.0283e-01],\n",
       "        [2.3227e-01],\n",
       "        [1.0875e-01],\n",
       "        [1.2174e-01],\n",
       "        [5.8455e-01],\n",
       "        [2.2465e-03],\n",
       "        [4.4662e-01],\n",
       "        [4.0675e-03],\n",
       "        [2.2384e-03],\n",
       "        [1.6404e-01],\n",
       "        [7.0733e-01],\n",
       "        [2.6431e-01],\n",
       "        [6.8973e-01],\n",
       "        [1.6316e-01],\n",
       "        [7.5073e-08],\n",
       "        [5.2504e-03],\n",
       "        [3.5669e-01],\n",
       "        [1.1361e-01],\n",
       "        [6.6780e-01],\n",
       "        [9.8737e-04],\n",
       "        [1.9047e-01],\n",
       "        [8.2188e-02],\n",
       "        [4.3213e-02],\n",
       "        [1.4387e-01],\n",
       "        [9.6103e-02],\n",
       "        [1.5625e-06],\n",
       "        [4.4322e-01],\n",
       "        [8.6042e-02],\n",
       "        [5.1376e-01],\n",
       "        [5.7490e-01],\n",
       "        [5.3335e-01],\n",
       "        [1.8144e-01],\n",
       "        [5.7637e-02],\n",
       "        [1.7345e-03],\n",
       "        [2.1931e-01],\n",
       "        [5.0873e-01],\n",
       "        [2.6495e-01],\n",
       "        [3.2944e-02],\n",
       "        [1.7422e-03],\n",
       "        [1.3581e-01],\n",
       "        [5.0653e-01],\n",
       "        [1.6599e-01],\n",
       "        [2.5452e-06],\n",
       "        [1.6011e-01],\n",
       "        [3.5512e-01],\n",
       "        [6.5528e-02],\n",
       "        [1.8181e-02],\n",
       "        [6.4502e-04],\n",
       "        [2.1633e-01],\n",
       "        [2.4781e-01],\n",
       "        [3.7959e-01],\n",
       "        [1.5427e-01],\n",
       "        [2.4830e-03],\n",
       "        [1.6623e-01],\n",
       "        [6.7066e-01],\n",
       "        [1.1332e-10],\n",
       "        [2.5730e-03],\n",
       "        [1.9351e-01],\n",
       "        [2.2138e-02],\n",
       "        [1.0532e-01],\n",
       "        [2.6072e-02],\n",
       "        [2.1336e-01],\n",
       "        [5.9018e-01],\n",
       "        [3.1296e-08],\n",
       "        [3.9656e-02],\n",
       "        [6.9763e-02],\n",
       "        [4.1105e-01],\n",
       "        [6.9737e-01],\n",
       "        [5.9771e-03],\n",
       "        [3.0415e-02],\n",
       "        [1.4344e-06],\n",
       "        [3.4623e-02],\n",
       "        [4.7604e-02],\n",
       "        [1.3498e-01],\n",
       "        [9.5855e-11],\n",
       "        [2.2790e-01],\n",
       "        [3.4758e-03],\n",
       "        [2.2883e-01],\n",
       "        [1.1367e-01],\n",
       "        [2.5334e-02],\n",
       "        [3.8158e-01],\n",
       "        [9.1503e-11],\n",
       "        [4.7846e-02],\n",
       "        [6.0479e-01],\n",
       "        [2.2130e-01],\n",
       "        [1.9106e-11],\n",
       "        [6.7187e-01],\n",
       "        [1.5455e-01],\n",
       "        [1.8814e-01],\n",
       "        [1.7485e-01],\n",
       "        [1.4867e-01],\n",
       "        [1.4112e-01],\n",
       "        [7.2105e-07],\n",
       "        [9.2582e-02],\n",
       "        [8.0054e-01],\n",
       "        [3.7202e-01],\n",
       "        [1.8485e-01],\n",
       "        [3.4570e-03],\n",
       "        [1.4636e-01],\n",
       "        [1.6437e-01],\n",
       "        [2.0279e-01],\n",
       "        [5.0413e-01],\n",
       "        [8.3072e-04],\n",
       "        [4.3483e-01],\n",
       "        [6.7388e-01],\n",
       "        [1.3118e-01],\n",
       "        [2.2191e-02],\n",
       "        [1.7422e-03],\n",
       "        [7.9215e-01],\n",
       "        [9.6745e-03],\n",
       "        [1.2227e-01],\n",
       "        [4.6340e-02],\n",
       "        [1.4153e-01],\n",
       "        [1.7495e-01],\n",
       "        [1.7015e-01],\n",
       "        [2.0945e-01],\n",
       "        [2.2013e-01],\n",
       "        [1.3462e-01],\n",
       "        [2.7022e-10],\n",
       "        [1.3848e-02],\n",
       "        [3.8451e-02],\n",
       "        [5.9090e-02],\n",
       "        [4.9763e-02],\n",
       "        [5.9998e-03],\n",
       "        [5.9723e-01],\n",
       "        [5.8526e-02],\n",
       "        [4.7443e-01],\n",
       "        [1.9153e-01],\n",
       "        [5.7933e-03],\n",
       "        [3.4689e-01],\n",
       "        [1.5360e-01],\n",
       "        [1.5479e-01],\n",
       "        [1.5115e-02],\n",
       "        [5.9507e-01],\n",
       "        [7.8451e-15],\n",
       "        [4.7987e-01],\n",
       "        [3.0602e-02],\n",
       "        [1.4528e-03],\n",
       "        [2.4878e-01],\n",
       "        [6.7737e-01],\n",
       "        [3.4912e-02],\n",
       "        [1.3478e-01],\n",
       "        [6.5302e-01],\n",
       "        [1.3337e-06],\n",
       "        [2.2191e-01],\n",
       "        [1.1732e-01],\n",
       "        [8.1621e-01],\n",
       "        [2.2846e-01],\n",
       "        [5.4659e-01],\n",
       "        [7.5285e-01],\n",
       "        [4.8110e-02],\n",
       "        [1.0546e-01],\n",
       "        [7.7371e-01],\n",
       "        [1.1870e-01],\n",
       "        [1.7981e-01],\n",
       "        [2.1743e-01],\n",
       "        [4.4993e-02],\n",
       "        [7.2069e-01],\n",
       "        [2.2848e-10],\n",
       "        [4.3293e-02],\n",
       "        [1.2978e-02],\n",
       "        [6.7108e-02],\n",
       "        [3.2183e-01],\n",
       "        [1.8964e-01],\n",
       "        [5.1717e-01],\n",
       "        [1.2467e-01],\n",
       "        [6.5147e-01],\n",
       "        [1.4186e-01],\n",
       "        [2.5633e-01],\n",
       "        [8.5543e-03],\n",
       "        [3.8209e-02],\n",
       "        [7.1126e-02],\n",
       "        [7.8387e-02],\n",
       "        [9.9023e-02],\n",
       "        [2.1426e-01],\n",
       "        [1.5656e-01],\n",
       "        [5.8121e-03],\n",
       "        [5.5465e-02],\n",
       "        [3.6339e-11],\n",
       "        [4.6747e-01],\n",
       "        [1.9165e-02],\n",
       "        [5.0471e-01],\n",
       "        [2.0395e-01],\n",
       "        [6.1673e-01],\n",
       "        [7.3198e-02],\n",
       "        [3.4844e-01],\n",
       "        [2.1614e-01],\n",
       "        [1.4033e-01],\n",
       "        [2.0908e-04],\n",
       "        [1.2241e-02],\n",
       "        [7.8261e-02],\n",
       "        [1.5541e-01],\n",
       "        [3.0594e-03],\n",
       "        [7.8737e-02],\n",
       "        [2.9147e-03],\n",
       "        [7.1979e-02],\n",
       "        [1.1635e-06],\n",
       "        [7.8737e-02],\n",
       "        [3.5894e-03],\n",
       "        [9.6919e-01],\n",
       "        [4.3937e-01],\n",
       "        [1.0533e-01],\n",
       "        [3.2375e-07],\n",
       "        [1.5241e-10],\n",
       "        [5.9400e-02],\n",
       "        [1.1280e-02],\n",
       "        [4.2665e-03],\n",
       "        [1.7539e-01],\n",
       "        [5.6262e-01],\n",
       "        [1.0849e-02],\n",
       "        [6.0452e-02],\n",
       "        [9.0245e-02],\n",
       "        [2.1721e-01],\n",
       "        [2.1055e-02],\n",
       "        [3.1590e-02],\n",
       "        [2.6267e-01],\n",
       "        [1.5927e-01],\n",
       "        [3.4789e-02],\n",
       "        [3.2490e-01],\n",
       "        [1.4610e-01],\n",
       "        [8.3881e-02],\n",
       "        [2.2352e-01],\n",
       "        [6.8277e-02],\n",
       "        [1.7753e-01],\n",
       "        [4.2824e-02],\n",
       "        [1.9658e-01],\n",
       "        [5.0525e-01],\n",
       "        [1.6235e-01],\n",
       "        [2.9648e-01],\n",
       "        [2.1969e-01],\n",
       "        [2.0861e-01],\n",
       "        [2.1404e-01],\n",
       "        [1.8787e-03],\n",
       "        [4.4028e-01],\n",
       "        [5.4403e-11],\n",
       "        [1.7421e-02],\n",
       "        [3.1252e-01],\n",
       "        [8.3921e-07],\n",
       "        [3.4544e-01],\n",
       "        [5.8409e-01],\n",
       "        [4.1653e-05],\n",
       "        [6.4450e-03],\n",
       "        [1.4456e-07],\n",
       "        [1.6438e-01],\n",
       "        [1.4589e-01],\n",
       "        [2.9097e-01],\n",
       "        [7.8202e-02],\n",
       "        [6.6584e-01],\n",
       "        [2.8325e-03],\n",
       "        [5.4985e-02],\n",
       "        [6.0705e-01],\n",
       "        [1.1301e-01],\n",
       "        [9.6698e-07],\n",
       "        [4.0297e-01],\n",
       "        [5.7715e-01],\n",
       "        [1.5149e-03],\n",
       "        [2.0311e-01],\n",
       "        [3.6609e-01],\n",
       "        [1.5803e-01],\n",
       "        [2.4141e-01],\n",
       "        [8.5097e-02],\n",
       "        [2.0878e-01],\n",
       "        [2.4382e-03],\n",
       "        [1.6056e-01],\n",
       "        [1.5438e-01],\n",
       "        [5.5511e-02],\n",
       "        [8.8253e-03],\n",
       "        [2.8844e-01],\n",
       "        [1.0099e-01],\n",
       "        [3.5170e-02],\n",
       "        [1.2112e-03],\n",
       "        [7.8858e-02],\n",
       "        [2.7526e-07],\n",
       "        [5.2096e-01],\n",
       "        [2.6400e-02],\n",
       "        [7.8796e-01],\n",
       "        [1.5649e-01],\n",
       "        [6.8232e-03],\n",
       "        [7.2319e-01],\n",
       "        [1.1615e-01],\n",
       "        [2.7006e-03],\n",
       "        [1.5755e-01],\n",
       "        [4.1383e-01],\n",
       "        [5.7904e-07],\n",
       "        [2.0018e-01],\n",
       "        [1.4944e-01],\n",
       "        [1.0790e-06],\n",
       "        [1.2487e-06],\n",
       "        [2.5257e-13],\n",
       "        [1.3634e-01],\n",
       "        [1.3185e-01],\n",
       "        [1.4732e-02],\n",
       "        [3.5190e-02],\n",
       "        [1.2696e-06],\n",
       "        [1.9184e-01],\n",
       "        [1.5097e-09],\n",
       "        [7.1284e-01],\n",
       "        [3.2937e-03],\n",
       "        [3.2939e-02],\n",
       "        [1.0213e-01],\n",
       "        [9.1001e-02],\n",
       "        [1.5861e-01],\n",
       "        [2.5563e-01],\n",
       "        [6.1282e-01],\n",
       "        [1.9746e-01],\n",
       "        [5.9100e-02],\n",
       "        [1.5988e-01],\n",
       "        [2.4609e-01],\n",
       "        [1.5655e-01],\n",
       "        [2.5336e-01],\n",
       "        [4.7681e-03],\n",
       "        [3.4117e-03],\n",
       "        [1.7721e-03],\n",
       "        [2.8671e-14],\n",
       "        [4.2725e-02],\n",
       "        [5.3741e-01]], grad_fn=<SigmoidBackward0>)"
      ]
     },
     "execution_count": 44,
     "metadata": {},
     "output_type": "execute_result"
    }
   ],
   "source": [
    "model(torch.tensor(X_test).float())"
   ]
  },
  {
   "cell_type": "code",
   "execution_count": null,
   "id": "1dc827e8-8a11-43c3-ac6e-b0f0c7f134b4",
   "metadata": {},
   "outputs": [],
   "source": []
  }
 ],
 "metadata": {
  "kernelspec": {
   "display_name": "Python 3 (ipykernel)",
   "language": "python",
   "name": "python3"
  },
  "language_info": {
   "codemirror_mode": {
    "name": "ipython",
    "version": 3
   },
   "file_extension": ".py",
   "mimetype": "text/x-python",
   "name": "python",
   "nbconvert_exporter": "python",
   "pygments_lexer": "ipython3",
   "version": "3.10.10"
  }
 },
 "nbformat": 4,
 "nbformat_minor": 5
}
