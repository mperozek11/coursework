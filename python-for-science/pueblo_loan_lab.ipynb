{
 "cells": [
  {
   "cell_type": "markdown",
   "id": "4d82807f-a88a-4fc1-8abf-b55915b9044d",
   "metadata": {},
   "source": [
    "# HMDA Loan data"
   ]
  },
  {
   "cell_type": "code",
   "execution_count": 163,
   "id": "dfa631eb-4db7-493e-b0a7-3ed1bd611751",
   "metadata": {},
   "outputs": [],
   "source": [
    "import numpy as np\n",
    "import matplotlib.pyplot as plt\n",
    "from sklearn.preprocessing import OneHotEncoder\n",
    "from sklearn.preprocessing import StandardScaler\n",
    "from sklearn.linear_model import LinearRegression"
   ]
  },
  {
   "cell_type": "code",
   "execution_count": 169,
   "id": "18afd719-9b26-4145-8f90-8f86741a1096",
   "metadata": {},
   "outputs": [],
   "source": [
    "data_path = '/Users/maxperozek/py4sci/pueblo_mortgages.csv'"
   ]
  },
  {
   "cell_type": "code",
   "execution_count": 170,
   "id": "6541a469-2fa0-42be-9a50-b2cac2f1821a",
   "metadata": {},
   "outputs": [],
   "source": [
    "f = open(data_path)\n",
    "column_names = f.readline().split('\\t')\n",
    "f.close()"
   ]
  },
  {
   "cell_type": "code",
   "execution_count": 171,
   "id": "a550e7a7-27a3-426e-bb1f-98adbc64a8c9",
   "metadata": {},
   "outputs": [],
   "source": [
    "race_cols = ['applicant_race_name_1',\n",
    " 'applicant_race_1',\n",
    " 'applicant_race_name_2',\n",
    " 'applicant_race_2',\n",
    " 'applicant_race_name_3',\n",
    " 'applicant_race_3',\n",
    " 'applicant_race_name_4',\n",
    " 'applicant_race_4',\n",
    " 'applicant_race_name_5',\n",
    " 'applicant_race_5']"
   ]
  },
  {
   "cell_type": "code",
   "execution_count": 172,
   "id": "9c46fe4f-9a6b-42b9-bf26-54c023fb514e",
   "metadata": {},
   "outputs": [],
   "source": [
    "race_col_idxs = []\n",
    "for cname in race_cols:\n",
    "    race_col_idxs.append(column_names.index(cname))"
   ]
  },
  {
   "cell_type": "code",
   "execution_count": 173,
   "id": "1032ae67-3a75-4f32-a1a3-8e544c9ed108",
   "metadata": {
    "collapsed": true,
    "jupyter": {
     "outputs_hidden": true
    },
    "tags": []
   },
   "outputs": [
    {
     "data": {
      "text/plain": [
       "['# as_of_year',\n",
       " 'respondent_id',\n",
       " 'agency_name',\n",
       " 'agency_abbr',\n",
       " 'agency_code',\n",
       " 'loan_type_name',\n",
       " 'loan_type',\n",
       " 'property_type_name',\n",
       " 'property_type',\n",
       " 'loan_purpose_name',\n",
       " 'loan_purpose',\n",
       " 'owner_occupancy_name',\n",
       " 'owner_occupancy',\n",
       " 'loan_amount_000s',\n",
       " 'preapproval_name',\n",
       " 'preapproval',\n",
       " 'action_taken_name',\n",
       " 'action_taken',\n",
       " 'msamd_name',\n",
       " 'msamd',\n",
       " 'state_name',\n",
       " 'state_abbr',\n",
       " 'state_code',\n",
       " 'county_name',\n",
       " 'county_code',\n",
       " 'census_tract_number',\n",
       " 'applicant_ethnicity_name',\n",
       " 'applicant_ethnicity',\n",
       " 'co_applicant_ethnicity_name',\n",
       " 'co_applicant_ethnicity',\n",
       " 'applicant_race_name_1',\n",
       " 'applicant_race_1',\n",
       " 'applicant_race_name_2',\n",
       " 'applicant_race_2',\n",
       " 'applicant_race_name_3',\n",
       " 'applicant_race_3',\n",
       " 'applicant_race_name_4',\n",
       " 'applicant_race_4',\n",
       " 'applicant_race_name_5',\n",
       " 'applicant_race_5',\n",
       " 'co_applicant_race_name_1',\n",
       " 'co_applicant_race_1',\n",
       " 'co_applicant_race_name_2',\n",
       " 'co_applicant_race_2',\n",
       " 'co_applicant_race_name_3',\n",
       " 'co_applicant_race_3',\n",
       " 'co_applicant_race_name_4',\n",
       " 'co_applicant_race_4',\n",
       " 'co_applicant_race_name_5',\n",
       " 'co_applicant_race_5',\n",
       " 'applicant_sex_name',\n",
       " 'applicant_sex',\n",
       " 'co_applicant_sex_name',\n",
       " 'co_applicant_sex',\n",
       " 'applicant_income_000s',\n",
       " 'purchaser_type_name',\n",
       " 'purchaser_type',\n",
       " 'denial_reason_name_1',\n",
       " 'denial_reason_1',\n",
       " 'denial_reason_name_2',\n",
       " 'denial_reason_2',\n",
       " 'denial_reason_name_3',\n",
       " 'denial_reason_3',\n",
       " 'rate_spread',\n",
       " 'hoepa_status_name',\n",
       " 'hoepa_status',\n",
       " 'lien_status_name',\n",
       " 'lien_status',\n",
       " 'edit_status_name',\n",
       " 'edit_status',\n",
       " 'sequence_number',\n",
       " 'population',\n",
       " 'minority_population',\n",
       " 'hud_median_family_income',\n",
       " 'tract_to_msamd_income',\n",
       " 'number_of_owner_occupied_units',\n",
       " 'number_of_1_to_4_family_units',\n",
       " 'application_date_indicator',\n",
       " 'redlining_score\\n']"
      ]
     },
     "execution_count": 173,
     "metadata": {},
     "output_type": "execute_result"
    }
   ],
   "source": [
    "column_names"
   ]
  },
  {
   "cell_type": "code",
   "execution_count": 174,
   "id": "ec10f019-6e70-4176-a54c-39cfa29a71a6",
   "metadata": {},
   "outputs": [],
   "source": [
    "scaler = StandardScaler()"
   ]
  },
  {
   "cell_type": "code",
   "execution_count": 175,
   "id": "385ae99e-ec38-44e0-ab3e-c47d586c0334",
   "metadata": {},
   "outputs": [],
   "source": [
    "running_X = []"
   ]
  },
  {
   "cell_type": "code",
   "execution_count": 176,
   "id": "30847432-1008-4462-b73e-122105f73ca9",
   "metadata": {},
   "outputs": [
    {
     "data": {
      "text/plain": [
       "72"
      ]
     },
     "execution_count": 176,
     "metadata": {},
     "output_type": "execute_result"
    }
   ],
   "source": [
    "index = column_names.index('minority_population')\n",
    "index"
   ]
  },
  {
   "cell_type": "code",
   "execution_count": 177,
   "id": "0b57ec0e-e8ff-4e5d-b620-982aebaaa52c",
   "metadata": {},
   "outputs": [],
   "source": [
    "raw_data = np.genfromtxt(data_path, delimiter='\\t', dtype='str')"
   ]
  },
  {
   "cell_type": "code",
   "execution_count": 178,
   "id": "23fbfa3a-54bd-4599-b0c0-d14b872b4c58",
   "metadata": {},
   "outputs": [],
   "source": [
    "percent_minoritized = raw_data[:,index].astype('float').reshape(-1,1)"
   ]
  },
  {
   "cell_type": "code",
   "execution_count": 179,
   "id": "06a947d4-fa03-409e-87c3-5aef359bfab8",
   "metadata": {},
   "outputs": [],
   "source": [
    "percent_minoritized = scaler.fit_transform(percent_minoritized)"
   ]
  },
  {
   "cell_type": "code",
   "execution_count": 180,
   "id": "d4435dd8-7fde-474e-b153-29d70d50ac33",
   "metadata": {},
   "outputs": [],
   "source": [
    "running_X.append(percent_minoritized)"
   ]
  },
  {
   "cell_type": "code",
   "execution_count": 181,
   "id": "a43064c9-8a9b-4bfc-8c41-e1600ee1139e",
   "metadata": {},
   "outputs": [],
   "source": [
    "loan_type_index = column_names.index('loan_type')"
   ]
  },
  {
   "cell_type": "code",
   "execution_count": 182,
   "id": "7f916611-3ecf-4188-b53b-05e6efc9669e",
   "metadata": {},
   "outputs": [
    {
     "data": {
      "text/plain": [
       "array(['1', '1', '2', ..., '3', '1', '1'], dtype='<U81')"
      ]
     },
     "execution_count": 182,
     "metadata": {},
     "output_type": "execute_result"
    }
   ],
   "source": [
    "raw_data[:, loan_type_index]"
   ]
  },
  {
   "cell_type": "code",
   "execution_count": 183,
   "id": "c5bad340-9981-4f76-ba68-8de36846a52f",
   "metadata": {},
   "outputs": [],
   "source": [
    "loan_type_encoder = OneHotEncoder()"
   ]
  },
  {
   "cell_type": "code",
   "execution_count": 184,
   "id": "dd56c9c4-c649-412e-a16b-184bbeab6a18",
   "metadata": {},
   "outputs": [],
   "source": [
    "loan_type_onehots = loan_type_encoder.fit_transform(raw_data[:, loan_type_index].reshape(-1,1))"
   ]
  },
  {
   "cell_type": "code",
   "execution_count": 185,
   "id": "7293ed69-e677-4851-b676-dc363e977eee",
   "metadata": {},
   "outputs": [],
   "source": [
    "loan_type_onehots = loan_type_onehots.todense()"
   ]
  },
  {
   "cell_type": "code",
   "execution_count": 186,
   "id": "0a80dcad-f4df-4c24-a75f-af5ba2dc50bc",
   "metadata": {},
   "outputs": [],
   "source": [
    "running_X.append(loan_type_onehots)"
   ]
  },
  {
   "cell_type": "code",
   "execution_count": 187,
   "id": "a9785211-a29d-4b03-ae1c-e13ba3798806",
   "metadata": {},
   "outputs": [],
   "source": [
    "# RACE\n",
    "race = raw_data[:, column_names.index('applicant_race_1')]\n",
    "race = loan_type_encoder.fit_transform(race.reshape(-1,1)).todense()"
   ]
  },
  {
   "cell_type": "code",
   "execution_count": 188,
   "id": "8633c77d-a970-4810-9972-39270ba6e4d0",
   "metadata": {},
   "outputs": [],
   "source": [
    "running_X.append(race)"
   ]
  },
  {
   "cell_type": "code",
   "execution_count": 189,
   "id": "b39e87d6-56e7-462f-a46b-aef1f889ee78",
   "metadata": {},
   "outputs": [],
   "source": [
    "sex_onehots = loan_type_encoder.fit_transform(raw_data[:, column_names.index('applicant_sex')].reshape(-1,1)).todense()"
   ]
  },
  {
   "cell_type": "code",
   "execution_count": 190,
   "id": "9ca68af3-5782-4dc1-b8fe-d7f9eeaef7a1",
   "metadata": {},
   "outputs": [],
   "source": [
    "running_X.append(sex_onehots)"
   ]
  },
  {
   "cell_type": "code",
   "execution_count": 191,
   "id": "b5350bf6-cddd-4ae8-aaee-941087c04cd6",
   "metadata": {},
   "outputs": [],
   "source": [
    "loan_amt = raw_data[:, column_names.index('loan_amount_000s')].astype('float').reshape(-1,1)\n",
    "loan_amt = scaler.fit_transform(loan_amt)"
   ]
  },
  {
   "cell_type": "code",
   "execution_count": 192,
   "id": "fbe0ae7a-06af-4ad3-8d4c-58948fbb1469",
   "metadata": {},
   "outputs": [],
   "source": [
    "running_X.append(loan_amt)"
   ]
  },
  {
   "cell_type": "code",
   "execution_count": 193,
   "id": "023a8624-a836-4ce0-9063-aec1aefc951e",
   "metadata": {},
   "outputs": [],
   "source": [
    "rl_score = raw_data[:, column_names.index('redlining_score\\n')].astype('float').reshape(-1,1)"
   ]
  },
  {
   "cell_type": "code",
   "execution_count": 194,
   "id": "894b26df-9564-49b1-b504-c47142716e69",
   "metadata": {},
   "outputs": [],
   "source": [
    "running_X.append(rl_score)"
   ]
  },
  {
   "cell_type": "code",
   "execution_count": 195,
   "id": "927302e1-605a-46b8-8045-886c6cce1375",
   "metadata": {},
   "outputs": [],
   "source": [
    "full_X = np.concatenate(running_X, 1)"
   ]
  },
  {
   "cell_type": "code",
   "execution_count": 196,
   "id": "1a4a6e40-0bd8-486f-98a9-51244f3b5a0f",
   "metadata": {},
   "outputs": [
    {
     "data": {
      "text/plain": [
       "(3552, 16)"
      ]
     },
     "execution_count": 196,
     "metadata": {},
     "output_type": "execute_result"
    }
   ],
   "source": [
    "full_X.shape"
   ]
  },
  {
   "cell_type": "code",
   "execution_count": 197,
   "id": "25c7db6c-f544-459e-a381-263406ad59f3",
   "metadata": {},
   "outputs": [
    {
     "data": {
      "text/plain": [
       "matrix([[0.50153497],\n",
       "        [0.35456869],\n",
       "        [0.        ],\n",
       "        ...,\n",
       "        [0.666     ],\n",
       "        [0.        ],\n",
       "        [0.        ]])"
      ]
     },
     "execution_count": 197,
     "metadata": {},
     "output_type": "execute_result"
    }
   ],
   "source": [
    "full_X[:,-1]"
   ]
  },
  {
   "cell_type": "code",
   "execution_count": 198,
   "id": "0f34fcba-f989-40de-9222-6ad4de193ba8",
   "metadata": {},
   "outputs": [],
   "source": [
    "X = full_X[:, :-1]\n",
    "y = full_X[:,-1]"
   ]
  },
  {
   "cell_type": "code",
   "execution_count": 199,
   "id": "42489ca3-20b2-45df-a22d-ae5eccf60153",
   "metadata": {},
   "outputs": [],
   "source": [
    "l_model = LinearRegression()"
   ]
  },
  {
   "cell_type": "code",
   "execution_count": 200,
   "id": "59ac0ad7-8661-453e-ad90-e80068ff8d12",
   "metadata": {},
   "outputs": [
    {
     "name": "stderr",
     "output_type": "stream",
     "text": [
      "/Users/maxperozek/opt/anaconda3/envs/mesh/lib/python3.10/site-packages/sklearn/utils/validation.py:727: FutureWarning: np.matrix usage is deprecated in 1.0 and will raise a TypeError in 1.2. Please convert to a numpy array with np.asarray. For more information see: https://numpy.org/doc/stable/reference/generated/numpy.matrix.html\n",
      "  warnings.warn(\n",
      "/Users/maxperozek/opt/anaconda3/envs/mesh/lib/python3.10/site-packages/sklearn/utils/validation.py:727: FutureWarning: np.matrix usage is deprecated in 1.0 and will raise a TypeError in 1.2. Please convert to a numpy array with np.asarray. For more information see: https://numpy.org/doc/stable/reference/generated/numpy.matrix.html\n",
      "  warnings.warn(\n"
     ]
    },
    {
     "data": {
      "text/html": [
       "<style>#sk-container-id-2 {color: black;background-color: white;}#sk-container-id-2 pre{padding: 0;}#sk-container-id-2 div.sk-toggleable {background-color: white;}#sk-container-id-2 label.sk-toggleable__label {cursor: pointer;display: block;width: 100%;margin-bottom: 0;padding: 0.3em;box-sizing: border-box;text-align: center;}#sk-container-id-2 label.sk-toggleable__label-arrow:before {content: \"▸\";float: left;margin-right: 0.25em;color: #696969;}#sk-container-id-2 label.sk-toggleable__label-arrow:hover:before {color: black;}#sk-container-id-2 div.sk-estimator:hover label.sk-toggleable__label-arrow:before {color: black;}#sk-container-id-2 div.sk-toggleable__content {max-height: 0;max-width: 0;overflow: hidden;text-align: left;background-color: #f0f8ff;}#sk-container-id-2 div.sk-toggleable__content pre {margin: 0.2em;color: black;border-radius: 0.25em;background-color: #f0f8ff;}#sk-container-id-2 input.sk-toggleable__control:checked~div.sk-toggleable__content {max-height: 200px;max-width: 100%;overflow: auto;}#sk-container-id-2 input.sk-toggleable__control:checked~label.sk-toggleable__label-arrow:before {content: \"▾\";}#sk-container-id-2 div.sk-estimator input.sk-toggleable__control:checked~label.sk-toggleable__label {background-color: #d4ebff;}#sk-container-id-2 div.sk-label input.sk-toggleable__control:checked~label.sk-toggleable__label {background-color: #d4ebff;}#sk-container-id-2 input.sk-hidden--visually {border: 0;clip: rect(1px 1px 1px 1px);clip: rect(1px, 1px, 1px, 1px);height: 1px;margin: -1px;overflow: hidden;padding: 0;position: absolute;width: 1px;}#sk-container-id-2 div.sk-estimator {font-family: monospace;background-color: #f0f8ff;border: 1px dotted black;border-radius: 0.25em;box-sizing: border-box;margin-bottom: 0.5em;}#sk-container-id-2 div.sk-estimator:hover {background-color: #d4ebff;}#sk-container-id-2 div.sk-parallel-item::after {content: \"\";width: 100%;border-bottom: 1px solid gray;flex-grow: 1;}#sk-container-id-2 div.sk-label:hover label.sk-toggleable__label {background-color: #d4ebff;}#sk-container-id-2 div.sk-serial::before {content: \"\";position: absolute;border-left: 1px solid gray;box-sizing: border-box;top: 0;bottom: 0;left: 50%;z-index: 0;}#sk-container-id-2 div.sk-serial {display: flex;flex-direction: column;align-items: center;background-color: white;padding-right: 0.2em;padding-left: 0.2em;position: relative;}#sk-container-id-2 div.sk-item {position: relative;z-index: 1;}#sk-container-id-2 div.sk-parallel {display: flex;align-items: stretch;justify-content: center;background-color: white;position: relative;}#sk-container-id-2 div.sk-item::before, #sk-container-id-2 div.sk-parallel-item::before {content: \"\";position: absolute;border-left: 1px solid gray;box-sizing: border-box;top: 0;bottom: 0;left: 50%;z-index: -1;}#sk-container-id-2 div.sk-parallel-item {display: flex;flex-direction: column;z-index: 1;position: relative;background-color: white;}#sk-container-id-2 div.sk-parallel-item:first-child::after {align-self: flex-end;width: 50%;}#sk-container-id-2 div.sk-parallel-item:last-child::after {align-self: flex-start;width: 50%;}#sk-container-id-2 div.sk-parallel-item:only-child::after {width: 0;}#sk-container-id-2 div.sk-dashed-wrapped {border: 1px dashed gray;margin: 0 0.4em 0.5em 0.4em;box-sizing: border-box;padding-bottom: 0.4em;background-color: white;}#sk-container-id-2 div.sk-label label {font-family: monospace;font-weight: bold;display: inline-block;line-height: 1.2em;}#sk-container-id-2 div.sk-label-container {text-align: center;}#sk-container-id-2 div.sk-container {/* jupyter's `normalize.less` sets `[hidden] { display: none; }` but bootstrap.min.css set `[hidden] { display: none !important; }` so we also need the `!important` here to be able to override the default hidden behavior on the sphinx rendered scikit-learn.org. See: https://github.com/scikit-learn/scikit-learn/issues/21755 */display: inline-block !important;position: relative;}#sk-container-id-2 div.sk-text-repr-fallback {display: none;}</style><div id=\"sk-container-id-2\" class=\"sk-top-container\"><div class=\"sk-text-repr-fallback\"><pre>LinearRegression()</pre><b>In a Jupyter environment, please rerun this cell to show the HTML representation or trust the notebook. <br />On GitHub, the HTML representation is unable to render, please try loading this page with nbviewer.org.</b></div><div class=\"sk-container\" hidden><div class=\"sk-item\"><div class=\"sk-estimator sk-toggleable\"><input class=\"sk-toggleable__control sk-hidden--visually\" id=\"sk-estimator-id-2\" type=\"checkbox\" checked><label for=\"sk-estimator-id-2\" class=\"sk-toggleable__label sk-toggleable__label-arrow\">LinearRegression</label><div class=\"sk-toggleable__content\"><pre>LinearRegression()</pre></div></div></div></div></div>"
      ],
      "text/plain": [
       "LinearRegression()"
      ]
     },
     "execution_count": 200,
     "metadata": {},
     "output_type": "execute_result"
    }
   ],
   "source": [
    "l_model.fit(X, y)"
   ]
  },
  {
   "cell_type": "code",
   "execution_count": 206,
   "id": "f0f13f0a-df1a-4be9-8956-b2b214d9e5f3",
   "metadata": {},
   "outputs": [],
   "source": [
    "import torch\n",
    "from sklearn.model_selection import train_test_split"
   ]
  },
  {
   "cell_type": "code",
   "execution_count": 207,
   "id": "8047544f-5824-4533-9211-3cb92a40d64f",
   "metadata": {},
   "outputs": [],
   "source": [
    "X_train, X_test, y_train, y_test = train_test_split(X, y, test_size=0.15, random_state=11)"
   ]
  },
  {
   "cell_type": "code",
   "execution_count": 217,
   "id": "5d363eb1-7d1a-4ed4-b855-fd6242e3ef68",
   "metadata": {},
   "outputs": [],
   "source": [
    "batch_size = 64\n",
    "train_data = torch.utils.data.TensorDataset(torch.tensor(X_train).float(), torch.tensor(y_train.reshape(-1,1)).float())\n",
    "train_loader = torch.utils.data.DataLoader(train_data, batch_size=batch_size, shuffle=True)"
   ]
  },
  {
   "cell_type": "code",
   "execution_count": 218,
   "id": "65fda8d2-46fb-4290-83b6-129222932a00",
   "metadata": {},
   "outputs": [],
   "source": [
    "model = torch.nn.Sequential(\n",
    "    torch.nn.Linear(X.shape[1], 128),\n",
    "    torch.nn.ReLU(),\n",
    "    torch.nn.Linear(128, 128),\n",
    "    torch.nn.ReLU(),\n",
    "    torch.nn.Linear(128, 1),\n",
    "    torch.nn.Sigmoid()\n",
    ")"
   ]
  },
  {
   "cell_type": "code",
   "execution_count": 221,
   "id": "d116e675-fad0-4c88-9d30-06691e16efe0",
   "metadata": {},
   "outputs": [],
   "source": [
    "optimizer = torch.optim.Adam(model.parameters())"
   ]
  },
  {
   "cell_type": "code",
   "execution_count": 222,
   "id": "6ce5b97d-0d2c-47d6-b018-9d6bbf77539d",
   "metadata": {},
   "outputs": [],
   "source": [
    "loss = torch.nn.MSELoss()"
   ]
  },
  {
   "cell_type": "code",
   "execution_count": 226,
   "id": "9391f202-ce6f-48e5-b465-a81074616dd2",
   "metadata": {},
   "outputs": [],
   "source": [
    "for i in range(100):\n",
    "    for batch in train_loader:\n",
    "        optimizer.zero_grad()\n",
    "\n",
    "        batchX = batch[0]\n",
    "        batchY = batch[1]\n",
    "\n",
    "        preds = model(batchX)\n",
    "\n",
    "        l = loss(preds, batchY)\n",
    "        # print(loss)\n",
    "        l.backward()\n",
    "        optimizer.step()\n"
   ]
  },
  {
   "cell_type": "code",
   "execution_count": 228,
   "id": "f58ac9cf-f4e1-48f5-ab06-944bcf7b8f9d",
   "metadata": {},
   "outputs": [
    {
     "data": {
      "text/plain": [
       "tensor([[1.0192e-04],\n",
       "        [1.2481e-01],\n",
       "        [1.6514e-07],\n",
       "        [3.0516e-02],\n",
       "        [7.3884e-01],\n",
       "        [2.2924e-02],\n",
       "        [2.2366e-01],\n",
       "        [1.1334e-01],\n",
       "        [1.5390e-01],\n",
       "        [4.5552e-01],\n",
       "        [1.2913e-01],\n",
       "        [9.7043e-02],\n",
       "        [8.5871e-02],\n",
       "        [2.4292e-02],\n",
       "        [8.9357e-03],\n",
       "        [4.0514e-01],\n",
       "        [1.0819e-07],\n",
       "        [1.4098e-01],\n",
       "        [2.6956e-02],\n",
       "        [1.3917e-01],\n",
       "        [1.3847e-01],\n",
       "        [1.0463e-01],\n",
       "        [4.0053e-02],\n",
       "        [1.5887e-07],\n",
       "        [3.0381e-01],\n",
       "        [4.9564e-09],\n",
       "        [1.8603e-01],\n",
       "        [1.2381e-01],\n",
       "        [3.0977e-01],\n",
       "        [1.0258e-01],\n",
       "        [1.0810e-01],\n",
       "        [4.5295e-01],\n",
       "        [2.6914e-01],\n",
       "        [3.7654e-01],\n",
       "        [5.8001e-01],\n",
       "        [7.7626e-05],\n",
       "        [8.7319e-03],\n",
       "        [1.3923e-01],\n",
       "        [3.2555e-03],\n",
       "        [1.8784e-01],\n",
       "        [5.0196e-02],\n",
       "        [8.6168e-02],\n",
       "        [7.5871e-01],\n",
       "        [1.2157e-01],\n",
       "        [1.7063e-02],\n",
       "        [6.0581e-01],\n",
       "        [1.7493e-04],\n",
       "        [5.9437e-02],\n",
       "        [2.7310e-01],\n",
       "        [1.3144e-01],\n",
       "        [4.3752e-04],\n",
       "        [1.1070e-02],\n",
       "        [8.4289e-01],\n",
       "        [5.5622e-02],\n",
       "        [1.4275e-01],\n",
       "        [3.6975e-02],\n",
       "        [1.6715e-01],\n",
       "        [4.8597e-01],\n",
       "        [8.5930e-02],\n",
       "        [6.4031e-01],\n",
       "        [1.2374e-01],\n",
       "        [8.7675e-03],\n",
       "        [2.5721e-01],\n",
       "        [2.0329e-07],\n",
       "        [1.4538e-04],\n",
       "        [1.8347e-02],\n",
       "        [2.2681e-01],\n",
       "        [2.4625e-02],\n",
       "        [4.8516e-01],\n",
       "        [1.7508e-01],\n",
       "        [1.7760e-01],\n",
       "        [1.4900e-01],\n",
       "        [7.7831e-01],\n",
       "        [2.9228e-01],\n",
       "        [3.9014e-01],\n",
       "        [1.2704e-01],\n",
       "        [1.1423e-01],\n",
       "        [2.7973e-02],\n",
       "        [4.8287e-01],\n",
       "        [9.6718e-02],\n",
       "        [1.2960e-01],\n",
       "        [6.9044e-02],\n",
       "        [1.1493e-01],\n",
       "        [8.0280e-01],\n",
       "        [6.9139e-02],\n",
       "        [1.8064e-01],\n",
       "        [2.1613e-01],\n",
       "        [6.0507e-01],\n",
       "        [1.4151e-01],\n",
       "        [1.4087e-01],\n",
       "        [1.7405e-02],\n",
       "        [1.3283e-02],\n",
       "        [1.2377e-01],\n",
       "        [1.1555e-01],\n",
       "        [6.0429e-03],\n",
       "        [4.2736e-03],\n",
       "        [1.3676e-01],\n",
       "        [8.6381e-02],\n",
       "        [6.1224e-02],\n",
       "        [6.0958e-01],\n",
       "        [2.3403e-04],\n",
       "        [5.7711e-02],\n",
       "        [3.5527e-01],\n",
       "        [1.3943e-02],\n",
       "        [5.0329e-02],\n",
       "        [5.3808e-01],\n",
       "        [2.6497e-04],\n",
       "        [1.3737e-01],\n",
       "        [2.2880e-01],\n",
       "        [1.4583e-01],\n",
       "        [5.6599e-01],\n",
       "        [1.6218e-01],\n",
       "        [1.5024e-01],\n",
       "        [8.7443e-02],\n",
       "        [7.1205e-03],\n",
       "        [3.2430e-02],\n",
       "        [1.2729e-01],\n",
       "        [8.6098e-02],\n",
       "        [7.7450e-06],\n",
       "        [1.9709e-01],\n",
       "        [1.8079e-01],\n",
       "        [1.1726e-01],\n",
       "        [1.8041e-01],\n",
       "        [7.2534e-06],\n",
       "        [1.0942e-01],\n",
       "        [1.5087e-01],\n",
       "        [1.2751e-01],\n",
       "        [1.9746e-02],\n",
       "        [2.2671e-02],\n",
       "        [3.9896e-01],\n",
       "        [6.3478e-01],\n",
       "        [7.0492e-01],\n",
       "        [2.1153e-01],\n",
       "        [2.1436e-08],\n",
       "        [3.2289e-01],\n",
       "        [2.0273e-01],\n",
       "        [1.1529e-01],\n",
       "        [1.7484e-02],\n",
       "        [7.3615e-02],\n",
       "        [4.5351e-01],\n",
       "        [6.9157e-02],\n",
       "        [5.5773e-02],\n",
       "        [6.8823e-01],\n",
       "        [2.1474e-01],\n",
       "        [3.6989e-01],\n",
       "        [1.9465e-01],\n",
       "        [4.5622e-03],\n",
       "        [2.7057e-02],\n",
       "        [1.4551e-01],\n",
       "        [6.7655e-01],\n",
       "        [9.3092e-02],\n",
       "        [1.5754e-01],\n",
       "        [8.7857e-02],\n",
       "        [1.5690e-01],\n",
       "        [6.9804e-01],\n",
       "        [2.0875e-01],\n",
       "        [2.0023e-04],\n",
       "        [3.7976e-02],\n",
       "        [1.9695e-01],\n",
       "        [3.9369e-03],\n",
       "        [4.7324e-01],\n",
       "        [1.3475e-01],\n",
       "        [7.1133e-02],\n",
       "        [5.3488e-01],\n",
       "        [1.1762e-01],\n",
       "        [1.3083e-01],\n",
       "        [4.6809e-02],\n",
       "        [9.1721e-02],\n",
       "        [1.3953e-01],\n",
       "        [1.7249e-02],\n",
       "        [8.9789e-02],\n",
       "        [5.9620e-01],\n",
       "        [4.5919e-01],\n",
       "        [4.7869e-03],\n",
       "        [2.5618e-01],\n",
       "        [6.2510e-02],\n",
       "        [4.9374e-02],\n",
       "        [4.2174e-01],\n",
       "        [1.0700e-01],\n",
       "        [1.0005e-02],\n",
       "        [7.9884e-02],\n",
       "        [4.2560e-01],\n",
       "        [4.4201e-02],\n",
       "        [6.1518e-01],\n",
       "        [3.0156e-01],\n",
       "        [5.6462e-01],\n",
       "        [4.4993e-01],\n",
       "        [1.7103e-03],\n",
       "        [1.4785e-01],\n",
       "        [5.9995e-01],\n",
       "        [7.8196e-02],\n",
       "        [8.7682e-07],\n",
       "        [7.3971e-01],\n",
       "        [7.4188e-01],\n",
       "        [1.7990e-01],\n",
       "        [4.3005e-02],\n",
       "        [2.5068e-01],\n",
       "        [1.2963e-01],\n",
       "        [1.4233e-01],\n",
       "        [3.5938e-01],\n",
       "        [2.0589e-01],\n",
       "        [3.0594e-01],\n",
       "        [6.2320e-02],\n",
       "        [1.6712e-01],\n",
       "        [2.7299e-01],\n",
       "        [5.6556e-01],\n",
       "        [1.2087e-01],\n",
       "        [3.5399e-02],\n",
       "        [9.6211e-02],\n",
       "        [1.9277e-02],\n",
       "        [6.7989e-03],\n",
       "        [1.4766e-06],\n",
       "        [1.9730e-01],\n",
       "        [8.5641e-02],\n",
       "        [2.4526e-02],\n",
       "        [2.2617e-01],\n",
       "        [2.2634e-02],\n",
       "        [1.2347e-01],\n",
       "        [1.6896e-01],\n",
       "        [8.5263e-02],\n",
       "        [1.1730e-01],\n",
       "        [5.6156e-01],\n",
       "        [1.1613e-02],\n",
       "        [4.0618e-01],\n",
       "        [1.4684e-02],\n",
       "        [9.6369e-03],\n",
       "        [1.4012e-01],\n",
       "        [7.6340e-01],\n",
       "        [2.4604e-01],\n",
       "        [6.1623e-01],\n",
       "        [5.4690e-02],\n",
       "        [2.7381e-05],\n",
       "        [2.3435e-02],\n",
       "        [2.6847e-01],\n",
       "        [1.0469e-01],\n",
       "        [6.2740e-01],\n",
       "        [2.2253e-03],\n",
       "        [1.4320e-01],\n",
       "        [9.0513e-02],\n",
       "        [5.7896e-02],\n",
       "        [1.3556e-01],\n",
       "        [8.1725e-02],\n",
       "        [5.6336e-04],\n",
       "        [4.0395e-01],\n",
       "        [8.1027e-02],\n",
       "        [5.2471e-01],\n",
       "        [6.6504e-01],\n",
       "        [5.3062e-01],\n",
       "        [1.5822e-01],\n",
       "        [6.1454e-02],\n",
       "        [3.4041e-03],\n",
       "        [1.3573e-01],\n",
       "        [4.7203e-01],\n",
       "        [2.2180e-01],\n",
       "        [8.7451e-01],\n",
       "        [8.5952e-03],\n",
       "        [1.1841e-01],\n",
       "        [4.7218e-01],\n",
       "        [1.3847e-01],\n",
       "        [7.0193e-06],\n",
       "        [1.4055e-01],\n",
       "        [2.4756e-01],\n",
       "        [1.0499e-01],\n",
       "        [3.9242e-02],\n",
       "        [2.4423e-03],\n",
       "        [1.4185e-01],\n",
       "        [2.2852e-01],\n",
       "        [3.4374e-01],\n",
       "        [1.3135e-01],\n",
       "        [8.5149e-03],\n",
       "        [1.2431e-01],\n",
       "        [6.7740e-01],\n",
       "        [2.7587e-08],\n",
       "        [6.0349e-03],\n",
       "        [1.7123e-01],\n",
       "        [5.2539e-02],\n",
       "        [1.0241e-01],\n",
       "        [3.6351e-02],\n",
       "        [1.8482e-01],\n",
       "        [5.9564e-01],\n",
       "        [1.3999e-07],\n",
       "        [6.6703e-02],\n",
       "        [7.5197e-02],\n",
       "        [4.6083e-01],\n",
       "        [6.8171e-01],\n",
       "        [7.7433e-03],\n",
       "        [7.3188e-02],\n",
       "        [7.3205e-05],\n",
       "        [7.8939e-01],\n",
       "        [2.3058e-01],\n",
       "        [1.2276e-01],\n",
       "        [1.2874e-08],\n",
       "        [2.0365e-01],\n",
       "        [1.6926e-02],\n",
       "        [2.1874e-01],\n",
       "        [1.4821e-01],\n",
       "        [3.5669e-02],\n",
       "        [5.4284e-01],\n",
       "        [1.1127e-08],\n",
       "        [4.5925e-02],\n",
       "        [6.2369e-01],\n",
       "        [1.4221e-01],\n",
       "        [2.9155e-07],\n",
       "        [6.9184e-01],\n",
       "        [2.1927e-01],\n",
       "        [1.7252e-01],\n",
       "        [1.1337e-01],\n",
       "        [1.2796e-01],\n",
       "        [1.5238e-01],\n",
       "        [2.8634e-04],\n",
       "        [1.1541e-01],\n",
       "        [8.4552e-01],\n",
       "        [3.9361e-01],\n",
       "        [1.4980e-01],\n",
       "        [7.5058e-03],\n",
       "        [1.3746e-01],\n",
       "        [1.3813e-01],\n",
       "        [1.4644e-01],\n",
       "        [5.2697e-01],\n",
       "        [5.5341e-03],\n",
       "        [4.3666e-01],\n",
       "        [6.1172e-01],\n",
       "        [1.1844e-01],\n",
       "        [2.7305e-02],\n",
       "        [8.5952e-03],\n",
       "        [8.0417e-01],\n",
       "        [1.3564e-02],\n",
       "        [1.0312e-01],\n",
       "        [8.7609e-02],\n",
       "        [9.6298e-02],\n",
       "        [1.5310e-01],\n",
       "        [1.3563e-01],\n",
       "        [1.5272e-01],\n",
       "        [2.0341e-01],\n",
       "        [1.9990e-01],\n",
       "        [2.1131e-07],\n",
       "        [6.3828e-02],\n",
       "        [6.0390e-02],\n",
       "        [8.9183e-02],\n",
       "        [3.1166e-02],\n",
       "        [2.0128e-02],\n",
       "        [5.6700e-01],\n",
       "        [6.1826e-02],\n",
       "        [4.4758e-01],\n",
       "        [1.7052e-01],\n",
       "        [7.3337e-03],\n",
       "        [4.1624e-01],\n",
       "        [2.3398e-01],\n",
       "        [1.3946e-01],\n",
       "        [5.4038e-03],\n",
       "        [5.9559e-01],\n",
       "        [3.5212e-13],\n",
       "        [4.6290e-01],\n",
       "        [2.1342e-02],\n",
       "        [4.4846e-04],\n",
       "        [3.0596e-01],\n",
       "        [6.7594e-01],\n",
       "        [4.5122e-02],\n",
       "        [1.2013e-01],\n",
       "        [5.6556e-01],\n",
       "        [3.6118e-04],\n",
       "        [1.9565e-01],\n",
       "        [2.6294e-01],\n",
       "        [8.4484e-01],\n",
       "        [2.0365e-01],\n",
       "        [5.7807e-01],\n",
       "        [7.0972e-01],\n",
       "        [9.3392e-02],\n",
       "        [8.7248e-02],\n",
       "        [8.0889e-01],\n",
       "        [1.1767e-01],\n",
       "        [1.1825e-01],\n",
       "        [2.9354e-01],\n",
       "        [1.3507e-03],\n",
       "        [7.3622e-01],\n",
       "        [1.0247e-06],\n",
       "        [4.0660e-02],\n",
       "        [2.2681e-02],\n",
       "        [9.8387e-02],\n",
       "        [4.4172e-01],\n",
       "        [1.3814e-01],\n",
       "        [3.7173e-01],\n",
       "        [1.3651e-01],\n",
       "        [6.6719e-01],\n",
       "        [1.0077e-01],\n",
       "        [2.1087e-01],\n",
       "        [5.3216e-02],\n",
       "        [3.8263e-02],\n",
       "        [6.5576e-02],\n",
       "        [1.4121e-01],\n",
       "        [1.1563e-01],\n",
       "        [1.6752e-01],\n",
       "        [1.3950e-01],\n",
       "        [7.0215e-03],\n",
       "        [4.4846e-02],\n",
       "        [1.9510e-07],\n",
       "        [5.0336e-01],\n",
       "        [6.6229e-02],\n",
       "        [5.0684e-01],\n",
       "        [1.8475e-01],\n",
       "        [6.5744e-01],\n",
       "        [1.1186e-01],\n",
       "        [3.7737e-01],\n",
       "        [2.6491e-01],\n",
       "        [9.5907e-02],\n",
       "        [2.5848e-04],\n",
       "        [2.2979e-02],\n",
       "        [6.4204e-02],\n",
       "        [1.3155e-01],\n",
       "        [2.6090e-03],\n",
       "        [8.6484e-02],\n",
       "        [1.2752e-02],\n",
       "        [7.4641e-02],\n",
       "        [5.4604e-05],\n",
       "        [8.6484e-02],\n",
       "        [2.9615e-02],\n",
       "        [8.7867e-01],\n",
       "        [5.1064e-01],\n",
       "        [1.3898e-01],\n",
       "        [9.6625e-06],\n",
       "        [3.1872e-07],\n",
       "        [5.8954e-02],\n",
       "        [1.7447e-02],\n",
       "        [5.4117e-02],\n",
       "        [1.3327e-01],\n",
       "        [5.7099e-01],\n",
       "        [6.4208e-02],\n",
       "        [6.7254e-02],\n",
       "        [1.1662e-01],\n",
       "        [2.2120e-01],\n",
       "        [2.8920e-02],\n",
       "        [5.6532e-02],\n",
       "        [2.6463e-01],\n",
       "        [1.2952e-01],\n",
       "        [6.0571e-02],\n",
       "        [2.6468e-01],\n",
       "        [1.3770e-01],\n",
       "        [7.8045e-02],\n",
       "        [2.2137e-01],\n",
       "        [7.0509e-02],\n",
       "        [2.4954e-01],\n",
       "        [1.8816e-02],\n",
       "        [1.2919e-01],\n",
       "        [4.8871e-01],\n",
       "        [1.3457e-01],\n",
       "        [2.9156e-01],\n",
       "        [2.0028e-01],\n",
       "        [1.8094e-01],\n",
       "        [1.8538e-01],\n",
       "        [3.5763e-03],\n",
       "        [4.1246e-01],\n",
       "        [8.2020e-08],\n",
       "        [1.9736e-02],\n",
       "        [3.1460e-01],\n",
       "        [2.1962e-04],\n",
       "        [3.4464e-01],\n",
       "        [6.4161e-01],\n",
       "        [4.4788e-03],\n",
       "        [4.0011e-02],\n",
       "        [2.1261e-05],\n",
       "        [1.3376e-01],\n",
       "        [1.2169e-01],\n",
       "        [2.0861e-01],\n",
       "        [8.6134e-02],\n",
       "        [6.9677e-01],\n",
       "        [1.8858e-03],\n",
       "        [1.8720e-01],\n",
       "        [6.2720e-01],\n",
       "        [9.3766e-02],\n",
       "        [1.8827e-04],\n",
       "        [4.5711e-01],\n",
       "        [4.7718e-01],\n",
       "        [1.4915e-02],\n",
       "        [1.6300e-01],\n",
       "        [4.0280e-01],\n",
       "        [1.5202e-01],\n",
       "        [4.5858e-01],\n",
       "        [7.9742e-02],\n",
       "        [1.9596e-01],\n",
       "        [2.9446e-03],\n",
       "        [1.3312e-01],\n",
       "        [1.3167e-01],\n",
       "        [6.4038e-02],\n",
       "        [1.7507e-02],\n",
       "        [2.8816e-01],\n",
       "        [1.2181e-01],\n",
       "        [8.6735e-02],\n",
       "        [6.1451e-03],\n",
       "        [8.6693e-02],\n",
       "        [1.0112e-07],\n",
       "        [5.1308e-01],\n",
       "        [3.8312e-02],\n",
       "        [7.5040e-01],\n",
       "        [1.4467e-01],\n",
       "        [1.3796e-02],\n",
       "        [7.7400e-01],\n",
       "        [1.0246e-01],\n",
       "        [1.1507e-02],\n",
       "        [2.3524e-01],\n",
       "        [4.4860e-01],\n",
       "        [4.3229e-06],\n",
       "        [2.0148e-01],\n",
       "        [1.4502e-01],\n",
       "        [3.0918e-04],\n",
       "        [1.0842e-04],\n",
       "        [1.0969e-08],\n",
       "        [2.2389e-01],\n",
       "        [1.1218e-01],\n",
       "        [2.1609e-02],\n",
       "        [7.8083e-02],\n",
       "        [7.7557e-06],\n",
       "        [1.7579e-01],\n",
       "        [2.2823e-10],\n",
       "        [6.8215e-01],\n",
       "        [1.2256e-02],\n",
       "        [8.8779e-02],\n",
       "        [1.0382e-01],\n",
       "        [9.2338e-02],\n",
       "        [1.3297e-01],\n",
       "        [2.1339e-01],\n",
       "        [6.2933e-01],\n",
       "        [1.5695e-01],\n",
       "        [7.6908e-02],\n",
       "        [1.4294e-01],\n",
       "        [2.0843e-01],\n",
       "        [1.4062e-01],\n",
       "        [1.6862e-01],\n",
       "        [3.3468e-03],\n",
       "        [1.6757e-02],\n",
       "        [3.7029e-03],\n",
       "        [1.0711e-06],\n",
       "        [3.7584e-02],\n",
       "        [4.8182e-01]], grad_fn=<SigmoidBackward0>)"
      ]
     },
     "execution_count": 228,
     "metadata": {},
     "output_type": "execute_result"
    }
   ],
   "source": [
    "model(torch.tensor(X_test).float())"
   ]
  },
  {
   "cell_type": "code",
   "execution_count": null,
   "id": "1dc827e8-8a11-43c3-ac6e-b0f0c7f134b4",
   "metadata": {},
   "outputs": [],
   "source": []
  }
 ],
 "metadata": {
  "kernelspec": {
   "display_name": "Python 3 (ipykernel)",
   "language": "python",
   "name": "python3"
  },
  "language_info": {
   "codemirror_mode": {
    "name": "ipython",
    "version": 3
   },
   "file_extension": ".py",
   "mimetype": "text/x-python",
   "name": "python",
   "nbconvert_exporter": "python",
   "pygments_lexer": "ipython3",
   "version": "3.10.9"
  }
 },
 "nbformat": 4,
 "nbformat_minor": 5
}
