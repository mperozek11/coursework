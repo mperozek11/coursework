{
 "cells": [
  {
   "attachments": {},
   "cell_type": "markdown",
   "id": "4bc40930",
   "metadata": {},
   "source": [
    "# Probabalistic ML"
   ]
  },
  {
   "cell_type": "code",
   "execution_count": 2,
   "id": "c9b6bdea-bae1-4ad5-b734-195d34d2adb0",
   "metadata": {},
   "outputs": [],
   "source": [
    "import torch\n",
    "import matplotlib.pyplot as plt\n",
    "import numpy as np\n",
    "import sklearn"
   ]
  },
  {
   "cell_type": "code",
   "execution_count": 3,
   "id": "3316725b-f157-439d-b57d-1b466ca3755a",
   "metadata": {
    "tags": []
   },
   "outputs": [],
   "source": [
    "from sklearn.datasets import load_breast_cancer"
   ]
  },
  {
   "cell_type": "code",
   "execution_count": 4,
   "id": "71734eb6-5962-4345-92cd-a09076ec14ab",
   "metadata": {},
   "outputs": [],
   "source": [
    "bc = load_breast_cancer()"
   ]
  },
  {
   "cell_type": "code",
   "execution_count": 5,
   "id": "3b670d45-b3b3-4f9d-84ff-66689b08f826",
   "metadata": {
    "collapsed": true,
    "jupyter": {
     "outputs_hidden": true
    },
    "tags": []
   },
   "outputs": [
    {
     "data": {
      "text/plain": [
       "{'data': array([[1.799e+01, 1.038e+01, 1.228e+02, ..., 2.654e-01, 4.601e-01,\n",
       "         1.189e-01],\n",
       "        [2.057e+01, 1.777e+01, 1.329e+02, ..., 1.860e-01, 2.750e-01,\n",
       "         8.902e-02],\n",
       "        [1.969e+01, 2.125e+01, 1.300e+02, ..., 2.430e-01, 3.613e-01,\n",
       "         8.758e-02],\n",
       "        ...,\n",
       "        [1.660e+01, 2.808e+01, 1.083e+02, ..., 1.418e-01, 2.218e-01,\n",
       "         7.820e-02],\n",
       "        [2.060e+01, 2.933e+01, 1.401e+02, ..., 2.650e-01, 4.087e-01,\n",
       "         1.240e-01],\n",
       "        [7.760e+00, 2.454e+01, 4.792e+01, ..., 0.000e+00, 2.871e-01,\n",
       "         7.039e-02]]),\n",
       " 'target': array([0, 0, 0, 0, 0, 0, 0, 0, 0, 0, 0, 0, 0, 0, 0, 0, 0, 0, 0, 1, 1, 1,\n",
       "        0, 0, 0, 0, 0, 0, 0, 0, 0, 0, 0, 0, 0, 0, 0, 1, 0, 0, 0, 0, 0, 0,\n",
       "        0, 0, 1, 0, 1, 1, 1, 1, 1, 0, 0, 1, 0, 0, 1, 1, 1, 1, 0, 1, 0, 0,\n",
       "        1, 1, 1, 1, 0, 1, 0, 0, 1, 0, 1, 0, 0, 1, 1, 1, 0, 0, 1, 0, 0, 0,\n",
       "        1, 1, 1, 0, 1, 1, 0, 0, 1, 1, 1, 0, 0, 1, 1, 1, 1, 0, 1, 1, 0, 1,\n",
       "        1, 1, 1, 1, 1, 1, 1, 0, 0, 0, 1, 0, 0, 1, 1, 1, 0, 0, 1, 0, 1, 0,\n",
       "        0, 1, 0, 0, 1, 1, 0, 1, 1, 0, 1, 1, 1, 1, 0, 1, 1, 1, 1, 1, 1, 1,\n",
       "        1, 1, 0, 1, 1, 1, 1, 0, 0, 1, 0, 1, 1, 0, 0, 1, 1, 0, 0, 1, 1, 1,\n",
       "        1, 0, 1, 1, 0, 0, 0, 1, 0, 1, 0, 1, 1, 1, 0, 1, 1, 0, 0, 1, 0, 0,\n",
       "        0, 0, 1, 0, 0, 0, 1, 0, 1, 0, 1, 1, 0, 1, 0, 0, 0, 0, 1, 1, 0, 0,\n",
       "        1, 1, 1, 0, 1, 1, 1, 1, 1, 0, 0, 1, 1, 0, 1, 1, 0, 0, 1, 0, 1, 1,\n",
       "        1, 1, 0, 1, 1, 1, 1, 1, 0, 1, 0, 0, 0, 0, 0, 0, 0, 0, 0, 0, 0, 0,\n",
       "        0, 0, 1, 1, 1, 1, 1, 1, 0, 1, 0, 1, 1, 0, 1, 1, 0, 1, 0, 0, 1, 1,\n",
       "        1, 1, 1, 1, 1, 1, 1, 1, 1, 1, 1, 0, 1, 1, 0, 1, 0, 1, 1, 1, 1, 1,\n",
       "        1, 1, 1, 1, 1, 1, 1, 1, 1, 0, 1, 1, 1, 0, 1, 0, 1, 1, 1, 1, 0, 0,\n",
       "        0, 1, 1, 1, 1, 0, 1, 0, 1, 0, 1, 1, 1, 0, 1, 1, 1, 1, 1, 1, 1, 0,\n",
       "        0, 0, 1, 1, 1, 1, 1, 1, 1, 1, 1, 1, 1, 0, 0, 1, 0, 0, 0, 1, 0, 0,\n",
       "        1, 1, 1, 1, 1, 0, 1, 1, 1, 1, 1, 0, 1, 1, 1, 0, 1, 1, 0, 0, 1, 1,\n",
       "        1, 1, 1, 1, 0, 1, 1, 1, 1, 1, 1, 1, 0, 1, 1, 1, 1, 1, 0, 1, 1, 0,\n",
       "        1, 1, 1, 1, 1, 1, 1, 1, 1, 1, 1, 1, 0, 1, 0, 0, 1, 0, 1, 1, 1, 1,\n",
       "        1, 0, 1, 1, 0, 1, 0, 1, 1, 0, 1, 0, 1, 1, 1, 1, 1, 1, 1, 1, 0, 0,\n",
       "        1, 1, 1, 1, 1, 1, 0, 1, 1, 1, 1, 1, 1, 1, 1, 1, 1, 0, 1, 1, 1, 1,\n",
       "        1, 1, 1, 0, 1, 0, 1, 1, 0, 1, 1, 1, 1, 1, 0, 0, 1, 0, 1, 0, 1, 1,\n",
       "        1, 1, 1, 0, 1, 1, 0, 1, 0, 1, 0, 0, 1, 1, 1, 0, 1, 1, 1, 1, 1, 1,\n",
       "        1, 1, 1, 1, 1, 0, 1, 0, 0, 1, 1, 1, 1, 1, 1, 1, 1, 1, 1, 1, 1, 1,\n",
       "        1, 1, 1, 1, 1, 1, 1, 1, 1, 1, 1, 1, 0, 0, 0, 0, 0, 0, 1]),\n",
       " 'frame': None,\n",
       " 'target_names': array(['malignant', 'benign'], dtype='<U9'),\n",
       " 'DESCR': '.. _breast_cancer_dataset:\\n\\nBreast cancer wisconsin (diagnostic) dataset\\n--------------------------------------------\\n\\n**Data Set Characteristics:**\\n\\n    :Number of Instances: 569\\n\\n    :Number of Attributes: 30 numeric, predictive attributes and the class\\n\\n    :Attribute Information:\\n        - radius (mean of distances from center to points on the perimeter)\\n        - texture (standard deviation of gray-scale values)\\n        - perimeter\\n        - area\\n        - smoothness (local variation in radius lengths)\\n        - compactness (perimeter^2 / area - 1.0)\\n        - concavity (severity of concave portions of the contour)\\n        - concave points (number of concave portions of the contour)\\n        - symmetry\\n        - fractal dimension (\"coastline approximation\" - 1)\\n\\n        The mean, standard error, and \"worst\" or largest (mean of the three\\n        worst/largest values) of these features were computed for each image,\\n        resulting in 30 features.  For instance, field 0 is Mean Radius, field\\n        10 is Radius SE, field 20 is Worst Radius.\\n\\n        - class:\\n                - WDBC-Malignant\\n                - WDBC-Benign\\n\\n    :Summary Statistics:\\n\\n    ===================================== ====== ======\\n                                           Min    Max\\n    ===================================== ====== ======\\n    radius (mean):                        6.981  28.11\\n    texture (mean):                       9.71   39.28\\n    perimeter (mean):                     43.79  188.5\\n    area (mean):                          143.5  2501.0\\n    smoothness (mean):                    0.053  0.163\\n    compactness (mean):                   0.019  0.345\\n    concavity (mean):                     0.0    0.427\\n    concave points (mean):                0.0    0.201\\n    symmetry (mean):                      0.106  0.304\\n    fractal dimension (mean):             0.05   0.097\\n    radius (standard error):              0.112  2.873\\n    texture (standard error):             0.36   4.885\\n    perimeter (standard error):           0.757  21.98\\n    area (standard error):                6.802  542.2\\n    smoothness (standard error):          0.002  0.031\\n    compactness (standard error):         0.002  0.135\\n    concavity (standard error):           0.0    0.396\\n    concave points (standard error):      0.0    0.053\\n    symmetry (standard error):            0.008  0.079\\n    fractal dimension (standard error):   0.001  0.03\\n    radius (worst):                       7.93   36.04\\n    texture (worst):                      12.02  49.54\\n    perimeter (worst):                    50.41  251.2\\n    area (worst):                         185.2  4254.0\\n    smoothness (worst):                   0.071  0.223\\n    compactness (worst):                  0.027  1.058\\n    concavity (worst):                    0.0    1.252\\n    concave points (worst):               0.0    0.291\\n    symmetry (worst):                     0.156  0.664\\n    fractal dimension (worst):            0.055  0.208\\n    ===================================== ====== ======\\n\\n    :Missing Attribute Values: None\\n\\n    :Class Distribution: 212 - Malignant, 357 - Benign\\n\\n    :Creator:  Dr. William H. Wolberg, W. Nick Street, Olvi L. Mangasarian\\n\\n    :Donor: Nick Street\\n\\n    :Date: November, 1995\\n\\nThis is a copy of UCI ML Breast Cancer Wisconsin (Diagnostic) datasets.\\nhttps://goo.gl/U2Uwz2\\n\\nFeatures are computed from a digitized image of a fine needle\\naspirate (FNA) of a breast mass.  They describe\\ncharacteristics of the cell nuclei present in the image.\\n\\nSeparating plane described above was obtained using\\nMultisurface Method-Tree (MSM-T) [K. P. Bennett, \"Decision Tree\\nConstruction Via Linear Programming.\" Proceedings of the 4th\\nMidwest Artificial Intelligence and Cognitive Science Society,\\npp. 97-101, 1992], a classification method which uses linear\\nprogramming to construct a decision tree.  Relevant features\\nwere selected using an exhaustive search in the space of 1-4\\nfeatures and 1-3 separating planes.\\n\\nThe actual linear program used to obtain the separating plane\\nin the 3-dimensional space is that described in:\\n[K. P. Bennett and O. L. Mangasarian: \"Robust Linear\\nProgramming Discrimination of Two Linearly Inseparable Sets\",\\nOptimization Methods and Software 1, 1992, 23-34].\\n\\nThis database is also available through the UW CS ftp server:\\n\\nftp ftp.cs.wisc.edu\\ncd math-prog/cpo-dataset/machine-learn/WDBC/\\n\\n.. topic:: References\\n\\n   - W.N. Street, W.H. Wolberg and O.L. Mangasarian. Nuclear feature extraction \\n     for breast tumor diagnosis. IS&T/SPIE 1993 International Symposium on \\n     Electronic Imaging: Science and Technology, volume 1905, pages 861-870,\\n     San Jose, CA, 1993.\\n   - O.L. Mangasarian, W.N. Street and W.H. Wolberg. Breast cancer diagnosis and \\n     prognosis via linear programming. Operations Research, 43(4), pages 570-577, \\n     July-August 1995.\\n   - W.H. Wolberg, W.N. Street, and O.L. Mangasarian. Machine learning techniques\\n     to diagnose breast cancer from fine-needle aspirates. Cancer Letters 77 (1994) \\n     163-171.',\n",
       " 'feature_names': array(['mean radius', 'mean texture', 'mean perimeter', 'mean area',\n",
       "        'mean smoothness', 'mean compactness', 'mean concavity',\n",
       "        'mean concave points', 'mean symmetry', 'mean fractal dimension',\n",
       "        'radius error', 'texture error', 'perimeter error', 'area error',\n",
       "        'smoothness error', 'compactness error', 'concavity error',\n",
       "        'concave points error', 'symmetry error',\n",
       "        'fractal dimension error', 'worst radius', 'worst texture',\n",
       "        'worst perimeter', 'worst area', 'worst smoothness',\n",
       "        'worst compactness', 'worst concavity', 'worst concave points',\n",
       "        'worst symmetry', 'worst fractal dimension'], dtype='<U23'),\n",
       " 'filename': 'breast_cancer.csv',\n",
       " 'data_module': 'sklearn.datasets.data'}"
      ]
     },
     "execution_count": 5,
     "metadata": {},
     "output_type": "execute_result"
    }
   ],
   "source": [
    "bc"
   ]
  },
  {
   "cell_type": "code",
   "execution_count": 6,
   "id": "894a5008-d44c-4147-ad15-c22c27711eaf",
   "metadata": {},
   "outputs": [],
   "source": [
    "all_data_X = bc['data']\n",
    "all_data_Y = bc['target']\n",
    "y_labels = bc['target_names']"
   ]
  },
  {
   "cell_type": "code",
   "execution_count": 7,
   "id": "114aea11-a89c-4c94-94ec-dd6ea992e301",
   "metadata": {},
   "outputs": [],
   "source": [
    "from sklearn.model_selection import train_test_split"
   ]
  },
  {
   "cell_type": "code",
   "execution_count": 8,
   "id": "de83a6c5-768a-4dcb-8421-55ab108d888c",
   "metadata": {},
   "outputs": [],
   "source": [
    "X_train, X_test, y_train, y_test = train_test_split(all_data_X, all_data_Y, test_size=0.15, random_state=11)"
   ]
  },
  {
   "cell_type": "code",
   "execution_count": 9,
   "id": "5095ea9f-487d-473e-83ee-a472487dfd12",
   "metadata": {},
   "outputs": [
    {
     "data": {
      "text/plain": [
       "(569, 30)"
      ]
     },
     "execution_count": 9,
     "metadata": {},
     "output_type": "execute_result"
    }
   ],
   "source": [
    "all_data_X.shape"
   ]
  },
  {
   "cell_type": "code",
   "execution_count": 10,
   "id": "af6e8ccd-7b76-4ed6-89e3-d492b853ff21",
   "metadata": {},
   "outputs": [],
   "source": [
    "k = all_data_X.shape[1]"
   ]
  },
  {
   "cell_type": "code",
   "execution_count": 11,
   "id": "b860f43b-8c57-41ba-9969-30317d688e3a",
   "metadata": {},
   "outputs": [],
   "source": [
    "hidden_dim = 32\n",
    "lin_layer_1 = torch.nn.Linear(k, hidden_dim)\n",
    "lin_layer_2 = torch.nn.Linear(hidden_dim, 2)"
   ]
  },
  {
   "cell_type": "code",
   "execution_count": 13,
   "id": "78684f53-d46a-439c-b034-98c7adee4e53",
   "metadata": {},
   "outputs": [],
   "source": [
    "model = torch.nn.Sequential(\n",
    "    lin_layer_1,\n",
    "    torch.nn.Sigmoid(),\n",
    "    lin_layer_2,\n",
    "    torch.nn.LogSoftmax()\n",
    ")"
   ]
  },
  {
   "cell_type": "code",
   "execution_count": 14,
   "id": "e360c62c-efaf-47f2-bca5-b11a59f279cc",
   "metadata": {},
   "outputs": [],
   "source": [
    "lr = 0.001\n",
    "optimizer = torch.optim.Adam(model.parameters(), lr=lr)"
   ]
  },
  {
   "cell_type": "code",
   "execution_count": 15,
   "id": "b33e221e-273c-4705-804f-82c81ed089eb",
   "metadata": {},
   "outputs": [],
   "source": [
    "batch_size = 16\n",
    "epochs = 1000\n",
    "\n",
    "train_data = torch.utils.data.TensorDataset(torch.tensor(X_train).float(), torch.tensor(y_train))\n",
    "train_loader = torch.utils.data.DataLoader(train_data, batch_size=batch_size, shuffle=True)"
   ]
  },
  {
   "cell_type": "code",
   "execution_count": 16,
   "id": "afa86f04-223b-480b-b2c0-ac261ed5a743",
   "metadata": {},
   "outputs": [],
   "source": [
    "def train_epoch(loader, model, optimizer, loss_fn):\n",
    "    \n",
    "    for batch in loader:\n",
    "        optimizer.zero_grad()\n",
    "        \n",
    "        batchX = batch[0]\n",
    "        batchY = batch[1]\n",
    "        preds = model(batchX)\n",
    "        \n",
    "        loss = loss_fn(preds, batchY)\n",
    "        # print(loss)\n",
    "        loss.backward()\n",
    "        optimizer.step()\n",
    "    \n",
    "    return loss.detach().numpy()\n",
    "\n",
    "    "
   ]
  },
  {
   "attachments": {},
   "cell_type": "markdown",
   "id": "7649ca2f",
   "metadata": {},
   "source": [
    "torch [NLL Loss](https://pytorch.org/docs/stable/generated/torch.nn.NLLLoss.html)"
   ]
  },
  {
   "cell_type": "code",
   "execution_count": 17,
   "id": "fb92a99f-3409-40c2-b779-9590d4b249d4",
   "metadata": {},
   "outputs": [],
   "source": [
    "loss_fn = torch.nn.NLLLoss()"
   ]
  },
  {
   "cell_type": "code",
   "execution_count": 18,
   "id": "0c061250-6ecc-4e17-985d-2e05d1c12b7e",
   "metadata": {},
   "outputs": [
    {
     "name": "stderr",
     "output_type": "stream",
     "text": [
      "/Users/maxperozek/opt/anaconda3/envs/py4sci/lib/python3.10/site-packages/torch/nn/modules/container.py:217: UserWarning: Implicit dimension choice for log_softmax has been deprecated. Change the call to include dim=X as an argument.\n",
      "  input = module(input)\n"
     ]
    },
    {
     "name": "stdout",
     "output_type": "stream",
     "text": [
      "epoch 0 loss: 0.7584481239318848\n",
      "epoch 50 loss: 0.05002618208527565\n",
      "epoch 100 loss: 0.11602851003408432\n",
      "epoch 150 loss: 0.17102168500423431\n",
      "epoch 200 loss: 0.0057830810546875\n",
      "epoch 250 loss: 0.09873395413160324\n",
      "epoch 300 loss: 0.24445295333862305\n",
      "epoch 350 loss: 0.006610189098864794\n",
      "epoch 400 loss: 0.40958335995674133\n",
      "epoch 450 loss: 0.017466740682721138\n",
      "epoch 500 loss: 0.016956372186541557\n",
      "epoch 550 loss: 0.01651722751557827\n",
      "epoch 600 loss: 0.013682951219379902\n",
      "epoch 650 loss: 0.7425881028175354\n",
      "epoch 700 loss: 0.014808467589318752\n",
      "epoch 750 loss: 0.17853085696697235\n",
      "epoch 800 loss: 0.007590789347887039\n",
      "epoch 850 loss: 0.12827709317207336\n",
      "epoch 900 loss: 0.0015486382180824876\n",
      "epoch 950 loss: 0.020334139466285706\n"
     ]
    }
   ],
   "source": [
    "for i in range(epochs):\n",
    "    l = train_epoch(train_loader, model, optimizer, loss_fn)\n",
    "    if i % 50 == 0:\n",
    "        print(f'epoch {i} loss: {l}')"
   ]
  },
  {
   "attachments": {},
   "cell_type": "markdown",
   "id": "38f0e350",
   "metadata": {},
   "source": [
    "### Experiment"
   ]
  },
  {
   "cell_type": "code",
   "execution_count": 19,
   "id": "71596bc0-dbb6-437b-8bc2-4f058cf54693",
   "metadata": {},
   "outputs": [],
   "source": [
    "class Experiment:\n",
    "    \n",
    "    def __init__(self, model, optimizer, loss_fn, train_loader, test_loader, epochs=100):\n",
    "        self.model = model\n",
    "        self.optimizer = optimizer\n",
    "        self.loss_fn = loss_fn\n",
    "        self.train_loader = train_loader\n",
    "        self.test_loader = test_loader\n",
    "        self.epochs = epochs\n",
    "        \n",
    "    def train(self):\n",
    "        \n",
    "        for i in range(self.epochs):\n",
    "            \n",
    "            losses = []\n",
    "            for batch in self.train_loader:\n",
    "                optimizer.zero_grad()\n",
    "\n",
    "                batchX = batch[0]\n",
    "                batchY = batch[1]\n",
    "\n",
    "                preds = self.model(batchX)\n",
    "\n",
    "                loss = self.loss_fn(preds, batchY)\n",
    "                losses.append(loss.detach().numpy())\n",
    "                \n",
    "                loss.backward()\n",
    "                optimizer.step()\n",
    "            \n",
    "            \n",
    "            if i % 100 == 0:\n",
    "                mean_loss = np.array(losses).sum() / len(losses) # technically not quite right cuz partial batches will be weighted slightly higher (we will survive)\n",
    "                print(f'epoch {i} loss: {mean_loss}')\n",
    "        \n",
    "    def evaluate(self, thresh=0.5):\n",
    "        \n",
    "        with torch.no_grad():\n",
    "            \n",
    "            correct = 0\n",
    "            total = 0\n",
    "            for batch in self.test_loader:\n",
    "                batchX = batch[0]\n",
    "                batchY = batch[1]\n",
    "                \n",
    "                preds = np.argmax(self.model(batchX),1)\n",
    "                \n",
    "                accs = (preds == batchY)\n",
    "                # print(preds.shape)\n",
    "                # print(batchY.shape)\n",
    "                # print(accs.shape)\n",
    "                # print(accs.sum())\n",
    "                # print(accs.shape[0])\n",
    "                correct += accs.sum()\n",
    "                total += accs.shape[0]\n",
    "                \n",
    "\n",
    "\n",
    "            return correct / total\n",
    "        \n",
    "        \n",
    "        \n",
    "        "
   ]
  },
  {
   "cell_type": "code",
   "execution_count": 20,
   "id": "f27e651a-067a-4f59-8438-a6f445ddfad3",
   "metadata": {},
   "outputs": [],
   "source": [
    "batch_size = 16\n",
    "\n",
    "train_data = torch.utils.data.TensorDataset(torch.tensor(X_train).float(), torch.tensor(y_train))\n",
    "train_loader = torch.utils.data.DataLoader(train_data, batch_size=batch_size, shuffle=True)\n",
    "\n",
    "test_data = torch.utils.data.TensorDataset(torch.tensor(X_test).float(), torch.tensor(y_test))\n",
    "test_loader = torch.utils.data.DataLoader(test_data, batch_size=batch_size, shuffle=True)"
   ]
  },
  {
   "cell_type": "code",
   "execution_count": 21,
   "id": "a2243411-c107-49a6-b786-549c06dcd24b",
   "metadata": {
    "tags": []
   },
   "outputs": [
    {
     "name": "stdout",
     "output_type": "stream",
     "text": [
      "rand init: 1\n",
      "epoch 0 loss: 0.65611082507718\n",
      "rand init: 2\n",
      "epoch 0 loss: 0.7145069491478705\n",
      "rand init: 3\n",
      "epoch 0 loss: 0.5800196124661353\n",
      "rand init: 4\n",
      "epoch 0 loss: 0.6436661751039566\n",
      "rand init: 5\n",
      "epoch 0 loss: 0.6319565926828692\n",
      "rand init: 6\n",
      "epoch 0 loss: 0.6017074584960938\n",
      "rand init: 7\n",
      "epoch 0 loss: 0.6176518471010269\n",
      "rand init: 8\n",
      "epoch 0 loss: 0.6355407468734249\n",
      "rand init: 9\n",
      "epoch 0 loss: 0.6978634249779486\n",
      "rand init: 10\n",
      "epoch 0 loss: 0.5877715080015121\n"
     ]
    }
   ],
   "source": [
    "exp_1_res = []\n",
    "for i in range(10):\n",
    "    print(f'rand init: {i+1}')\n",
    "    hidden_dim = 32\n",
    "    lin_layer_1 = torch.nn.Linear(k, hidden_dim)\n",
    "    lin_layer_2 = torch.nn.Linear(hidden_dim, 2)\n",
    "    model = torch.nn.Sequential(\n",
    "        lin_layer_1,\n",
    "        torch.nn.Sigmoid(),\n",
    "        lin_layer_2,\n",
    "        torch.nn.LogSoftmax()\n",
    "    )\n",
    "    optimizer = torch.optim.Adam(model.parameters(), lr=lr)\n",
    "    loss_fn = torch.nn.NLLLoss()\n",
    "\n",
    "    exp = Experiment(model, optimizer, loss_fn, train_loader, test_loader, epochs=100)\n",
    "    \n",
    "    exp.train()\n",
    "    exp_1_res.append(exp.evaluate())"
   ]
  },
  {
   "cell_type": "code",
   "execution_count": 22,
   "id": "10cf51fd-ac7f-4f63-9457-b4f9aa429697",
   "metadata": {},
   "outputs": [
    {
     "data": {
      "text/plain": [
       "[tensor(0.9535),\n",
       " tensor(0.9535),\n",
       " tensor(0.9302),\n",
       " tensor(0.9302),\n",
       " tensor(0.9535),\n",
       " tensor(0.9651),\n",
       " tensor(0.9419),\n",
       " tensor(0.9535),\n",
       " tensor(0.9535),\n",
       " tensor(0.9302)]"
      ]
     },
     "execution_count": 22,
     "metadata": {},
     "output_type": "execute_result"
    }
   ],
   "source": [
    "exp_1_res"
   ]
  },
  {
   "attachments": {},
   "cell_type": "markdown",
   "id": "8ae21423",
   "metadata": {},
   "source": [
    "Again with larger hidden layer"
   ]
  },
  {
   "cell_type": "code",
   "execution_count": 23,
   "id": "0893851f-f29e-443e-8206-c39dcb92ae38",
   "metadata": {},
   "outputs": [
    {
     "name": "stdout",
     "output_type": "stream",
     "text": [
      "rand init: 1\n",
      "epoch 0 loss: 0.5615937017625378\n"
     ]
    },
    {
     "name": "stderr",
     "output_type": "stream",
     "text": [
      "/Users/maxperozek/opt/anaconda3/envs/py4sci/lib/python3.10/site-packages/torch/nn/modules/container.py:217: UserWarning: Implicit dimension choice for log_softmax has been deprecated. Change the call to include dim=X as an argument.\n",
      "  input = module(input)\n"
     ]
    },
    {
     "name": "stdout",
     "output_type": "stream",
     "text": [
      "rand init: 2\n",
      "epoch 0 loss: 0.6357685827439831\n",
      "rand init: 3\n",
      "epoch 0 loss: 0.5844228806034211\n",
      "rand init: 4\n",
      "epoch 0 loss: 0.6567003188594696\n",
      "rand init: 5\n",
      "epoch 0 loss: 0.5929158733737084\n",
      "rand init: 6\n",
      "epoch 0 loss: 0.5861065156998173\n",
      "rand init: 7\n",
      "epoch 0 loss: 0.617814463953818\n",
      "rand init: 8\n",
      "epoch 0 loss: 0.525787845734627\n",
      "rand init: 9\n",
      "epoch 0 loss: 0.6573209454936366\n",
      "rand init: 10\n",
      "epoch 0 loss: 0.5827255249023438\n"
     ]
    }
   ],
   "source": [
    "exp_2_res = []\n",
    "for i in range(10):\n",
    "    print(f'rand init: {i+1}')\n",
    "    \n",
    "    hidden_dim = 128\n",
    "    lin_layer_1 = torch.nn.Linear(k, hidden_dim)\n",
    "    lin_layer_2 = torch.nn.Linear(hidden_dim, 2)\n",
    "    model = torch.nn.Sequential(\n",
    "        lin_layer_1,\n",
    "        torch.nn.Sigmoid(),\n",
    "        lin_layer_2,\n",
    "        torch.nn.LogSoftmax()\n",
    "    )\n",
    "    optimizer = torch.optim.Adam(model.parameters(), lr=lr)\n",
    "    loss_fn = torch.nn.NLLLoss()\n",
    "\n",
    "    exp = Experiment(model, optimizer, loss_fn, train_loader, test_loader, epochs=100)\n",
    "    \n",
    "    exp.train()\n",
    "    exp_2_res.append(exp.evaluate())"
   ]
  },
  {
   "cell_type": "code",
   "execution_count": 24,
   "id": "a0c60e90-275d-4a68-bbd7-e529621b2919",
   "metadata": {},
   "outputs": [
    {
     "data": {
      "text/plain": [
       "[tensor(0.9651),\n",
       " tensor(0.9651),\n",
       " tensor(0.9535),\n",
       " tensor(0.9535),\n",
       " tensor(0.9419),\n",
       " tensor(0.9535),\n",
       " tensor(0.9419),\n",
       " tensor(0.9302),\n",
       " tensor(0.9535),\n",
       " tensor(0.9419)]"
      ]
     },
     "execution_count": 24,
     "metadata": {},
     "output_type": "execute_result"
    }
   ],
   "source": [
    "exp_2_res"
   ]
  },
  {
   "cell_type": "code",
   "execution_count": 25,
   "id": "8bf1ac08-47ea-4bc9-bdd0-36a94fa268e0",
   "metadata": {},
   "outputs": [
    {
     "name": "stdout",
     "output_type": "stream",
     "text": [
      "32 hidden unit experiment mean acc: 0.9465116262435913\n",
      "128 hidden unit experiment mean acc: 0.949999988079071\n"
     ]
    }
   ],
   "source": [
    "print(f'32 hidden unit experiment mean acc: {np.array(exp_1_res).mean()}')\n",
    "print(f'128 hidden unit experiment mean acc: {np.array(exp_2_res).mean()}')"
   ]
  },
  {
   "attachments": {},
   "cell_type": "markdown",
   "id": "c5a8e0d9-6af5-4108-9931-52f40ea5159a",
   "metadata": {},
   "source": [
    "The more complex model shows minor improvement over the smaller model using NLLLoss whereas the same experiment with an MSE loss model saw basically no difference. The improvement is still very small (<1%) but it may suggest that NLLLoss makes training more complex models easier."
   ]
  },
  {
   "attachments": {},
   "cell_type": "markdown",
   "id": "b9f5c48a",
   "metadata": {},
   "source": []
  }
 ],
 "metadata": {
  "kernelspec": {
   "display_name": "Python 3 (ipykernel)",
   "language": "python",
   "name": "python3"
  },
  "language_info": {
   "codemirror_mode": {
    "name": "ipython",
    "version": 3
   },
   "file_extension": ".py",
   "mimetype": "text/x-python",
   "name": "python",
   "nbconvert_exporter": "python",
   "pygments_lexer": "ipython3",
   "version": "3.10.10"
  }
 },
 "nbformat": 4,
 "nbformat_minor": 5
}
