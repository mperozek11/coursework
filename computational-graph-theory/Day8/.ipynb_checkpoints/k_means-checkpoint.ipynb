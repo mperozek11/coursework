{
 "cells": [
  {
   "cell_type": "code",
   "execution_count": 2,
   "id": "6f61f1d8-c942-4cb8-8362-af842d3211c4",
   "metadata": {},
   "outputs": [],
   "source": [
    "import numpy as np\n",
    "import matplotlib.pyplot as plt"
   ]
  },
  {
   "cell_type": "code",
   "execution_count": 16,
   "id": "3f85ee4c-cfef-425d-84fe-96b05d97d97f",
   "metadata": {},
   "outputs": [],
   "source": [
    "from scipy.spatial.distance import cdist"
   ]
  },
  {
   "cell_type": "code",
   "execution_count": 9,
   "id": "8cf78ea3-abd8-4266-a3a4-e9fec95db5e8",
   "metadata": {},
   "outputs": [],
   "source": [
    "data = np.concatenate(\n",
    "    [\n",
    "        np.random.normal(size=(100,2)),\n",
    "        np.random.normal(loc=(3,3),size=(100,2)),\n",
    "        np.random.normal(loc=(3,-3),size=(100,2))\n",
    "    ]\n",
    ")"
   ]
  },
  {
   "cell_type": "code",
   "execution_count": 51,
   "id": "946d28e9-896a-4902-821f-d6487e46d6c0",
   "metadata": {},
   "outputs": [],
   "source": [
    "# For K means:\n",
    "# 1) Initialize with random clusters;\n",
    "# 2) Assign Each point to its closest cluster center;\n",
    "# 3) Recalculate Cluster Centers based on assignments;\n",
    "# 4) Check if we've converged; if not, GOTO 2\n",
    "def kmeans(data_matrix, K, initial_clusters=None):\n",
    "    old_assignments = np.random.randint(low=0, high=K, size=data_matrix.shape[0])\n",
    "    \n",
    "    if initial_clusters is None:\n",
    "        center_idxs = np.random.choice(np.arange(data_matrix.shape[0]),K)\n",
    "        centers = data_matrix[center_idxs,:].copy()\n",
    "    else:\n",
    "        centers = initial_clusters\n",
    "        \n",
    "    distance = cdist(centers, data_matrix)\n",
    "    assignments = np.argmin(distance, axis=0)\n",
    "    for i in range(centers.shape[0]):\n",
    "        centers[i] = data_matrix[assignments==i,:].mean()\n",
    "    \n",
    "    while np.any(assignments != old_assignments):\n",
    "        distance = cdist(centers, data_matrix)\n",
    "        old_assignments = assignments.copy()\n",
    "        assignments = np.argmin(distance, axis=0)\n",
    "        for i in range(centers.shape[0]):\n",
    "            centers[i] = data_matrix[assignments==i,:].mean()\n",
    "    \n",
    "    return assignments"
   ]
  },
  {
   "cell_type": "code",
   "execution_count": 52,
   "id": "a746f8a9-e7f7-41f2-9d44-66ef019f7d48",
   "metadata": {},
   "outputs": [
    {
     "name": "stderr",
     "output_type": "stream",
     "text": [
      "/tmp/ipykernel_8317/2268899377.py:25: RuntimeWarning: Mean of empty slice.\n",
      "  centers[i] = data_matrix[assignments==i,:].mean()\n",
      "/home/cory/anaconda3/envs/cgt/lib/python3.9/site-packages/numpy/core/_methods.py:189: RuntimeWarning: invalid value encountered in double_scalars\n",
      "  ret = ret.dtype.type(ret / rcount)\n"
     ]
    },
    {
     "ename": "ValueError",
     "evalue": "cannot convert float NaN to integer",
     "output_type": "error",
     "traceback": [
      "\u001b[0;31m---------------------------------------------------------------------------\u001b[0m",
      "\u001b[0;31mValueError\u001b[0m                                Traceback (most recent call last)",
      "Input \u001b[0;32mIn [52]\u001b[0m, in \u001b[0;36m<cell line: 1>\u001b[0;34m()\u001b[0m\n\u001b[0;32m----> 1\u001b[0m final_assignments \u001b[38;5;241m=\u001b[39m \u001b[43mkmeans\u001b[49m\u001b[43m(\u001b[49m\u001b[43mdata\u001b[49m\u001b[43m,\u001b[49m\u001b[38;5;241;43m3\u001b[39;49m\u001b[43m,\u001b[49m\u001b[43m \u001b[49m\u001b[43minitial_clusters\u001b[49m\u001b[38;5;241;43m=\u001b[39;49m\u001b[43mnp\u001b[49m\u001b[38;5;241;43m.\u001b[39;49m\u001b[43marray\u001b[49m\u001b[43m(\u001b[49m\u001b[43m[\u001b[49m\u001b[43m[\u001b[49m\u001b[38;5;241;43m0\u001b[39;49m\u001b[43m,\u001b[49m\u001b[38;5;241;43m0\u001b[39;49m\u001b[43m]\u001b[49m\u001b[43m,\u001b[49m\u001b[43m[\u001b[49m\u001b[38;5;241;43m3\u001b[39;49m\u001b[43m,\u001b[49m\u001b[38;5;241;43m3\u001b[39;49m\u001b[43m]\u001b[49m\u001b[43m,\u001b[49m\u001b[43m[\u001b[49m\u001b[38;5;241;43m3\u001b[39;49m\u001b[43m,\u001b[49m\u001b[38;5;241;43m-\u001b[39;49m\u001b[38;5;241;43m3\u001b[39;49m\u001b[43m]\u001b[49m\u001b[43m]\u001b[49m\u001b[43m)\u001b[49m\u001b[43m)\u001b[49m\n",
      "Input \u001b[0;32mIn [51]\u001b[0m, in \u001b[0;36mkmeans\u001b[0;34m(data_matrix, K, initial_clusters)\u001b[0m\n\u001b[1;32m     23\u001b[0m     assignments \u001b[38;5;241m=\u001b[39m np\u001b[38;5;241m.\u001b[39margmin(distance, axis\u001b[38;5;241m=\u001b[39m\u001b[38;5;241m0\u001b[39m)\n\u001b[1;32m     24\u001b[0m     \u001b[38;5;28;01mfor\u001b[39;00m i \u001b[38;5;129;01min\u001b[39;00m \u001b[38;5;28mrange\u001b[39m(centers\u001b[38;5;241m.\u001b[39mshape[\u001b[38;5;241m0\u001b[39m]):\n\u001b[0;32m---> 25\u001b[0m         centers[i] \u001b[38;5;241m=\u001b[39m data_matrix[assignments\u001b[38;5;241m==\u001b[39mi,:]\u001b[38;5;241m.\u001b[39mmean()\n\u001b[1;32m     27\u001b[0m \u001b[38;5;28;01mreturn\u001b[39;00m assignments\n",
      "\u001b[0;31mValueError\u001b[0m: cannot convert float NaN to integer"
     ]
    }
   ],
   "source": [
    "final_assignments = kmeans(data,3, initial_clusters=np.array([[0,0],[3,3],[3,-3]]))"
   ]
  },
  {
   "cell_type": "code",
   "execution_count": 47,
   "id": "3bf2e928-f714-4310-958c-f13964c255d9",
   "metadata": {},
   "outputs": [
    {
     "data": {
      "image/png": "[encoded data removed]",
      "text/plain": [
       "<Figure size 432x288 with 1 Axes>"
      ]
     },
     "metadata": {
      "needs_background": "light"
     },
     "output_type": "display_data"
    }
   ],
   "source": [
    "for i in range(3):\n",
    "    plt.scatter(\n",
    "        data[final_assignments==i,0],\n",
    "        data[final_assignments==i,1]\n",
    "    )"
   ]
  },
  {
   "cell_type": "code",
   "execution_count": null,
   "id": "963f8476-126a-4ed9-8975-a112cb987bc1",
   "metadata": {},
   "outputs": [],
   "source": []
  }
 ],
 "metadata": {
  "kernelspec": {
   "display_name": "Python 3 (ipykernel)",
   "language": "python",
   "name": "python3"
  },
  "language_info": {
   "codemirror_mode": {
    "name": "ipython",
    "version": 3
   },
   "file_extension": ".py",
   "mimetype": "text/x-python",
   "name": "python",
   "nbconvert_exporter": "python",
   "pygments_lexer": "ipython3",
   "version": "3.9.7"
  }
 },
 "nbformat": 4,
 "nbformat_minor": 5
}
