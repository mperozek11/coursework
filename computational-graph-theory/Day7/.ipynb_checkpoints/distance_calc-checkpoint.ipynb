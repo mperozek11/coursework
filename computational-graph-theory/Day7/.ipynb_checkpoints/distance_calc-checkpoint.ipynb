{
 "cells": [
  {
   "cell_type": "code",
   "execution_count": 1,
   "id": "06ed2571-f686-400b-8a49-f049e3d6e265",
   "metadata": {},
   "outputs": [],
   "source": [
    "import numpy as np"
   ]
  },
  {
   "cell_type": "code",
   "execution_count": 2,
   "id": "c7d89e4d-990d-4ea0-a72c-4e7c95ea86ce",
   "metadata": {},
   "outputs": [],
   "source": [
    "from skimage.io import imread"
   ]
  },
  {
   "cell_type": "code",
   "execution_count": 3,
   "id": "3fe84836-2fce-4363-ae9d-ae65345b8c77",
   "metadata": {},
   "outputs": [],
   "source": [
    "import matplotlib.pyplot as plt"
   ]
  },
  {
   "cell_type": "code",
   "execution_count": 7,
   "id": "224ae704-90de-4339-8d32-0120820cb90b",
   "metadata": {},
   "outputs": [],
   "source": [
    "def euclid_dist(v1, v2):\n",
    "    return np.linalg.norm(v1-v2)"
   ]
  },
  {
   "cell_type": "code",
   "execution_count": 25,
   "id": "ef801dde-8712-4c22-9ce4-9c626a513fd3",
   "metadata": {},
   "outputs": [],
   "source": [
    "def image_dist(im1, im2):\n",
    "    flat_im1 = im1[:,:,0].reshape(-1,1) # reshapes to flat\n",
    "    flat_im2 = im2[:,:,0].reshape(-1,1)\n",
    "    return euclid_dist(flat_im1, flat_im2)"
   ]
  },
  {
   "cell_type": "code",
   "execution_count": 26,
   "id": "100209a7-3dde-4c55-b521-a6d7c4af6582",
   "metadata": {},
   "outputs": [],
   "source": [
    "vec1 = np.array([0,1])\n",
    "vec2 = np.array([1,0])"
   ]
  },
  {
   "cell_type": "code",
   "execution_count": 27,
   "id": "b241fd08-9182-4b4c-a6a1-972f07281f72",
   "metadata": {},
   "outputs": [
    {
     "data": {
      "text/plain": [
       "1.4142135623730951"
      ]
     },
     "execution_count": 27,
     "metadata": {},
     "output_type": "execute_result"
    }
   ],
   "source": [
    "euclid_dist(vec1, vec2)"
   ]
  },
  {
   "cell_type": "code",
   "execution_count": 28,
   "id": "b897c986-308d-4a60-8777-cbe73b428819",
   "metadata": {},
   "outputs": [
    {
     "data": {
      "text/plain": [
       "(336, 2, 2, 2)"
      ]
     },
     "execution_count": 28,
     "metadata": {},
     "output_type": "execute_result"
    }
   ],
   "source": [
    "np.ones((8,8,7,6)).reshape(-1,2,2,2).shape"
   ]
  },
  {
   "cell_type": "code",
   "execution_count": 29,
   "id": "d66e0b7b-2f3a-4544-8548-5204cd4f6abd",
   "metadata": {},
   "outputs": [],
   "source": [
    "im1 = imread(\"stab_frame_00000.jpg\")\n",
    "im2 = imread(\"stab_frame_00002.jpg\")\n",
    "im3 = imread(\"stab_frame_00006.jpg\")"
   ]
  },
  {
   "cell_type": "code",
   "execution_count": 30,
   "id": "198f0da7-6d78-4b54-877a-54018da49b90",
   "metadata": {},
   "outputs": [
    {
     "data": {
      "text/plain": [
       "(64, 64, 3)"
      ]
     },
     "execution_count": 30,
     "metadata": {},
     "output_type": "execute_result"
    }
   ],
   "source": [
    "im1.shape"
   ]
  },
  {
   "cell_type": "code",
   "execution_count": 36,
   "id": "3074e866-3272-42a2-a98f-2e558401a404",
   "metadata": {},
   "outputs": [
    {
     "data": {
      "text/plain": [
       "<matplotlib.image.AxesImage at 0x7fb14091b100>"
      ]
     },
     "execution_count": 36,
     "metadata": {},
     "output_type": "execute_result"
    },
    {
     "data": {
      "image/png": "[encoded data removed]",
      "text/plain": [
       "<Figure size 432x288 with 1 Axes>"
      ]
     },
     "metadata": {
      "needs_background": "light"
     },
     "output_type": "display_data"
    }
   ],
   "source": [
    "plt.imshow(im3)"
   ]
  },
  {
   "cell_type": "code",
   "execution_count": 31,
   "id": "ab4ea291-0e4b-415a-949b-01c1dc7c942e",
   "metadata": {},
   "outputs": [
    {
     "data": {
      "text/plain": [
       "10544.089671469985"
      ]
     },
     "execution_count": 31,
     "metadata": {},
     "output_type": "execute_result"
    }
   ],
   "source": [
    "image_dist(im1, im2)"
   ]
  },
  {
   "cell_type": "code",
   "execution_count": 32,
   "id": "f25347b1-2fbe-4df2-83e9-e1780fc7df4f",
   "metadata": {},
   "outputs": [
    {
     "data": {
      "text/plain": [
       "10299.6705287111"
      ]
     },
     "execution_count": 32,
     "metadata": {},
     "output_type": "execute_result"
    }
   ],
   "source": [
    "image_dist(im1, im3)"
   ]
  },
  {
   "cell_type": "code",
   "execution_count": 33,
   "id": "2a60e215-dcab-460b-bebb-0d2219dc503f",
   "metadata": {},
   "outputs": [
    {
     "data": {
      "text/plain": [
       "10274.678583780615"
      ]
     },
     "execution_count": 33,
     "metadata": {},
     "output_type": "execute_result"
    }
   ],
   "source": [
    "image_dist(im2, im3)"
   ]
  },
  {
   "cell_type": "code",
   "execution_count": null,
   "id": "d84e6410-ca7b-4efc-9787-6934fc129c12",
   "metadata": {},
   "outputs": [],
   "source": []
  }
 ],
 "metadata": {
  "kernelspec": {
   "display_name": "Python 3 (ipykernel)",
   "language": "python",
   "name": "python3"
  },
  "language_info": {
   "codemirror_mode": {
    "name": "ipython",
    "version": 3
   },
   "file_extension": ".py",
   "mimetype": "text/x-python",
   "name": "python",
   "nbconvert_exporter": "python",
   "pygments_lexer": "ipython3",
   "version": "3.9.11"
  }
 },
 "nbformat": 4,
 "nbformat_minor": 5
}
