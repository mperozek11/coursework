{
 "cells": [
  {
   "cell_type": "code",
   "execution_count": 5,
   "id": "a2ea5935-e26f-4b77-8a60-50500c641b5d",
   "metadata": {},
   "outputs": [],
   "source": [
    "import torch"
   ]
  },
  {
   "cell_type": "code",
   "execution_count": 22,
   "id": "478014e1-6fd9-47d1-a478-c6f4a1834cb3",
   "metadata": {},
   "outputs": [],
   "source": [
    "import networkx as nx"
   ]
  },
  {
   "cell_type": "code",
   "execution_count": 23,
   "id": "f7c32306-2d7f-439e-9f98-85465f4d16e7",
   "metadata": {},
   "outputs": [],
   "source": [
    "import numpy as np"
   ]
  },
  {
   "cell_type": "code",
   "execution_count": 24,
   "id": "09e39758-cba3-4885-a339-59ef5cba776f",
   "metadata": {},
   "outputs": [],
   "source": [
    "import matplotlib.pyplot as plt"
   ]
  },
  {
   "cell_type": "code",
   "execution_count": 25,
   "id": "c2aa2d16-d581-4043-bbc9-2392d7e5f2d6",
   "metadata": {},
   "outputs": [],
   "source": [
    "import torch_geometric as tgn"
   ]
  },
  {
   "cell_type": "code",
   "execution_count": 26,
   "id": "334c0049-5164-4077-aa9f-2561fb699b6f",
   "metadata": {},
   "outputs": [],
   "source": [
    "from torch.nn import Sequential as Seq, Linear, ReLU"
   ]
  },
  {
   "cell_type": "code",
   "execution_count": 27,
   "id": "a5205406-59b9-4a64-9764-8fa2f8e0b269",
   "metadata": {},
   "outputs": [],
   "source": [
    "from torch_geometric.nn import MessagePassing"
   ]
  },
  {
   "cell_type": "code",
   "execution_count": 28,
   "id": "d94419c1-579b-434b-9fd0-1fb89eaabd00",
   "metadata": {},
   "outputs": [],
   "source": [
    "class EdgeConv(MessagePassing):\n",
    "    def __init__(self, in_channels, out_channels):\n",
    "        super().__init__(aggr='min') #  \"Max\" aggregation.\n",
    "        self.mlp = Seq(Linear(2 * in_channels, out_channels),\n",
    "                       ReLU(),\n",
    "                       Linear(out_channels, out_channels))\n",
    "\n",
    "    def forward(self, x, edge_index):\n",
    "        # x has shape [N, in_channels]\n",
    "        # edge_index has shape [2, E]\n",
    "\n",
    "        return self.propagate(edge_index, x=x)\n",
    "\n",
    "    def message(self, x_i, x_j):\n",
    "        # x_i has shape [E, in_channels]\n",
    "        # x_j has shape [E, in_channels]\n",
    "\n",
    "        tmp = torch.cat([x_i, x_j - x_i], dim=1)  # tmp has shape [E, 2 * in_channels]\n",
    "        return self.mlp(tmp)"
   ]
  },
  {
   "cell_type": "code",
   "execution_count": 29,
   "id": "94a5f506-d1e7-49c1-98aa-c968f149378b",
   "metadata": {},
   "outputs": [],
   "source": [
    "layer = EdgeConv(3,3)"
   ]
  },
  {
   "cell_type": "code",
   "execution_count": 30,
   "id": "59e79c86-1d64-4599-9030-4c1b041ef459",
   "metadata": {},
   "outputs": [],
   "source": [
    "from skimage.io import imread"
   ]
  },
  {
   "cell_type": "code",
   "execution_count": 47,
   "id": "17d9f866-ca07-42fb-954f-454a85a26801",
   "metadata": {},
   "outputs": [],
   "source": [
    "im = np.random.random((8,8,3))"
   ]
  },
  {
   "cell_type": "code",
   "execution_count": 48,
   "id": "ddb636d6-e9fd-4fd7-b37c-42b26cad897a",
   "metadata": {},
   "outputs": [
    {
     "data": {
      "text/plain": [
       "<matplotlib.image.AxesImage at 0x7f9a3bcfe4c0>"
      ]
     },
     "execution_count": 48,
     "metadata": {},
     "output_type": "execute_result"
    },
    {
     "data": {
      "image/png": "[encoded data removed]",
      "text/plain": [
       "<Figure size 432x288 with 1 Axes>"
      ]
     },
     "metadata": {
      "needs_background": "light"
     },
     "output_type": "display_data"
    }
   ],
   "source": [
    "plt.imshow(im)"
   ]
  },
  {
   "cell_type": "code",
   "execution_count": 49,
   "id": "df66e844-4f7c-436f-83c3-7cd06138c726",
   "metadata": {},
   "outputs": [],
   "source": [
    "edges = list(nx.erdos_renyi_graph(64, .1).edges())"
   ]
  },
  {
   "cell_type": "code",
   "execution_count": 50,
   "id": "c232f317-51a0-42e5-9c01-9c9d8a520961",
   "metadata": {},
   "outputs": [],
   "source": [
    "edges_tensor = torch.tensor(edges).T"
   ]
  },
  {
   "cell_type": "code",
   "execution_count": 51,
   "id": "b7f919d3-9f78-4b09-bafb-2964567c4a3c",
   "metadata": {},
   "outputs": [
    {
     "data": {
      "text/plain": [
       "tensor([[ 0,  0,  0,  1,  1,  1,  1,  1,  2,  2,  2,  2,  2,  2,  3,  3,  3,  3,\n",
       "          3,  4,  4,  4,  5,  5,  5,  5,  5,  5,  5,  5,  6,  6,  6,  6,  6,  6,\n",
       "          6,  7,  7,  7,  7,  7,  7,  8,  8,  8,  8,  9,  9, 10, 10, 10, 11, 11,\n",
       "         11, 12, 12, 12, 12, 13, 13, 13, 13, 14, 14, 14, 14, 15, 15, 16, 16, 16,\n",
       "         16, 16, 16, 16, 17, 18, 18, 18, 18, 18, 18, 18, 19, 19, 19, 19, 20, 20,\n",
       "         20, 20, 20, 21, 21, 21, 21, 21, 22, 22, 22, 22, 22, 22, 23, 23, 23, 24,\n",
       "         24, 24, 24, 24, 24, 25, 25, 25, 25, 25, 26, 26, 26, 27, 28, 28, 28, 30,\n",
       "         30, 30, 31, 31, 31, 31, 32, 32, 32, 32, 32, 33, 34, 35, 36, 37, 37, 37,\n",
       "         38, 38, 38, 38, 38, 39, 40, 41, 42, 43, 43, 44, 44, 45, 45, 45, 46, 46,\n",
       "         48, 49, 49, 50, 50, 52, 53, 54, 57, 60],\n",
       "        [44, 49, 51, 19, 20, 26, 28, 53, 14, 32, 39, 50, 54, 55, 17, 18, 24, 39,\n",
       "         44,  5, 42, 57, 16, 35, 40, 43, 45, 48, 57, 58,  7, 18, 24, 29, 44, 49,\n",
       "         59, 16, 20, 24, 27, 47, 63, 10, 12, 20, 29, 20, 50, 18, 25, 62, 34, 41,\n",
       "         49, 17, 27, 52, 63, 29, 31, 54, 56, 20, 22, 23, 29, 38, 63, 21, 32, 37,\n",
       "         41, 53, 57, 62, 25, 19, 20, 26, 30, 32, 40, 41, 21, 27, 54, 57, 24, 27,\n",
       "         28, 39, 57, 22, 51, 54, 62, 63, 31, 40, 44, 48, 49, 52, 46, 52, 57, 27,\n",
       "         28, 35, 36, 41, 59, 28, 35, 37, 60, 63, 30, 39, 49, 45, 30, 42, 48, 49,\n",
       "         60, 62, 36, 47, 54, 60, 34, 37, 41, 46, 49, 53, 54, 39, 62, 39, 44, 61,\n",
       "         39, 40, 44, 49, 62, 40, 48, 46, 60, 55, 60, 53, 63, 48, 54, 60, 60, 62,\n",
       "         53, 50, 62, 57, 58, 53, 63, 59, 62, 63]])"
      ]
     },
     "execution_count": 51,
     "metadata": {},
     "output_type": "execute_result"
    }
   ],
   "source": [
    "edges_tensor"
   ]
  },
  {
   "cell_type": "code",
   "execution_count": 55,
   "id": "aaec9b97-0de6-40a7-9588-0e35d8f8fb6e",
   "metadata": {},
   "outputs": [
    {
     "data": {
      "text/plain": [
       "tensor([[ 0.0000,  0.0000,  0.0000],\n",
       "        [ 0.0000,  0.0000,  0.0000],\n",
       "        [ 0.0000,  0.0000,  0.0000],\n",
       "        [ 0.0000,  0.0000,  0.0000],\n",
       "        [ 0.0000,  0.0000,  0.0000],\n",
       "        [-0.3757,  0.3361, -0.2829],\n",
       "        [ 0.0000,  0.0000,  0.0000],\n",
       "        [-0.4159,  0.4450, -0.1598],\n",
       "        [ 0.0000,  0.0000,  0.0000],\n",
       "        [ 0.0000,  0.0000,  0.0000],\n",
       "        [-0.3737,  0.2932, -0.3045],\n",
       "        [ 0.0000,  0.0000,  0.0000],\n",
       "        [-0.4511,  0.5531, -0.0468],\n",
       "        [ 0.0000,  0.0000,  0.0000],\n",
       "        [-0.3744,  0.3089, -0.2966],\n",
       "        [ 0.0000,  0.0000,  0.0000],\n",
       "        [-0.3766,  0.3424, -0.2798],\n",
       "        [-0.5073,  0.5672, -0.0359],\n",
       "        [-0.3876,  0.3918, -0.2550],\n",
       "        [-0.4150,  0.3873, -0.2421],\n",
       "        [-0.4289,  0.4123, -0.2324],\n",
       "        [-0.3889,  0.4134, -0.2442],\n",
       "        [-0.4825,  0.5596, -0.0321],\n",
       "        [-0.4168,  0.4560, -0.1535],\n",
       "        [-0.4813,  0.5647, -0.0418],\n",
       "        [-0.3805,  0.2927, -0.3047],\n",
       "        [-0.4125,  0.3727, -0.2530],\n",
       "        [-0.4246,  0.3687, -0.2666],\n",
       "        [-0.4038,  0.3451, -0.2784],\n",
       "        [-0.4923,  0.5260, -0.0832],\n",
       "        [-0.4158,  0.4367, -0.1949],\n",
       "        [-0.4096,  0.3972, -0.2523],\n",
       "        [-0.3909,  0.3468, -0.2776],\n",
       "        [ 0.0000,  0.0000,  0.0000],\n",
       "        [-0.4374,  0.4772, -0.1400],\n",
       "        [-0.3767,  0.3096, -0.2962],\n",
       "        [-0.3793,  0.3846, -0.2586],\n",
       "        [-0.4502,  0.5096, -0.0852],\n",
       "        [-0.3913,  0.4024, -0.2252],\n",
       "        [-0.3839,  0.3594, -0.2713],\n",
       "        [-0.4692,  0.4501, -0.1747],\n",
       "        [-0.4672,  0.4817, -0.1587],\n",
       "        [-0.3733,  0.2644, -0.3189],\n",
       "        [-0.3768,  0.3612, -0.2704],\n",
       "        [-0.3772,  0.2696, -0.3163],\n",
       "        [-0.4316,  0.4725, -0.1707],\n",
       "        [-0.4739,  0.5278, -0.0965],\n",
       "        [-0.4267,  0.4097, -0.2065],\n",
       "        [-0.3919,  0.3788, -0.2615],\n",
       "        [-0.4787,  0.4000, -0.2371],\n",
       "        [-0.3764,  0.3171, -0.2925],\n",
       "        [-0.3755,  0.2827, -0.3097],\n",
       "        [-0.3993,  0.3685, -0.2667],\n",
       "        [-0.4458,  0.3712, -0.2653],\n",
       "        [-0.3885,  0.3445, -0.2788],\n",
       "        [-0.4280,  0.4456, -0.1917],\n",
       "        [-0.4078,  0.4222, -0.1849],\n",
       "        [-0.3915,  0.3262, -0.2879],\n",
       "        [-0.3948,  0.3731, -0.2644],\n",
       "        [-0.4431,  0.3623, -0.2698],\n",
       "        [-0.5024,  0.4784, -0.1566],\n",
       "        [-0.3715,  0.2452, -0.3285],\n",
       "        [-0.4284,  0.3816, -0.2601],\n",
       "        [-0.4749,  0.4130, -0.2129]], grad_fn=<CppNode<ScatterMin>>)"
      ]
     },
     "execution_count": 55,
     "metadata": {},
     "output_type": "execute_result"
    }
   ],
   "source": [
    "layer(torch.tensor(im.reshape(-1,3)).float(), edges_tensor)"
   ]
  },
  {
   "cell_type": "code",
   "execution_count": null,
   "id": "53377113-114c-4471-80d7-f977598ea592",
   "metadata": {},
   "outputs": [],
   "source": []
  }
 ],
 "metadata": {
  "kernelspec": {
   "display_name": "Python 3 (ipykernel)",
   "language": "python",
   "name": "python3"
  },
  "language_info": {
   "codemirror_mode": {
    "name": "ipython",
    "version": 3
   },
   "file_extension": ".py",
   "mimetype": "text/x-python",
   "name": "python",
   "nbconvert_exporter": "python",
   "pygments_lexer": "ipython3",
   "version": "3.9.7"
  }
 },
 "nbformat": 4,
 "nbformat_minor": 5
}
