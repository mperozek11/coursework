{
 "cells": [
  {
   "cell_type": "code",
   "execution_count": 3,
   "id": "5f3fad94-d611-443e-a6a6-6095968acf7f",
   "metadata": {},
   "outputs": [],
   "source": [
    "import networkx as nx\n",
    "import numpy as np\n",
    "import matplotlib.pyplot as plt\n",
    "import torch"
   ]
  },
  {
   "cell_type": "code",
   "execution_count": 4,
   "id": "6cf35f2f-acd2-4df4-b9b3-aa98c5af868a",
   "metadata": {},
   "outputs": [],
   "source": [
    "from scipy.spatial.distance import cdist"
   ]
  },
  {
   "cell_type": "code",
   "execution_count": 5,
   "id": "81e16c56-8716-4b53-b756-c60a1af3d115",
   "metadata": {},
   "outputs": [],
   "source": [
    "from sklearn.datasets import load_digits"
   ]
  },
  {
   "cell_type": "code",
   "execution_count": 6,
   "id": "f0bfde6d-33cd-456e-afdc-7a3edaacc7a5",
   "metadata": {},
   "outputs": [],
   "source": [
    "digits = load_digits(n_class=2)"
   ]
  },
  {
   "cell_type": "code",
   "execution_count": 7,
   "id": "f76b625b-ddad-4555-985a-7189b17c8697",
   "metadata": {},
   "outputs": [],
   "source": [
    "images = digits.images"
   ]
  },
  {
   "cell_type": "code",
   "execution_count": 8,
   "id": "25eb631e-c003-4cdb-849f-8dd039ac68ff",
   "metadata": {},
   "outputs": [],
   "source": [
    "labels = digits.target"
   ]
  },
  {
   "cell_type": "code",
   "execution_count": 9,
   "id": "0b9b11ed-34b5-4472-bebf-ca15c110e0b9",
   "metadata": {},
   "outputs": [
    {
     "data": {
      "text/plain": [
       "(360, 8, 8)"
      ]
     },
     "execution_count": 9,
     "metadata": {},
     "output_type": "execute_result"
    }
   ],
   "source": [
    "images.shape"
   ]
  },
  {
   "cell_type": "code",
   "execution_count": 16,
   "id": "c113887b-cd06-4f2b-b3e4-7060e42d8bad",
   "metadata": {},
   "outputs": [],
   "source": [
    "def get_c2c_distances(data_matrix, cluster_assignment, used_labels):\n",
    "    \n",
    "    c2c_distances = np.zeros((used_labels.shape[0],used_labels.shape[0]))\n",
    "    for i in range(used_labels.shape[0]):\n",
    "        for j in range(used_labels.shape[0]):\n",
    "\n",
    "            cluster_A_pts = data_matrix[ cluster_assignment == used_labels[i] , : ]\n",
    "            cluster_B_pts = data_matrix[ cluster_assignment == used_labels[j] , : ]\n",
    "            cluster_distance = cdist(cluster_A_pts, cluster_B_pts).mean()\n",
    "            if i != j:\n",
    "                c2c_distances[i,j] = cluster_distance\n",
    "            else:\n",
    "                c2c_distances[i,i] = 1e8\n",
    "    return c2c_distances                "
   ]
  },
  {
   "cell_type": "code",
   "execution_count": 17,
   "id": "b5a1bbd0-c72f-4d0f-818f-1a42b78ac45c",
   "metadata": {},
   "outputs": [],
   "source": [
    "data_fake = np.array(\n",
    "    [\n",
    "    [.5, .1],\n",
    "    [.3,.4],\n",
    "    [.2, .6],\n",
    "    [3.3, -1.0],\n",
    "    [2.1,-.5],\n",
    "    [1.5, -2.0]    \n",
    "    ]\n",
    ")"
   ]
  },
  {
   "cell_type": "code",
   "execution_count": 21,
   "id": "03bac470-2792-4e28-820d-08de8ffbf509",
   "metadata": {},
   "outputs": [],
   "source": [
    "assignment_fake = np.array([0,0,0,1,1,2])\n",
    "used_labels = np.unique(assignment_fake)"
   ]
  },
  {
   "cell_type": "code",
   "execution_count": 23,
   "id": "820e7f81-cce2-4716-9db3-3ee873453f08",
   "metadata": {},
   "outputs": [
    {
     "data": {
      "image/png": "[encoded data removed]",
      "text/plain": [
       "<Figure size 432x288 with 1 Axes>"
      ]
     },
     "metadata": {
      "needs_background": "light"
     },
     "output_type": "display_data"
    }
   ],
   "source": [
    "for i in used_labels:\n",
    "    plt.scatter(\n",
    "        data_fake[assignment_fake == i,0],\n",
    "        data_fake[assignment_fake == i,1]\n",
    "    )"
   ]
  },
  {
   "cell_type": "code",
   "execution_count": 26,
   "id": "73b369ed-b169-444a-8617-0f982eafdb4c",
   "metadata": {},
   "outputs": [
    {
     "data": {
      "text/plain": [
       "(1, 2)"
      ]
     },
     "execution_count": 26,
     "metadata": {},
     "output_type": "execute_result"
    }
   ],
   "source": [
    "dmat = get_c2c_distances(\n",
    "    data_fake,\n",
    "    assignment_fake,\n",
    "    used_labels\n",
    ")\n",
    "np.unravel_index(np.argmin(dmat),dmat.shape)"
   ]
  },
  {
   "cell_type": "code",
   "execution_count": 27,
   "id": "10fcc65b-0450-43c4-8c9c-0a03d2b40959",
   "metadata": {},
   "outputs": [],
   "source": [
    "def agg_clus(data_matrix, n_clusters = 2):\n",
    "    cluster_assignment = np.arange(data_matrix.shape[0])\n",
    "    \n",
    "    \n",
    "    while np.unique(cluster_assignment).shape[0] > n_clusters:\n",
    "        used_labels = np.unique(cluster_assignment)\n",
    "        \n",
    "        for i in used_labels:\n",
    "            plt.scatter(\n",
    "                data_matrix[cluster_assignment == i,0],\n",
    "                data_matrix[cluster_assignment == i,1]\n",
    "            )\n",
    "        plt.show()\n",
    "        \n",
    "        # Calculate the distance between each cluster.\n",
    "        c2c_distances = get_c2c_distances(data_matrix, cluster_assignment, used_labels)\n",
    "                \n",
    "        # Merge the two clusters that are closest. \n",
    "        i1, i2 = np.unravel_index(np.argmin(c2c_distances),c2c_distances.shape)\n",
    "        label_1 = used_labels[i1]\n",
    "        label_2 = used_labels[i2]\n",
    "        cluster_assignment[cluster_assignment == label_2] = label_1\n",
    "    return cluster_assignment\n",
    "        "
   ]
  },
  {
   "cell_type": "code",
   "execution_count": 28,
   "id": "8ee89f46-0b60-49a3-b66f-17f45463e802",
   "metadata": {},
   "outputs": [
    {
     "data": {
      "image/png": "[encoded data removed]",
      "text/plain": [
       "<Figure size 432x288 with 1 Axes>"
      ]
     },
     "metadata": {
      "needs_background": "light"
     },
     "output_type": "display_data"
    },
    {
     "data": {
      "image/png": "[encoded data removed]",
      "text/plain": [
       "<Figure size 432x288 with 1 Axes>"
      ]
     },
     "metadata": {
      "needs_background": "light"
     },
     "output_type": "display_data"
    },
    {
     "data": {
      "image/png": "[encoded data removed]",
      "text/plain": [
       "<Figure size 432x288 with 1 Axes>"
      ]
     },
     "metadata": {
      "needs_background": "light"
     },
     "output_type": "display_data"
    },
    {
     "data": {
      "image/png": "[encoded data removed]",
      "text/plain": [
       "<Figure size 432x288 with 1 Axes>"
      ]
     },
     "metadata": {
      "needs_background": "light"
     },
     "output_type": "display_data"
    },
    {
     "data": {
      "text/plain": [
       "array([0, 0, 0, 3, 3, 3])"
      ]
     },
     "execution_count": 28,
     "metadata": {},
     "output_type": "execute_result"
    }
   ],
   "source": [
    "agg_clus(data_fake)"
   ]
  },
  {
   "cell_type": "code",
   "execution_count": 13,
   "id": "8959ebf7-eef3-4b21-97c3-339693a626d8",
   "metadata": {},
   "outputs": [
    {
     "data": {
      "text/plain": [
       "(array([1]), array([0]))"
      ]
     },
     "execution_count": 13,
     "metadata": {},
     "output_type": "execute_result"
    }
   ],
   "source": [
    "the_array = np.random.random((3,3))\n",
    "\n",
    "np.where(the_array == np.amin(the_array))"
   ]
  },
  {
   "cell_type": "code",
   "execution_count": null,
   "id": "223c5b11-ea3e-44ca-b1bb-39542675b7de",
   "metadata": {},
   "outputs": [],
   "source": []
  }
 ],
 "metadata": {
  "kernelspec": {
   "display_name": "Python 3 (ipykernel)",
   "language": "python",
   "name": "python3"
  },
  "language_info": {
   "codemirror_mode": {
    "name": "ipython",
    "version": 3
   },
   "file_extension": ".py",
   "mimetype": "text/x-python",
   "name": "python",
   "nbconvert_exporter": "python",
   "pygments_lexer": "ipython3",
   "version": "3.9.7"
  }
 },
 "nbformat": 4,
 "nbformat_minor": 5
}
