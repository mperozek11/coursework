{
 "cells": [
  {
   "cell_type": "code",
   "execution_count": 3,
   "id": "ac337e3f-fb9f-4a57-8aba-a99fae63de53",
   "metadata": {},
   "outputs": [],
   "source": [
    "import torch"
   ]
  },
  {
   "cell_type": "code",
   "execution_count": 4,
   "id": "26270c7e-37d3-490a-b347-bb742efdf29f",
   "metadata": {},
   "outputs": [],
   "source": [
    "import numpy as np"
   ]
  },
  {
   "cell_type": "code",
   "execution_count": 5,
   "id": "5272dd7a-add7-4aa1-b8f6-6513e3456985",
   "metadata": {},
   "outputs": [],
   "source": [
    "import matplotlib.pyplot as plt"
   ]
  },
  {
   "cell_type": "code",
   "execution_count": 6,
   "id": "40d4bd3e-2b21-4617-a40d-45743bc2b460",
   "metadata": {},
   "outputs": [
    {
     "data": {
      "text/plain": [
       "tensor([0.1000, 0.2000, 0.3000], dtype=torch.float64)"
      ]
     },
     "execution_count": 6,
     "metadata": {},
     "output_type": "execute_result"
    }
   ],
   "source": [
    "torch.tensor(\n",
    "    np.array([.1,.2,.3])\n",
    ")"
   ]
  },
  {
   "cell_type": "code",
   "execution_count": 7,
   "id": "a75ada33-0a4c-4980-8212-ddf969698314",
   "metadata": {},
   "outputs": [
    {
     "data": {
      "text/plain": [
       "tensor([[0.9491, 0.8014, 0.5760, 0.4098],\n",
       "        [0.4093, 0.1819, 0.4946, 0.1025],\n",
       "        [0.5025, 0.6777, 0.6995, 0.5120],\n",
       "        [0.0705, 0.3070, 0.1522, 0.4977]], dtype=torch.float64)"
      ]
     },
     "execution_count": 7,
     "metadata": {},
     "output_type": "execute_result"
    }
   ],
   "source": [
    "torch.tensor(\n",
    "    np.random.random((4,4))\n",
    ")"
   ]
  },
  {
   "cell_type": "code",
   "execution_count": 8,
   "id": "99f336d1-5a3d-4edc-ba23-ef0bd5954c95",
   "metadata": {},
   "outputs": [
    {
     "data": {
      "text/plain": [
       "tensor([[0.5561, 0.9488, 0.9799, 0.9301],\n",
       "        [0.5280, 0.1863, 0.4013, 0.1673],\n",
       "        [0.8524, 0.3105, 0.5140, 0.1172],\n",
       "        [0.5868, 0.0392, 0.7906, 0.4167]])"
      ]
     },
     "execution_count": 8,
     "metadata": {},
     "output_type": "execute_result"
    }
   ],
   "source": [
    "torch.rand((4,4))"
   ]
  },
  {
   "cell_type": "code",
   "execution_count": 17,
   "id": "8d854d4d-f684-4d21-aa40-9c9a849c2c02",
   "metadata": {},
   "outputs": [],
   "source": [
    "def f(x):\n",
    "    return x * x "
   ]
  },
  {
   "cell_type": "code",
   "execution_count": 12,
   "id": "4f7a5c66-e742-4e89-a9f0-2442dd10ef47",
   "metadata": {},
   "outputs": [],
   "source": [
    "current_x = torch.nn.Parameter(torch.tensor(\n",
    "    [1.0]\n",
    "))"
   ]
  },
  {
   "cell_type": "code",
   "execution_count": 13,
   "id": "6a396e96-95d9-45f5-a0c3-0b5ba352ca58",
   "metadata": {},
   "outputs": [
    {
     "data": {
      "text/plain": [
       "Parameter containing:\n",
       "tensor([1.], requires_grad=True)"
      ]
     },
     "execution_count": 13,
     "metadata": {},
     "output_type": "execute_result"
    }
   ],
   "source": [
    "current_x"
   ]
  },
  {
   "cell_type": "code",
   "execution_count": 14,
   "id": "5b185142-8262-4e13-b038-0f24d3940503",
   "metadata": {},
   "outputs": [],
   "source": [
    "optimizer = torch.optim.Adam([current_x], 0.001)"
   ]
  },
  {
   "cell_type": "code",
   "execution_count": 18,
   "id": "73b07adb-fa77-4cb8-9575-95465b88f24e",
   "metadata": {},
   "outputs": [],
   "source": [
    "value = f(current_x)"
   ]
  },
  {
   "cell_type": "code",
   "execution_count": 19,
   "id": "3cd89d78-38cf-49db-b2ff-8f5c72672048",
   "metadata": {},
   "outputs": [
    {
     "data": {
      "text/plain": [
       "tensor([1.], grad_fn=<MulBackward0>)"
      ]
     },
     "execution_count": 19,
     "metadata": {},
     "output_type": "execute_result"
    }
   ],
   "source": [
    "value"
   ]
  },
  {
   "cell_type": "code",
   "execution_count": 76,
   "id": "a8f61288-90dd-4e83-8c27-eb7c56c14724",
   "metadata": {},
   "outputs": [],
   "source": [
    "for i in range(100):\n",
    "    optimizer.zero_grad()\n",
    "    value = f(current_x)\n",
    "    value.backward()\n",
    "    optimizer.step()"
   ]
  },
  {
   "cell_type": "code",
   "execution_count": 77,
   "id": "7bfe73a3-bea0-4974-a5fe-ba94a18b749a",
   "metadata": {},
   "outputs": [
    {
     "data": {
      "text/plain": [
       "Parameter containing:\n",
       "tensor([0.0067], requires_grad=True)"
      ]
     },
     "execution_count": 77,
     "metadata": {},
     "output_type": "execute_result"
    }
   ],
   "source": [
    "current_x"
   ]
  },
  {
   "cell_type": "code",
   "execution_count": null,
   "id": "4f9b8e89-dac2-45a7-af5c-46cb7e53523b",
   "metadata": {},
   "outputs": [],
   "source": []
  },
  {
   "cell_type": "code",
   "execution_count": null,
   "id": "f0360f64-f5b2-47ea-9606-1191169179d5",
   "metadata": {},
   "outputs": [],
   "source": []
  }
 ],
 "metadata": {
  "kernelspec": {
   "display_name": "Python 3 (ipykernel)",
   "language": "python",
   "name": "python3"
  },
  "language_info": {
   "codemirror_mode": {
    "name": "ipython",
    "version": 3
   },
   "file_extension": ".py",
   "mimetype": "text/x-python",
   "name": "python",
   "nbconvert_exporter": "python",
   "pygments_lexer": "ipython3",
   "version": "3.9.7"
  }
 },
 "nbformat": 4,
 "nbformat_minor": 5
}
