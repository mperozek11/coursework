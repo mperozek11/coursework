{
 "cells": [
  {
   "cell_type": "code",
   "execution_count": 1,
   "id": "0d908eab-22f0-42d6-9cf5-1a64cce75ba2",
   "metadata": {},
   "outputs": [
    {
     "name": "stderr",
     "output_type": "stream",
     "text": [
      "/Users/maxperozek/opt/anaconda3/envs/comp_gr_thy/lib/python3.9/site-packages/tqdm/auto.py:22: TqdmWarning: IProgress not found. Please update jupyter and ipywidgets. See https://ipywidgets.readthedocs.io/en/stable/user_install.html\n",
      "  from .autonotebook import tqdm as notebook_tqdm\n"
     ]
    }
   ],
   "source": [
    "import torch"
   ]
  },
  {
   "cell_type": "code",
   "execution_count": 2,
   "id": "eabdbb52-b781-4120-b6fc-a99db7ef7607",
   "metadata": {},
   "outputs": [],
   "source": [
    "import numpy as np"
   ]
  },
  {
   "cell_type": "code",
   "execution_count": 3,
   "id": "b716b34e-9489-4e47-bd63-997027d08aac",
   "metadata": {},
   "outputs": [
    {
     "data": {
      "text/plain": [
       "tensor([[0.5691, 0.9193, 0.5601, 0.6633],\n",
       "        [0.3982, 0.2160, 0.1316, 0.5877],\n",
       "        [0.4143, 0.1249, 0.6022, 0.0466],\n",
       "        [0.4444, 0.0046, 0.7921, 0.6235]], dtype=torch.float64)"
      ]
     },
     "execution_count": 3,
     "metadata": {},
     "output_type": "execute_result"
    }
   ],
   "source": [
    "torch.tensor(\n",
    "    np.random.random((4,4))\n",
    ")"
   ]
  },
  {
   "cell_type": "code",
   "execution_count": 4,
   "id": "219ddad3-dcc5-4cca-aab9-2c28bc85b94d",
   "metadata": {},
   "outputs": [
    {
     "data": {
      "text/plain": [
       "tensor([[0.2477, 0.0479, 0.0070, 0.5601],\n",
       "        [0.6260, 0.7455, 0.3795, 0.9411],\n",
       "        [0.1173, 0.3294, 0.1819, 0.0530],\n",
       "        [0.3582, 0.0381, 0.6028, 0.3885]])"
      ]
     },
     "execution_count": 4,
     "metadata": {},
     "output_type": "execute_result"
    }
   ],
   "source": [
    "torch.rand((4,4))"
   ]
  },
  {
   "cell_type": "code",
   "execution_count": 129,
   "id": "80ef3af4-c543-4f78-a38a-e5f3a4931c6b",
   "metadata": {},
   "outputs": [],
   "source": [
    "def f(x):\n",
    "    return x * x"
   ]
  },
  {
   "cell_type": "code",
   "execution_count": 130,
   "id": "e5645605-0615-421a-9da3-acd52253d562",
   "metadata": {},
   "outputs": [],
   "source": [
    "# initial value is the value in the tensor '1'\n",
    "current_x = torch.nn.Parameter(torch.tensor(\n",
    "    [1.0]\n",
    "))"
   ]
  },
  {
   "cell_type": "code",
   "execution_count": 131,
   "id": "59fc8aaa-f159-446f-9fd7-59d160ddfc52",
   "metadata": {},
   "outputs": [
    {
     "data": {
      "text/plain": [
       "Parameter containing:\n",
       "tensor([1.], requires_grad=True)"
      ]
     },
     "execution_count": 131,
     "metadata": {},
     "output_type": "execute_result"
    }
   ],
   "source": [
    "current_x"
   ]
  },
  {
   "cell_type": "code",
   "execution_count": 132,
   "id": "57189151-6c3b-4bc5-a522-5b86b0d84e4b",
   "metadata": {},
   "outputs": [],
   "source": [
    "# optimizer boilerplate\n",
    "optimizer = torch.optim.Adam([current_x], 0.001)"
   ]
  },
  {
   "cell_type": "code",
   "execution_count": 133,
   "id": "ac912a40-de24-4b88-9224-75225420efd5",
   "metadata": {},
   "outputs": [],
   "source": [
    "value = f(current_x)"
   ]
  },
  {
   "cell_type": "code",
   "execution_count": 134,
   "id": "3022241d-9fca-4eb3-af08-1f3fad7798e5",
   "metadata": {},
   "outputs": [
    {
     "data": {
      "text/plain": [
       "tensor([1.], grad_fn=<MulBackward0>)"
      ]
     },
     "execution_count": 134,
     "metadata": {},
     "output_type": "execute_result"
    }
   ],
   "source": [
    "value"
   ]
  },
  {
   "cell_type": "code",
   "execution_count": 135,
   "id": "adfba9cb-3ea1-4f1e-b284-433ffa87c77f",
   "metadata": {},
   "outputs": [],
   "source": [
    "for i in range(1000):\n",
    "    optimizer.zero_grad() # garbage cleaner from last optimizer step\n",
    "    value = f(current_x)\n",
    "\n",
    "    \n",
    "    value.backward()\n",
    "    optimizer.step()"
   ]
  },
  {
   "cell_type": "code",
   "execution_count": 136,
   "id": "6be140f5-4e3c-4e06-b2ab-7971d0327fc7",
   "metadata": {},
   "outputs": [
    {
     "data": {
      "text/plain": [
       "Parameter containing:\n",
       "tensor([0.2577], requires_grad=True)"
      ]
     },
     "execution_count": 136,
     "metadata": {},
     "output_type": "execute_result"
    }
   ],
   "source": [
    "current_x"
   ]
  },
  {
   "cell_type": "code",
   "execution_count": null,
   "id": "86e709a6-8a51-4a17-a746-a9f61fa8e9d6",
   "metadata": {},
   "outputs": [],
   "source": []
  }
 ],
 "metadata": {
  "kernelspec": {
   "display_name": "Python 3 (ipykernel)",
   "language": "python",
   "name": "python3"
  },
  "language_info": {
   "codemirror_mode": {
    "name": "ipython",
    "version": 3
   },
   "file_extension": ".py",
   "mimetype": "text/x-python",
   "name": "python",
   "nbconvert_exporter": "python",
   "pygments_lexer": "ipython3",
   "version": "3.9.11"
  }
 },
 "nbformat": 4,
 "nbformat_minor": 5
}
