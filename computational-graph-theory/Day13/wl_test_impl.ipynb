{
 "cells": [
  {
   "cell_type": "code",
   "execution_count": 1,
   "id": "3ea69772-8d02-4d00-90c5-4a422dc706d5",
   "metadata": {},
   "outputs": [],
   "source": [
    "import networkx as nx\n",
    "import matplotlib.pyplot as plt"
   ]
  },
  {
   "cell_type": "code",
   "execution_count": 10,
   "id": "0ed1ccca-d18d-4f4d-b6d6-33641fc2fb1a",
   "metadata": {},
   "outputs": [],
   "source": [
    "gr1 = nx.grid_graph((2,2))\n",
    "gr2 = nx.grid_graph((1,4))"
   ]
  },
  {
   "cell_type": "code",
   "execution_count": 11,
   "id": "6db0ad1a-cfa8-4f59-b416-02c8db7513e8",
   "metadata": {},
   "outputs": [],
   "source": [
    "def canon_rep(gr):\n",
    "    rep = {node: 1 for node in gr.nodes()}\n",
    "    \n",
    "    old_rep = {node: 0 for node in gr.nodes()}\n",
    "    \n",
    "    # while old set of labels is different from the new set of labels...\n",
    "    while any( rep[node] != old_rep[node] for node in gr.nodes() ):\n",
    "        old_rep = rep.copy()\n",
    "        \n",
    "        for node in gr.nodes():\n",
    "            neighbor_reps = [old_rep[neigh] for neigh in gr.neighbors(node)]\n",
    "            rep[node] = sum(neighbor_reps) % 16\n",
    "            \n",
    "    return sorted(list(rep.values()))"
   ]
  },
  {
   "cell_type": "code",
   "execution_count": 12,
   "id": "446c5b7b-6447-432d-8f05-ab467b73d746",
   "metadata": {},
   "outputs": [
    {
     "data": {
      "text/plain": [
       "[0, 0, 0, 0]"
      ]
     },
     "execution_count": 12,
     "metadata": {},
     "output_type": "execute_result"
    }
   ],
   "source": [
    "canon_rep(gr1)"
   ]
  },
  {
   "cell_type": "code",
   "execution_count": 13,
   "id": "5a6ff047-f85b-4434-9db8-92fd7c7239c1",
   "metadata": {},
   "outputs": [
    {
     "ename": "KeyboardInterrupt",
     "evalue": "",
     "output_type": "error",
     "traceback": [
      "\u001b[0;31m---------------------------------------------------------------------------\u001b[0m",
      "\u001b[0;31mKeyboardInterrupt\u001b[0m                         Traceback (most recent call last)",
      "Input \u001b[0;32mIn [13]\u001b[0m, in \u001b[0;36m<cell line: 1>\u001b[0;34m()\u001b[0m\n\u001b[0;32m----> 1\u001b[0m \u001b[43mcanon_rep\u001b[49m\u001b[43m(\u001b[49m\u001b[43mgr2\u001b[49m\u001b[43m)\u001b[49m\n",
      "Input \u001b[0;32mIn [11]\u001b[0m, in \u001b[0;36mcanon_rep\u001b[0;34m(gr)\u001b[0m\n\u001b[1;32m      7\u001b[0m \u001b[38;5;28;01mwhile\u001b[39;00m \u001b[38;5;28many\u001b[39m( rep[node] \u001b[38;5;241m!=\u001b[39m old_rep[node] \u001b[38;5;28;01mfor\u001b[39;00m node \u001b[38;5;129;01min\u001b[39;00m gr\u001b[38;5;241m.\u001b[39mnodes() ):\n\u001b[1;32m      8\u001b[0m     old_rep \u001b[38;5;241m=\u001b[39m rep\u001b[38;5;241m.\u001b[39mcopy()\n\u001b[0;32m---> 10\u001b[0m     \u001b[38;5;28;01mfor\u001b[39;00m node \u001b[38;5;129;01min\u001b[39;00m gr\u001b[38;5;241m.\u001b[39mnodes():\n\u001b[1;32m     11\u001b[0m         neighbor_reps \u001b[38;5;241m=\u001b[39m [old_rep[neigh] \u001b[38;5;28;01mfor\u001b[39;00m neigh \u001b[38;5;129;01min\u001b[39;00m gr\u001b[38;5;241m.\u001b[39mneighbors(node)]\n\u001b[1;32m     12\u001b[0m         rep[node] \u001b[38;5;241m=\u001b[39m \u001b[38;5;28msum\u001b[39m(neighbor_reps) \u001b[38;5;241m%\u001b[39m \u001b[38;5;241m16\u001b[39m\n",
      "\u001b[0;31mKeyboardInterrupt\u001b[0m: "
     ]
    }
   ],
   "source": [
    "canon_rep(gr2)"
   ]
  },
  {
   "cell_type": "code",
   "execution_count": null,
   "id": "583895e9-d0aa-424a-9d22-c245b598cf22",
   "metadata": {},
   "outputs": [],
   "source": []
  }
 ],
 "metadata": {
  "kernelspec": {
   "display_name": "Python 3 (ipykernel)",
   "language": "python",
   "name": "python3"
  },
  "language_info": {
   "codemirror_mode": {
    "name": "ipython",
    "version": 3
   },
   "file_extension": ".py",
   "mimetype": "text/x-python",
   "name": "python",
   "nbconvert_exporter": "python",
   "pygments_lexer": "ipython3",
   "version": "3.9.11"
  }
 },
 "nbformat": 4,
 "nbformat_minor": 5
}
