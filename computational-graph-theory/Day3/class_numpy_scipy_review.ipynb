{
 "cells": [
  {
   "cell_type": "code",
   "execution_count": 11,
   "id": "8d04e24d-9602-42ca-9a05-11075caa88f9",
   "metadata": {},
   "outputs": [],
   "source": [
    "import numpy as np"
   ]
  },
  {
   "cell_type": "code",
   "execution_count": 3,
   "id": "82895737-ca26-4795-8a38-4a7fa8bf437b",
   "metadata": {},
   "outputs": [],
   "source": [
    "# create a np array from python list of lists\n",
    "my_array = np.array(\n",
    "    [[1.3,1.1,5,8],\n",
    "     [9,10,11,13],\n",
    "     [1e10,3,-1,10]\n",
    "    ]\n",
    ")"
   ]
  },
  {
   "cell_type": "code",
   "execution_count": 4,
   "id": "66b6fcfe-58ee-48cb-8881-41e4fe379f78",
   "metadata": {},
   "outputs": [
    {
     "data": {
      "text/plain": [
       "array([[ 1.3e+00,  1.1e+00,  5.0e+00,  8.0e+00],\n",
       "       [ 9.0e+00,  1.0e+01,  1.1e+01,  1.3e+01],\n",
       "       [ 1.0e+10,  3.0e+00, -1.0e+00,  1.0e+01]])"
      ]
     },
     "execution_count": 4,
     "metadata": {},
     "output_type": "execute_result"
    }
   ],
   "source": [
    "my_array"
   ]
  },
  {
   "cell_type": "code",
   "execution_count": 6,
   "id": "2bba169f-c516-4d6a-a1de-133e758d05bb",
   "metadata": {},
   "outputs": [
    {
     "data": {
      "text/plain": [
       "(3, 4)"
      ]
     },
     "execution_count": 6,
     "metadata": {},
     "output_type": "execute_result"
    }
   ],
   "source": [
    "# (ROWS,COLS)\n",
    "my_array.shape"
   ]
  },
  {
   "cell_type": "code",
   "execution_count": 8,
   "id": "59e5fc7f-c398-4b15-84c0-655f2652d937",
   "metadata": {},
   "outputs": [
    {
     "data": {
      "text/plain": [
       "(4, 3)"
      ]
     },
     "execution_count": 8,
     "metadata": {},
     "output_type": "execute_result"
    }
   ],
   "source": [
    "my_array.T.shape"
   ]
  },
  {
   "cell_type": "code",
   "execution_count": 9,
   "id": "479a5c6d-b804-422e-8871-5c7000fa5691",
   "metadata": {},
   "outputs": [],
   "source": [
    "all_ones = np.ones((3,4))"
   ]
  },
  {
   "cell_type": "code",
   "execution_count": 10,
   "id": "305b3697-8d4e-42e2-a2eb-e5ba6f155e60",
   "metadata": {},
   "outputs": [
    {
     "data": {
      "text/plain": [
       "array([[1., 1., 1., 1.],\n",
       "       [1., 1., 1., 1.],\n",
       "       [1., 1., 1., 1.]])"
      ]
     },
     "execution_count": 10,
     "metadata": {},
     "output_type": "execute_result"
    }
   ],
   "source": [
    "all_ones"
   ]
  },
  {
   "cell_type": "code",
   "execution_count": 12,
   "id": "db083268-975d-4833-b0fd-e12c7a1eac28",
   "metadata": {},
   "outputs": [
    {
     "data": {
      "text/plain": [
       "array([[2.3e+00, 2.1e+00, 6.0e+00, 9.0e+00],\n",
       "       [1.0e+01, 1.1e+01, 1.2e+01, 1.4e+01],\n",
       "       [1.0e+10, 4.0e+00, 0.0e+00, 1.1e+01]])"
      ]
     },
     "execution_count": 12,
     "metadata": {},
     "output_type": "execute_result"
    }
   ],
   "source": [
    "my_array + all_ones"
   ]
  },
  {
   "cell_type": "code",
   "execution_count": 24,
   "id": "bc962d70-87f1-4b0a-8bd6-ca1672fb6a59",
   "metadata": {},
   "outputs": [
    {
     "ename": "ValueError",
     "evalue": "operands could not be broadcast together with shapes (4,3) (3,4) ",
     "output_type": "error",
     "traceback": [
      "\u001b[0;31m---------------------------------------------------------------------------\u001b[0m",
      "\u001b[0;31mValueError\u001b[0m                                Traceback (most recent call last)",
      "Input \u001b[0;32mIn [24]\u001b[0m, in \u001b[0;36m<cell line: 2>\u001b[0;34m()\u001b[0m\n\u001b[1;32m      1\u001b[0m \u001b[38;5;66;03m# wrong shape\u001b[39;00m\n\u001b[0;32m----> 2\u001b[0m \u001b[43mmy_array\u001b[49m\u001b[38;5;241;43m.\u001b[39;49m\u001b[43mT\u001b[49m\u001b[43m \u001b[49m\u001b[38;5;241;43m+\u001b[39;49m\u001b[43m \u001b[49m\u001b[43mall_ones\u001b[49m\n",
      "\u001b[0;31mValueError\u001b[0m: operands could not be broadcast together with shapes (4,3) (3,4) "
     ]
    }
   ],
   "source": [
    "# wrong shape\n",
    "my_array.T + all_ones"
   ]
  },
  {
   "cell_type": "code",
   "execution_count": 16,
   "id": "ab770cd7-2fcb-47b3-a700-735a8aeeb44b",
   "metadata": {},
   "outputs": [
    {
     "data": {
      "text/plain": [
       "array([[1.00e+10, 1.00e+10, 1.00e+10, 1.00e+10],\n",
       "       [1.41e+01, 1.41e+01, 1.41e+01, 1.41e+01],\n",
       "       [1.50e+01, 1.50e+01, 1.50e+01, 1.50e+01],\n",
       "       [3.10e+01, 3.10e+01, 3.10e+01, 3.10e+01]])"
      ]
     },
     "execution_count": 16,
     "metadata": {},
     "output_type": "execute_result"
    }
   ],
   "source": [
    "# matrix multiplication\n",
    "np.dot(\n",
    "    my_array.T,\n",
    "    all_ones\n",
    ")"
   ]
  },
  {
   "cell_type": "code",
   "execution_count": 18,
   "id": "df8b5434-b3e8-42cb-bf5b-c932c4b58d18",
   "metadata": {},
   "outputs": [
    {
     "data": {
      "text/plain": [
       "array([[0.06834162, 0.17358417, 0.00320943, 0.52067884],\n",
       "       [0.52789171, 0.41268104, 0.05714884, 0.98205681],\n",
       "       [0.33184316, 0.86440266, 0.18194936, 0.56036696]])"
      ]
     },
     "execution_count": 18,
     "metadata": {},
     "output_type": "execute_result"
    }
   ],
   "source": [
    "np.random.random((3,4))"
   ]
  },
  {
   "cell_type": "code",
   "execution_count": 19,
   "id": "99092ce8-e2d4-44ec-86c1-d8f909754347",
   "metadata": {},
   "outputs": [
    {
     "data": {
      "text/plain": [
       "array([[ 67,  75, 179, 145],\n",
       "       [223, 248, 228, 207],\n",
       "       [136,  46,  95, 253]])"
      ]
     },
     "execution_count": 19,
     "metadata": {},
     "output_type": "execute_result"
    }
   ],
   "source": [
    "np.random.randint(low=0, high=256, size=(3,4))"
   ]
  },
  {
   "cell_type": "code",
   "execution_count": 23,
   "id": "5f9e35b4-4d20-49ca-acec-959b74e60843",
   "metadata": {},
   "outputs": [
    {
     "data": {
      "text/plain": [
       "array([[186., 151.,  16., 173.],\n",
       "       [213., 153., 236., 116.],\n",
       "       [ 12.,  84., 130.,   2.]])"
      ]
     },
     "execution_count": 23,
     "metadata": {},
     "output_type": "execute_result"
    }
   ],
   "source": [
    "# cast integers as floats\n",
    "np.random.randint(low=0, high=256, size=(3,4)).astype('float')"
   ]
  },
  {
   "cell_type": "code",
   "execution_count": 26,
   "id": "d7189662-a76e-4074-8cde-b7097403bb8c",
   "metadata": {},
   "outputs": [
    {
     "data": {
      "text/plain": [
       "array([[ 54.29728103, 151.1115731 ,  46.97704106, 104.39448008],\n",
       "       [ 17.34025574,  55.82221779,   6.59607393, 163.5815688 ],\n",
       "       [243.78068402, 166.58433765, 227.73763809,  32.31140798]])"
      ]
     },
     "execution_count": 26,
     "metadata": {},
     "output_type": "execute_result"
    }
   ],
   "source": [
    "# another way...\n",
    "(255*np.random.random((3,4))).astype('float')"
   ]
  },
  {
   "cell_type": "code",
   "execution_count": 29,
   "id": "a291da25-9d54-4514-94e0-81de00aa8845",
   "metadata": {},
   "outputs": [
    {
     "name": "stdout",
     "output_type": "stream",
     "text": [
      "[[ 1.3e+00  1.1e+00  5.0e+00  8.0e+00]\n",
      " [ 9.0e+00  1.0e+01  1.1e+01  1.3e+01]\n",
      " [ 1.0e+10  3.0e+00 -1.0e+00  1.0e+01]] \n",
      "\n",
      " [[ 0.96355819  0.89120736 -0.95892427  0.98935825]\n",
      " [ 0.41211849 -0.54402111 -0.99999021  0.42016704]\n",
      " [-0.48750603  0.14112001 -0.84147098 -0.54402111]]\n"
     ]
    }
   ],
   "source": [
    "print(my_array, '\\n\\n',np.sin(my_array))"
   ]
  },
  {
   "cell_type": "code",
   "execution_count": 32,
   "id": "380aca31-640a-4803-a937-667ac296b0b8",
   "metadata": {},
   "outputs": [],
   "source": [
    "# equivalent of python range()\n",
    "simple = np.arange(10)"
   ]
  },
  {
   "cell_type": "code",
   "execution_count": 33,
   "id": "c2cca28a-341e-4de5-8935-fdb5ddf28442",
   "metadata": {},
   "outputs": [
    {
     "data": {
      "text/plain": [
       "array([0, 1, 2, 3, 4, 5, 6, 7, 8, 9])"
      ]
     },
     "execution_count": 33,
     "metadata": {},
     "output_type": "execute_result"
    }
   ],
   "source": [
    "simple"
   ]
  },
  {
   "cell_type": "code",
   "execution_count": 35,
   "id": "e9b14aad-4929-4739-8c28-a51c65e6d962",
   "metadata": {},
   "outputs": [
    {
     "data": {
      "text/plain": [
       "array([3, 4, 5, 6])"
      ]
     },
     "execution_count": 35,
     "metadata": {},
     "output_type": "execute_result"
    }
   ],
   "source": [
    "# inclusive on first index, exclusive on second\n",
    "simple[3:7]"
   ]
  },
  {
   "cell_type": "code",
   "execution_count": 37,
   "id": "286c27f8-b6ad-4acf-a987-fe7f265e6704",
   "metadata": {},
   "outputs": [
    {
     "data": {
      "text/plain": [
       "True"
      ]
     },
     "execution_count": 37,
     "metadata": {},
     "output_type": "execute_result"
    }
   ],
   "source": [
    "6 % 4 == 2"
   ]
  },
  {
   "cell_type": "code",
   "execution_count": 39,
   "id": "83b796a7-6e20-4408-a1a4-009b760a2020",
   "metadata": {},
   "outputs": [
    {
     "data": {
      "text/plain": [
       "array([False, False,  True, False, False, False,  True, False, False,\n",
       "       False])"
      ]
     },
     "execution_count": 39,
     "metadata": {},
     "output_type": "execute_result"
    }
   ],
   "source": [
    "# apply the logical operation to each item in the np array\n",
    "simple % 4 == 2"
   ]
  },
  {
   "cell_type": "code",
   "execution_count": 41,
   "id": "c8e1e485-c2d2-46d4-a196-c9053caf1070",
   "metadata": {},
   "outputs": [
    {
     "data": {
      "text/plain": [
       "array([2, 6])"
      ]
     },
     "execution_count": 41,
     "metadata": {},
     "output_type": "execute_result"
    }
   ],
   "source": [
    "# use a boolean 'mask' to index an array\n",
    "simple[simple % 4 == 2]"
   ]
  },
  {
   "cell_type": "code",
   "execution_count": 44,
   "id": "c19c92b2-8342-4ed7-9a57-3e7929775388",
   "metadata": {},
   "outputs": [
    {
     "data": {
      "text/plain": [
       "array([1, 3, 5, 7])"
      ]
     },
     "execution_count": 44,
     "metadata": {},
     "output_type": "execute_result"
    }
   ],
   "source": [
    "# index with an array of locations\n",
    "simple[[1,3,5,7]]"
   ]
  },
  {
   "cell_type": "code",
   "execution_count": 45,
   "id": "3ef78ce4-7c88-4ae6-8be3-989e3f08c457",
   "metadata": {},
   "outputs": [
    {
     "data": {
      "text/plain": [
       "array([5, 3, 5, 6, 8, 1, 2, 3, 7])"
      ]
     },
     "execution_count": 45,
     "metadata": {},
     "output_type": "execute_result"
    }
   ],
   "source": [
    "simple[[5,3,5,6,8,1,2,3,7]]"
   ]
  },
  {
   "cell_type": "code",
   "execution_count": 51,
   "id": "8ea06e6d-3395-446e-8f39-d644d7e99123",
   "metadata": {},
   "outputs": [
    {
     "data": {
      "text/plain": [
       "array([ 1,  2,  3,  4,  5,  6,  7,  8,  9, 10])"
      ]
     },
     "execution_count": 51,
     "metadata": {},
     "output_type": "execute_result"
    }
   ],
   "source": [
    "# broadcasting example\n",
    "# 1 is a scaler but 1 can be broadcast to a matrix of all ones that is the same dimension as 'simple'\n",
    "# under the hood, numpy isn't actually creating that array of ones\n",
    "simple + 1"
   ]
  },
  {
   "cell_type": "code",
   "execution_count": 52,
   "id": "f083c8a3-c179-4968-947d-f8578aa9e5cc",
   "metadata": {},
   "outputs": [
    {
     "ename": "ValueError",
     "evalue": "array is too big; `arr.size * arr.dtype.itemsize` is larger than the maximum possible size.",
     "output_type": "error",
     "traceback": [
      "\u001b[0;31m---------------------------------------------------------------------------\u001b[0m",
      "\u001b[0;31mValueError\u001b[0m                                Traceback (most recent call last)",
      "Input \u001b[0;32mIn [52]\u001b[0m, in \u001b[0;36m<cell line: 1>\u001b[0;34m()\u001b[0m\n\u001b[0;32m----> 1\u001b[0m \u001b[43mnp\u001b[49m\u001b[38;5;241;43m.\u001b[39;49m\u001b[43mrandom\u001b[49m\u001b[38;5;241;43m.\u001b[39;49m\u001b[43mrandom\u001b[49m\u001b[43m(\u001b[49m\u001b[43m(\u001b[49m\u001b[38;5;241;43m256\u001b[39;49m\u001b[43m,\u001b[49m\u001b[38;5;241;43m256\u001b[39;49m\u001b[43m,\u001b[49m\u001b[38;5;241;43m256\u001b[39;49m\u001b[43m,\u001b[49m\u001b[38;5;241;43m256\u001b[39;49m\u001b[43m,\u001b[49m\u001b[38;5;241;43m256\u001b[39;49m\u001b[43m,\u001b[49m\u001b[38;5;241;43m256\u001b[39;49m\u001b[43m,\u001b[49m\u001b[38;5;241;43m3\u001b[39;49m\u001b[43m,\u001b[49m\u001b[38;5;241;43m256\u001b[39;49m\u001b[43m,\u001b[49m\u001b[38;5;241;43m256\u001b[39;49m\u001b[43m,\u001b[49m\u001b[38;5;241;43m256\u001b[39;49m\u001b[43m,\u001b[49m\u001b[38;5;241;43m256\u001b[39;49m\u001b[43m)\u001b[49m\u001b[43m)\u001b[49m\n",
      "File \u001b[0;32mmtrand.pyx:434\u001b[0m, in \u001b[0;36mnumpy.random.mtrand.RandomState.random\u001b[0;34m()\u001b[0m\n",
      "File \u001b[0;32mmtrand.pyx:425\u001b[0m, in \u001b[0;36mnumpy.random.mtrand.RandomState.random_sample\u001b[0;34m()\u001b[0m\n",
      "File \u001b[0;32m_common.pyx:291\u001b[0m, in \u001b[0;36mnumpy.random._common.double_fill\u001b[0;34m()\u001b[0m\n",
      "\u001b[0;31mValueError\u001b[0m: array is too big; `arr.size * arr.dtype.itemsize` is larger than the maximum possible size."
     ]
    }
   ],
   "source": [
    "np.random.random((256,256,256,256,256,256,3,256,256,256,256))"
   ]
  },
  {
   "cell_type": "code",
   "execution_count": 54,
   "id": "b0410586-ccb4-4af2-8805-cb6231d1836d",
   "metadata": {},
   "outputs": [
    {
     "data": {
      "text/plain": [
       "array([[1., 0., 0., ..., 0., 0., 0.],\n",
       "       [0., 1., 0., ..., 0., 0., 0.],\n",
       "       [0., 0., 1., ..., 0., 0., 0.],\n",
       "       ...,\n",
       "       [0., 0., 0., ..., 1., 0., 0.],\n",
       "       [0., 0., 0., ..., 0., 1., 0.],\n",
       "       [0., 0., 0., ..., 0., 0., 1.]])"
      ]
     },
     "execution_count": 54,
     "metadata": {},
     "output_type": "execute_result"
    }
   ],
   "source": [
    "# identity matrix\n",
    "np.eye(32,32)"
   ]
  },
  {
   "cell_type": "code",
   "execution_count": 56,
   "id": "04ebb23d-e109-4ef3-aa70-66fe3315ee6f",
   "metadata": {},
   "outputs": [
    {
     "data": {
      "text/plain": [
       "array([[1.95163993, 0.90001514, 0.09603184, ..., 0.88050518, 0.18474138,\n",
       "        0.26514779],\n",
       "       [0.95163993, 1.90001514, 0.09603184, ..., 0.88050518, 0.18474138,\n",
       "        0.26514779],\n",
       "       [0.95163993, 0.90001514, 1.09603184, ..., 0.88050518, 0.18474138,\n",
       "        0.26514779],\n",
       "       ...,\n",
       "       [0.95163993, 0.90001514, 0.09603184, ..., 1.88050518, 0.18474138,\n",
       "        0.26514779],\n",
       "       [0.95163993, 0.90001514, 0.09603184, ..., 0.88050518, 1.18474138,\n",
       "        0.26514779],\n",
       "       [0.95163993, 0.90001514, 0.09603184, ..., 0.88050518, 0.18474138,\n",
       "        1.26514779]])"
      ]
     },
     "execution_count": 56,
     "metadata": {},
     "output_type": "execute_result"
    }
   ],
   "source": [
    "# broadcasting by adding multiple copies of the second matrix\n",
    "np.eye(32,32) + np.random.random((1,32))"
   ]
  },
  {
   "cell_type": "code",
   "execution_count": 57,
   "id": "7c30cbb7-ff6e-44c6-b371-8bdf1de95933",
   "metadata": {},
   "outputs": [],
   "source": [
    "my_arr = np.random.random((32,32))"
   ]
  },
  {
   "cell_type": "code",
   "execution_count": 58,
   "id": "7e170fd5-bf22-4bab-810f-aa7388714d46",
   "metadata": {},
   "outputs": [],
   "source": [
    "my_arr += my_arr.T"
   ]
  },
  {
   "cell_type": "code",
   "execution_count": 59,
   "id": "5babf079-cacd-44dd-a40c-97979cf176ca",
   "metadata": {},
   "outputs": [
    {
     "data": {
      "text/plain": [
       "(array([31.68817075,  4.08449307, -3.95905785, -3.83902973, -3.74142672,\n",
       "        -2.89115876,  3.17939331,  3.12521436,  3.01575136,  2.83192131,\n",
       "        -2.53985672, -2.30713761, -2.15146485,  2.44058095,  2.36377091,\n",
       "         2.00288036,  1.74353964, -1.77386148, -1.47356553, -1.33186439,\n",
       "        -1.14278888, -0.87570534, -0.69467302, -0.53410623,  1.23567382,\n",
       "         1.12450601, -0.12819366,  0.74424891,  0.69526073,  0.50775047,\n",
       "         0.11989075,  0.24457788]),\n",
       " array([[-0.19411229,  0.07940108, -0.11684279, ..., -0.13541045,\n",
       "          0.06312673,  0.0280154 ],\n",
       "        [-0.15497893, -0.12665016,  0.09651057, ..., -0.06685677,\n",
       "         -0.17746102, -0.04655852],\n",
       "        [-0.16824538,  0.12182823, -0.16203729, ...,  0.09972411,\n",
       "         -0.19285852, -0.15542367],\n",
       "        ...,\n",
       "        [-0.18135366, -0.02011109,  0.20308493, ...,  0.02274667,\n",
       "         -0.06479025, -0.06067166],\n",
       "        [-0.17394705, -0.24096031,  0.04171999, ...,  0.13593725,\n",
       "         -0.11335234, -0.16732673],\n",
       "        [-0.17330861,  0.15738046,  0.02224248, ..., -0.11278477,\n",
       "          0.04780711,  0.02461233]]))"
      ]
     },
     "execution_count": 59,
     "metadata": {},
     "output_type": "execute_result"
    }
   ],
   "source": [
    "np.linalg.eig(my_arr)"
   ]
  },
  {
   "cell_type": "code",
   "execution_count": 60,
   "id": "1f42b7a2-78db-4e30-869b-776c5a7026bd",
   "metadata": {},
   "outputs": [],
   "source": [
    "import scipy"
   ]
  },
  {
   "cell_type": "code",
   "execution_count": null,
   "id": "45f644f4-c8c9-497d-bb6f-3f0f3cfc7c09",
   "metadata": {},
   "outputs": [],
   "source": []
  }
 ],
 "metadata": {
  "kernelspec": {
   "display_name": "Python 3 (ipykernel)",
   "language": "python",
   "name": "python3"
  },
  "language_info": {
   "codemirror_mode": {
    "name": "ipython",
    "version": 3
   },
   "file_extension": ".py",
   "mimetype": "text/x-python",
   "name": "python",
   "nbconvert_exporter": "python",
   "pygments_lexer": "ipython3",
   "version": "3.9.11"
  }
 },
 "nbformat": 4,
 "nbformat_minor": 5
}
