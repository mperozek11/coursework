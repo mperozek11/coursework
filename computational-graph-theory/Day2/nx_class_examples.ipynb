{
 "cells": [
  {
   "cell_type": "code",
   "execution_count": 1,
   "id": "242b125a-3d6f-4e8c-8a5a-a34ca51e12a3",
   "metadata": {},
   "outputs": [],
   "source": [
    "import networkx as nx"
   ]
  },
  {
   "cell_type": "code",
   "execution_count": 2,
   "id": "b116d851-44b8-4612-a79d-3a17d18a6b88",
   "metadata": {},
   "outputs": [],
   "source": [
    "import matplotlib.pyplot as plt"
   ]
  },
  {
   "cell_type": "code",
   "execution_count": 3,
   "id": "bf65da90-bd6e-417c-b541-4bdd60ea9fef",
   "metadata": {},
   "outputs": [],
   "source": [
    "# my_graph = nx.Graph() --> for directed graph\n",
    "my_graph = nx.Graph()"
   ]
  },
  {
   "cell_type": "code",
   "execution_count": 4,
   "id": "e30e4d58-ad75-4221-b535-764fe74fb20e",
   "metadata": {},
   "outputs": [],
   "source": [
    "my_graph.add_node(\"Dog\")"
   ]
  },
  {
   "cell_type": "code",
   "execution_count": 5,
   "id": "7f4bc2af-757c-46fe-a30d-4c4aabec66ba",
   "metadata": {},
   "outputs": [],
   "source": [
    "my_graph.add_node(3)"
   ]
  },
  {
   "cell_type": "code",
   "execution_count": 6,
   "id": "c61c479e-9cc4-47ef-a795-50f2ffc8e8cd",
   "metadata": {},
   "outputs": [],
   "source": [
    "minigraph = nx.Graph()"
   ]
  },
  {
   "cell_type": "code",
   "execution_count": 7,
   "id": "00f57578-696e-4f86-919a-05b68341d4dc",
   "metadata": {},
   "outputs": [],
   "source": [
    "my_graph.add_node(minigraph)"
   ]
  },
  {
   "cell_type": "code",
   "execution_count": 8,
   "id": "0eadeea5-9406-4125-b5e1-63a4396af017",
   "metadata": {},
   "outputs": [],
   "source": [
    "my_graph.add_edge(3,\"Dog\")"
   ]
  },
  {
   "cell_type": "code",
   "execution_count": 9,
   "id": "e957fca7-449d-4cf8-90eb-1c9c5eefbff5",
   "metadata": {},
   "outputs": [],
   "source": [
    "my_graph.add_edge(minigraph, \"Dog\")"
   ]
  },
  {
   "cell_type": "code",
   "execution_count": 10,
   "id": "e19ff8d2-f81e-4a20-84e2-1aa98fb500ae",
   "metadata": {},
   "outputs": [],
   "source": [
    "my_graph.add_edge(2,3)"
   ]
  },
  {
   "cell_type": "code",
   "execution_count": 15,
   "id": "5a03d72a-77ac-4835-a2cb-a20b9b9deba0",
   "metadata": {},
   "outputs": [],
   "source": [
    "my_graph.add_edge(2, \"Dog\")"
   ]
  },
  {
   "cell_type": "code",
   "execution_count": 16,
   "id": "271d665e-0862-4657-9f2d-2d86e1fe6c18",
   "metadata": {},
   "outputs": [
    {
     "data": {
      "image/png": "[encoded data removed]",
      "text/plain": [
       "<Figure size 432x288 with 1 Axes>"
      ]
     },
     "metadata": {},
     "output_type": "display_data"
    }
   ],
   "source": [
    "nx.draw(my_graph)"
   ]
  },
  {
   "cell_type": "code",
   "execution_count": 17,
   "id": "310ee761-842f-4e1f-9e7b-146a21a25cb1",
   "metadata": {},
   "outputs": [
    {
     "data": {
      "text/plain": [
       "{'Dog': 3, 3: 2, <networkx.classes.graph.Graph at 0x7fd6bf9ecca0>: 1, 2: 2}"
      ]
     },
     "execution_count": 17,
     "metadata": {},
     "output_type": "execute_result"
    }
   ],
   "source": [
    "dict(my_graph.degree())"
   ]
  },
  {
   "cell_type": "code",
   "execution_count": 19,
   "id": "98cb109d-6970-46e7-ac87-fc8b8587e4e7",
   "metadata": {},
   "outputs": [],
   "source": [
    "my_graph[\"Dog\"][3]['weight'] = 256.0"
   ]
  },
  {
   "cell_type": "code",
   "execution_count": 21,
   "id": "d2d0ddc9-28a7-4c15-ad7f-92b6bac88e19",
   "metadata": {},
   "outputs": [
    {
     "data": {
      "text/plain": [
       "{'weight': 256.0}"
      ]
     },
     "execution_count": 21,
     "metadata": {},
     "output_type": "execute_result"
    }
   ],
   "source": [
    "my_graph[\"Dog\"][3]"
   ]
  },
  {
   "cell_type": "code",
   "execution_count": 20,
   "id": "9b30b7bf-8bd5-4dfc-977c-2b212d0e16e5",
   "metadata": {
    "tags": []
   },
   "outputs": [
    {
     "data": {
      "text/plain": [
       "256.0"
      ]
     },
     "execution_count": 20,
     "metadata": {},
     "output_type": "execute_result"
    }
   ],
   "source": [
    "my_graph[\"Dog\"][3]['weight']"
   ]
  },
  {
   "cell_type": "code",
   "execution_count": null,
   "id": "d2e98d44-0ce4-44a8-b052-36d4b752235e",
   "metadata": {},
   "outputs": [],
   "source": []
  }
 ],
 "metadata": {
  "kernelspec": {
   "display_name": "Python 3 (ipykernel)",
   "language": "python",
   "name": "python3"
  },
  "language_info": {
   "codemirror_mode": {
    "name": "ipython",
    "version": 3
   },
   "file_extension": ".py",
   "mimetype": "text/x-python",
   "name": "python",
   "nbconvert_exporter": "python",
   "pygments_lexer": "ipython3",
   "version": "3.9.11"
  }
 },
 "nbformat": 4,
 "nbformat_minor": 5
}
