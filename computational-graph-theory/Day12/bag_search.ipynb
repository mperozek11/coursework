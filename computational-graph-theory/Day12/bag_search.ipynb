{
 "cells": [
  {
   "cell_type": "code",
   "execution_count": 1,
   "id": "0cd89009-b418-454e-a80e-bf3340034898",
   "metadata": {},
   "outputs": [],
   "source": [
    "import numpy as np"
   ]
  },
  {
   "cell_type": "code",
   "execution_count": 2,
   "id": "bafd25b5-cb32-4007-8c2e-0d4ff34a39bf",
   "metadata": {},
   "outputs": [],
   "source": [
    "from heapq import heappush, heappop"
   ]
  },
  {
   "cell_type": "code",
   "execution_count": 7,
   "id": "59fae970-32d8-4578-8cb2-f74842337945",
   "metadata": {},
   "outputs": [],
   "source": [
    "import matplotlib.pyplot as plt"
   ]
  },
  {
   "cell_type": "code",
   "execution_count": 8,
   "id": "2ea6ef94-fa42-4d77-8cd7-13e6f9e69f26",
   "metadata": {},
   "outputs": [],
   "source": [
    "import networkx as nx"
   ]
  },
  {
   "cell_type": "code",
   "execution_count": 21,
   "id": "28d4b830-2069-48c7-889f-388b1f56b778",
   "metadata": {},
   "outputs": [],
   "source": [
    "gr = nx.erdos_renyi_graph(100, .03)"
   ]
  },
  {
   "cell_type": "code",
   "execution_count": 32,
   "id": "24162a04-debd-4d44-9d24-6a4fd7b0f779",
   "metadata": {},
   "outputs": [
    {
     "data": {
      "image/png": "[encoded data removed]",
      "text/plain": [
       "<Figure size 432x288 with 1 Axes>"
      ]
     },
     "metadata": {},
     "output_type": "display_data"
    }
   ],
   "source": [
    "nx.draw(gr, node_size=20)"
   ]
  },
  {
   "cell_type": "code",
   "execution_count": 28,
   "id": "fbffdbe4-8363-4922-9285-3c94112b83ef",
   "metadata": {},
   "outputs": [
    {
     "data": {
      "text/plain": [
       "[38, 93]"
      ]
     },
     "execution_count": 28,
     "metadata": {},
     "output_type": "execute_result"
    }
   ],
   "source": [
    "list(gr.neighbors(1))"
   ]
  },
  {
   "cell_type": "code",
   "execution_count": 24,
   "id": "9d54596e-f8ec-4ba9-b826-dfc80f149920",
   "metadata": {},
   "outputs": [],
   "source": [
    "start_node = 0"
   ]
  },
  {
   "cell_type": "code",
   "execution_count": 33,
   "id": "76e654ea-e4ea-4d22-b105-50d8210c5600",
   "metadata": {},
   "outputs": [],
   "source": [
    "def breadth_first_search(start, gr):\n",
    "    marked = []\n",
    "    bag = [start]\n",
    "    while len(bag) > 0:\n",
    "        next_node = bag.pop(0)\n",
    "        if next_node not in marked:\n",
    "            marked.append(next_node)\n",
    "            for neighbor in gr.neighbors(next_node):\n",
    "                bag.append(neighbor)\n",
    "    return marked\n",
    "\n",
    "def depth_first_search(start, gr):\n",
    "    marked = []\n",
    "    bag = [start]\n",
    "    while len(bag) > 0:\n",
    "        next_node = bag.pop(0)\n",
    "        if next_node not in marked:\n",
    "            marked.append(next_node)\n",
    "            for neighbor in gr.neighbors(next_node):\n",
    "                bag.insert(0,neighbor)\n",
    "    return marked"
   ]
  },
  {
   "cell_type": "code",
   "execution_count": 35,
   "id": "0dd333d1-a373-47d7-aa25-2a656e04387a",
   "metadata": {},
   "outputs": [
    {
     "data": {
      "text/plain": [
       "[1,\n",
       " 93,\n",
       " 92,\n",
       " 19,\n",
       " 95,\n",
       " 73,\n",
       " 79,\n",
       " 90,\n",
       " 86,\n",
       " 99,\n",
       " 28,\n",
       " 80,\n",
       " 88,\n",
       " 94,\n",
       " 6,\n",
       " 33,\n",
       " 27,\n",
       " 84,\n",
       " 87,\n",
       " 96,\n",
       " 91,\n",
       " 39,\n",
       " 49,\n",
       " 98,\n",
       " 77,\n",
       " 97,\n",
       " 63,\n",
       " 59,\n",
       " 85,\n",
       " 82,\n",
       " 58,\n",
       " 78,\n",
       " 83,\n",
       " 71,\n",
       " 75,\n",
       " 44,\n",
       " 18,\n",
       " 81,\n",
       " 66,\n",
       " 36,\n",
       " 68,\n",
       " 65,\n",
       " 48,\n",
       " 4,\n",
       " 32,\n",
       " 62,\n",
       " 76,\n",
       " 40,\n",
       " 37,\n",
       " 64,\n",
       " 34,\n",
       " 14,\n",
       " 17,\n",
       " 54,\n",
       " 43,\n",
       " 89,\n",
       " 72,\n",
       " 57,\n",
       " 25,\n",
       " 15,\n",
       " 12,\n",
       " 61,\n",
       " 55,\n",
       " 51,\n",
       " 22,\n",
       " 10,\n",
       " 23,\n",
       " 16,\n",
       " 50,\n",
       " 2,\n",
       " 70,\n",
       " 20,\n",
       " 74,\n",
       " 13,\n",
       " 52,\n",
       " 8,\n",
       " 60,\n",
       " 7,\n",
       " 5,\n",
       " 29,\n",
       " 11,\n",
       " 38,\n",
       " 69,\n",
       " 9,\n",
       " 41,\n",
       " 53,\n",
       " 24,\n",
       " 47,\n",
       " 35,\n",
       " 21,\n",
       " 30,\n",
       " 67,\n",
       " 31,\n",
       " 42,\n",
       " 3]"
      ]
     },
     "execution_count": 35,
     "metadata": {},
     "output_type": "execute_result"
    }
   ],
   "source": [
    "depth_first_search(1, gr)"
   ]
  },
  {
   "cell_type": "code",
   "execution_count": null,
   "id": "5ddb7287-9dac-4602-8ff9-ec9ab15f7fec",
   "metadata": {},
   "outputs": [],
   "source": []
  }
 ],
 "metadata": {
  "kernelspec": {
   "display_name": "Python 3 (ipykernel)",
   "language": "python",
   "name": "python3"
  },
  "language_info": {
   "codemirror_mode": {
    "name": "ipython",
    "version": 3
   },
   "file_extension": ".py",
   "mimetype": "text/x-python",
   "name": "python",
   "nbconvert_exporter": "python",
   "pygments_lexer": "ipython3",
   "version": "3.9.7"
  }
 },
 "nbformat": 4,
 "nbformat_minor": 5
}
