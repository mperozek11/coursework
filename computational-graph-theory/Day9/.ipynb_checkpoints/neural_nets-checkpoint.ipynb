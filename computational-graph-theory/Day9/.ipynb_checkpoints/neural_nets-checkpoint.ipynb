{
 "cells": [
  {
   "cell_type": "code",
   "execution_count": 2,
   "id": "5f3fad94-d611-443e-a6a6-6095968acf7f",
   "metadata": {},
   "outputs": [],
   "source": [
    "import networkx as nx\n",
    "import numpy as np\n",
    "import matplotlib.pyplot as plt\n",
    "import torch"
   ]
  },
  {
   "cell_type": "code",
   "execution_count": 3,
   "id": "81e16c56-8716-4b53-b756-c60a1af3d115",
   "metadata": {},
   "outputs": [],
   "source": [
    "from sklearn.datasets import load_digits"
   ]
  },
  {
   "cell_type": "code",
   "execution_count": 5,
   "id": "f0bfde6d-33cd-456e-afdc-7a3edaacc7a5",
   "metadata": {},
   "outputs": [],
   "source": [
    "digits = load_digits(n_class=2)"
   ]
  },
  {
   "cell_type": "code",
   "execution_count": 7,
   "id": "f76b625b-ddad-4555-985a-7189b17c8697",
   "metadata": {},
   "outputs": [],
   "source": [
    "images = digits.images"
   ]
  },
  {
   "cell_type": "code",
   "execution_count": 11,
   "id": "25eb631e-c003-4cdb-849f-8dd039ac68ff",
   "metadata": {},
   "outputs": [],
   "source": [
    "labels = digits.target"
   ]
  },
  {
   "cell_type": "code",
   "execution_count": 9,
   "id": "0b9b11ed-34b5-4472-bebf-ca15c110e0b9",
   "metadata": {},
   "outputs": [
    {
     "data": {
      "text/plain": [
       "(360, 8, 8)"
      ]
     },
     "execution_count": 9,
     "metadata": {},
     "output_type": "execute_result"
    }
   ],
   "source": [
    "images.shape"
   ]
  },
  {
   "cell_type": "code",
   "execution_count": 12,
   "id": "e37b8d5f-5bf7-46d6-b4f0-8cf898cabf93",
   "metadata": {},
   "outputs": [
    {
     "data": {
      "text/plain": [
       "(360,)"
      ]
     },
     "execution_count": 12,
     "metadata": {},
     "output_type": "execute_result"
    }
   ],
   "source": [
    "labels.shape"
   ]
  },
  {
   "cell_type": "code",
   "execution_count": 16,
   "id": "e39d76aa-ef23-46cd-b1ce-8422dbce1b79",
   "metadata": {},
   "outputs": [],
   "source": [
    "images = images.reshape(360, 64)"
   ]
  },
  {
   "cell_type": "code",
   "execution_count": 15,
   "id": "e66a5658-b981-45cf-8af5-7bf032e588a5",
   "metadata": {},
   "outputs": [
    {
     "data": {
      "text/plain": [
       "(360, 64)"
      ]
     },
     "execution_count": 15,
     "metadata": {},
     "output_type": "execute_result"
    }
   ],
   "source": [
    "images.shape"
   ]
  },
  {
   "cell_type": "code",
   "execution_count": 30,
   "id": "e2050ee4-7995-47f9-9ac8-b280cf803e6c",
   "metadata": {},
   "outputs": [],
   "source": [
    "imageT = torch.tensor(images).float()\n",
    "labelT = torch.tensor(labels).float().reshape(360,1)"
   ]
  },
  {
   "cell_type": "code",
   "execution_count": 31,
   "id": "baa4afea-5215-4889-9739-7ae3e09d905a",
   "metadata": {},
   "outputs": [
    {
     "data": {
      "text/plain": [
       "tensor([[ 0.,  0.,  5.,  ...,  0.,  0.,  0.],\n",
       "        [ 0.,  0.,  0.,  ..., 10.,  0.,  0.],\n",
       "        [ 0.,  0.,  1.,  ...,  3.,  0.,  0.],\n",
       "        ...,\n",
       "        [ 0.,  0.,  5.,  ...,  8.,  1.,  0.],\n",
       "        [ 0.,  0.,  6.,  ...,  4.,  0.,  0.],\n",
       "        [ 0.,  0.,  6.,  ...,  6.,  0.,  0.]])"
      ]
     },
     "execution_count": 31,
     "metadata": {},
     "output_type": "execute_result"
    }
   ],
   "source": [
    "imageT"
   ]
  },
  {
   "cell_type": "code",
   "execution_count": 40,
   "id": "d275354c-a027-480e-bba9-d7d11461bd4c",
   "metadata": {},
   "outputs": [],
   "source": [
    "net = torch.nn.Sequential(\n",
    "    torch.nn.Linear(64,16),\n",
    "    torch.nn.Sigmoid(),\n",
    "    torch.nn.Linear(16,16),\n",
    "    torch.nn.Sigmoid(),\n",
    "    torch.nn.Linear(16,1),\n",
    "    torch.nn.Sigmoid()\n",
    ")"
   ]
  },
  {
   "cell_type": "code",
   "execution_count": 41,
   "id": "ddfaa5ef-6917-44e4-88f4-6c0718ab6d9a",
   "metadata": {},
   "outputs": [],
   "source": [
    "loss_func = torch.nn.MSELoss()"
   ]
  },
  {
   "cell_type": "code",
   "execution_count": 42,
   "id": "c16bf4f1-5a55-408f-8465-038fa44c4615",
   "metadata": {},
   "outputs": [],
   "source": [
    "optimizer = torch.optim.Adam(net.parameters(),  0.001 )"
   ]
  },
  {
   "cell_type": "code",
   "execution_count": 43,
   "id": "2e3645ea-941d-4e2c-92f7-02ab77fda63c",
   "metadata": {
    "collapsed": true,
    "jupyter": {
     "outputs_hidden": true
    },
    "tags": []
   },
   "outputs": [
    {
     "name": "stdout",
     "output_type": "stream",
     "text": [
      "tensor(0.2544, grad_fn=<MseLossBackward0>)\n",
      "tensor(0.2528, grad_fn=<MseLossBackward0>)\n",
      "tensor(0.2512, grad_fn=<MseLossBackward0>)\n",
      "tensor(0.2496, grad_fn=<MseLossBackward0>)\n",
      "tensor(0.2480, grad_fn=<MseLossBackward0>)\n",
      "tensor(0.2464, grad_fn=<MseLossBackward0>)\n",
      "tensor(0.2448, grad_fn=<MseLossBackward0>)\n",
      "tensor(0.2432, grad_fn=<MseLossBackward0>)\n",
      "tensor(0.2416, grad_fn=<MseLossBackward0>)\n",
      "tensor(0.2400, grad_fn=<MseLossBackward0>)\n",
      "tensor(0.2384, grad_fn=<MseLossBackward0>)\n",
      "tensor(0.2367, grad_fn=<MseLossBackward0>)\n",
      "tensor(0.2351, grad_fn=<MseLossBackward0>)\n",
      "tensor(0.2335, grad_fn=<MseLossBackward0>)\n",
      "tensor(0.2319, grad_fn=<MseLossBackward0>)\n",
      "tensor(0.2304, grad_fn=<MseLossBackward0>)\n",
      "tensor(0.2288, grad_fn=<MseLossBackward0>)\n",
      "tensor(0.2273, grad_fn=<MseLossBackward0>)\n",
      "tensor(0.2258, grad_fn=<MseLossBackward0>)\n",
      "tensor(0.2242, grad_fn=<MseLossBackward0>)\n",
      "tensor(0.2227, grad_fn=<MseLossBackward0>)\n",
      "tensor(0.2212, grad_fn=<MseLossBackward0>)\n",
      "tensor(0.2197, grad_fn=<MseLossBackward0>)\n",
      "tensor(0.2181, grad_fn=<MseLossBackward0>)\n",
      "tensor(0.2166, grad_fn=<MseLossBackward0>)\n",
      "tensor(0.2151, grad_fn=<MseLossBackward0>)\n",
      "tensor(0.2135, grad_fn=<MseLossBackward0>)\n",
      "tensor(0.2119, grad_fn=<MseLossBackward0>)\n",
      "tensor(0.2104, grad_fn=<MseLossBackward0>)\n",
      "tensor(0.2088, grad_fn=<MseLossBackward0>)\n",
      "tensor(0.2072, grad_fn=<MseLossBackward0>)\n",
      "tensor(0.2056, grad_fn=<MseLossBackward0>)\n",
      "tensor(0.2040, grad_fn=<MseLossBackward0>)\n",
      "tensor(0.2024, grad_fn=<MseLossBackward0>)\n",
      "tensor(0.2008, grad_fn=<MseLossBackward0>)\n",
      "tensor(0.1991, grad_fn=<MseLossBackward0>)\n",
      "tensor(0.1975, grad_fn=<MseLossBackward0>)\n",
      "tensor(0.1959, grad_fn=<MseLossBackward0>)\n",
      "tensor(0.1943, grad_fn=<MseLossBackward0>)\n",
      "tensor(0.1926, grad_fn=<MseLossBackward0>)\n",
      "tensor(0.1910, grad_fn=<MseLossBackward0>)\n",
      "tensor(0.1893, grad_fn=<MseLossBackward0>)\n",
      "tensor(0.1877, grad_fn=<MseLossBackward0>)\n",
      "tensor(0.1860, grad_fn=<MseLossBackward0>)\n",
      "tensor(0.1843, grad_fn=<MseLossBackward0>)\n",
      "tensor(0.1825, grad_fn=<MseLossBackward0>)\n",
      "tensor(0.1808, grad_fn=<MseLossBackward0>)\n",
      "tensor(0.1790, grad_fn=<MseLossBackward0>)\n",
      "tensor(0.1772, grad_fn=<MseLossBackward0>)\n",
      "tensor(0.1754, grad_fn=<MseLossBackward0>)\n",
      "tensor(0.1736, grad_fn=<MseLossBackward0>)\n",
      "tensor(0.1717, grad_fn=<MseLossBackward0>)\n",
      "tensor(0.1698, grad_fn=<MseLossBackward0>)\n",
      "tensor(0.1679, grad_fn=<MseLossBackward0>)\n",
      "tensor(0.1660, grad_fn=<MseLossBackward0>)\n",
      "tensor(0.1640, grad_fn=<MseLossBackward0>)\n",
      "tensor(0.1620, grad_fn=<MseLossBackward0>)\n",
      "tensor(0.1600, grad_fn=<MseLossBackward0>)\n",
      "tensor(0.1580, grad_fn=<MseLossBackward0>)\n",
      "tensor(0.1560, grad_fn=<MseLossBackward0>)\n",
      "tensor(0.1541, grad_fn=<MseLossBackward0>)\n",
      "tensor(0.1521, grad_fn=<MseLossBackward0>)\n",
      "tensor(0.1502, grad_fn=<MseLossBackward0>)\n",
      "tensor(0.1483, grad_fn=<MseLossBackward0>)\n",
      "tensor(0.1464, grad_fn=<MseLossBackward0>)\n",
      "tensor(0.1445, grad_fn=<MseLossBackward0>)\n",
      "tensor(0.1426, grad_fn=<MseLossBackward0>)\n",
      "tensor(0.1408, grad_fn=<MseLossBackward0>)\n",
      "tensor(0.1389, grad_fn=<MseLossBackward0>)\n",
      "tensor(0.1371, grad_fn=<MseLossBackward0>)\n",
      "tensor(0.1352, grad_fn=<MseLossBackward0>)\n",
      "tensor(0.1334, grad_fn=<MseLossBackward0>)\n",
      "tensor(0.1315, grad_fn=<MseLossBackward0>)\n",
      "tensor(0.1297, grad_fn=<MseLossBackward0>)\n",
      "tensor(0.1279, grad_fn=<MseLossBackward0>)\n",
      "tensor(0.1261, grad_fn=<MseLossBackward0>)\n",
      "tensor(0.1243, grad_fn=<MseLossBackward0>)\n",
      "tensor(0.1225, grad_fn=<MseLossBackward0>)\n",
      "tensor(0.1207, grad_fn=<MseLossBackward0>)\n",
      "tensor(0.1190, grad_fn=<MseLossBackward0>)\n",
      "tensor(0.1173, grad_fn=<MseLossBackward0>)\n",
      "tensor(0.1156, grad_fn=<MseLossBackward0>)\n",
      "tensor(0.1139, grad_fn=<MseLossBackward0>)\n",
      "tensor(0.1122, grad_fn=<MseLossBackward0>)\n",
      "tensor(0.1106, grad_fn=<MseLossBackward0>)\n",
      "tensor(0.1089, grad_fn=<MseLossBackward0>)\n",
      "tensor(0.1073, grad_fn=<MseLossBackward0>)\n",
      "tensor(0.1058, grad_fn=<MseLossBackward0>)\n",
      "tensor(0.1042, grad_fn=<MseLossBackward0>)\n",
      "tensor(0.1026, grad_fn=<MseLossBackward0>)\n",
      "tensor(0.1011, grad_fn=<MseLossBackward0>)\n",
      "tensor(0.0996, grad_fn=<MseLossBackward0>)\n",
      "tensor(0.0981, grad_fn=<MseLossBackward0>)\n",
      "tensor(0.0967, grad_fn=<MseLossBackward0>)\n",
      "tensor(0.0952, grad_fn=<MseLossBackward0>)\n",
      "tensor(0.0938, grad_fn=<MseLossBackward0>)\n",
      "tensor(0.0924, grad_fn=<MseLossBackward0>)\n",
      "tensor(0.0910, grad_fn=<MseLossBackward0>)\n",
      "tensor(0.0896, grad_fn=<MseLossBackward0>)\n",
      "tensor(0.0883, grad_fn=<MseLossBackward0>)\n"
     ]
    }
   ],
   "source": [
    "for i in range(100):\n",
    "    optimizer.zero_grad()\n",
    "    \n",
    "    preds = net( imageT )\n",
    "    loss = loss_func( preds, labelT  )\n",
    "    \n",
    "    loss.backward()\n",
    "    print(loss)\n",
    "    optimizer.step()\n",
    "    "
   ]
  },
  {
   "cell_type": "code",
   "execution_count": 44,
   "id": "4602ddef-7516-4c4d-ba21-b071b22e5a9c",
   "metadata": {},
   "outputs": [
    {
     "data": {
      "text/plain": [
       "<matplotlib.image.AxesImage at 0x7f9ba87e2a60>"
      ]
     },
     "execution_count": 44,
     "metadata": {},
     "output_type": "execute_result"
    },
    {
     "data": {
      "image/png": "[encoded data removed]",
      "text/plain": [
       "<Figure size 288x288 with 1 Axes>"
      ]
     },
     "metadata": {
      "needs_background": "light"
     },
     "output_type": "display_data"
    }
   ],
   "source": [
    "plt.matshow(images[0].reshape(8,8))"
   ]
  },
  {
   "cell_type": "code",
   "execution_count": 45,
   "id": "40ea208b-9c50-409e-aca8-b6f619dd4f8e",
   "metadata": {},
   "outputs": [
    {
     "data": {
      "text/plain": [
       "tensor([0.2912], grad_fn=<SigmoidBackward0>)"
      ]
     },
     "execution_count": 45,
     "metadata": {},
     "output_type": "execute_result"
    }
   ],
   "source": [
    "net(imageT[0])"
   ]
  },
  {
   "cell_type": "code",
   "execution_count": null,
   "id": "7439187c-2ab5-4d21-85e7-3a24cb25c885",
   "metadata": {},
   "outputs": [],
   "source": []
  }
 ],
 "metadata": {
  "kernelspec": {
   "display_name": "Python 3 (ipykernel)",
   "language": "python",
   "name": "python3"
  },
  "language_info": {
   "codemirror_mode": {
    "name": "ipython",
    "version": 3
   },
   "file_extension": ".py",
   "mimetype": "text/x-python",
   "name": "python",
   "nbconvert_exporter": "python",
   "pygments_lexer": "ipython3",
   "version": "3.9.7"
  }
 },
 "nbformat": 4,
 "nbformat_minor": 5
}
