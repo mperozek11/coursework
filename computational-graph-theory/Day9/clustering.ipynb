{
 "cells": [
  {
   "cell_type": "code",
   "execution_count": 1,
   "id": "5f3fad94-d611-443e-a6a6-6095968acf7f",
   "metadata": {},
   "outputs": [],
   "source": [
    "import networkx as nx\n",
    "import numpy as np\n",
    "import matplotlib.pyplot as plt\n",
    "import torch"
   ]
  },
  {
   "cell_type": "code",
   "execution_count": 7,
   "id": "6cf35f2f-acd2-4df4-b9b3-aa98c5af868a",
   "metadata": {},
   "outputs": [],
   "source": [
    "from scipy.spatial.distance import cdist"
   ]
  },
  {
   "cell_type": "code",
   "execution_count": 2,
   "id": "81e16c56-8716-4b53-b756-c60a1af3d115",
   "metadata": {},
   "outputs": [],
   "source": [
    "from sklearn.datasets import load_digits"
   ]
  },
  {
   "cell_type": "code",
   "execution_count": 3,
   "id": "f0bfde6d-33cd-456e-afdc-7a3edaacc7a5",
   "metadata": {},
   "outputs": [],
   "source": [
    "digits = load_digits(n_class=2)"
   ]
  },
  {
   "cell_type": "code",
   "execution_count": 4,
   "id": "f76b625b-ddad-4555-985a-7189b17c8697",
   "metadata": {},
   "outputs": [],
   "source": [
    "images = digits.images"
   ]
  },
  {
   "cell_type": "code",
   "execution_count": 5,
   "id": "25eb631e-c003-4cdb-849f-8dd039ac68ff",
   "metadata": {},
   "outputs": [],
   "source": [
    "labels = digits.target"
   ]
  },
  {
   "cell_type": "code",
   "execution_count": 6,
   "id": "0b9b11ed-34b5-4472-bebf-ca15c110e0b9",
   "metadata": {},
   "outputs": [
    {
     "data": {
      "text/plain": [
       "(360, 8, 8)"
      ]
     },
     "execution_count": 6,
     "metadata": {},
     "output_type": "execute_result"
    }
   ],
   "source": [
    "images.shape"
   ]
  },
  {
   "cell_type": "code",
   "execution_count": null,
   "id": "10fcc65b-0450-43c4-8c9c-0a03d2b40959",
   "metadata": {},
   "outputs": [],
   "source": [
    "def agg_clus(data_matrix, n_clusters = 2):\n",
    "    cluster_assignment = np.arange(data_matrix.shape[0])\n",
    "    while np.unique(cluster_assignment).shape[0] > n_clusters:\n",
    "        used_labels = np.unique(cluster_assignment)\n",
    "        # Calculate the distance between each cluster.\n",
    "        c2c_distances = np.zeros((used_labels.shape[0],used_labels.shape[0]))\n",
    "        for i in range(used_labels.shape[0]):\n",
    "            for j in range(used_labels.shape[0]):\n",
    "                \n",
    "                cluster_A_pts = data_matrix[ cluster_assignment == used_labels[i] , : ]\n",
    "                cluster_B_pts = data_matrix[ cluster_assignment == used_labels[j] , : ]\n",
    "                cluster_distance = cdist(cluster_A_pts, cluster_B_pts).min()\n",
    "                if i != j:\n",
    "                    c2c_distances[i,j] = cluster_distance\n",
    "                else:\n",
    "                    c2c_distances[i,j] = 1e8\n",
    "                \n",
    "        # Merge the two clusters that are closest. \n",
    "        min_value = np.amin(c2c_distances)"
   ]
  },
  {
   "cell_type": "code",
   "execution_count": 13,
   "id": "8959ebf7-eef3-4b21-97c3-339693a626d8",
   "metadata": {},
   "outputs": [
    {
     "data": {
      "text/plain": [
       "(array([1]), array([0]))"
      ]
     },
     "execution_count": 13,
     "metadata": {},
     "output_type": "execute_result"
    }
   ],
   "source": [
    "the_array = np.random.random((3,3))\n",
    "\n",
    "np.where(the_array == np.amin(the_array))"
   ]
  },
  {
   "cell_type": "code",
   "execution_count": null,
   "id": "223c5b11-ea3e-44ca-b1bb-39542675b7de",
   "metadata": {},
   "outputs": [],
   "source": []
  }
 ],
 "metadata": {
  "kernelspec": {
   "display_name": "Python 3 (ipykernel)",
   "language": "python",
   "name": "python3"
  },
  "language_info": {
   "codemirror_mode": {
    "name": "ipython",
    "version": 3
   },
   "file_extension": ".py",
   "mimetype": "text/x-python",
   "name": "python",
   "nbconvert_exporter": "python",
   "pygments_lexer": "ipython3",
   "version": "3.9.7"
  }
 },
 "nbformat": 4,
 "nbformat_minor": 5
}
