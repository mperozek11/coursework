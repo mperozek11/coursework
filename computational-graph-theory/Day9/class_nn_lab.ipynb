{
 "cells": [
  {
   "cell_type": "code",
   "execution_count": 1,
   "id": "2c56d14e-8b6c-4c91-89f3-cf48b826718c",
   "metadata": {},
   "outputs": [
    {
     "name": "stderr",
     "output_type": "stream",
     "text": [
      "/Users/maxperozek/opt/anaconda3/envs/comp_gr_thy/lib/python3.9/site-packages/tqdm/auto.py:22: TqdmWarning: IProgress not found. Please update jupyter and ipywidgets. See https://ipywidgets.readthedocs.io/en/stable/user_install.html\n",
      "  from .autonotebook import tqdm as notebook_tqdm\n"
     ]
    }
   ],
   "source": [
    "import networkx as nx\n",
    "import numpy as np\n",
    "import matplotlib.pyplot as plt\n",
    "import torch"
   ]
  },
  {
   "cell_type": "code",
   "execution_count": 2,
   "id": "f019a5de-ea13-4492-9726-b5ab461cfb7b",
   "metadata": {},
   "outputs": [],
   "source": [
    "from sklearn.datasets import load_digits"
   ]
  },
  {
   "cell_type": "code",
   "execution_count": 3,
   "id": "9cbc5c94-4e99-4629-953c-adec23e51274",
   "metadata": {},
   "outputs": [],
   "source": [
    "digits = load_digits(n_class=2) # just take zeros and ones from dataset"
   ]
  },
  {
   "cell_type": "code",
   "execution_count": 4,
   "id": "157ee536-0535-4bf9-9df3-bdb32449b42b",
   "metadata": {},
   "outputs": [],
   "source": [
    "# want to make digits a simple array of images\n",
    "images = digits.images"
   ]
  },
  {
   "cell_type": "code",
   "execution_count": 5,
   "id": "f650863c-59a4-4f31-8752-23451a87dfac",
   "metadata": {},
   "outputs": [
    {
     "data": {
      "text/plain": [
       "numpy.ndarray"
      ]
     },
     "execution_count": 5,
     "metadata": {},
     "output_type": "execute_result"
    }
   ],
   "source": [
    "type(images)"
   ]
  },
  {
   "cell_type": "code",
   "execution_count": 6,
   "id": "4087a23a-b6d4-4197-a29b-705c840de9c7",
   "metadata": {},
   "outputs": [
    {
     "data": {
      "text/plain": [
       "(360, 8, 8)"
      ]
     },
     "execution_count": 6,
     "metadata": {},
     "output_type": "execute_result"
    }
   ],
   "source": [
    "images.shape"
   ]
  },
  {
   "cell_type": "code",
   "execution_count": 7,
   "id": "cfed5108-10de-4baf-a2b1-986cdc7a7c0e",
   "metadata": {},
   "outputs": [],
   "source": [
    "labels = digits.target # get the class labels from the digits dataset"
   ]
  },
  {
   "cell_type": "code",
   "execution_count": 8,
   "id": "3bf28bd3-dccc-4d02-9cf2-d4296a6c3d4d",
   "metadata": {},
   "outputs": [
    {
     "data": {
      "text/plain": [
       "(360,)"
      ]
     },
     "execution_count": 8,
     "metadata": {},
     "output_type": "execute_result"
    }
   ],
   "source": [
    "labels.shape"
   ]
  },
  {
   "cell_type": "code",
   "execution_count": 9,
   "id": "4ae3bf27-846a-43ef-b5fe-019895b050ac",
   "metadata": {},
   "outputs": [],
   "source": [
    "images = images.reshape(-1, 64) # need to flatten the images into vector in R64"
   ]
  },
  {
   "cell_type": "code",
   "execution_count": 10,
   "id": "4084a80d-2072-4bf8-96d0-bee06f08b903",
   "metadata": {},
   "outputs": [
    {
     "data": {
      "text/plain": [
       "(360, 64)"
      ]
     },
     "execution_count": 10,
     "metadata": {},
     "output_type": "execute_result"
    }
   ],
   "source": [
    "images.shape"
   ]
  },
  {
   "cell_type": "code",
   "execution_count": 11,
   "id": "630af986-f9c2-49af-94d7-7f2a653e693b",
   "metadata": {},
   "outputs": [],
   "source": [
    "imageT = torch.tensor(images).float()\n",
    "# reshape labelT to make sure that this matches the output of the nn after making predictions\n",
    "labelT = torch.tensor(labels).float().reshape(360,1)"
   ]
  },
  {
   "cell_type": "code",
   "execution_count": 12,
   "id": "2b2cf611-57f6-4449-8d15-7a66e0e4082c",
   "metadata": {},
   "outputs": [],
   "source": [
    "# sequential takes a series of other torch components\n",
    "# then builds a model which will apply the series of defined components in order\n",
    "net = torch.nn.Sequential(\n",
    "    torch.nn.Linear(64,8),\n",
    "    torch.nn.Sigmoid(),\n",
    "    torch.nn.Linear(8,1),\n",
    "    torch.nn.Sigmoid()\n",
    ")"
   ]
  },
  {
   "cell_type": "code",
   "execution_count": 13,
   "id": "162b2e33-d79e-4ab2-ba9d-042e4846471d",
   "metadata": {},
   "outputs": [],
   "source": [
    "# note: Upper case 'Sigmoid()' is the object oriented layer for adding to nn model\n",
    "#       lower case 'sigmoid()' is a function that applies sigmoid function over args"
   ]
  },
  {
   "cell_type": "code",
   "execution_count": 14,
   "id": "b4583e7c-10ec-4255-845f-1882cbf1b326",
   "metadata": {},
   "outputs": [],
   "source": [
    "loss_func = torch.nn.MSELoss() # the loss function is actually a class (note the parenthases)"
   ]
  },
  {
   "cell_type": "code",
   "execution_count": 15,
   "id": "4a5aceb0-42c6-46cd-b941-f0f75f4159c2",
   "metadata": {},
   "outputs": [],
   "source": [
    "optimizer = torch.optim.Adam(net.parameters(), 0.001)"
   ]
  },
  {
   "cell_type": "code",
   "execution_count": 16,
   "id": "7a63edd6-f9dd-4572-b38d-8abd2c579235",
   "metadata": {},
   "outputs": [],
   "source": [
    "losses = []\n",
    "for i in range(2000):\n",
    "    optimizer.zero_grad() # boilerplate to reset optimizer after each step\n",
    "    \n",
    "    preds = net(imageT)\n",
    "    loss = loss_func(preds, labelT)\n",
    "    \n",
    "    loss.backward() # torch is smart enough to know that calling backward will go do back prop\n",
    "    losses.append(loss.detach()) # detatch allows us to look at loss value separate from the torch object that is wrapping it\n",
    "    optimizer.step() # update params with Adam\n",
    "    "
   ]
  },
  {
   "cell_type": "code",
   "execution_count": 17,
   "id": "9f881d2c-d4a2-4617-b836-f37f6bc139c5",
   "metadata": {},
   "outputs": [
    {
     "data": {
      "text/plain": [
       "<matplotlib.collections.PathCollection at 0x7fa9de803b80>"
      ]
     },
     "execution_count": 17,
     "metadata": {},
     "output_type": "execute_result"
    },
    {
     "data": {
      "image/png": "[encoded data removed]",
      "text/plain": [
       "<Figure size 432x288 with 1 Axes>"
      ]
     },
     "metadata": {
      "needs_background": "light"
     },
     "output_type": "display_data"
    }
   ],
   "source": [
    "plt.scatter(range(2000), losses) # look at losses over epochs"
   ]
  },
  {
   "cell_type": "code",
   "execution_count": 18,
   "id": "d01d2aca-85f8-41e5-a67e-b0b21b08dba2",
   "metadata": {},
   "outputs": [
    {
     "data": {
      "text/plain": [
       "tensor([0.0266], grad_fn=<SigmoidBackward0>)"
      ]
     },
     "execution_count": 18,
     "metadata": {},
     "output_type": "execute_result"
    }
   ],
   "source": [
    "net(imageT[0])"
   ]
  }
 ],
 "metadata": {
  "kernelspec": {
   "display_name": "Python 3 (ipykernel)",
   "language": "python",
   "name": "python3"
  },
  "language_info": {
   "codemirror_mode": {
    "name": "ipython",
    "version": 3
   },
   "file_extension": ".py",
   "mimetype": "text/x-python",
   "name": "python",
   "nbconvert_exporter": "python",
   "pygments_lexer": "ipython3",
   "version": "3.9.11"
  }
 },
 "nbformat": 4,
 "nbformat_minor": 5
}
