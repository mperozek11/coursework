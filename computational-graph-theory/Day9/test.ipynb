{
 "cells": [
  {
   "cell_type": "code",
   "execution_count": 250,
   "id": "7d07158f-129a-4a4a-8842-b06bfea694ce",
   "metadata": {},
   "outputs": [],
   "source": [
    "from sklearn.datasets import load_digits\n",
    "digits = load_digits(n_class=2)"
   ]
  },
  {
   "cell_type": "code",
   "execution_count": 251,
   "id": "20b9aecf-9b22-47c0-9810-317867cd2319",
   "metadata": {},
   "outputs": [],
   "source": [
    "import matplotlib.pyplot as plt"
   ]
  },
  {
   "cell_type": "code",
   "execution_count": 252,
   "id": "a6bec8b9-4fd9-4867-a7c5-8e9ac7d7455c",
   "metadata": {},
   "outputs": [],
   "source": [
    "labels = digits.target"
   ]
  },
  {
   "cell_type": "code",
   "execution_count": 270,
   "id": "97460495-ce3a-49d3-a002-6af590e62035",
   "metadata": {},
   "outputs": [
    {
     "data": {
      "text/plain": [
       "array([[0.    , 0.    , 0.0625, 0.5625, 0.9375, 0.6875, 0.    , 0.    ],\n",
       "       [0.    , 0.    , 0.6875, 1.    , 0.5   , 0.875 , 0.375 , 0.    ],\n",
       "       [0.    , 0.125 , 1.    , 0.625 , 0.    , 0.5625, 0.5625, 0.    ],\n",
       "       [0.    , 0.0625, 1.    , 0.25  , 0.    , 0.5   , 0.5   , 0.    ],\n",
       "       [0.    , 0.25  , 1.    , 0.25  , 0.    , 0.5   , 0.5   , 0.    ],\n",
       "       [0.    , 0.0625, 1.    , 0.3125, 0.0625, 0.6875, 0.1875, 0.    ],\n",
       "       [0.    , 0.    , 0.75  , 0.75  , 0.625 , 0.625 , 0.    , 0.    ],\n",
       "       [0.    , 0.    , 0.0625, 0.625 , 0.8125, 0.1875, 0.    , 0.    ]])"
      ]
     },
     "execution_count": 270,
     "metadata": {},
     "output_type": "execute_result"
    }
   ],
   "source": [
    "digits.images[2]/16"
   ]
  },
  {
   "cell_type": "code",
   "execution_count": 254,
   "id": "c3e1e366-e612-4ea6-8762-d6622eb48be7",
   "metadata": {},
   "outputs": [
    {
     "data": {
      "text/plain": [
       "<matplotlib.image.AxesImage at 0x7f8de5fbc0d0>"
      ]
     },
     "execution_count": 254,
     "metadata": {},
     "output_type": "execute_result"
    },
    {
     "data": {
      "image/png": "[encoded data removed]",
      "text/plain": [
       "<Figure size 288x288 with 1 Axes>"
      ]
     },
     "metadata": {
      "needs_background": "light"
     },
     "output_type": "display_data"
    }
   ],
   "source": [
    "plt.matshow(digits.images[2])"
   ]
  },
  {
   "cell_type": "code",
   "execution_count": 255,
   "id": "f78a2759-f19f-4b35-b497-91326cd00840",
   "metadata": {},
   "outputs": [],
   "source": [
    "X = np.array(digits.images).reshape(-1,64)"
   ]
  },
  {
   "cell_type": "code",
   "execution_count": 256,
   "id": "fc309b54-37f0-4f7e-9150-8585b88982fb",
   "metadata": {},
   "outputs": [],
   "source": [
    "from sklearn.neighbors import kneighbors_graph\n",
    "import networkx as nx"
   ]
  },
  {
   "cell_type": "code",
   "execution_count": 257,
   "id": "14f8f02f-8e01-41d3-bed8-a170b1d98092",
   "metadata": {},
   "outputs": [],
   "source": [
    "import numpy as np"
   ]
  },
  {
   "cell_type": "code",
   "execution_count": 258,
   "id": "840398d6-0779-41c1-82c3-68d17ea186e0",
   "metadata": {},
   "outputs": [],
   "source": [
    "import scipy"
   ]
  },
  {
   "cell_type": "code",
   "execution_count": null,
   "id": "6b17992e-2e4a-4850-a2fc-c2603002a3a0",
   "metadata": {
    "scrolled": true,
    "tags": []
   },
   "outputs": [],
   "source": []
  },
  {
   "cell_type": "code",
   "execution_count": 268,
   "id": "60aef3f6-e18c-44fd-b7ab-1822f5b4c7ac",
   "metadata": {},
   "outputs": [
    {
     "data": {
      "image/png": "[encoded data removed]",
      "text/plain": [
       "<Figure size 432x288 with 1 Axes>"
      ]
     },
     "metadata": {
      "needs_background": "light"
     },
     "output_type": "display_data"
    }
   ],
   "source": [
    "my_gr = kneighbors_graph(X,50,mode='distance')\n",
    "#np.exp( -1.0 * np.power(my_gr.data / 50,2.0), out=my_gr.data )\n",
    "ll = my_gr.todense()\n",
    "ll -= np.diag(ll.sum(0))\n",
    "ee, vv = np.linalg.eigh(ll)\n",
    "pltpts = np.array(vv[:,-3:-1])\n",
    "for i in np.unique(labels):\n",
    "    plt.scatter(*pltpts[labels==i,:].T)"
   ]
  },
  {
   "cell_type": "code",
   "execution_count": 206,
   "id": "2c30eb45-986c-4826-9d60-e3801071efac",
   "metadata": {},
   "outputs": [],
   "source": []
  },
  {
   "cell_type": "code",
   "execution_count": 207,
   "id": "995d0bcd-00ef-4c23-bd06-548706ca97d3",
   "metadata": {},
   "outputs": [],
   "source": []
  },
  {
   "cell_type": "code",
   "execution_count": 208,
   "id": "e21ffba9-ba52-4682-9ef2-81552decdc0d",
   "metadata": {},
   "outputs": [
    {
     "data": {
      "text/plain": [
       "(360, 360)"
      ]
     },
     "execution_count": 208,
     "metadata": {},
     "output_type": "execute_result"
    }
   ],
   "source": [
    "vv.shape"
   ]
  },
  {
   "cell_type": "code",
   "execution_count": 209,
   "id": "c51aa247-88c6-4db9-8a32-9320ac36d6d9",
   "metadata": {},
   "outputs": [],
   "source": []
  },
  {
   "cell_type": "code",
   "execution_count": 210,
   "id": "ba5d7eea-94dd-433c-a00e-749face339ef",
   "metadata": {},
   "outputs": [
    {
     "data": {
      "image/png": "[encoded data removed]",
      "text/plain": [
       "<Figure size 432x288 with 1 Axes>"
      ]
     },
     "metadata": {
      "needs_background": "light"
     },
     "output_type": "display_data"
    }
   ],
   "source": []
  },
  {
   "cell_type": "code",
   "execution_count": null,
   "id": "b311c82f-a947-42a7-9109-5bf82b12844d",
   "metadata": {},
   "outputs": [],
   "source": []
  },
  {
   "cell_type": "code",
   "execution_count": null,
   "id": "20896683-7a0f-410f-8d0a-89353903c841",
   "metadata": {},
   "outputs": [],
   "source": []
  }
 ],
 "metadata": {
  "kernelspec": {
   "display_name": "Python 3 (ipykernel)",
   "language": "python",
   "name": "python3"
  },
  "language_info": {
   "codemirror_mode": {
    "name": "ipython",
    "version": 3
   },
   "file_extension": ".py",
   "mimetype": "text/x-python",
   "name": "python",
   "nbconvert_exporter": "python",
   "pygments_lexer": "ipython3",
   "version": "3.9.7"
  }
 },
 "nbformat": 4,
 "nbformat_minor": 5
}
